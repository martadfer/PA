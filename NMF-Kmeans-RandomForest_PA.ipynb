{
 "cells": [
  {
   "cell_type": "code",
   "execution_count": 1,
   "metadata": {},
   "outputs": [],
   "source": [
    "#importando bibliotecas\n",
    "from sklearn.decomposition import NMF\n",
    "#importando pandas para o dataset\n",
    "import pandas as pd\n",
    "import numpy as np\n",
    "import seaborn as sns\n",
    "from matplotlib import pyplot as plt\n",
    "\n",
    "#biblioteca do kmeans\n",
    "from sklearn.cluster import KMeans\n",
    "\n",
    "from IPython.display import Image\n",
    "from pathlib import Path\n",
    "\n",
    "\n",
    "config_dirs = open(\"prefixo_dados.txt\").readlines() \n",
    "DIR_PREFIXO = Path(config_dirs[0].strip())\n",
    "\n",
    "\n",
    "DIRETORIO_PRINCIPAL =  DIR_PREFIXO / \"Projeto_PA\" / \"Projeto_PA_validado\"\n",
    "DIR_BASE = DIR_PREFIXO / \"Projeto_PA\" / \"dataset_modificado\"\n",
    "DIR_NMF = DIRETORIO_PRINCIPAL / \"NMF\"\n",
    "DIR_KMEANS = DIRETORIO_PRINCIPAL / \"KMeansRandom\"\n",
    "\n",
    "#DIRETORIO_PRINCIPAL = Path(r\"D:\\Projeto_PA\")\n"
   ]
  },
  {
   "cell_type": "code",
   "execution_count": 2,
   "metadata": {},
   "outputs": [],
   "source": [
    "#leitura do arquivo\n",
    "\n",
    "#dados_mapa = pd.read_csv (DIRETORIO_PRINCIPAL / \"padrao_doenca\" / \"pacientes_aceitos_apos_tratamento_dados.csv\", sep=\";\", encoding=\"Latin1\")\n",
    "#dados_mapa = pd.read_csv(DIRETORIO_PRINCIPAL / \"padrao_doenca\" / \"classificados_por_padroes_de_doenca_estatistica.csv\",sep=';')\n",
    "\n",
    "dados_mapa = pd.read_csv(DIR_BASE / \"pacientes_completos_tratados.csv\",sep=';', encoding=\"Latin1\")\n",
    "\n",
    "#dados_mapa = pd.read_csv(DIRETORIO_DATASET / \"dataset_modificado\" / \"pacientes_com_todas_medidas.csv\",sep=';')\n",
    "#dados_mapa = pd.read_csv(DIRETORIO_DATASET / \"dataset_modificado\" / \"pacientes_para_NMF.csv\",sep=';', encoding=\"Latin1\")\n",
    "#dados_mapa = DIRETORIO_PRINCIPAL / \"padrao_doenca\" / 'idosos_classificados_por_padroes_de_doenca_estatistica.csv', \n",
    "\n",
    "#data = pd.read_csv(r\"D:\\Projeto_PA\\dataset_modificado\\pacientes_aceitos.csv\",sep=';', encoding=\"Latin1\")\n",
    "# D:\\Projeto_PA\\Projeto_PA_validado\\padrao_doenca\n",
    "\n",
    "\n",
    "#dados_mapa = dados_mapa.drop('Unnamed: 0',axis=1)"
   ]
  },
  {
   "cell_type": "code",
   "execution_count": 3,
   "metadata": {},
   "outputs": [],
   "source": [
    "#verificar nome das colunas\n",
    "# print (list(dados_mapa.columns))"
   ]
  },
  {
   "cell_type": "markdown",
   "metadata": {},
   "source": [
    "## Preparação do Dataset que será entrada do K-Means/NMF"
   ]
  },
  {
   "cell_type": "code",
   "execution_count": 6,
   "metadata": {},
   "outputs": [],
   "source": [
    "# Separar os campos que serão utilizados\n",
    "dados_mapa_original = dados_mapa\n",
    "\n",
    "# Dataset apenas com as medidas \n",
    "dataset_medidas = pd.concat((dados_mapa.loc[:, \"numero_identificacao\"], dados_mapa.loc[:, \"sist 9:00\": \"diast 8:45\"]), axis=1)\n",
    "# data = pd.concat((data.loc[:, \"numero_identificacao\"], data.loc[:, \"idade\"], data.loc[:, \"sist 9:00\": \"diast 8:45\"]), axis=1)\n",
    "\n",
    "\n",
    "#dados_mapa = dados_mapa.drop(['data_nascimento','genero','idade','peso','altura','data_exame', 'whitecoat'],axis=1)\n",
    "\n",
    "\n",
    "# Dataset com cadastro, IMC e medidas\n",
    "dataset_cadastro = pd.concat([dados_mapa['numero_identificacao'],\n",
    "                             dados_mapa['genero'],dados_mapa['idade'],\n",
    "                             dados_mapa['IMC'],\n",
    "                             dados_mapa.loc[:,'sist 9:00':'diast 8:45']],axis=1)\n",
    "\n",
    "# Dataset com numero identificação e estatísticas\n",
    "dataset_estatistica = pd.concat([dados_mapa['numero_identificacao'],\n",
    "                     dados_mapa.loc[:,'Media Sistolica em 24h':'DP Diastolica em 24h']],axis=1)\n",
    "\n",
    "# Dataset com numero identificação e doenças\n",
    "dataset_doenca = pd.concat([dados_mapa['numero_identificacao'],\n",
    "                     dados_mapa.loc[:,'Hipotensao':'Normotenso']],axis=1)"
   ]
  },
  {
   "cell_type": "code",
   "execution_count": null,
   "metadata": {},
   "outputs": [],
   "source": [
    "#dados_mapa.loc[:,'Normotenso':].columns"
   ]
  },
  {
   "cell_type": "markdown",
   "metadata": {},
   "source": [
    "## Matriz de Correlação das Medidas"
   ]
  },
  {
   "cell_type": "code",
   "execution_count": null,
   "metadata": {},
   "outputs": [],
   "source": [
    "# Plotagem da Matriz de Correlação das variáveis Sistólica e Diastólica\n",
    "\n",
    "#sistolicas = dados_mapa.loc[:, \"sist 9:00\": \"sist 8:45\"]\n",
    "#correlacao_sist = sistolicas.corr(method='pearson')\n",
    "#diastolicas = dados_mapa.loc[:, \"diast 9:00\": \"diast 8:45\"]\n",
    "#correlacao_diast = diastolicas.corr(method='pearson')\n",
    "#\n",
    "#\n",
    "#def grafico_correlacao(corr):\n",
    "#    \n",
    "#    sns.set_theme(style=\"white\")\n",
    "#\n",
    "#    # Generate a mask for the upper triangle\n",
    "#    mask = np.triu(np.ones_like(corr, dtype=bool))\n",
    "#\n",
    "#    # Set up the matplotlib figure\n",
    "#    f, ax = plt.subplots(figsize=(20, 18))\n",
    "#\n",
    "#    # Generate a custom diverging colormap\n",
    "#    cmap = sns.diverging_palette(230, 20, as_cmap=True)\n",
    "#\n",
    "#    # Draw the heatmap with the mask and correct aspect ratio\n",
    "#    sns.heatmap(corr, vmin=0, vmax=1, mask=mask, cmap=cmap,  center=0,\n",
    "#                square=True, linewidths=.2, cbar_kws={\"shrink\": .8})\n",
    "#    \n",
    "#    plt.show()\n",
    "#\n",
    "#grafico_correlacao(correlacao_sist)\n",
    "#grafico_correlacao(correlacao_diast)"
   ]
  },
  {
   "cell_type": "markdown",
   "metadata": {
    "collapsed": true
   },
   "source": [
    "## Tratamento de nulos"
   ]
  },
  {
   "cell_type": "code",
   "execution_count": null,
   "metadata": {},
   "outputs": [],
   "source": [
    "#verificar a quantidade de nulos em cada linha\n",
    "\n",
    "#medidas.isnull().sum()\n",
    "\n",
    "#trocar Nan por 0\n",
    "#medidas_sem_nan = medidas.fillna(0)\n",
    "\n",
    "#verificando se existe nulos\n",
    "#medidas_sem_nan.isnull().sum()"
   ]
  },
  {
   "cell_type": "markdown",
   "metadata": {
    "collapsed": true
   },
   "source": [
    "## K-means - identifica o melhor numero de componentes para aplicar o NMF"
   ]
  },
  {
   "cell_type": "code",
   "execution_count": 7,
   "metadata": {},
   "outputs": [],
   "source": [
    "#Funções para calcular o melhor número de cluster gerado pelo Dataset\n",
    "\n",
    "\n",
    "def calculate_wcss(medidas_sem_nan):\n",
    "    \"\"\"\n",
    "    Calcula a soma dos quadrados intra-clusters para 19\n",
    "    quantidades de clusters, iniciando com o mínimo de 2 clusters\n",
    "    \n",
    "    Parametros\n",
    "    ----------\n",
    "    data : DataFrame\n",
    "        conjunto de dados para fazer o `.fit()` do K-Means\n",
    "\n",
    "    \n",
    "    Returns\n",
    "    -------\n",
    "    wcss : lista contendo os valores de soma de quadrados intra-cluster\n",
    "    \"\"\"\n",
    "    \n",
    "    wcss = []\n",
    "    for n in range(2, 21):\n",
    "        kmeans = KMeans(n_clusters=n, random_state=10)\n",
    "        kmeans.fit(X=medidas_sem_nan)\n",
    "        wcss.append(kmeans.inertia_)\n",
    "\n",
    "    return wcss\n",
    "\n",
    "def optimal_number_of_clusters(wcss):\n",
    "    \"\"\"\n",
    "    Calcula a maior distância entre os pontos que marcam as \n",
    "    somas dos quadrados intra-clusters para 19 calculadas \n",
    "    com `calculate_wcss()`\n",
    "    \n",
    "    Parametros\n",
    "    ----------\n",
    "    wcss : lista\n",
    "        lista contendo os valores de soma de quadrados intra-cluster\n",
    "\n",
    "    \n",
    "    Returns\n",
    "    -------\n",
    "    int : número de clusters \n",
    "    \"\"\"\n",
    "    from math import sqrt\n",
    "    x1, y1 = 2, wcss[0]\n",
    "    x2, y2 = 20, wcss[len(wcss)-1]\n",
    "\n",
    "    distances = []\n",
    "    for i in range(len(wcss)):\n",
    "        x0 = i+2\n",
    "        y0 = wcss[i]\n",
    "\n",
    "        numerator = abs((y2-y1)*x0 - (x2-x1)*y0 + x2*y1 - y2*x1)\n",
    "        denominator = sqrt((y2 - y1)**2 + (x2 - x1)**2)\n",
    "        distances.append(numerator/denominator)\n",
    "    return distances.index(max(distances)) + 2"
   ]
  },
  {
   "cell_type": "code",
   "execution_count": 8,
   "metadata": {},
   "outputs": [],
   "source": [
    "def verdadeiro_falso(valor):\n",
    "    if valor == True:\n",
    "        return 1\n",
    "    else:\n",
    "        return 0"
   ]
  },
  {
   "cell_type": "code",
   "execution_count": 9,
   "metadata": {},
   "outputs": [],
   "source": [
    "genero_M_F = {\"genero\": {1: \"M\", 0: \"F\"}}"
   ]
  },
  {
   "cell_type": "markdown",
   "metadata": {},
   "source": [
    "## Abordagem 1: Medidas"
   ]
  },
  {
   "cell_type": "code",
   "execution_count": 10,
   "metadata": {},
   "outputs": [],
   "source": [
    "#  Excluindo a variavel numero de identificação para entrada do NMF\n",
    "\n",
    "medidas_sem_id = dataset_medidas.drop(['numero_identificacao'],axis=1)"
   ]
  },
  {
   "cell_type": "markdown",
   "metadata": {},
   "source": [
    "### K-Means"
   ]
  },
  {
   "cell_type": "code",
   "execution_count": 11,
   "metadata": {},
   "outputs": [
    {
     "name": "stdout",
     "output_type": "stream",
     "text": [
      "7\n"
     ]
    }
   ],
   "source": [
    "#calculando a quantidade ótima de clusters (é possivel dividir os pacientes em quantos grupos)\n",
    "sum_of_squares = calculate_wcss(medidas_sem_id)\n",
    "numero_otimo_cluster_medidas = optimal_number_of_clusters(sum_of_squares)\n",
    "print (numero_otimo_cluster_medidas)"
   ]
  },
  {
   "cell_type": "code",
   "execution_count": 12,
   "metadata": {},
   "outputs": [],
   "source": [
    "#   convertendo os dados para a clusterização\n",
    "#   converte de DataFrame para Array por causa do K-Means\n",
    "medidas_sem_id_array = np.array(medidas_sem_id)"
   ]
  },
  {
   "cell_type": "code",
   "execution_count": 13,
   "metadata": {},
   "outputs": [],
   "source": [
    "#habilitando o kmeans com numero otimo de grupos (calculado na etapa anterior)\n",
    "kmeans_medidas = KMeans(n_clusters=numero_otimo_cluster_medidas, random_state=10).fit(medidas_sem_id_array)"
   ]
  },
  {
   "cell_type": "code",
   "execution_count": 14,
   "metadata": {},
   "outputs": [],
   "source": [
    "#grupo 0 tem 4968 pacientes\n",
    "#mapa_grupos[mapa_grupos['grupo']==0]"
   ]
  },
  {
   "cell_type": "code",
   "execution_count": 15,
   "metadata": {},
   "outputs": [],
   "source": [
    "#grupo 1 tem 2063 pacientes\n",
    "#mapa_grupos[mapa_grupos['grupo']==1]"
   ]
  },
  {
   "cell_type": "code",
   "execution_count": 16,
   "metadata": {},
   "outputs": [],
   "source": [
    "#grupo 2 tem 1963 pacientes\n",
    "#mapa_grupos[mapa_grupos['grupo']==2]"
   ]
  },
  {
   "cell_type": "code",
   "execution_count": 17,
   "metadata": {},
   "outputs": [],
   "source": [
    "#grupo 3 tem 3370 pacientes\n",
    "#mapa_grupos[mapa_grupos['grupo']==3]"
   ]
  },
  {
   "cell_type": "code",
   "execution_count": 18,
   "metadata": {},
   "outputs": [],
   "source": [
    "#grupo 4 tem 2788 pacientes\n",
    "#mapa_grupos[mapa_grupos['grupo']==4]"
   ]
  },
  {
   "cell_type": "code",
   "execution_count": 19,
   "metadata": {},
   "outputs": [],
   "source": [
    "#grupo 5 tem 3397 pacientes\n",
    "#mapa_grupos[mapa_grupos['grupo']==5]"
   ]
  },
  {
   "cell_type": "code",
   "execution_count": 20,
   "metadata": {},
   "outputs": [],
   "source": [
    "#grupo 6 tem 2391 pacientes\n",
    "#mapa_grupos[mapa_grupos['grupo']==6]"
   ]
  },
  {
   "cell_type": "code",
   "execution_count": 21,
   "metadata": {},
   "outputs": [],
   "source": [
    "#grupo 7 tem 2391 pacientes\n",
    "#mapa_grupos[mapa_grupos['grupo']==7]"
   ]
  },
  {
   "cell_type": "code",
   "execution_count": 22,
   "metadata": {},
   "outputs": [],
   "source": [
    "#grupo 8 tem 2391 pacientes\n",
    "#mapa_grupos[mapa_grupos['grupo']==8]"
   ]
  },
  {
   "cell_type": "markdown",
   "metadata": {},
   "source": [
    "## Nonnegative Matrix Factorization "
   ]
  },
  {
   "cell_type": "code",
   "execution_count": 23,
   "metadata": {},
   "outputs": [
    {
     "data": {
      "image/png": "[encoded data removed]",
      "text/plain": [
       "<IPython.core.display.Image object>"
      ]
     },
     "execution_count": 23,
     "metadata": {},
     "output_type": "execute_result"
    }
   ],
   "source": [
    "Image(filename=r\"C:\\Users\\marta\\projeto_pa\\NMF\\imgs\\Imagem1.png\")"
   ]
  },
  {
   "cell_type": "markdown",
   "metadata": {},
   "source": [
    "### O objetivo no NMF é decompor a matriz (V) pelo produto escalar de dois arrays W e H. As dimensões dos arrays são definidas pelas dimensões de V (valores do paciente) e pelo número de componentes que definimos para o algoritmo. Se V tem n linhas e x colunas e queremos decompor em k componentes, então W tem n linhas e k colunas e H tem k linhas e x colunas."
   ]
  },
  {
   "cell_type": "code",
   "execution_count": 24,
   "metadata": {},
   "outputs": [],
   "source": [
    "#aplicando o NMF com numero de componente = numero_otimo_cluster calculado pelo K-means\n",
    "model_medidas = NMF(n_components=numero_otimo_cluster_medidas,init='random',random_state=0)\n"
   ]
  },
  {
   "cell_type": "code",
   "execution_count": 25,
   "metadata": {},
   "outputs": [
    {
     "data": {
      "text/plain": [
       "NMF(alpha=0.0, beta_loss='frobenius', init='random', l1_ratio=0.0, max_iter=200,\n",
       "    n_components=7, random_state=0, shuffle=False, solver='cd', tol=0.0001,\n",
       "    verbose=0)"
      ]
     },
     "execution_count": 25,
     "metadata": {},
     "output_type": "execute_result"
    }
   ],
   "source": [
    "#   aplicando o modelo NMF\n",
    "model_medidas.fit(medidas_sem_id)\n"
   ]
  },
  {
   "cell_type": "code",
   "execution_count": 26,
   "metadata": {},
   "outputs": [
    {
     "data": {
      "text/html": [
       "<div>\n",
       "<style scoped>\n",
       "    .dataframe tbody tr th:only-of-type {\n",
       "        vertical-align: middle;\n",
       "    }\n",
       "\n",
       "    .dataframe tbody tr th {\n",
       "        vertical-align: top;\n",
       "    }\n",
       "\n",
       "    .dataframe thead th {\n",
       "        text-align: right;\n",
       "    }\n",
       "</style>\n",
       "<table border=\"1\" class=\"dataframe\">\n",
       "  <thead>\n",
       "    <tr style=\"text-align: right;\">\n",
       "      <th></th>\n",
       "      <th>sist 9:00</th>\n",
       "      <th>sist 9:15</th>\n",
       "      <th>sist 9:30</th>\n",
       "      <th>sist 9:45</th>\n",
       "      <th>sist 10:00</th>\n",
       "      <th>sist 10:15</th>\n",
       "      <th>sist 10:30</th>\n",
       "      <th>sist 10:45</th>\n",
       "      <th>sist 11:00</th>\n",
       "      <th>sist 11:15</th>\n",
       "      <th>...</th>\n",
       "      <th>diast 6:30</th>\n",
       "      <th>diast 6:45</th>\n",
       "      <th>diast 7:00</th>\n",
       "      <th>diast 7:15</th>\n",
       "      <th>diast 7:30</th>\n",
       "      <th>diast 7:45</th>\n",
       "      <th>diast 8:00</th>\n",
       "      <th>diast 8:15</th>\n",
       "      <th>diast 8:30</th>\n",
       "      <th>diast 8:45</th>\n",
       "    </tr>\n",
       "  </thead>\n",
       "  <tbody>\n",
       "    <tr>\n",
       "      <td>0</td>\n",
       "      <td>105.0</td>\n",
       "      <td>108.0</td>\n",
       "      <td>116.0</td>\n",
       "      <td>104.0</td>\n",
       "      <td>106.0</td>\n",
       "      <td>98.0</td>\n",
       "      <td>102.0</td>\n",
       "      <td>107.0</td>\n",
       "      <td>111.0</td>\n",
       "      <td>116.0</td>\n",
       "      <td>...</td>\n",
       "      <td>41.0</td>\n",
       "      <td>46.0</td>\n",
       "      <td>51.0</td>\n",
       "      <td>56.0</td>\n",
       "      <td>61.0</td>\n",
       "      <td>67.0</td>\n",
       "      <td>61.0</td>\n",
       "      <td>69.0</td>\n",
       "      <td>62.0</td>\n",
       "      <td>51.0</td>\n",
       "    </tr>\n",
       "    <tr>\n",
       "      <td>1</td>\n",
       "      <td>103.0</td>\n",
       "      <td>114.0</td>\n",
       "      <td>82.0</td>\n",
       "      <td>104.0</td>\n",
       "      <td>98.0</td>\n",
       "      <td>106.0</td>\n",
       "      <td>108.0</td>\n",
       "      <td>107.0</td>\n",
       "      <td>109.0</td>\n",
       "      <td>100.0</td>\n",
       "      <td>...</td>\n",
       "      <td>74.0</td>\n",
       "      <td>74.0</td>\n",
       "      <td>74.0</td>\n",
       "      <td>70.0</td>\n",
       "      <td>67.0</td>\n",
       "      <td>63.0</td>\n",
       "      <td>60.0</td>\n",
       "      <td>74.0</td>\n",
       "      <td>70.0</td>\n",
       "      <td>67.0</td>\n",
       "    </tr>\n",
       "    <tr>\n",
       "      <td>2</td>\n",
       "      <td>147.0</td>\n",
       "      <td>148.0</td>\n",
       "      <td>156.0</td>\n",
       "      <td>140.0</td>\n",
       "      <td>130.0</td>\n",
       "      <td>132.0</td>\n",
       "      <td>121.0</td>\n",
       "      <td>113.0</td>\n",
       "      <td>149.0</td>\n",
       "      <td>128.0</td>\n",
       "      <td>...</td>\n",
       "      <td>80.0</td>\n",
       "      <td>86.0</td>\n",
       "      <td>93.0</td>\n",
       "      <td>91.0</td>\n",
       "      <td>89.0</td>\n",
       "      <td>87.0</td>\n",
       "      <td>86.0</td>\n",
       "      <td>87.0</td>\n",
       "      <td>82.0</td>\n",
       "      <td>82.0</td>\n",
       "    </tr>\n",
       "    <tr>\n",
       "      <td>3</td>\n",
       "      <td>140.0</td>\n",
       "      <td>139.0</td>\n",
       "      <td>142.0</td>\n",
       "      <td>137.0</td>\n",
       "      <td>135.0</td>\n",
       "      <td>177.0</td>\n",
       "      <td>148.0</td>\n",
       "      <td>152.0</td>\n",
       "      <td>135.0</td>\n",
       "      <td>136.0</td>\n",
       "      <td>...</td>\n",
       "      <td>49.0</td>\n",
       "      <td>56.0</td>\n",
       "      <td>62.0</td>\n",
       "      <td>83.0</td>\n",
       "      <td>104.0</td>\n",
       "      <td>99.0</td>\n",
       "      <td>94.0</td>\n",
       "      <td>89.0</td>\n",
       "      <td>90.0</td>\n",
       "      <td>72.0</td>\n",
       "    </tr>\n",
       "    <tr>\n",
       "      <td>4</td>\n",
       "      <td>113.0</td>\n",
       "      <td>110.0</td>\n",
       "      <td>101.0</td>\n",
       "      <td>108.0</td>\n",
       "      <td>111.0</td>\n",
       "      <td>111.0</td>\n",
       "      <td>114.0</td>\n",
       "      <td>115.0</td>\n",
       "      <td>113.0</td>\n",
       "      <td>112.0</td>\n",
       "      <td>...</td>\n",
       "      <td>64.0</td>\n",
       "      <td>73.0</td>\n",
       "      <td>83.0</td>\n",
       "      <td>93.0</td>\n",
       "      <td>68.0</td>\n",
       "      <td>91.0</td>\n",
       "      <td>87.0</td>\n",
       "      <td>84.0</td>\n",
       "      <td>81.0</td>\n",
       "      <td>72.0</td>\n",
       "    </tr>\n",
       "    <tr>\n",
       "      <td>...</td>\n",
       "      <td>...</td>\n",
       "      <td>...</td>\n",
       "      <td>...</td>\n",
       "      <td>...</td>\n",
       "      <td>...</td>\n",
       "      <td>...</td>\n",
       "      <td>...</td>\n",
       "      <td>...</td>\n",
       "      <td>...</td>\n",
       "      <td>...</td>\n",
       "      <td>...</td>\n",
       "      <td>...</td>\n",
       "      <td>...</td>\n",
       "      <td>...</td>\n",
       "      <td>...</td>\n",
       "      <td>...</td>\n",
       "      <td>...</td>\n",
       "      <td>...</td>\n",
       "      <td>...</td>\n",
       "      <td>...</td>\n",
       "      <td>...</td>\n",
       "    </tr>\n",
       "    <tr>\n",
       "      <td>19237</td>\n",
       "      <td>163.0</td>\n",
       "      <td>198.0</td>\n",
       "      <td>172.0</td>\n",
       "      <td>148.0</td>\n",
       "      <td>161.0</td>\n",
       "      <td>156.0</td>\n",
       "      <td>156.0</td>\n",
       "      <td>138.0</td>\n",
       "      <td>107.0</td>\n",
       "      <td>76.0</td>\n",
       "      <td>...</td>\n",
       "      <td>102.0</td>\n",
       "      <td>114.0</td>\n",
       "      <td>126.0</td>\n",
       "      <td>125.0</td>\n",
       "      <td>124.0</td>\n",
       "      <td>123.0</td>\n",
       "      <td>123.0</td>\n",
       "      <td>121.0</td>\n",
       "      <td>119.0</td>\n",
       "      <td>123.0</td>\n",
       "    </tr>\n",
       "    <tr>\n",
       "      <td>19238</td>\n",
       "      <td>114.0</td>\n",
       "      <td>120.0</td>\n",
       "      <td>164.0</td>\n",
       "      <td>116.0</td>\n",
       "      <td>119.0</td>\n",
       "      <td>126.0</td>\n",
       "      <td>123.0</td>\n",
       "      <td>122.0</td>\n",
       "      <td>122.0</td>\n",
       "      <td>159.0</td>\n",
       "      <td>...</td>\n",
       "      <td>87.0</td>\n",
       "      <td>73.0</td>\n",
       "      <td>59.0</td>\n",
       "      <td>74.0</td>\n",
       "      <td>68.0</td>\n",
       "      <td>86.0</td>\n",
       "      <td>96.0</td>\n",
       "      <td>107.0</td>\n",
       "      <td>106.0</td>\n",
       "      <td>93.0</td>\n",
       "    </tr>\n",
       "    <tr>\n",
       "      <td>19239</td>\n",
       "      <td>107.0</td>\n",
       "      <td>110.0</td>\n",
       "      <td>103.0</td>\n",
       "      <td>105.0</td>\n",
       "      <td>108.0</td>\n",
       "      <td>111.0</td>\n",
       "      <td>114.0</td>\n",
       "      <td>144.0</td>\n",
       "      <td>128.0</td>\n",
       "      <td>104.0</td>\n",
       "      <td>...</td>\n",
       "      <td>49.0</td>\n",
       "      <td>50.0</td>\n",
       "      <td>50.0</td>\n",
       "      <td>53.0</td>\n",
       "      <td>52.0</td>\n",
       "      <td>62.0</td>\n",
       "      <td>68.0</td>\n",
       "      <td>61.0</td>\n",
       "      <td>64.0</td>\n",
       "      <td>60.0</td>\n",
       "    </tr>\n",
       "    <tr>\n",
       "      <td>19240</td>\n",
       "      <td>94.0</td>\n",
       "      <td>107.0</td>\n",
       "      <td>112.0</td>\n",
       "      <td>124.0</td>\n",
       "      <td>120.0</td>\n",
       "      <td>94.0</td>\n",
       "      <td>102.0</td>\n",
       "      <td>113.0</td>\n",
       "      <td>104.0</td>\n",
       "      <td>96.0</td>\n",
       "      <td>...</td>\n",
       "      <td>63.0</td>\n",
       "      <td>63.0</td>\n",
       "      <td>64.0</td>\n",
       "      <td>76.0</td>\n",
       "      <td>72.0</td>\n",
       "      <td>69.0</td>\n",
       "      <td>75.0</td>\n",
       "      <td>74.0</td>\n",
       "      <td>69.0</td>\n",
       "      <td>67.0</td>\n",
       "    </tr>\n",
       "    <tr>\n",
       "      <td>19241</td>\n",
       "      <td>111.0</td>\n",
       "      <td>104.0</td>\n",
       "      <td>103.0</td>\n",
       "      <td>101.0</td>\n",
       "      <td>97.0</td>\n",
       "      <td>110.0</td>\n",
       "      <td>111.0</td>\n",
       "      <td>116.0</td>\n",
       "      <td>104.0</td>\n",
       "      <td>121.0</td>\n",
       "      <td>...</td>\n",
       "      <td>67.0</td>\n",
       "      <td>68.0</td>\n",
       "      <td>69.0</td>\n",
       "      <td>71.0</td>\n",
       "      <td>73.0</td>\n",
       "      <td>56.0</td>\n",
       "      <td>57.0</td>\n",
       "      <td>65.0</td>\n",
       "      <td>68.0</td>\n",
       "      <td>82.0</td>\n",
       "    </tr>\n",
       "  </tbody>\n",
       "</table>\n",
       "<p>19242 rows × 164 columns</p>\n",
       "</div>"
      ],
      "text/plain": [
       "       sist 9:00  sist 9:15  sist 9:30  sist 9:45  sist 10:00  sist 10:15  \\\n",
       "0          105.0      108.0      116.0      104.0       106.0        98.0   \n",
       "1          103.0      114.0       82.0      104.0        98.0       106.0   \n",
       "2          147.0      148.0      156.0      140.0       130.0       132.0   \n",
       "3          140.0      139.0      142.0      137.0       135.0       177.0   \n",
       "4          113.0      110.0      101.0      108.0       111.0       111.0   \n",
       "...          ...        ...        ...        ...         ...         ...   \n",
       "19237      163.0      198.0      172.0      148.0       161.0       156.0   \n",
       "19238      114.0      120.0      164.0      116.0       119.0       126.0   \n",
       "19239      107.0      110.0      103.0      105.0       108.0       111.0   \n",
       "19240       94.0      107.0      112.0      124.0       120.0        94.0   \n",
       "19241      111.0      104.0      103.0      101.0        97.0       110.0   \n",
       "\n",
       "       sist 10:30  sist 10:45  sist 11:00  sist 11:15  ...  diast 6:30  \\\n",
       "0           102.0       107.0       111.0       116.0  ...        41.0   \n",
       "1           108.0       107.0       109.0       100.0  ...        74.0   \n",
       "2           121.0       113.0       149.0       128.0  ...        80.0   \n",
       "3           148.0       152.0       135.0       136.0  ...        49.0   \n",
       "4           114.0       115.0       113.0       112.0  ...        64.0   \n",
       "...           ...         ...         ...         ...  ...         ...   \n",
       "19237       156.0       138.0       107.0        76.0  ...       102.0   \n",
       "19238       123.0       122.0       122.0       159.0  ...        87.0   \n",
       "19239       114.0       144.0       128.0       104.0  ...        49.0   \n",
       "19240       102.0       113.0       104.0        96.0  ...        63.0   \n",
       "19241       111.0       116.0       104.0       121.0  ...        67.0   \n",
       "\n",
       "       diast 6:45  diast 7:00  diast 7:15  diast 7:30  diast 7:45  diast 8:00  \\\n",
       "0            46.0        51.0        56.0        61.0        67.0        61.0   \n",
       "1            74.0        74.0        70.0        67.0        63.0        60.0   \n",
       "2            86.0        93.0        91.0        89.0        87.0        86.0   \n",
       "3            56.0        62.0        83.0       104.0        99.0        94.0   \n",
       "4            73.0        83.0        93.0        68.0        91.0        87.0   \n",
       "...           ...         ...         ...         ...         ...         ...   \n",
       "19237       114.0       126.0       125.0       124.0       123.0       123.0   \n",
       "19238        73.0        59.0        74.0        68.0        86.0        96.0   \n",
       "19239        50.0        50.0        53.0        52.0        62.0        68.0   \n",
       "19240        63.0        64.0        76.0        72.0        69.0        75.0   \n",
       "19241        68.0        69.0        71.0        73.0        56.0        57.0   \n",
       "\n",
       "       diast 8:15  diast 8:30  diast 8:45  \n",
       "0            69.0        62.0        51.0  \n",
       "1            74.0        70.0        67.0  \n",
       "2            87.0        82.0        82.0  \n",
       "3            89.0        90.0        72.0  \n",
       "4            84.0        81.0        72.0  \n",
       "...           ...         ...         ...  \n",
       "19237       121.0       119.0       123.0  \n",
       "19238       107.0       106.0        93.0  \n",
       "19239        61.0        64.0        60.0  \n",
       "19240        74.0        69.0        67.0  \n",
       "19241        65.0        68.0        82.0  \n",
       "\n",
       "[19242 rows x 164 columns]"
      ]
     },
     "execution_count": 26,
     "metadata": {},
     "output_type": "execute_result"
    }
   ],
   "source": [
    "medidas_sem_id"
   ]
  },
  {
   "cell_type": "code",
   "execution_count": 27,
   "metadata": {},
   "outputs": [],
   "source": [
    "#  'Grupo x' sendo x = numero_otimo_cluster\n",
    "\n",
    "#Criando H como resultado do produto escalar das matrizes\n",
    "H_medidas = pd.DataFrame(np.round(model_medidas.components_,3), columns=medidas_sem_id.columns)\n",
    "\n",
    "H_medidas.index = [f'Grupo {i + 1}' for i in range(numero_otimo_cluster_medidas)]\n",
    "\n"
   ]
  },
  {
   "cell_type": "code",
   "execution_count": 28,
   "metadata": {},
   "outputs": [
    {
     "data": {
      "text/html": [
       "<div>\n",
       "<style scoped>\n",
       "    .dataframe tbody tr th:only-of-type {\n",
       "        vertical-align: middle;\n",
       "    }\n",
       "\n",
       "    .dataframe tbody tr th {\n",
       "        vertical-align: top;\n",
       "    }\n",
       "\n",
       "    .dataframe thead th {\n",
       "        text-align: right;\n",
       "    }\n",
       "</style>\n",
       "<table border=\"1\" class=\"dataframe\">\n",
       "  <thead>\n",
       "    <tr style=\"text-align: right;\">\n",
       "      <th></th>\n",
       "      <th>sist 9:00</th>\n",
       "      <th>sist 9:15</th>\n",
       "      <th>sist 9:30</th>\n",
       "      <th>sist 9:45</th>\n",
       "      <th>sist 10:00</th>\n",
       "      <th>sist 10:15</th>\n",
       "      <th>sist 10:30</th>\n",
       "      <th>sist 10:45</th>\n",
       "      <th>sist 11:00</th>\n",
       "      <th>sist 11:15</th>\n",
       "      <th>...</th>\n",
       "      <th>diast 6:30</th>\n",
       "      <th>diast 6:45</th>\n",
       "      <th>diast 7:00</th>\n",
       "      <th>diast 7:15</th>\n",
       "      <th>diast 7:30</th>\n",
       "      <th>diast 7:45</th>\n",
       "      <th>diast 8:00</th>\n",
       "      <th>diast 8:15</th>\n",
       "      <th>diast 8:30</th>\n",
       "      <th>diast 8:45</th>\n",
       "    </tr>\n",
       "  </thead>\n",
       "  <tbody>\n",
       "    <tr>\n",
       "      <td>Grupo 1</td>\n",
       "      <td>6.999</td>\n",
       "      <td>7.300</td>\n",
       "      <td>7.488</td>\n",
       "      <td>7.658</td>\n",
       "      <td>7.637</td>\n",
       "      <td>7.730</td>\n",
       "      <td>7.625</td>\n",
       "      <td>7.598</td>\n",
       "      <td>7.441</td>\n",
       "      <td>7.348</td>\n",
       "      <td>...</td>\n",
       "      <td>0.972</td>\n",
       "      <td>1.118</td>\n",
       "      <td>1.242</td>\n",
       "      <td>1.469</td>\n",
       "      <td>1.645</td>\n",
       "      <td>1.850</td>\n",
       "      <td>2.042</td>\n",
       "      <td>2.232</td>\n",
       "      <td>2.383</td>\n",
       "      <td>2.612</td>\n",
       "    </tr>\n",
       "    <tr>\n",
       "      <td>Grupo 2</td>\n",
       "      <td>2.358</td>\n",
       "      <td>1.928</td>\n",
       "      <td>1.523</td>\n",
       "      <td>1.189</td>\n",
       "      <td>0.845</td>\n",
       "      <td>0.436</td>\n",
       "      <td>0.222</td>\n",
       "      <td>0.000</td>\n",
       "      <td>0.000</td>\n",
       "      <td>0.000</td>\n",
       "      <td>...</td>\n",
       "      <td>3.730</td>\n",
       "      <td>3.741</td>\n",
       "      <td>3.768</td>\n",
       "      <td>3.771</td>\n",
       "      <td>3.798</td>\n",
       "      <td>3.724</td>\n",
       "      <td>3.771</td>\n",
       "      <td>3.758</td>\n",
       "      <td>3.704</td>\n",
       "      <td>3.565</td>\n",
       "    </tr>\n",
       "    <tr>\n",
       "      <td>Grupo 3</td>\n",
       "      <td>0.646</td>\n",
       "      <td>0.482</td>\n",
       "      <td>0.480</td>\n",
       "      <td>0.531</td>\n",
       "      <td>0.749</td>\n",
       "      <td>1.115</td>\n",
       "      <td>1.459</td>\n",
       "      <td>1.762</td>\n",
       "      <td>2.027</td>\n",
       "      <td>2.340</td>\n",
       "      <td>...</td>\n",
       "      <td>5.598</td>\n",
       "      <td>5.190</td>\n",
       "      <td>4.775</td>\n",
       "      <td>4.105</td>\n",
       "      <td>3.500</td>\n",
       "      <td>2.985</td>\n",
       "      <td>2.335</td>\n",
       "      <td>1.861</td>\n",
       "      <td>1.486</td>\n",
       "      <td>1.116</td>\n",
       "    </tr>\n",
       "    <tr>\n",
       "      <td>Grupo 4</td>\n",
       "      <td>0.398</td>\n",
       "      <td>0.483</td>\n",
       "      <td>0.792</td>\n",
       "      <td>1.313</td>\n",
       "      <td>1.918</td>\n",
       "      <td>2.529</td>\n",
       "      <td>3.277</td>\n",
       "      <td>3.915</td>\n",
       "      <td>4.520</td>\n",
       "      <td>5.004</td>\n",
       "      <td>...</td>\n",
       "      <td>0.767</td>\n",
       "      <td>0.839</td>\n",
       "      <td>0.899</td>\n",
       "      <td>0.875</td>\n",
       "      <td>0.746</td>\n",
       "      <td>0.505</td>\n",
       "      <td>0.318</td>\n",
       "      <td>0.143</td>\n",
       "      <td>0.089</td>\n",
       "      <td>0.012</td>\n",
       "    </tr>\n",
       "    <tr>\n",
       "      <td>Grupo 5</td>\n",
       "      <td>8.610</td>\n",
       "      <td>8.262</td>\n",
       "      <td>7.826</td>\n",
       "      <td>7.351</td>\n",
       "      <td>6.842</td>\n",
       "      <td>6.215</td>\n",
       "      <td>5.566</td>\n",
       "      <td>4.895</td>\n",
       "      <td>4.401</td>\n",
       "      <td>3.792</td>\n",
       "      <td>...</td>\n",
       "      <td>3.197</td>\n",
       "      <td>3.697</td>\n",
       "      <td>4.142</td>\n",
       "      <td>4.621</td>\n",
       "      <td>4.948</td>\n",
       "      <td>5.240</td>\n",
       "      <td>5.374</td>\n",
       "      <td>5.374</td>\n",
       "      <td>5.345</td>\n",
       "      <td>5.281</td>\n",
       "    </tr>\n",
       "    <tr>\n",
       "      <td>Grupo 6</td>\n",
       "      <td>3.117</td>\n",
       "      <td>3.672</td>\n",
       "      <td>4.069</td>\n",
       "      <td>4.293</td>\n",
       "      <td>4.601</td>\n",
       "      <td>4.718</td>\n",
       "      <td>4.810</td>\n",
       "      <td>4.886</td>\n",
       "      <td>4.781</td>\n",
       "      <td>4.696</td>\n",
       "      <td>...</td>\n",
       "      <td>2.326</td>\n",
       "      <td>2.352</td>\n",
       "      <td>2.406</td>\n",
       "      <td>2.530</td>\n",
       "      <td>2.872</td>\n",
       "      <td>3.248</td>\n",
       "      <td>3.663</td>\n",
       "      <td>4.064</td>\n",
       "      <td>4.379</td>\n",
       "      <td>4.711</td>\n",
       "    </tr>\n",
       "    <tr>\n",
       "      <td>Grupo 7</td>\n",
       "      <td>4.379</td>\n",
       "      <td>4.359</td>\n",
       "      <td>4.253</td>\n",
       "      <td>3.914</td>\n",
       "      <td>3.636</td>\n",
       "      <td>3.351</td>\n",
       "      <td>3.119</td>\n",
       "      <td>2.972</td>\n",
       "      <td>2.790</td>\n",
       "      <td>2.714</td>\n",
       "      <td>...</td>\n",
       "      <td>0.304</td>\n",
       "      <td>0.101</td>\n",
       "      <td>0.000</td>\n",
       "      <td>0.000</td>\n",
       "      <td>0.000</td>\n",
       "      <td>0.084</td>\n",
       "      <td>0.222</td>\n",
       "      <td>0.348</td>\n",
       "      <td>0.417</td>\n",
       "      <td>0.464</td>\n",
       "    </tr>\n",
       "  </tbody>\n",
       "</table>\n",
       "<p>7 rows × 164 columns</p>\n",
       "</div>"
      ],
      "text/plain": [
       "         sist 9:00  sist 9:15  sist 9:30  sist 9:45  sist 10:00  sist 10:15  \\\n",
       "Grupo 1      6.999      7.300      7.488      7.658       7.637       7.730   \n",
       "Grupo 2      2.358      1.928      1.523      1.189       0.845       0.436   \n",
       "Grupo 3      0.646      0.482      0.480      0.531       0.749       1.115   \n",
       "Grupo 4      0.398      0.483      0.792      1.313       1.918       2.529   \n",
       "Grupo 5      8.610      8.262      7.826      7.351       6.842       6.215   \n",
       "Grupo 6      3.117      3.672      4.069      4.293       4.601       4.718   \n",
       "Grupo 7      4.379      4.359      4.253      3.914       3.636       3.351   \n",
       "\n",
       "         sist 10:30  sist 10:45  sist 11:00  sist 11:15  ...  diast 6:30  \\\n",
       "Grupo 1       7.625       7.598       7.441       7.348  ...       0.972   \n",
       "Grupo 2       0.222       0.000       0.000       0.000  ...       3.730   \n",
       "Grupo 3       1.459       1.762       2.027       2.340  ...       5.598   \n",
       "Grupo 4       3.277       3.915       4.520       5.004  ...       0.767   \n",
       "Grupo 5       5.566       4.895       4.401       3.792  ...       3.197   \n",
       "Grupo 6       4.810       4.886       4.781       4.696  ...       2.326   \n",
       "Grupo 7       3.119       2.972       2.790       2.714  ...       0.304   \n",
       "\n",
       "         diast 6:45  diast 7:00  diast 7:15  diast 7:30  diast 7:45  \\\n",
       "Grupo 1       1.118       1.242       1.469       1.645       1.850   \n",
       "Grupo 2       3.741       3.768       3.771       3.798       3.724   \n",
       "Grupo 3       5.190       4.775       4.105       3.500       2.985   \n",
       "Grupo 4       0.839       0.899       0.875       0.746       0.505   \n",
       "Grupo 5       3.697       4.142       4.621       4.948       5.240   \n",
       "Grupo 6       2.352       2.406       2.530       2.872       3.248   \n",
       "Grupo 7       0.101       0.000       0.000       0.000       0.084   \n",
       "\n",
       "         diast 8:00  diast 8:15  diast 8:30  diast 8:45  \n",
       "Grupo 1       2.042       2.232       2.383       2.612  \n",
       "Grupo 2       3.771       3.758       3.704       3.565  \n",
       "Grupo 3       2.335       1.861       1.486       1.116  \n",
       "Grupo 4       0.318       0.143       0.089       0.012  \n",
       "Grupo 5       5.374       5.374       5.345       5.281  \n",
       "Grupo 6       3.663       4.064       4.379       4.711  \n",
       "Grupo 7       0.222       0.348       0.417       0.464  \n",
       "\n",
       "[7 rows x 164 columns]"
      ]
     },
     "execution_count": 28,
     "metadata": {},
     "output_type": "execute_result"
    }
   ],
   "source": [
    "#Foi criado \"numero_otimo_cluster\" grupos\n",
    "H_medidas"
   ]
  },
  {
   "cell_type": "code",
   "execution_count": 30,
   "metadata": {},
   "outputs": [],
   "source": [
    "#Calcula a soma total por grupos\n",
    "#lista = []\n",
    "#for k in range(0,numero_otimo_cluster):\n",
    "#    sum_ = 0\n",
    "#    for i in H.columns:\n",
    "#        sum_ = sum_ + H.iloc[[k]][i]\n",
    "#    lista.append(sum_)"
   ]
  },
  {
   "cell_type": "code",
   "execution_count": null,
   "metadata": {},
   "outputs": [],
   "source": [
    "#lista[0]\n",
    "#np.sum(H.iloc[0,:].values)"
   ]
  },
  {
   "cell_type": "code",
   "execution_count": null,
   "metadata": {},
   "outputs": [],
   "source": [
    "#o grupo com maior soma total é Grupo 6\n",
    "#lista"
   ]
  },
  {
   "cell_type": "markdown",
   "metadata": {},
   "source": [
    "##### O grupo 5 é o que tem a maior soma total dos valores entre sist e diast, mesmo que grupo 2 tenha os maiores valores por variavel (sist) ele que tem a menor somar total\n"
   ]
  },
  {
   "cell_type": "code",
   "execution_count": null,
   "metadata": {},
   "outputs": [],
   "source": [
    "#Salvar a planilha\n",
    "#H.to_excel('H.xlsx')\n",
    "\n",
    "#H.to_csv(DIR_NMF / \"H.csv\", sep=\";\", encoding=\"Latin1\")\n",
    "\n",
    "\n",
    "#H.to_csv(r\"C:\\Users\\marta\\projeto_pa\\NMF\\H.csv\", sep=\";\", encoding=\"Latin1\")\n"
   ]
  },
  {
   "cell_type": "code",
   "execution_count": 31,
   "metadata": {},
   "outputs": [
    {
     "data": {
      "text/html": [
       "<div>\n",
       "<style scoped>\n",
       "    .dataframe tbody tr th:only-of-type {\n",
       "        vertical-align: middle;\n",
       "    }\n",
       "\n",
       "    .dataframe tbody tr th {\n",
       "        vertical-align: top;\n",
       "    }\n",
       "\n",
       "    .dataframe thead th {\n",
       "        text-align: right;\n",
       "    }\n",
       "</style>\n",
       "<table border=\"1\" class=\"dataframe\">\n",
       "  <thead>\n",
       "    <tr style=\"text-align: right;\">\n",
       "      <th></th>\n",
       "      <th>Grupo 1</th>\n",
       "      <th>Grupo 2</th>\n",
       "      <th>Grupo 3</th>\n",
       "      <th>Grupo 4</th>\n",
       "      <th>Grupo 5</th>\n",
       "      <th>Grupo 6</th>\n",
       "      <th>Grupo 7</th>\n",
       "    </tr>\n",
       "  </thead>\n",
       "  <tbody>\n",
       "    <tr>\n",
       "      <td>0</td>\n",
       "      <td>6.318</td>\n",
       "      <td>1.902</td>\n",
       "      <td>3.221</td>\n",
       "      <td>6.134</td>\n",
       "      <td>1.978</td>\n",
       "      <td>2.302</td>\n",
       "      <td>5.615</td>\n",
       "    </tr>\n",
       "    <tr>\n",
       "      <td>1</td>\n",
       "      <td>7.081</td>\n",
       "      <td>5.070</td>\n",
       "      <td>5.362</td>\n",
       "      <td>2.720</td>\n",
       "      <td>2.488</td>\n",
       "      <td>1.313</td>\n",
       "      <td>3.008</td>\n",
       "    </tr>\n",
       "    <tr>\n",
       "      <td>2</td>\n",
       "      <td>8.885</td>\n",
       "      <td>5.344</td>\n",
       "      <td>2.335</td>\n",
       "      <td>2.361</td>\n",
       "      <td>3.731</td>\n",
       "      <td>3.642</td>\n",
       "      <td>5.952</td>\n",
       "    </tr>\n",
       "    <tr>\n",
       "      <td>3</td>\n",
       "      <td>9.638</td>\n",
       "      <td>4.445</td>\n",
       "      <td>2.985</td>\n",
       "      <td>3.098</td>\n",
       "      <td>4.677</td>\n",
       "      <td>4.175</td>\n",
       "      <td>3.913</td>\n",
       "    </tr>\n",
       "    <tr>\n",
       "      <td>4</td>\n",
       "      <td>6.840</td>\n",
       "      <td>6.116</td>\n",
       "      <td>3.156</td>\n",
       "      <td>4.626</td>\n",
       "      <td>3.093</td>\n",
       "      <td>3.555</td>\n",
       "      <td>2.088</td>\n",
       "    </tr>\n",
       "    <tr>\n",
       "      <td>...</td>\n",
       "      <td>...</td>\n",
       "      <td>...</td>\n",
       "      <td>...</td>\n",
       "      <td>...</td>\n",
       "      <td>...</td>\n",
       "      <td>...</td>\n",
       "      <td>...</td>\n",
       "    </tr>\n",
       "    <tr>\n",
       "      <td>19237</td>\n",
       "      <td>8.487</td>\n",
       "      <td>9.894</td>\n",
       "      <td>6.469</td>\n",
       "      <td>5.096</td>\n",
       "      <td>5.858</td>\n",
       "      <td>5.794</td>\n",
       "      <td>0.306</td>\n",
       "    </tr>\n",
       "    <tr>\n",
       "      <td>19238</td>\n",
       "      <td>8.622</td>\n",
       "      <td>4.508</td>\n",
       "      <td>5.336</td>\n",
       "      <td>5.370</td>\n",
       "      <td>2.955</td>\n",
       "      <td>4.343</td>\n",
       "      <td>3.254</td>\n",
       "    </tr>\n",
       "    <tr>\n",
       "      <td>19239</td>\n",
       "      <td>8.139</td>\n",
       "      <td>2.763</td>\n",
       "      <td>2.878</td>\n",
       "      <td>4.818</td>\n",
       "      <td>1.939</td>\n",
       "      <td>2.491</td>\n",
       "      <td>4.256</td>\n",
       "    </tr>\n",
       "    <tr>\n",
       "      <td>19240</td>\n",
       "      <td>5.189</td>\n",
       "      <td>6.044</td>\n",
       "      <td>2.635</td>\n",
       "      <td>5.247</td>\n",
       "      <td>4.159</td>\n",
       "      <td>2.057</td>\n",
       "      <td>2.922</td>\n",
       "    </tr>\n",
       "    <tr>\n",
       "      <td>19241</td>\n",
       "      <td>7.029</td>\n",
       "      <td>6.595</td>\n",
       "      <td>4.400</td>\n",
       "      <td>4.043</td>\n",
       "      <td>0.000</td>\n",
       "      <td>5.182</td>\n",
       "      <td>4.365</td>\n",
       "    </tr>\n",
       "  </tbody>\n",
       "</table>\n",
       "<p>19242 rows × 7 columns</p>\n",
       "</div>"
      ],
      "text/plain": [
       "       Grupo 1  Grupo 2  Grupo 3  Grupo 4  Grupo 5  Grupo 6  Grupo 7\n",
       "0        6.318    1.902    3.221    6.134    1.978    2.302    5.615\n",
       "1        7.081    5.070    5.362    2.720    2.488    1.313    3.008\n",
       "2        8.885    5.344    2.335    2.361    3.731    3.642    5.952\n",
       "3        9.638    4.445    2.985    3.098    4.677    4.175    3.913\n",
       "4        6.840    6.116    3.156    4.626    3.093    3.555    2.088\n",
       "...        ...      ...      ...      ...      ...      ...      ...\n",
       "19237    8.487    9.894    6.469    5.096    5.858    5.794    0.306\n",
       "19238    8.622    4.508    5.336    5.370    2.955    4.343    3.254\n",
       "19239    8.139    2.763    2.878    4.818    1.939    2.491    4.256\n",
       "19240    5.189    6.044    2.635    5.247    4.159    2.057    2.922\n",
       "19241    7.029    6.595    4.400    4.043    0.000    5.182    4.365\n",
       "\n",
       "[19242 rows x 7 columns]"
      ]
     },
     "execution_count": 31,
     "metadata": {},
     "output_type": "execute_result"
    }
   ],
   "source": [
    "#Gera o W com numero do paciente, para verificar a importancia que cada paciente tem em cada grupo\n",
    "#W = pd.DataFrame(np.round(model.transform(dados_sem_id),2), columns=H.index)\n",
    "#W.index = dados_mapa[\"numero_identificacao\"]\n",
    "W_medidas = pd.DataFrame(np.round(model_medidas.transform(medidas_sem_id),3), columns=H_medidas.index)\n",
    "\n",
    "#  Incluir o numero_identificacao na matriz W\n",
    "\n",
    "#W_medidas = pd.concat([dados_mapa[\"numero_identificacao\"],W_medidas],axis=1)\n",
    "\n",
    "#exemplo o paciente 5 não tem muita influencia no Grupo 7, está presenta mais no Grupo 1\n",
    "#print(len(dados_mapa), len(dados_mapa_original))\n",
    "W_medidas"
   ]
  },
  {
   "cell_type": "markdown",
   "metadata": {},
   "source": [
    "#### No vetor W é possivel identificar a importancia dos dados dos pacientes para criação do grupo, como pode ser visto o Paciente 4 que não tem relação com o grupo 1, mas participar do grupo 2 e 3."
   ]
  },
  {
   "cell_type": "code",
   "execution_count": 32,
   "metadata": {},
   "outputs": [],
   "source": [
    "#W.to_excel('W.xlsx')\n",
    "#W_medidas.to_csv(DIR_NMF / \"W.csv\", sep=\";\", encoding=\"Latin1\")\n",
    "\n",
    "\n",
    "#W.to_csv(r\"C:\\Users\\marta\\projeto_pa\\NMF\\W.csv\", sep=\";\", encoding=\"Latin1\")\n"
   ]
  },
  {
   "cell_type": "code",
   "execution_count": 33,
   "metadata": {},
   "outputs": [],
   "source": [
    "# Calcula a relevância de cada linha comparando os valores de cada grupo totalizando 1\n",
    "\n",
    "def relevancia_comparada(matriz_W):\n",
    "    for linha in range(len(matriz_W)):\n",
    "        soma_grupos = np.sum(matriz_W.iloc[linha,:])\n",
    "        for coluna in range(len(matriz_W.iloc[linha,:])):\n",
    "            matriz_W.iloc[linha,coluna] = matriz_W.iloc[linha,coluna]/soma_grupos\n",
    "    return matriz_W"
   ]
  },
  {
   "cell_type": "code",
   "execution_count": 34,
   "metadata": {},
   "outputs": [],
   "source": [
    "valores_relevancia_medidas = relevancia_comparada(W_medidas)"
   ]
  },
  {
   "cell_type": "code",
   "execution_count": 35,
   "metadata": {},
   "outputs": [
    {
     "data": {
      "text/html": [
       "<div>\n",
       "<style scoped>\n",
       "    .dataframe tbody tr th:only-of-type {\n",
       "        vertical-align: middle;\n",
       "    }\n",
       "\n",
       "    .dataframe tbody tr th {\n",
       "        vertical-align: top;\n",
       "    }\n",
       "\n",
       "    .dataframe thead th {\n",
       "        text-align: right;\n",
       "    }\n",
       "</style>\n",
       "<table border=\"1\" class=\"dataframe\">\n",
       "  <thead>\n",
       "    <tr style=\"text-align: right;\">\n",
       "      <th></th>\n",
       "      <th>Grupo 1</th>\n",
       "      <th>Grupo 2</th>\n",
       "      <th>Grupo 3</th>\n",
       "      <th>Grupo 4</th>\n",
       "      <th>Grupo 5</th>\n",
       "      <th>Grupo 6</th>\n",
       "      <th>Grupo 7</th>\n",
       "    </tr>\n",
       "  </thead>\n",
       "  <tbody>\n",
       "    <tr>\n",
       "      <td>0</td>\n",
       "      <td>0.229996</td>\n",
       "      <td>0.069239</td>\n",
       "      <td>0.117255</td>\n",
       "      <td>0.223298</td>\n",
       "      <td>0.072006</td>\n",
       "      <td>0.083801</td>\n",
       "      <td>0.204405</td>\n",
       "    </tr>\n",
       "    <tr>\n",
       "      <td>1</td>\n",
       "      <td>0.261852</td>\n",
       "      <td>0.187486</td>\n",
       "      <td>0.198284</td>\n",
       "      <td>0.100584</td>\n",
       "      <td>0.092005</td>\n",
       "      <td>0.048554</td>\n",
       "      <td>0.111234</td>\n",
       "    </tr>\n",
       "    <tr>\n",
       "      <td>2</td>\n",
       "      <td>0.275504</td>\n",
       "      <td>0.165705</td>\n",
       "      <td>0.072403</td>\n",
       "      <td>0.073209</td>\n",
       "      <td>0.115690</td>\n",
       "      <td>0.112930</td>\n",
       "      <td>0.184558</td>\n",
       "    </tr>\n",
       "    <tr>\n",
       "      <td>3</td>\n",
       "      <td>0.292673</td>\n",
       "      <td>0.134979</td>\n",
       "      <td>0.090644</td>\n",
       "      <td>0.094075</td>\n",
       "      <td>0.142024</td>\n",
       "      <td>0.126780</td>\n",
       "      <td>0.118824</td>\n",
       "    </tr>\n",
       "    <tr>\n",
       "      <td>4</td>\n",
       "      <td>0.232069</td>\n",
       "      <td>0.207505</td>\n",
       "      <td>0.107077</td>\n",
       "      <td>0.156952</td>\n",
       "      <td>0.104940</td>\n",
       "      <td>0.120615</td>\n",
       "      <td>0.070842</td>\n",
       "    </tr>\n",
       "    <tr>\n",
       "      <td>...</td>\n",
       "      <td>...</td>\n",
       "      <td>...</td>\n",
       "      <td>...</td>\n",
       "      <td>...</td>\n",
       "      <td>...</td>\n",
       "      <td>...</td>\n",
       "      <td>...</td>\n",
       "    </tr>\n",
       "    <tr>\n",
       "      <td>19237</td>\n",
       "      <td>0.202534</td>\n",
       "      <td>0.236111</td>\n",
       "      <td>0.154377</td>\n",
       "      <td>0.121611</td>\n",
       "      <td>0.139796</td>\n",
       "      <td>0.138268</td>\n",
       "      <td>0.007302</td>\n",
       "    </tr>\n",
       "    <tr>\n",
       "      <td>19238</td>\n",
       "      <td>0.250727</td>\n",
       "      <td>0.131092</td>\n",
       "      <td>0.155170</td>\n",
       "      <td>0.156159</td>\n",
       "      <td>0.085931</td>\n",
       "      <td>0.126294</td>\n",
       "      <td>0.094626</td>\n",
       "    </tr>\n",
       "    <tr>\n",
       "      <td>19239</td>\n",
       "      <td>0.298307</td>\n",
       "      <td>0.101268</td>\n",
       "      <td>0.105483</td>\n",
       "      <td>0.176587</td>\n",
       "      <td>0.071067</td>\n",
       "      <td>0.091299</td>\n",
       "      <td>0.155989</td>\n",
       "    </tr>\n",
       "    <tr>\n",
       "      <td>19240</td>\n",
       "      <td>0.183662</td>\n",
       "      <td>0.213924</td>\n",
       "      <td>0.093264</td>\n",
       "      <td>0.185715</td>\n",
       "      <td>0.147206</td>\n",
       "      <td>0.072806</td>\n",
       "      <td>0.103423</td>\n",
       "    </tr>\n",
       "    <tr>\n",
       "      <td>19241</td>\n",
       "      <td>0.222338</td>\n",
       "      <td>0.208610</td>\n",
       "      <td>0.139179</td>\n",
       "      <td>0.127886</td>\n",
       "      <td>0.000000</td>\n",
       "      <td>0.163915</td>\n",
       "      <td>0.138072</td>\n",
       "    </tr>\n",
       "  </tbody>\n",
       "</table>\n",
       "<p>19242 rows × 7 columns</p>\n",
       "</div>"
      ],
      "text/plain": [
       "        Grupo 1   Grupo 2   Grupo 3   Grupo 4   Grupo 5   Grupo 6   Grupo 7\n",
       "0      0.229996  0.069239  0.117255  0.223298  0.072006  0.083801  0.204405\n",
       "1      0.261852  0.187486  0.198284  0.100584  0.092005  0.048554  0.111234\n",
       "2      0.275504  0.165705  0.072403  0.073209  0.115690  0.112930  0.184558\n",
       "3      0.292673  0.134979  0.090644  0.094075  0.142024  0.126780  0.118824\n",
       "4      0.232069  0.207505  0.107077  0.156952  0.104940  0.120615  0.070842\n",
       "...         ...       ...       ...       ...       ...       ...       ...\n",
       "19237  0.202534  0.236111  0.154377  0.121611  0.139796  0.138268  0.007302\n",
       "19238  0.250727  0.131092  0.155170  0.156159  0.085931  0.126294  0.094626\n",
       "19239  0.298307  0.101268  0.105483  0.176587  0.071067  0.091299  0.155989\n",
       "19240  0.183662  0.213924  0.093264  0.185715  0.147206  0.072806  0.103423\n",
       "19241  0.222338  0.208610  0.139179  0.127886  0.000000  0.163915  0.138072\n",
       "\n",
       "[19242 rows x 7 columns]"
      ]
     },
     "execution_count": 35,
     "metadata": {},
     "output_type": "execute_result"
    }
   ],
   "source": [
    "valores_relevancia_medidas"
   ]
  },
  {
   "cell_type": "code",
   "execution_count": 36,
   "metadata": {},
   "outputs": [],
   "source": [
    "\n",
    "#função para padronizar os grupos\n",
    "#def padronizar_grupos(colunas_de_W):\n",
    "#    lista_final = []\n",
    "#    \n",
    "#    for itm in colunas_de_W:\n",
    "#        rst = float(float(itm)/float(sum(colunas_de_W)))\n",
    "#        lista_final.append(rst)\n",
    "#    \n",
    "#    return lista_final\n",
    "#\n",
    "##criando o dataframe W padronizado\n",
    "#W_padronizado = pd.DataFrame()\n",
    "#\n",
    "#for col in W.columns:\n",
    "#    W_padronizado[col] = padronizar_grupos(W[col])\n",
    "#\n",
    "#W_padronizado['numero_identificacao'] = dados_mapa['numero_identificacao']\n",
    "#\n",
    "## Grava W_padronizado\n",
    "#W_padronizado.to_csv(DIR_NMF / \"W_padronizado.csv\", sep=\";\", encoding=\"Latin1\")\n",
    "\n",
    "#W_padronizado.to_csv(r\"C:\\Users\\marta\\projeto_pa\\NMF\\W_padronizado.csv\", sep=\";\", encoding=\"Latin1\")"
   ]
  },
  {
   "cell_type": "code",
   "execution_count": 38,
   "metadata": {},
   "outputs": [
    {
     "data": {
      "text/html": [
       "<div>\n",
       "<style scoped>\n",
       "    .dataframe tbody tr th:only-of-type {\n",
       "        vertical-align: middle;\n",
       "    }\n",
       "\n",
       "    .dataframe tbody tr th {\n",
       "        vertical-align: top;\n",
       "    }\n",
       "\n",
       "    .dataframe thead th {\n",
       "        text-align: right;\n",
       "    }\n",
       "</style>\n",
       "<table border=\"1\" class=\"dataframe\">\n",
       "  <thead>\n",
       "    <tr style=\"text-align: right;\">\n",
       "      <th></th>\n",
       "      <th>Grupo 1</th>\n",
       "      <th>Grupo 2</th>\n",
       "      <th>Grupo 3</th>\n",
       "      <th>Grupo 4</th>\n",
       "      <th>Grupo 5</th>\n",
       "      <th>Grupo 6</th>\n",
       "      <th>Grupo 7</th>\n",
       "      <th>grupo</th>\n",
       "    </tr>\n",
       "  </thead>\n",
       "  <tbody>\n",
       "    <tr>\n",
       "      <td>0</td>\n",
       "      <td>0.229996</td>\n",
       "      <td>0.069239</td>\n",
       "      <td>0.117255</td>\n",
       "      <td>0.223298</td>\n",
       "      <td>0.072006</td>\n",
       "      <td>0.083801</td>\n",
       "      <td>0.204405</td>\n",
       "      <td>1</td>\n",
       "    </tr>\n",
       "    <tr>\n",
       "      <td>1</td>\n",
       "      <td>0.261852</td>\n",
       "      <td>0.187486</td>\n",
       "      <td>0.198284</td>\n",
       "      <td>0.100584</td>\n",
       "      <td>0.092005</td>\n",
       "      <td>0.048554</td>\n",
       "      <td>0.111234</td>\n",
       "      <td>1</td>\n",
       "    </tr>\n",
       "    <tr>\n",
       "      <td>2</td>\n",
       "      <td>0.275504</td>\n",
       "      <td>0.165705</td>\n",
       "      <td>0.072403</td>\n",
       "      <td>0.073209</td>\n",
       "      <td>0.115690</td>\n",
       "      <td>0.112930</td>\n",
       "      <td>0.184558</td>\n",
       "      <td>1</td>\n",
       "    </tr>\n",
       "    <tr>\n",
       "      <td>3</td>\n",
       "      <td>0.292673</td>\n",
       "      <td>0.134979</td>\n",
       "      <td>0.090644</td>\n",
       "      <td>0.094075</td>\n",
       "      <td>0.142024</td>\n",
       "      <td>0.126780</td>\n",
       "      <td>0.118824</td>\n",
       "      <td>1</td>\n",
       "    </tr>\n",
       "    <tr>\n",
       "      <td>4</td>\n",
       "      <td>0.232069</td>\n",
       "      <td>0.207505</td>\n",
       "      <td>0.107077</td>\n",
       "      <td>0.156952</td>\n",
       "      <td>0.104940</td>\n",
       "      <td>0.120615</td>\n",
       "      <td>0.070842</td>\n",
       "      <td>1</td>\n",
       "    </tr>\n",
       "    <tr>\n",
       "      <td>...</td>\n",
       "      <td>...</td>\n",
       "      <td>...</td>\n",
       "      <td>...</td>\n",
       "      <td>...</td>\n",
       "      <td>...</td>\n",
       "      <td>...</td>\n",
       "      <td>...</td>\n",
       "      <td>...</td>\n",
       "    </tr>\n",
       "    <tr>\n",
       "      <td>19237</td>\n",
       "      <td>0.202534</td>\n",
       "      <td>0.236111</td>\n",
       "      <td>0.154377</td>\n",
       "      <td>0.121611</td>\n",
       "      <td>0.139796</td>\n",
       "      <td>0.138268</td>\n",
       "      <td>0.007302</td>\n",
       "      <td>2</td>\n",
       "    </tr>\n",
       "    <tr>\n",
       "      <td>19238</td>\n",
       "      <td>0.250727</td>\n",
       "      <td>0.131092</td>\n",
       "      <td>0.155170</td>\n",
       "      <td>0.156159</td>\n",
       "      <td>0.085931</td>\n",
       "      <td>0.126294</td>\n",
       "      <td>0.094626</td>\n",
       "      <td>1</td>\n",
       "    </tr>\n",
       "    <tr>\n",
       "      <td>19239</td>\n",
       "      <td>0.298307</td>\n",
       "      <td>0.101268</td>\n",
       "      <td>0.105483</td>\n",
       "      <td>0.176587</td>\n",
       "      <td>0.071067</td>\n",
       "      <td>0.091299</td>\n",
       "      <td>0.155989</td>\n",
       "      <td>1</td>\n",
       "    </tr>\n",
       "    <tr>\n",
       "      <td>19240</td>\n",
       "      <td>0.183662</td>\n",
       "      <td>0.213924</td>\n",
       "      <td>0.093264</td>\n",
       "      <td>0.185715</td>\n",
       "      <td>0.147206</td>\n",
       "      <td>0.072806</td>\n",
       "      <td>0.103423</td>\n",
       "      <td>2</td>\n",
       "    </tr>\n",
       "    <tr>\n",
       "      <td>19241</td>\n",
       "      <td>0.222338</td>\n",
       "      <td>0.208610</td>\n",
       "      <td>0.139179</td>\n",
       "      <td>0.127886</td>\n",
       "      <td>0.000000</td>\n",
       "      <td>0.163915</td>\n",
       "      <td>0.138072</td>\n",
       "      <td>1</td>\n",
       "    </tr>\n",
       "  </tbody>\n",
       "</table>\n",
       "<p>19242 rows × 8 columns</p>\n",
       "</div>"
      ],
      "text/plain": [
       "        Grupo 1   Grupo 2   Grupo 3   Grupo 4   Grupo 5   Grupo 6   Grupo 7  \\\n",
       "0      0.229996  0.069239  0.117255  0.223298  0.072006  0.083801  0.204405   \n",
       "1      0.261852  0.187486  0.198284  0.100584  0.092005  0.048554  0.111234   \n",
       "2      0.275504  0.165705  0.072403  0.073209  0.115690  0.112930  0.184558   \n",
       "3      0.292673  0.134979  0.090644  0.094075  0.142024  0.126780  0.118824   \n",
       "4      0.232069  0.207505  0.107077  0.156952  0.104940  0.120615  0.070842   \n",
       "...         ...       ...       ...       ...       ...       ...       ...   \n",
       "19237  0.202534  0.236111  0.154377  0.121611  0.139796  0.138268  0.007302   \n",
       "19238  0.250727  0.131092  0.155170  0.156159  0.085931  0.126294  0.094626   \n",
       "19239  0.298307  0.101268  0.105483  0.176587  0.071067  0.091299  0.155989   \n",
       "19240  0.183662  0.213924  0.093264  0.185715  0.147206  0.072806  0.103423   \n",
       "19241  0.222338  0.208610  0.139179  0.127886  0.000000  0.163915  0.138072   \n",
       "\n",
       "       grupo  \n",
       "0          1  \n",
       "1          1  \n",
       "2          1  \n",
       "3          1  \n",
       "4          1  \n",
       "...      ...  \n",
       "19237      2  \n",
       "19238      1  \n",
       "19239      1  \n",
       "19240      2  \n",
       "19241      1  \n",
       "\n",
       "[19242 rows x 8 columns]"
      ]
     },
     "execution_count": 38,
     "metadata": {},
     "output_type": "execute_result"
    }
   ],
   "source": [
    "#Lista os maiores valores de cada grupo\n",
    "#mostra_maiores_valores = []\n",
    "#\n",
    "#for col in W.columns:\n",
    "#    valor = list(W_padronizado[W_padronizado[col] == max(W_padronizado[col])]['numero_identificacao'])[0]\n",
    "#    mostra_maiores_valores.append(valor)\n",
    "#\n",
    "#W_padronizado[W_padronizado['numero_identificacao'].isin(mostra_maiores_valores)]\n",
    "\n",
    "def encontra_maior(matriz_W):\n",
    "    grupo = list()\n",
    "    for linha in range(len(matriz_W)):\n",
    "        maior = max(matriz_W.iloc[linha,:])\n",
    "        for coluna in range(len(matriz_W.iloc[linha,:])):\n",
    "            if matriz_W.iloc[linha,coluna] == maior:\n",
    "                grupo.append(coluna + 1)\n",
    "                break\n",
    "    matriz_W['grupo'] = grupo\n",
    "    return matriz_W\n",
    "\n",
    "valores_relevancia_medidas = encontra_maior(valores_relevancia_medidas)\n",
    "valores_relevancia_medidas"
   ]
  },
  {
   "cell_type": "code",
   "execution_count": null,
   "metadata": {},
   "outputs": [],
   "source": [
    "# Gera dataset resultante do NMF com dados cadastrais de cada paciente, medidas e seu peso em cada grupo\n",
    "\n",
    "todos_os_dados = metadados = dados_mapa_original.copy()\n",
    "metadados.index = metadados[\"numero_identificacao\"]\n",
    "\n",
    "mapa_cadastro_grupos = pd.concat([metadados[\"genero\"] , metadados[\"idade\"], \n",
    "                         metadados[\"peso\"], metadados[\"data_exame\"],\n",
    "                        W], axis=1)\n",
    "\n",
    "saida_NMF = pd.concat ([metadados[\"genero\"] , metadados[\"idade\"], \n",
    "                         metadados[\"peso\"], metadados[\"data_exame\"], \n",
    "                        metadados.loc[:,\"sist 9:00\": \"diast 8:45\"],\n",
    "                        W], axis=1)\n",
    "#\n",
    "#mapa_grupos = W.copy()\n",
    "#\n",
    "#for coluna in reversed([\"genero\", \"idade\", \"peso\", \"data_exame\"]):\n",
    "#    mapa_grupos.insert(0, coluna, metadados[coluna])\n",
    "#\n",
    "#mapa_grupos\n",
    "\n",
    "saida_NMF"
   ]
  },
  {
   "cell_type": "code",
   "execution_count": null,
   "metadata": {},
   "outputs": [],
   "source": [
    "\n",
    "\n",
    "# Gera dataset resultante do NMF com dados cadastrais de cada paciente, medidas e seu peso em cada grupo\n",
    "\n",
    "todos_os_dados = metadados = dados_mapa_original.copy()\n",
    "metadados.index = metadados[\"numero_identificacao\"]\n",
    "\n",
    "mapa_cadastro_grupos_estatistica = pd.concat([metadados.loc[:,\"genero\":\"DP Diastolica em 24h\"],\n",
    "                        W_estatistica], axis=1)\n"
   ]
  },
  {
   "cell_type": "markdown",
   "metadata": {},
   "source": [
    "## Abordagem 2: Cadastro"
   ]
  },
  {
   "cell_type": "markdown",
   "metadata": {},
   "source": [
    "### K-means "
   ]
  },
  {
   "cell_type": "code",
   "execution_count": null,
   "metadata": {},
   "outputs": [],
   "source": [
    "dataset_cadastro_sem_id = dataset_cadastro.drop (['numero_identificacao'], axis=1) \n",
    "dataset_cadastro_sem_id_array = np.array (dataset_cadastro_sem_id)\n",
    "\n",
    "#calculando a quantidade ótima de clusters (é possivel dividir os pacientes em quantos grupos)\n",
    "sum_of_squares = calculate_wcss(dataset_cadastro_sem_id_array)\n",
    "numero_otimo_cluster_cadastro = optimal_number_of_clusters(sum_of_squares)\n",
    "print (numero_otimo_cluster_cadastro)\n"
   ]
  },
  {
   "cell_type": "code",
   "execution_count": null,
   "metadata": {},
   "outputs": [],
   "source": [
    "kmeans_cadastro = KMeans(n_clusters=numero_otimo_cluster_cadastro, random_state=10).fit(dataset_cadastro_sem_id_array)"
   ]
  },
  {
   "cell_type": "code",
   "execution_count": null,
   "metadata": {},
   "outputs": [],
   "source": [
    "grupos_cadastro = kmeans.fit_predict(dataset_cadastro_sem_id_array)"
   ]
  },
  {
   "cell_type": "code",
   "execution_count": null,
   "metadata": {},
   "outputs": [],
   "source": [
    "#  Inclui o grupo de cada paciente no dataset de entrada\n",
    "mapa_grupos_cadastro = dados_mapa.loc[:,:'data_exame']\n",
    "mapa_grupos_cadastro['grupo'] = grupos_cadastro\n",
    "mapa_grupos_cadastro = pd.concat([mapa_grupo_cadastro,dados_mapa.loc[:,'sist 9:00':'Picos Diastolica']],axis=1)\n",
    "mapa_grupos_cadastro"
   ]
  },
  {
   "cell_type": "code",
   "execution_count": null,
   "metadata": {},
   "outputs": [],
   "source": [
    "#aplicando o NMF com numero de componente = numero_otimo_cluster calculado pelo K-means\n",
    "model_cadastro = NMF(n_components=numero_otimo_cluster_cadastro,init='random',random_state=0)"
   ]
  },
  {
   "cell_type": "code",
   "execution_count": null,
   "metadata": {},
   "outputs": [],
   "source": [
    "#   aplicando o modelo NMF\n",
    "model_cadastro.fit(dataset_cadastro_sem_id_array)"
   ]
  },
  {
   "cell_type": "code",
   "execution_count": null,
   "metadata": {},
   "outputs": [],
   "source": [
    "#  'Grupo x' sendo x = numero_otimo_cluster\n",
    "\n",
    "#Criando H como resultado do produto escalar das matrizes\n",
    "H_cadastro = pd.DataFrame(np.round(model_cadastro.components_,2), columns=dataset_cadastro_sem_id.columns)\n",
    "\n",
    "H_cadastro.index = [f'Grupo {i + 1}' for i in range(numero_otimo_cluster_cadastro)]\n",
    "\n"
   ]
  },
  {
   "cell_type": "code",
   "execution_count": null,
   "metadata": {},
   "outputs": [],
   "source": []
  },
  {
   "cell_type": "code",
   "execution_count": null,
   "metadata": {},
   "outputs": [],
   "source": []
  },
  {
   "cell_type": "code",
   "execution_count": null,
   "metadata": {},
   "outputs": [],
   "source": [
    "#Calcula a soma total por grupos\n",
    "lista = []\n",
    "for k in range(0,numero_otimo_cluster_cadastro):\n",
    "    sum_ = 0\n",
    "    for i in H_cadastro.columns:\n",
    "        sum_ = sum_ + H_cadastro.iloc[[k]][i]\n",
    "    lista.append(sum_)"
   ]
  },
  {
   "cell_type": "code",
   "execution_count": null,
   "metadata": {},
   "outputs": [],
   "source": [
    "lista[0]\n",
    "np.sum(H_cadastro.iloc[0,:].values)"
   ]
  },
  {
   "cell_type": "code",
   "execution_count": null,
   "metadata": {},
   "outputs": [],
   "source": [
    "#o grupo com maior soma total é Grupo 6\n",
    "lista"
   ]
  },
  {
   "cell_type": "markdown",
   "metadata": {},
   "source": [
    "##### O grupo 5 é o que tem a maior soma total dos valores entre sist e diast, mesmo que grupo 2 tenha os maiores valores por variavel (sist) ele que tem a menor somar total\n"
   ]
  },
  {
   "cell_type": "code",
   "execution_count": null,
   "metadata": {},
   "outputs": [],
   "source": [
    "#Gera o W com numero do paciente, para verificar a importancia que cada paciente tem em cada grupo\n",
    "#W = pd.DataFrame(np.round(model.transform(dados_sem_id),2), columns=H.index)\n",
    "#W.index = dados_mapa[\"numero_identificacao\"]\n",
    "W_cadastro = pd.DataFrame(np.round(model_cadastro.transform(dados_sem_id),3), columns=H_cadastro.index)\n",
    "\n",
    "#  Incluir o numero_identificacao na matriz W\n",
    "numero_id = dados_mapa[\"numero_identificacao\"]\n",
    "W_cadastro = pd.concat([numero_id,W_cadastro],axis=1)\n",
    "\n",
    "#exemplo o paciente 5 não tem muita influencia no Grupo 7, está presenta mais no Grupo 1\n",
    "#print(len(dados_mapa), len(dados_mapa_original))\n",
    "W_cadastro"
   ]
  },
  {
   "cell_type": "markdown",
   "metadata": {},
   "source": [
    "#### No vetor W é possivel identificar a importancia dos dados dos pacientes para criação do grupo, como pode ser visto o Paciente 4 que não tem relação com o grupo 1, mas participar do grupo 2 e 3."
   ]
  },
  {
   "cell_type": "code",
   "execution_count": null,
   "metadata": {},
   "outputs": [],
   "source": [
    "# Calcula a relevância de cada linha comparando os valores de cada grupo totalizando 1\n",
    "\n",
    "def relevancia_comparada(matriz_W):\n",
    "    for linha in range(len(matriz_W)):\n",
    "        soma_grupos = np.sum(matriz_W.iloc[linha,1:])\n",
    "        for coluna in range(1,len(matriz_W.iloc[linha,1:]) + 1):\n",
    "            matriz_W.iloc[linha,coluna] = matriz_W.iloc[linha,coluna]/soma_grupos\n",
    "    return matriz_W"
   ]
  },
  {
   "cell_type": "code",
   "execution_count": null,
   "metadata": {},
   "outputs": [],
   "source": [
    "valores_relevancia_cadastro = relevancia_comparada(W_cadastro)"
   ]
  },
  {
   "cell_type": "code",
   "execution_count": null,
   "metadata": {},
   "outputs": [],
   "source": [
    "valores_relevancia_cadastro"
   ]
  },
  {
   "cell_type": "code",
   "execution_count": null,
   "metadata": {},
   "outputs": [],
   "source": [
    "\n",
    "#função para padronizar os grupos\n",
    "#def padronizar_grupos(colunas_de_W):\n",
    "#    lista_final = []\n",
    "#    \n",
    "#    for itm in colunas_de_W:\n",
    "#        rst = float(float(itm)/float(sum(colunas_de_W)))\n",
    "#        lista_final.append(rst)\n",
    "#    \n",
    "#    return lista_final\n",
    "#\n",
    "##criando o dataframe W padronizado\n",
    "#W_padronizado = pd.DataFrame()\n",
    "#\n",
    "#for col in W.columns:\n",
    "#    W_padronizado[col] = padronizar_grupos(W[col])\n",
    "#\n",
    "#W_padronizado['numero_identificacao'] = dados_mapa['numero_identificacao']\n",
    "#\n",
    "## Grava W_padronizado\n",
    "#W_padronizado.to_csv(DIR_NMF / \"W_padronizado.csv\", sep=\";\", encoding=\"Latin1\")\n",
    "\n",
    "#W_padronizado.to_csv(r\"C:\\Users\\marta\\projeto_pa\\NMF\\W_padronizado.csv\", sep=\";\", encoding=\"Latin1\")"
   ]
  },
  {
   "cell_type": "code",
   "execution_count": null,
   "metadata": {},
   "outputs": [],
   "source": [
    "#Lista os maiores valores de cada grupo\n",
    "#mostra_maiores_valores = []\n",
    "#\n",
    "#for col in W.columns:\n",
    "#    valor = list(W_padronizado[W_padronizado[col] == max(W_padronizado[col])]['numero_identificacao'])[0]\n",
    "#    mostra_maiores_valores.append(valor)\n",
    "#\n",
    "#W_padronizado[W_padronizado['numero_identificacao'].isin(mostra_maiores_valores)]"
   ]
  },
  {
   "cell_type": "code",
   "execution_count": null,
   "metadata": {},
   "outputs": [],
   "source": [
    "# Gera dataset resultante do NMF com dados cadastrais de cada paciente, medidas e seu peso em cada grupo\n",
    "\n",
    "todos_os_dados = metadados = dados_mapa_original.copy()\n",
    "metadados.index = metadados[\"numero_identificacao\"]\n",
    "\n",
    "mapa_cadastro_grupos = pd.concat([metadados[\"genero\"] , metadados[\"idade\"], \n",
    "                         metadados[\"peso\"], metadados[\"data_exame\"],\n",
    "                        W], axis=1)\n",
    "\n",
    "saida_NMF_cadastro = pd.concat([metadados[\"genero\"] , metadados[\"idade\"], \n",
    "                         metadados[\"peso\"], metadados[\"data_exame\"], \n",
    "                        metadados.loc[:,\"sist 9:00\": \"diast 8:45\"],\n",
    "                        W], axis=1)\n",
    "#\n",
    "#mapa_grupos = W.copy()\n",
    "#\n",
    "#for coluna in reversed([\"genero\", \"idade\", \"peso\", \"data_exame\"]):\n",
    "#    mapa_grupos.insert(0, coluna, metadados[coluna])\n",
    "#\n",
    "#mapa_grupos\n",
    "\n",
    "saida_NMF"
   ]
  },
  {
   "cell_type": "code",
   "execution_count": null,
   "metadata": {},
   "outputs": [],
   "source": [
    "\n",
    "\n",
    "# Gera dataset resultante do NMF com dados cadastrais de cada paciente, medidas e seu peso em cada grupo\n",
    "\n",
    "todos_os_dados = metadados = dados_mapa_original.copy()\n",
    "metadados.index = metadados[\"numero_identificacao\"]\n",
    "\n",
    "mapa_cadastro_grupos_estatistica = pd.concat([metadados.loc[:,\"genero\":\"DP Diastolica em 24h\"],\n",
    "                        W_estatistica], axis=1)\n"
   ]
  },
  {
   "cell_type": "code",
   "execution_count": null,
   "metadata": {},
   "outputs": [],
   "source": []
  },
  {
   "cell_type": "code",
   "execution_count": null,
   "metadata": {},
   "outputs": [],
   "source": []
  },
  {
   "cell_type": "code",
   "execution_count": null,
   "metadata": {},
   "outputs": [],
   "source": []
  },
  {
   "cell_type": "code",
   "execution_count": null,
   "metadata": {},
   "outputs": [],
   "source": [
    "#convertendo os dados para a clusterização\n",
    "X = np.array(dados_cadastro_sem_id)"
   ]
  },
  {
   "cell_type": "code",
   "execution_count": null,
   "metadata": {},
   "outputs": [],
   "source": [
    "#habilitando o kmeans com 8 grupos (foi calculado na etapa anterior)\n",
    "kmeans = KMeans(n_clusters=num_otimo_clusters, random_state=42).fit(X)"
   ]
  },
  {
   "cell_type": "code",
   "execution_count": null,
   "metadata": {},
   "outputs": [],
   "source": [
    "#listar os grupos \n",
    "grupos = kmeans.fit_predict(X)"
   ]
  },
  {
   "cell_type": "code",
   "execution_count": null,
   "metadata": {},
   "outputs": [],
   "source": [
    "#incluir grupos nos dados de sist e diast\n",
    "dados_cadastro_sem_id['grupo'] = grupos\n",
    "dados_cadastro_sem_id['grupo'] = dados_cadastro_sem_id['grupo'] + 1\n",
    "dados_cadastro_sem_id\n"
   ]
  },
  {
   "cell_type": "markdown",
   "metadata": {},
   "source": [
    "## Abordagem 2: Estatística"
   ]
  },
  {
   "cell_type": "code",
   "execution_count": null,
   "metadata": {},
   "outputs": [],
   "source": [
    "#estatistica = pd.concat((dados_mapa.loc[:, \"numero_identificacao\"], dados_mapa.loc[:, \"Media Sistolica em 24h\": \"DP Diastolica em 24h\"]), axis=1)\n",
    "#estatistica = estatistica.drop(['Media Sistolica Vespertina','Media Diastolica Vespertina','Media Sistolica Matutina',\n",
    "#                               'Media Diastolica Matutina','Media Diastolica Diurna','Media Sistolica Diurna'],axis=1)\n",
    "\n",
    "estatistica = dados_mapa.loc[:, \"AUC Sistolica em 24h\": \"AUC PP Nighttime\"]\n",
    "estatistica = pd.concat([dados_mapa.loc[:, \"numero_identificacao\"], estatistica], axis=1)\n",
    "estatistica\n",
    "\n",
    "estatistica_sem_id = estatistica.drop(['numero_identificacao'],axis=1)"
   ]
  },
  {
   "cell_type": "code",
   "execution_count": null,
   "metadata": {},
   "outputs": [],
   "source": [
    "\n",
    "estatistica_sem_id = estatistica.drop(['numero_identificacao'],axis=1)"
   ]
  },
  {
   "cell_type": "code",
   "execution_count": null,
   "metadata": {},
   "outputs": [],
   "source": [
    "estatistica_sem_id"
   ]
  },
  {
   "cell_type": "code",
   "execution_count": null,
   "metadata": {},
   "outputs": [],
   "source": [
    "#calculando a quantidade ótima de clusters (é possivel dividir os pacientes em quantos grupos)\n",
    "estatistica_sem_id = estatistica_sem_id.fillna(0)\n",
    "sum_of_squares_estatistica = calculate_wcss(estatistica_sem_id)\n",
    "numero_otimo_cluster_estatistica = optimal_number_of_clusters(sum_of_squares_estatistica)\n",
    "print (numero_otimo_cluster_estatistica)"
   ]
  },
  {
   "cell_type": "code",
   "execution_count": null,
   "metadata": {},
   "outputs": [],
   "source": [
    "#   convertendo os dados para a clusterização\n",
    "#   converte de DataFrame para Array por causa do K-Means\n",
    "X = np.array(dados_sem_id)"
   ]
  },
  {
   "cell_type": "code",
   "execution_count": null,
   "metadata": {},
   "outputs": [],
   "source": [
    "#   convertendo os dados para a clusterização\n",
    "#   converte de DataFrame para Array por causa do K-Means\n",
    "estatistica_forma = np.array(estatistica_sem_id)"
   ]
  },
  {
   "cell_type": "code",
   "execution_count": null,
   "metadata": {},
   "outputs": [],
   "source": [
    "#habilitando o kmeans com numero otimo de grupos (calculado na etapa anterior)\n",
    "kmeans = KMeans(n_clusters=numero_otimo_cluster, random_state=10).fit(X)"
   ]
  },
  {
   "cell_type": "code",
   "execution_count": null,
   "metadata": {},
   "outputs": [],
   "source": [
    "#habilitando o kmeans com numero otimo de grupos (calculado na etapa anterior)\n",
    "kmeans_estatistica = KMeans(n_clusters=numero_otimo_cluster_estatistica, random_state=10).fit(estatistica_forma)"
   ]
  },
  {
   "cell_type": "code",
   "execution_count": null,
   "metadata": {},
   "outputs": [],
   "source": [
    "# Gera os números dos grupos \n",
    "# \n",
    "grupos = kmeans.fit_predict(X)"
   ]
  },
  {
   "cell_type": "code",
   "execution_count": null,
   "metadata": {},
   "outputs": [],
   "source": [
    "# Gera os números dos grupos \n",
    "# \n",
    "grupos_estatistica = kmeans_estatistica.fit_predict(estatistica_forma)"
   ]
  },
  {
   "cell_type": "code",
   "execution_count": null,
   "metadata": {},
   "outputs": [],
   "source": [
    "#aplicando o NMF com numero de componente = numero_otimo_cluster calculado pelo K-means\n",
    "#aplicando o NMF com numero de componente = numero_otimo_cluster calculado pelo K-means\n",
    "model_estatistica = NMF(n_components=numero_otimo_cluster_estatistica,init='random',random_state=0)"
   ]
  },
  {
   "cell_type": "code",
   "execution_count": null,
   "metadata": {},
   "outputs": [],
   "source": [
    "#  Inclui o grupo de cada paciente no dataset de entrada\n",
    "mapa_grupos = dados_mapa.loc[:,:'data_exame']\n",
    "mapa_grupos['grupo'] = grupos\n",
    "mapa_grupos = pd.concat([mapa_grupos,dados_mapa.loc[:,'sist 9:00':'Picos Diastolica']],axis=1)\n",
    "mapa_grupos"
   ]
  },
  {
   "cell_type": "markdown",
   "metadata": {},
   "source": [
    "## n Grupos de pacientes separados pelo Kmeans, sendo n=número ótimo de clusters"
   ]
  },
  {
   "cell_type": "code",
   "execution_count": null,
   "metadata": {},
   "outputs": [],
   "source": [
    "#  Inclui o grupo de cada paciente no dataset de entrada\n",
    "mapa_grupos_estatistica = dados_mapa.loc[:,:'data_exame']\n",
    "mapa_grupos_estatistica['grupo'] = grupos_estatistica\n",
    "mapa_grupos_estatistica = pd.concat([mapa_grupos_estatistica,dados_mapa.loc[:,'sist 9:00':'Picos Diastolica']],axis=1)\n",
    "mapa_grupos_estatistica"
   ]
  },
  {
   "cell_type": "code",
   "execution_count": null,
   "metadata": {},
   "outputs": [],
   "source": [
    "\n",
    "#   aplicando o modelo NMF\n",
    "model_estatistica.fit(estatistica_sem_id)"
   ]
  },
  {
   "cell_type": "code",
   "execution_count": null,
   "metadata": {},
   "outputs": [],
   "source": [
    "estatistica\n",
    "#  'Grupo x' sendo x = numero_otimo_cluster\n",
    "\n",
    "#Criando H como resultado do produto escalar das matrizes\n",
    "H_estatistica = pd.DataFrame(np.round(model_estatistica.components_,2), columns=estatistica_sem_id.columns)\n",
    "\n",
    "H_estatistica.index = [f'Grupo {i + 1}' for i in range(numero_otimo_cluster_estatistica)]"
   ]
  },
  {
   "cell_type": "code",
   "execution_count": null,
   "metadata": {},
   "outputs": [],
   "source": [
    " \n",
    "\n",
    "#Gera o W com numero do paciente, para verificar a importancia que cada paciente tem em cada grupo\n",
    "#W = pd.DataFrame(np.round(model.transform(dados_sem_id),2), columns=H.index)\n",
    "#W.index = dados_mapa[\"numero_identificacao\"]\n",
    "W_estatistica = pd.DataFrame(np.round(model_estatistica.transform(estatistica_sem_id),3), columns=H_estatistica.index)\n",
    "\n",
    "#  Incluir o numero_identificacao na matriz W\n",
    "numero_id_estatistica = dados_mapa[\"numero_identificacao\"]\n",
    "W_estatistica = pd.concat([numero_id_estatistica,W_estatistica],axis=1)\n",
    "\n",
    "#exemplo o paciente 5 não tem muita influencia no Grupo 7, está presenta mais no Grupo 1\n",
    "#print(len(dados_mapa), len(dados_mapa_original))\n",
    "W_estatistica"
   ]
  },
  {
   "cell_type": "code",
   "execution_count": null,
   "metadata": {},
   "outputs": [],
   "source": [
    "\n",
    "valores_relevancia_estatistica = relevancia_comparada(W_estatistica)\n"
   ]
  },
  {
   "cell_type": "code",
   "execution_count": null,
   "metadata": {},
   "outputs": [],
   "source": [
    "valores_relevancia_estatistica"
   ]
  },
  {
   "cell_type": "code",
   "execution_count": null,
   "metadata": {},
   "outputs": [],
   "source": []
  },
  {
   "cell_type": "code",
   "execution_count": null,
   "metadata": {},
   "outputs": [],
   "source": []
  },
  {
   "cell_type": "markdown",
   "metadata": {},
   "source": [
    "##  Gera dataset separados por cada grupo contendo todos os dados "
   ]
  },
  {
   "cell_type": "code",
   "execution_count": null,
   "metadata": {},
   "outputs": [],
   "source": [
    "#mapa_grupos[mapa_grupos['grupo'] == 0]['grupo'].unique()\n",
    "grupo = []\n",
    "for linha in range(len(valores_relevancia)):\n",
    "    maximo = max(valores_relevancia.iloc[linha,1:])\n",
    "    for coluna in range(1, len(valores_relevancia.iloc[linha,1:]) + 1):\n",
    "        if valores_relevancia.iloc[linha,coluna] == maximo:\n",
    "            grupo.append(coluna)\n",
    "            break"
   ]
  },
  {
   "cell_type": "code",
   "execution_count": null,
   "metadata": {},
   "outputs": [],
   "source": [
    "valores_relevancia_estatistica"
   ]
  },
  {
   "cell_type": "code",
   "execution_count": null,
   "metadata": {},
   "outputs": [],
   "source": [
    "#mapa_grupos[mapa_grupos['grupo'] == 0]['grupo'].unique()\n",
    "grupo_estatistica = []\n",
    "for linha in range(len(valores_relevancia_estatistica)):\n",
    "    maximo = max(valores_relevancia_estatistica.iloc[linha,1:])\n",
    "    for coluna in range(1, len(valores_relevancia_estatistica.iloc[linha,1:]) + 1):\n",
    "        if valores_relevancia_estatistica.iloc[linha,coluna] == maximo:\n",
    "            grupo_estatistica.append(coluna)\n",
    "            break"
   ]
  },
  {
   "cell_type": "code",
   "execution_count": null,
   "metadata": {},
   "outputs": [],
   "source": [
    "valores_relevancia_grupo = pd.DataFrame()\n",
    "valores_relevancia_grupo['numero_identificacao'] = valores_relevancia['numero_identificacao']\n",
    "valores_relevancia_grupo['grupo'] = grupo\n",
    "valores_relevancia_grupo = pd.concat([valores_relevancia_grupo,valores_relevancia.loc[:,'Grupo 1':]],axis=1)\n",
    "valores_relevancia_grupo.to_csv(DIR_NMF / \"NMF_pacientes_por_grupo\" /  \"valores_relevancia_grupo.csv\", sep=\";\", encoding=\"latin1\",index=False)\n",
    "valores_relevancia_grupo"
   ]
  },
  {
   "cell_type": "code",
   "execution_count": null,
   "metadata": {},
   "outputs": [],
   "source": [
    "\n",
    "valores_relevancia_grupo_estatistica = pd.DataFrame()\n",
    "valores_relevancia_grupo_estatistica['numero_identificacao'] = valores_relevancia_estatistica['numero_identificacao']\n",
    "valores_relevancia_grupo_estatistica['grupo'] = grupo_estatistica\n",
    "valores_relevancia_grupo_estatistica = pd.concat([valores_relevancia_grupo_estatistica,valores_relevancia_estatistica.loc[:,'Grupo 1':]],axis=1)\n",
    "valores_relevancia_grupo_estatistica.to_csv(DIR_NMF / \"NMF_pacientes_por_grupo\" /  \"valores_relevancia_grupo_estatistica.csv\", sep=\";\", encoding=\"latin1\",index=False)\n",
    "valores_relevancia_grupo_estatistica"
   ]
  },
  {
   "cell_type": "code",
   "execution_count": null,
   "metadata": {},
   "outputs": [],
   "source": [
    "set(grupo_estatistica)"
   ]
  },
  {
   "cell_type": "code",
   "execution_count": null,
   "metadata": {
    "scrolled": true
   },
   "outputs": [],
   "source": [
    "todos_dados_grupo = pd.concat([dados_mapa.loc[:,:'data_exame'],\n",
    "                               valores_relevancia_grupo['grupo'],\n",
    "                               dados_mapa.loc[:,'sist 9:00':]],axis=1)\n",
    "todos_dados_grupo"
   ]
  },
  {
   "cell_type": "code",
   "execution_count": null,
   "metadata": {},
   "outputs": [],
   "source": [
    "estatistica\n",
    "todos_dados_grupo_estatistica = pd.concat([dados_mapa.loc[:,:'data_exame'],\n",
    "                               valores_relevancia_grupo_estatistica['grupo'],\n",
    "                               dados_mapa.loc[:,'sist 9:00':]],axis=1)\n",
    "todos_dados_grupo_estatistica"
   ]
  },
  {
   "cell_type": "code",
   "execution_count": null,
   "metadata": {},
   "outputs": [],
   "source": [
    "def gera_arquivos_por_grupo(todos_dados_grupo,abordagem):\n",
    "    grupos = list(set(todos_dados_grupo['grupo'].values))\n",
    "    \n",
    "    for grupo in grupos:\n",
    "        df_grupo = todos_dados_grupo[todos_dados_grupo['grupo'] == grupo]\n",
    "        df_grupo.to_csv(DIR_NMF / f\"NMF_approach_{abordagem}_grupo_{grupo}.csv\", \n",
    "                        sep=\";\", encoding=\"latin1\", index=True)"
   ]
  },
  {
   "cell_type": "code",
   "execution_count": null,
   "metadata": {},
   "outputs": [],
   "source": [
    "gera_arquivos_por_grupo(todos_dados_grupo,'medidas')"
   ]
  },
  {
   "cell_type": "code",
   "execution_count": null,
   "metadata": {},
   "outputs": [],
   "source": [
    "\n",
    "gera_arquivos_por_grupo(todos_dados_grupo_estatistica,'estatistica')"
   ]
  },
  {
   "cell_type": "code",
   "execution_count": null,
   "metadata": {},
   "outputs": [],
   "source": [
    "set(todos_dados_grupo_estatistica[\"grupo\"])"
   ]
  },
  {
   "cell_type": "code",
   "execution_count": null,
   "metadata": {},
   "outputs": [],
   "source": [
    "#      Plota os gráficos de cada grupo resultado do NMF\n",
    "\n",
    "#   Transpose apenas para facilitar a montagem do grafico. As colunas se tornam linhas e vice-versa\n",
    "#df = pd.read_csv(DIR_NMF / \"H.csv\", delimiter=';', index_col=0).T\n",
    "\n",
    "df = H.T\n",
    "# prepara os dados para filtrar o que é Sistólica e o que é Diastólica\n",
    "df['is_sist'] = ['sist' in i for i in df.index.values]\n",
    "df['is_diast'] = ['diast' in i for i in df.index.values]\n",
    "\n",
    "# divisão dos dados em Sistólica e Diastólica, respectivamente\n",
    "df_sist = df[df['is_sist'] == True]\n",
    "df_sist = df_sist.drop(columns=['is_sist', 'is_diast'])\n",
    "# adiciona coluna apenas com o conteúdo do horário (sem a palavra sist/diast)\n",
    "df_sist['sist_index'] = [i.replace('sist ', '') for i in df_sist.index.values]\n",
    "# grava a 1a. coluna apenas com o horário\n",
    "df_sist.set_index('sist_index', inplace=True)\n",
    "print (df_sist)\n",
    "\n",
    "df_diast = df[df['is_diast'] == True]\n",
    "df_diast = df_diast.drop(columns=['is_sist', 'is_diast'])\n",
    "df_diast['diast_index'] = [i.replace('sist ', '') for i in df_diast.index.values]\n",
    "df_diast.set_index('diast_index', inplace=True)\n",
    "\n",
    "# Plota os gráficos de cada grupo gerado pela tabela H que é a saída do NMF\n",
    "# Grava cada gráfico em formato SVG\n",
    "\n",
    "for grupo in df_sist.columns:\n",
    "    f = plt.figure(figsize=(15, 10))\n",
    "\n",
    "    # plota os pontos da sistólica em cada grupo\n",
    "    y_sist = df_sist[grupo]\n",
    "    # horários das medidas que serão os xticks\n",
    "    x_sist = df_sist.index\n",
    "\n",
    "    # Legenda da Sistólica\n",
    "    plt.plot(x_sist, y_sist, color='green', label='Sistólica Classificada do '+str(grupo))\n",
    "    \n",
    "    # plota os pontos da diastólica em cada grupo baseado no eixo X = horários e eixo Y = números da matriz \n",
    "    y_diast = df_diast[grupo]\n",
    "\n",
    "    # Legenda da Diastólica\n",
    "    plt.plot(x_sist, y_diast, color='blue', label='Diastólica Classificada do '+str(grupo))\n",
    "    plt.xticks(rotation=90, fontsize=9)\n",
    "\n",
    "\n",
    "    plt.title('RESULTADO NMF DO '+str(grupo), fontsize=20)\n",
    "    plt.xlabel('Horário das Medidas', fontsize=15)\n",
    "    plt.ylabel('ÍNDICE TABELA H', fontsize=20)\n",
    "    #plt.ylabel(grupo, fontsize=20)\n",
    "    plt.legend()\n",
    "    # Plota gráficos da tabela H em cada grupo \n",
    "    #plt.savefig(r\"C:\\Users\\marta\\projeto_pa\\NMF\\NMF_classificado_{}\".format(grupo),format=\"svg\")\n",
    "    plt.savefig(DIR_NMF / f'NMF_classificado_{grupo}.svg',format=\"svg\")\n",
    "    #plt.savefig(DIR_NMF / 'NMF_classificado_'+str(grupo)+'.svg',format=\"svg\")\n",
    "    plt.show()\n"
   ]
  },
  {
   "cell_type": "markdown",
   "metadata": {},
   "source": [
    "## Identificar as variaveis mais importantes para definir os Grupos de Pacientes (Random)"
   ]
  },
  {
   "cell_type": "code",
   "execution_count": null,
   "metadata": {},
   "outputs": [],
   "source": [
    "#importando a biblioteca\n",
    "from sklearn.ensemble import RandomForestClassifier"
   ]
  },
  {
   "cell_type": "code",
   "execution_count": null,
   "metadata": {},
   "outputs": [],
   "source": [
    "#parametizando o random\n",
    "random_forest = RandomForestClassifier(n_estimators=50)"
   ]
  },
  {
   "cell_type": "code",
   "execution_count": null,
   "metadata": {},
   "outputs": [],
   "source": [
    "#treino\n",
    "random_forest.fit(dados_sem_id,valores_relevancia_grupo['grupo'])"
   ]
  },
  {
   "cell_type": "code",
   "execution_count": null,
   "metadata": {},
   "outputs": [],
   "source": [
    "#cálculo da importância (com 3 casas decimais) de cada variável para identificar os grupos \n",
    "importances = pd.DataFrame({'feature':dados_sem_id.columns,'importance':np.round(random_forest.feature_importances_,3)})\n",
    "importances = importances.sort_values('importance',ascending=False).set_index('feature')"
   ]
  },
  {
   "cell_type": "code",
   "execution_count": null,
   "metadata": {},
   "outputs": [],
   "source": [
    "#tabela com o grau de importancia de cada variavel(da mais importante pra menos) para separação dos grupos \n",
    "\n",
    "importances.to_csv(DIRETORIO_PRINCIPAL / \"NMF\" /  \"importancia_variaveis.csv\", \n",
    "                   sep=\";\", encoding=\"latin1\", index=True)\n",
    "importances"
   ]
  },
  {
   "cell_type": "code",
   "execution_count": null,
   "metadata": {},
   "outputs": [],
   "source": [
    "estatistica\n",
    "\n",
    "#parametizando o random\n",
    "random_forest_estatistica = RandomForestClassifier(n_estimators=100)\n",
    "\n",
    "#treino\n",
    "random_forest_estatistica.fit(estatistica_sem_id,valores_relevancia_grupo_estatistica['grupo'])\n",
    "\n",
    "#cálculo da importância (com 3 casas decimais) de cada variável para identificar os grupos \n",
    "importances_estatistica = pd.DataFrame({'feature':estatistica_sem_id.columns,'importance':np.round(random_forest_estatistica.feature_importances_,3)})\n",
    "importances_estatistica = importances_estatistica.sort_values('importance',ascending=False).set_index('feature')\n",
    "\n",
    "importances_estatistica"
   ]
  },
  {
   "cell_type": "markdown",
   "metadata": {},
   "source": [
    "\n"
   ]
  }
 ],
 "metadata": {
  "kernelspec": {
   "display_name": "Python 3",
   "language": "python",
   "name": "python3"
  },
  "language_info": {
   "codemirror_mode": {
    "name": "ipython",
    "version": 3
   },
   "file_extension": ".py",
   "mimetype": "text/x-python",
   "name": "python",
   "nbconvert_exporter": "python",
   "pygments_lexer": "ipython3",
   "version": "3.6.7"
  }
 },
 "nbformat": 4,
 "nbformat_minor": 2
}
