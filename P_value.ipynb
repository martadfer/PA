{
 "cells": [
  {
   "cell_type": "code",
   "execution_count": 1,
   "metadata": {},
   "outputs": [],
   "source": [
    "import pandas as pd\n",
    "import numpy as np\n",
    "from scipy.stats import chi2_contingency, norm, normaltest\n",
    "import math\n",
    "import scipy.stats as stats\n",
    "\n",
    "from pathlib import Path\n",
    "\n",
    "#from scipy.spatial.distance import yule"
   ]
  },
  {
   "cell_type": "code",
   "execution_count": 2,
   "metadata": {},
   "outputs": [],
   "source": [
    "# Definição de diretórios e Disco de leitura dos arquivos (Desktop ou Notebook) \n",
    "config_dirs = open(\"prefixo_dados.txt\").readlines() \n",
    "DIR_PREFIXO = Path(config_dirs[0].strip())\n",
    "\n",
    "DIRETORIO_PRINCIPAL =  DIR_PREFIXO / \"Projeto_PA\" / \"Projeto_PA_validado\"\n",
    "\n",
    "DIR_BASE = DIRETORIO_PRINCIPAL / \"analise_abordagens\""
   ]
  },
  {
   "cell_type": "code",
   "execution_count": 3,
   "metadata": {},
   "outputs": [],
   "source": [
    "#caminho = DIRETORIO_PRINCIPAL / DIR_KMEANS\n",
    "#caminho\n",
    "#diretorios = {'dict':DIR_DICT,'kmeans':DIR_KMEANS, 'nmf':DIR_NMF}\n",
    "\n",
    "nome_abordagem = {'cadastro':\"_qtd_approach_cadastro\", 'doenca':\"_qtd_approach_doenca\",\n",
    "                  'medidas':\"_qtd_approach_medidas\",'medidas_importantes':\"_qtd_approach_medidas_importantes\",\n",
    "                  'medidas_masc':\"_qtd_approach_medidas_masc\",\n",
    "                  'medidas_fem':\"_qtd_approach_medidas_fem\",'estatistica':\"_qtd_approach_estatistica\",\n",
    "                 'escolho_doenca':\"_qtd_approach_escolho_doenca\", 'categorias':\"_qtd_approach_categorias\"}"
   ]
  },
  {
   "cell_type": "code",
   "execution_count": 4,
   "metadata": {},
   "outputs": [
    {
     "name": "stdout",
     "output_type": "stream",
     "text": [
      "Informe a análise kmeans\n"
     ]
    }
   ],
   "source": [
    "#DIR_DICT / f\"Dict_approach_doenca\n",
    "#_grupo_{grupo}.csv\", \n",
    "\n",
    "# Análise é uma opção do dicionário criado na célula acima\n",
    "algoritmo = input(\"Informe a análise \")\n",
    "\n",
    "#KMEANS_qtd_approach_categorias.csv\n",
    "caminho_medidas = DIR_BASE / f\"{algoritmo.upper()}{nome_abordagem['medidas']}.csv\"\n",
    "#caminho_medidas_importantes = DIR_BASE / f\"{algoritmo.upper()}{nome_abordagem['medidas_importantes']}.csv\"\n",
    "caminho_medidas_masc = DIR_BASE / f\"{algoritmo.upper()}{nome_abordagem['medidas_masc']}.csv\"\n",
    "caminho_medidas_fem = DIR_BASE / f\"{algoritmo.upper()}{nome_abordagem['medidas_fem']}.csv\"\n",
    "caminho_estatistica = DIR_BASE / f\"{algoritmo.upper()}{nome_abordagem['estatistica']}.csv\"\n",
    "caminho_doenca = DIR_BASE / f\"{algoritmo.upper( )}{nome_abordagem['doenca']}.csv\"\n",
    "caminho_cadastro = DIR_BASE / f\"{algoritmo.upper()}{nome_abordagem['cadastro']}.csv\"\n",
    "caminho_escolho_doenca = DIR_BASE / f\"{algoritmo.upper()}{nome_abordagem['escolho_doenca']}.csv\"\n",
    "caminho_categorias = DIR_BASE / f\"{algoritmo.upper()}{nome_abordagem['categorias']}.csv\"\n",
    "\n",
    "#, caminho_medidas_importantes\n",
    "\n",
    "lista_caminhos = [caminho_medidas, caminho_medidas_masc, caminho_medidas_fem, caminho_doenca, caminho_cadastro, caminho_categorias]\n",
    "\n",
    "#,'_medidas_importantes'\n",
    "\n",
    "lista_onde_salva = ['_medidas','_medidas_masc','_medidas_fem', '_doenca','_cadastro','_categorias']"
   ]
  },
  {
   "cell_type": "code",
   "execution_count": 5,
   "metadata": {},
   "outputs": [],
   "source": [
    "## Aplica a funções Teste Exato de Fisher para cálculo do p_value\n",
    "\n",
    "#  Calcula o p_value na tabela de contigência (clusters) 2x2\n",
    "\n",
    "\n",
    "#stats.fisher_exact()\n",
    "\n",
    "#df_abordagem = pd.read_csv(lista_caminhos[3], sep=\";\", encoding='latin1')\n",
    "#df_abordagem.index = df_abordagem['Cluster'].values\n",
    "#df_abordagem = df_abordagem.drop(['Cluster'], axis = 1)\n",
    "#df_doencas = df_abordagem.loc[['Sistolica Isolada','Diastolica Isolada','Dipping','Non Dipping','Extreme Dipping','Reverse Dipping','Morning Surge','Masked','Whitecoat'], :]\n",
    "#        \n",
    "##df_genero = df_abordagem.loc[['Masculino','Feminino'], :]\n",
    "##saida_genero = analisa_genero(df_genero)\n",
    "##df_genero\n",
    "#df_doencas\n",
    "\n",
    "'''Factor            w-statin  wo-statin\n",
    "AgeGroups Cancer                     \n",
    "0-5       No           108       6575\n",
    "          Yes            0        223\n",
    "11-15     No             5       3669\n",
    "          Yes            1        143\n",
    "16-20     No            28       6174\n",
    "          Yes            1        395\n",
    "21-25     No            80       8173\n",
    "          Yes            2        624\n",
    "26-30     No           110       9143\n",
    "          Yes            2        968\n",
    "30-35     No           171       9046\n",
    "          Yes            5       1225\n",
    "35-40     No           338       8883\n",
    "          Yes           21       1475'''\n",
    "cancer = ['No','Yes','No','Yes','No','Yes','No','Yes','No','Yes','No','Yes','No','Yes']\n",
    "w = [108,0,5,1,28,1,80,2,110,2,171,5,338,21]\n",
    "wo = [6575,223,3669,143,6174,395,8173,624,9143,968,9046,1225,8883,1475]"
   ]
  },
  {
   "cell_type": "code",
   "execution_count": 6,
   "metadata": {},
   "outputs": [
    {
     "data": {
      "text/html": [
       "<div>\n",
       "<style scoped>\n",
       "    .dataframe tbody tr th:only-of-type {\n",
       "        vertical-align: middle;\n",
       "    }\n",
       "\n",
       "    .dataframe tbody tr th {\n",
       "        vertical-align: top;\n",
       "    }\n",
       "\n",
       "    .dataframe thead th {\n",
       "        text-align: right;\n",
       "    }\n",
       "</style>\n",
       "<table border=\"1\" class=\"dataframe\">\n",
       "  <thead>\n",
       "    <tr style=\"text-align: right;\">\n",
       "      <th></th>\n",
       "      <th>Cancer</th>\n",
       "      <th>w-statin</th>\n",
       "      <th>wo-statin</th>\n",
       "    </tr>\n",
       "  </thead>\n",
       "  <tbody>\n",
       "    <tr>\n",
       "      <td>0</td>\n",
       "      <td>No</td>\n",
       "      <td>108</td>\n",
       "      <td>6575</td>\n",
       "    </tr>\n",
       "    <tr>\n",
       "      <td>1</td>\n",
       "      <td>Yes</td>\n",
       "      <td>0</td>\n",
       "      <td>223</td>\n",
       "    </tr>\n",
       "    <tr>\n",
       "      <td>2</td>\n",
       "      <td>No</td>\n",
       "      <td>5</td>\n",
       "      <td>3669</td>\n",
       "    </tr>\n",
       "    <tr>\n",
       "      <td>3</td>\n",
       "      <td>Yes</td>\n",
       "      <td>1</td>\n",
       "      <td>143</td>\n",
       "    </tr>\n",
       "    <tr>\n",
       "      <td>4</td>\n",
       "      <td>No</td>\n",
       "      <td>28</td>\n",
       "      <td>6174</td>\n",
       "    </tr>\n",
       "    <tr>\n",
       "      <td>5</td>\n",
       "      <td>Yes</td>\n",
       "      <td>1</td>\n",
       "      <td>395</td>\n",
       "    </tr>\n",
       "    <tr>\n",
       "      <td>6</td>\n",
       "      <td>No</td>\n",
       "      <td>80</td>\n",
       "      <td>8173</td>\n",
       "    </tr>\n",
       "    <tr>\n",
       "      <td>7</td>\n",
       "      <td>Yes</td>\n",
       "      <td>2</td>\n",
       "      <td>624</td>\n",
       "    </tr>\n",
       "    <tr>\n",
       "      <td>8</td>\n",
       "      <td>No</td>\n",
       "      <td>110</td>\n",
       "      <td>9143</td>\n",
       "    </tr>\n",
       "    <tr>\n",
       "      <td>9</td>\n",
       "      <td>Yes</td>\n",
       "      <td>2</td>\n",
       "      <td>968</td>\n",
       "    </tr>\n",
       "    <tr>\n",
       "      <td>10</td>\n",
       "      <td>No</td>\n",
       "      <td>171</td>\n",
       "      <td>9046</td>\n",
       "    </tr>\n",
       "    <tr>\n",
       "      <td>11</td>\n",
       "      <td>Yes</td>\n",
       "      <td>5</td>\n",
       "      <td>1225</td>\n",
       "    </tr>\n",
       "    <tr>\n",
       "      <td>12</td>\n",
       "      <td>No</td>\n",
       "      <td>338</td>\n",
       "      <td>8883</td>\n",
       "    </tr>\n",
       "    <tr>\n",
       "      <td>13</td>\n",
       "      <td>Yes</td>\n",
       "      <td>21</td>\n",
       "      <td>1475</td>\n",
       "    </tr>\n",
       "  </tbody>\n",
       "</table>\n",
       "</div>"
      ],
      "text/plain": [
       "   Cancer  w-statin  wo-statin\n",
       "0      No       108       6575\n",
       "1     Yes         0        223\n",
       "2      No         5       3669\n",
       "3     Yes         1        143\n",
       "4      No        28       6174\n",
       "5     Yes         1        395\n",
       "6      No        80       8173\n",
       "7     Yes         2        624\n",
       "8      No       110       9143\n",
       "9     Yes         2        968\n",
       "10     No       171       9046\n",
       "11    Yes         5       1225\n",
       "12     No       338       8883\n",
       "13    Yes        21       1475"
      ]
     },
     "execution_count": 6,
     "metadata": {},
     "output_type": "execute_result"
    }
   ],
   "source": [
    "len(cancer) == len(w) ==len(wo)\n",
    "\n",
    "df = pd.DataFrame()\n",
    "df['Cancer'] = cancer\n",
    "df['w-statin'] = w\n",
    "df['wo-statin'] = wo\n",
    "df"
   ]
  },
  {
   "cell_type": "code",
   "execution_count": 7,
   "metadata": {},
   "outputs": [
    {
     "name": "stdout",
     "output_type": "stream",
     "text": [
      "[[  840 51663]\n",
      " [   32  5053]]\n"
     ]
    },
    {
     "data": {
      "text/html": [
       "<div>\n",
       "<style scoped>\n",
       "    .dataframe tbody tr th:only-of-type {\n",
       "        vertical-align: middle;\n",
       "    }\n",
       "\n",
       "    .dataframe tbody tr th {\n",
       "        vertical-align: top;\n",
       "    }\n",
       "\n",
       "    .dataframe thead th {\n",
       "        text-align: right;\n",
       "    }\n",
       "</style>\n",
       "<table border=\"1\" class=\"dataframe\">\n",
       "  <thead>\n",
       "    <tr style=\"text-align: right;\">\n",
       "      <th></th>\n",
       "      <th>cluster 1</th>\n",
       "      <th>cluster 2</th>\n",
       "      <th>cluster 3</th>\n",
       "      <th>cluster 4</th>\n",
       "      <th>cluster 5</th>\n",
       "      <th>cluster 6</th>\n",
       "      <th>cluster 7</th>\n",
       "    </tr>\n",
       "  </thead>\n",
       "  <tbody>\n",
       "    <tr>\n",
       "      <td>Masculino</td>\n",
       "      <td>834.0</td>\n",
       "      <td>976.0</td>\n",
       "      <td>1370.0</td>\n",
       "      <td>2596.0</td>\n",
       "      <td>2000.0</td>\n",
       "      <td>620.0</td>\n",
       "      <td>364.0</td>\n",
       "    </tr>\n",
       "    <tr>\n",
       "      <td>Feminino</td>\n",
       "      <td>2160.0</td>\n",
       "      <td>1881.0</td>\n",
       "      <td>932.0</td>\n",
       "      <td>1845.0</td>\n",
       "      <td>2158.0</td>\n",
       "      <td>1130.0</td>\n",
       "      <td>376.0</td>\n",
       "    </tr>\n",
       "  </tbody>\n",
       "</table>\n",
       "</div>"
      ],
      "text/plain": [
       "           cluster 1  cluster 2  cluster 3  cluster 4  cluster 5  cluster 6  \\\n",
       "Masculino      834.0      976.0     1370.0     2596.0     2000.0      620.0   \n",
       "Feminino      2160.0     1881.0      932.0     1845.0     2158.0     1130.0   \n",
       "\n",
       "           cluster 7  \n",
       "Masculino      364.0  \n",
       "Feminino       376.0  "
      ]
     },
     "execution_count": 7,
     "metadata": {},
     "output_type": "execute_result"
    }
   ],
   "source": [
    "table = df.groupby([\"Cancer\"]).sum().values\n",
    "print(table)\n",
    "\n",
    "df.groupby([\"Cancer\"]).sum()\n",
    "\n",
    "df_abordagem = pd.read_csv(lista_caminhos[0], sep=\";\", encoding='latin1')\n",
    "df_abordagem.index = df_abordagem['Cluster'].values\n",
    "df_abordagem = df_abordagem.drop(['Cluster'], axis = 1)\n",
    "df_genero = df_abordagem.loc[['Masculino','Feminino'], :]\n",
    "df_genero"
   ]
  },
  {
   "cell_type": "code",
   "execution_count": 8,
   "metadata": {},
   "outputs": [
    {
     "data": {
      "text/plain": [
       "(2.5674322048661518, 2.7241893835122457e-09)"
      ]
     },
     "execution_count": 8,
     "metadata": {},
     "output_type": "execute_result"
    }
   ],
   "source": [
    "oddsratio, pvalue = stats.fisher_exact(table)\n",
    "oddsratio, pvalue"
   ]
  },
  {
   "cell_type": "code",
   "execution_count": 9,
   "metadata": {},
   "outputs": [
    {
     "data": {
      "text/html": [
       "<div>\n",
       "<style scoped>\n",
       "    .dataframe tbody tr th:only-of-type {\n",
       "        vertical-align: middle;\n",
       "    }\n",
       "\n",
       "    .dataframe tbody tr th {\n",
       "        vertical-align: top;\n",
       "    }\n",
       "\n",
       "    .dataframe thead th {\n",
       "        text-align: right;\n",
       "    }\n",
       "</style>\n",
       "<table border=\"1\" class=\"dataframe\">\n",
       "  <thead>\n",
       "    <tr style=\"text-align: right;\">\n",
       "      <th></th>\n",
       "      <th>Cluster 1</th>\n",
       "      <th>OR</th>\n",
       "      <th>p</th>\n",
       "    </tr>\n",
       "  </thead>\n",
       "  <tbody>\n",
       "    <tr>\n",
       "      <td>0</td>\n",
       "      <td>cluster 2</td>\n",
       "      <td>1.34</td>\n",
       "      <td>0.0</td>\n",
       "    </tr>\n",
       "    <tr>\n",
       "      <td>1</td>\n",
       "      <td>cluster 3</td>\n",
       "      <td>3.81</td>\n",
       "      <td>0.0</td>\n",
       "    </tr>\n",
       "    <tr>\n",
       "      <td>2</td>\n",
       "      <td>cluster 4</td>\n",
       "      <td>3.64</td>\n",
       "      <td>0.0</td>\n",
       "    </tr>\n",
       "    <tr>\n",
       "      <td>3</td>\n",
       "      <td>cluster 5</td>\n",
       "      <td>2.40</td>\n",
       "      <td>0.0</td>\n",
       "    </tr>\n",
       "    <tr>\n",
       "      <td>4</td>\n",
       "      <td>cluster 6</td>\n",
       "      <td>1.42</td>\n",
       "      <td>0.0</td>\n",
       "    </tr>\n",
       "    <tr>\n",
       "      <td>5</td>\n",
       "      <td>cluster 7</td>\n",
       "      <td>2.51</td>\n",
       "      <td>0.0</td>\n",
       "    </tr>\n",
       "  </tbody>\n",
       "</table>\n",
       "</div>"
      ],
      "text/plain": [
       "   Cluster 1    OR    p\n",
       "0  cluster 2  1.34  0.0\n",
       "1  cluster 3  3.81  0.0\n",
       "2  cluster 4  3.64  0.0\n",
       "3  cluster 5  2.40  0.0\n",
       "4  cluster 6  1.42  0.0\n",
       "5  cluster 7  2.51  0.0"
      ]
     },
     "execution_count": 9,
     "metadata": {},
     "output_type": "execute_result"
    }
   ],
   "source": [
    "df_genero_or= pd.DataFrame()\n",
    "or_ls = []\n",
    "p_ls = []\n",
    "cluster_ls = []\n",
    "for i in range(1,df_genero.shape[1]):\n",
    "    for j in  range(df_genero.shape[0] - 1):\n",
    "        OR, p = stats.fisher_exact(df_genero.iloc[[-1,j],[0,i]])\n",
    "        or_ls.append(round(OR,2))\n",
    "        p_ls.append(round(p,2))\n",
    "        cluster_ls.append(f'cluster {i+1}')\n",
    "df_genero_or['Cluster 1'] = cluster_ls\n",
    "df_genero_or['OR'] = or_ls\n",
    "df_genero_or['p'] = p_ls\n",
    "df_genero_or\n"
   ]
  },
  {
   "cell_type": "code",
   "execution_count": 10,
   "metadata": {},
   "outputs": [
    {
     "data": {
      "text/html": [
       "<div>\n",
       "<style scoped>\n",
       "    .dataframe tbody tr th:only-of-type {\n",
       "        vertical-align: middle;\n",
       "    }\n",
       "\n",
       "    .dataframe tbody tr th {\n",
       "        vertical-align: top;\n",
       "    }\n",
       "\n",
       "    .dataframe thead th {\n",
       "        text-align: right;\n",
       "    }\n",
       "</style>\n",
       "<table border=\"1\" class=\"dataframe\">\n",
       "  <thead>\n",
       "    <tr style=\"text-align: right;\">\n",
       "      <th></th>\n",
       "      <th>cluster 1</th>\n",
       "      <th>cluster 2</th>\n",
       "      <th>cluster 3</th>\n",
       "      <th>cluster 4</th>\n",
       "      <th>cluster 5</th>\n",
       "      <th>cluster 6</th>\n",
       "      <th>cluster 7</th>\n",
       "    </tr>\n",
       "  </thead>\n",
       "  <tbody>\n",
       "    <tr>\n",
       "      <td>1</td>\n",
       "      <td>1130.0</td>\n",
       "      <td>623.0</td>\n",
       "      <td>1125.0</td>\n",
       "      <td>2249.0</td>\n",
       "      <td>2053.0</td>\n",
       "      <td>221.0</td>\n",
       "      <td>200.0</td>\n",
       "    </tr>\n",
       "    <tr>\n",
       "      <td>2</td>\n",
       "      <td>884.0</td>\n",
       "      <td>728.0</td>\n",
       "      <td>794.0</td>\n",
       "      <td>1501.0</td>\n",
       "      <td>1429.0</td>\n",
       "      <td>413.0</td>\n",
       "      <td>239.0</td>\n",
       "    </tr>\n",
       "    <tr>\n",
       "      <td>3</td>\n",
       "      <td>980.0</td>\n",
       "      <td>1506.0</td>\n",
       "      <td>383.0</td>\n",
       "      <td>691.0</td>\n",
       "      <td>676.0</td>\n",
       "      <td>1116.0</td>\n",
       "      <td>301.0</td>\n",
       "    </tr>\n",
       "  </tbody>\n",
       "</table>\n",
       "</div>"
      ],
      "text/plain": [
       "   cluster 1  cluster 2  cluster 3  cluster 4  cluster 5  cluster 6  cluster 7\n",
       "1     1130.0      623.0     1125.0     2249.0     2053.0      221.0      200.0\n",
       "2      884.0      728.0      794.0     1501.0     1429.0      413.0      239.0\n",
       "3      980.0     1506.0      383.0      691.0      676.0     1116.0      301.0"
      ]
     },
     "execution_count": 10,
     "metadata": {},
     "output_type": "execute_result"
    }
   ],
   "source": [
    "df_abordagem\n",
    "df_analise = pd.DataFrame()\n",
    "df_genero = df_abordagem.loc[['Masculino','Feminino'], :]\n",
    "df_genero.index = range(2)\n",
    "df_idade = df_abordagem.loc[['Adultos','Meia-idade','Idoso'],:]\n",
    "#df_idade = df_abordagem.loc[['Jovens','Adultos','Meia-idade','Idoso','Ancião','Velhice extrema'],:]\n",
    "df_idade.index = range(1,4)\n",
    "df_imc = df_abordagem.loc[['Peso Normal','Sobrepeso','Obesidade'],:]\n",
    "#df_imc = df_abordagem.loc[['Abaixo do peso','Peso Normal','Sobrepeso','Obesidade grau 1','Obesidade grau 2','Obesidade Grau 3'],:]\n",
    "df_imc.index = range(1,4)\n",
    "\n",
    "ls_coluna = []\n",
    "ls_or = []\n",
    "ls_p = []\n",
    "for cluster in range(1, len(df_abordagem.columns)):\n",
    "    ls_coluna.append(f'cluster {cluster+1}')\n",
    "    ls_or.append('')\n",
    "    ls_p.append('')\n",
    "    \n",
    "    #genero\n",
    "    for genero in range(len(df_genero) - 1):\n",
    "        OR, p = stats.fisher_exact(df_genero.iloc[[-1,genero],[0,cluster]])\n",
    "        ls_or.append(round(OR,2))\n",
    "        ls_p.append(round(p,4))\n",
    "        ls_coluna.append(f'[genero = {genero}]')\n",
    "    \n",
    "    #idade\n",
    "    for idade in range(len(df_idade) - 1):\n",
    "        OR, p = stats.fisher_exact(df_idade.iloc[[-1,idade],[0,cluster]])\n",
    "        ls_or.append(round(OR,2))\n",
    "        ls_p.append(round(p,4))\n",
    "        ls_coluna.append(f'[idade = {idade+1}]')\n",
    "    \n",
    "    #imc\n",
    "    for imc in range(len(df_imc) - 1):\n",
    "        OR, p = stats.fisher_exact(df_imc.iloc[[-1,imc],[0,cluster]])\n",
    "        ls_or.append(round(OR,2))\n",
    "        ls_p.append(round(p,4))\n",
    "        ls_coluna.append(f'[IMC = {imc + 1}]')\n",
    "\n",
    "df_analise['Cluster 1'] = ls_coluna\n",
    "df_analise['OR'] = ls_or\n",
    "df_analise['p'] = ls_p\n",
    "df_analise.to_excel ( DIR_BASE / f\"oddsratio_{'medidas'}.xlsx\", index = False)\n",
    "\n",
    "df_idade"
   ]
  },
  {
   "cell_type": "code",
   "execution_count": 11,
   "metadata": {},
   "outputs": [
    {
     "data": {
      "text/plain": [
       "(2.507270779121384, 2.0451242070231663e-27)"
      ]
     },
     "execution_count": 11,
     "metadata": {},
     "output_type": "execute_result"
    }
   ],
   "source": [
    "stats.fisher_exact(df_genero.iloc[[-1,0],[0,6]])"
   ]
  },
  {
   "cell_type": "code",
   "execution_count": 12,
   "metadata": {},
   "outputs": [
    {
     "data": {
      "text/html": [
       "<div>\n",
       "<style scoped>\n",
       "    .dataframe tbody tr th:only-of-type {\n",
       "        vertical-align: middle;\n",
       "    }\n",
       "\n",
       "    .dataframe tbody tr th {\n",
       "        vertical-align: top;\n",
       "    }\n",
       "\n",
       "    .dataframe thead th {\n",
       "        text-align: right;\n",
       "    }\n",
       "</style>\n",
       "<table border=\"1\" class=\"dataframe\">\n",
       "  <thead>\n",
       "    <tr style=\"text-align: right;\">\n",
       "      <th></th>\n",
       "      <th>cluster 1</th>\n",
       "      <th>cluster 2</th>\n",
       "      <th>cluster 3</th>\n",
       "      <th>cluster 4</th>\n",
       "      <th>cluster 5</th>\n",
       "      <th>cluster 6</th>\n",
       "      <th>cluster 7</th>\n",
       "    </tr>\n",
       "  </thead>\n",
       "  <tbody>\n",
       "    <tr>\n",
       "      <td>0</td>\n",
       "      <td>834.0</td>\n",
       "      <td>976.0</td>\n",
       "      <td>1370.0</td>\n",
       "      <td>2596.0</td>\n",
       "      <td>2000.0</td>\n",
       "      <td>620.0</td>\n",
       "      <td>364.0</td>\n",
       "    </tr>\n",
       "    <tr>\n",
       "      <td>1</td>\n",
       "      <td>2160.0</td>\n",
       "      <td>1881.0</td>\n",
       "      <td>932.0</td>\n",
       "      <td>1845.0</td>\n",
       "      <td>2158.0</td>\n",
       "      <td>1130.0</td>\n",
       "      <td>376.0</td>\n",
       "    </tr>\n",
       "  </tbody>\n",
       "</table>\n",
       "</div>"
      ],
      "text/plain": [
       "   cluster 1  cluster 2  cluster 3  cluster 4  cluster 5  cluster 6  cluster 7\n",
       "0      834.0      976.0     1370.0     2596.0     2000.0      620.0      364.0\n",
       "1     2160.0     1881.0      932.0     1845.0     2158.0     1130.0      376.0"
      ]
     },
     "execution_count": 12,
     "metadata": {},
     "output_type": "execute_result"
    }
   ],
   "source": [
    "df_genero"
   ]
  },
  {
   "cell_type": "code",
   "execution_count": 13,
   "metadata": {},
   "outputs": [
    {
     "data": {
      "text/html": [
       "<div>\n",
       "<style scoped>\n",
       "    .dataframe tbody tr th:only-of-type {\n",
       "        vertical-align: middle;\n",
       "    }\n",
       "\n",
       "    .dataframe tbody tr th {\n",
       "        vertical-align: top;\n",
       "    }\n",
       "\n",
       "    .dataframe thead th {\n",
       "        text-align: right;\n",
       "    }\n",
       "</style>\n",
       "<table border=\"1\" class=\"dataframe\">\n",
       "  <thead>\n",
       "    <tr style=\"text-align: right;\">\n",
       "      <th></th>\n",
       "      <th>cluster 1</th>\n",
       "      <th>cluster 2</th>\n",
       "      <th>cluster 3</th>\n",
       "      <th>cluster 4</th>\n",
       "      <th>cluster 5</th>\n",
       "      <th>cluster 6</th>\n",
       "      <th>cluster 7</th>\n",
       "    </tr>\n",
       "  </thead>\n",
       "  <tbody>\n",
       "    <tr>\n",
       "      <td>1</td>\n",
       "      <td>1130.0</td>\n",
       "      <td>623.0</td>\n",
       "      <td>1125.0</td>\n",
       "      <td>2249.0</td>\n",
       "      <td>2053.0</td>\n",
       "      <td>221.0</td>\n",
       "      <td>200.0</td>\n",
       "    </tr>\n",
       "    <tr>\n",
       "      <td>2</td>\n",
       "      <td>884.0</td>\n",
       "      <td>728.0</td>\n",
       "      <td>794.0</td>\n",
       "      <td>1501.0</td>\n",
       "      <td>1429.0</td>\n",
       "      <td>413.0</td>\n",
       "      <td>239.0</td>\n",
       "    </tr>\n",
       "    <tr>\n",
       "      <td>3</td>\n",
       "      <td>980.0</td>\n",
       "      <td>1506.0</td>\n",
       "      <td>383.0</td>\n",
       "      <td>691.0</td>\n",
       "      <td>676.0</td>\n",
       "      <td>1116.0</td>\n",
       "      <td>301.0</td>\n",
       "    </tr>\n",
       "  </tbody>\n",
       "</table>\n",
       "</div>"
      ],
      "text/plain": [
       "   cluster 1  cluster 2  cluster 3  cluster 4  cluster 5  cluster 6  cluster 7\n",
       "1     1130.0      623.0     1125.0     2249.0     2053.0      221.0      200.0\n",
       "2      884.0      728.0      794.0     1501.0     1429.0      413.0      239.0\n",
       "3      980.0     1506.0      383.0      691.0      676.0     1116.0      301.0"
      ]
     },
     "execution_count": 13,
     "metadata": {},
     "output_type": "execute_result"
    }
   ],
   "source": [
    "stats.fisher_exact(df_genero.loc[[1,0],['cluster 1','cluster 2']])\n",
    "\n",
    "or_ls,p_ls \n",
    "\n",
    "df_genero.iloc[-1,0]\n",
    "\n",
    "df_idade = df_abordagem.loc[['Adultos','Meia-idade','Idoso'],:]\n",
    "#df_idade = df_abordagem.loc[['Jovens','Adultos','Meia-idade','Idoso','Ancião','Velhice extrema'],:]\n",
    "df_idade.index = range(1,4)\n",
    "df_idade"
   ]
  },
  {
   "cell_type": "code",
   "execution_count": 14,
   "metadata": {},
   "outputs": [
    {
     "data": {
      "text/plain": [
       "(0.35876552785906524, 1.7383375461454475e-58)"
      ]
     },
     "execution_count": 14,
     "metadata": {},
     "output_type": "execute_result"
    }
   ],
   "source": [
    "stats.fisher_exact(df_idade.loc[[3,1],['cluster 1', 'cluster 2']])"
   ]
  },
  {
   "cell_type": "code",
   "execution_count": 15,
   "metadata": {},
   "outputs": [
    {
     "data": {
      "text/html": [
       "<div>\n",
       "<style scoped>\n",
       "    .dataframe tbody tr th:only-of-type {\n",
       "        vertical-align: middle;\n",
       "    }\n",
       "\n",
       "    .dataframe tbody tr th {\n",
       "        vertical-align: top;\n",
       "    }\n",
       "\n",
       "    .dataframe thead th {\n",
       "        text-align: right;\n",
       "    }\n",
       "</style>\n",
       "<table border=\"1\" class=\"dataframe\">\n",
       "  <thead>\n",
       "    <tr style=\"text-align: right;\">\n",
       "      <th></th>\n",
       "      <th>cluster 1</th>\n",
       "      <th>cluster 2</th>\n",
       "      <th>cluster 3</th>\n",
       "      <th>cluster 4</th>\n",
       "      <th>cluster 5</th>\n",
       "      <th>cluster 6</th>\n",
       "      <th>cluster 7</th>\n",
       "    </tr>\n",
       "  </thead>\n",
       "  <tbody>\n",
       "    <tr>\n",
       "      <td>0</td>\n",
       "      <td>834.0</td>\n",
       "      <td>976.0</td>\n",
       "      <td>1370.0</td>\n",
       "      <td>2596.0</td>\n",
       "      <td>2000.0</td>\n",
       "      <td>620.0</td>\n",
       "      <td>364.0</td>\n",
       "    </tr>\n",
       "    <tr>\n",
       "      <td>1</td>\n",
       "      <td>2160.0</td>\n",
       "      <td>1881.0</td>\n",
       "      <td>932.0</td>\n",
       "      <td>1845.0</td>\n",
       "      <td>2158.0</td>\n",
       "      <td>1130.0</td>\n",
       "      <td>376.0</td>\n",
       "    </tr>\n",
       "  </tbody>\n",
       "</table>\n",
       "</div>"
      ],
      "text/plain": [
       "   cluster 1  cluster 2  cluster 3  cluster 4  cluster 5  cluster 6  cluster 7\n",
       "0      834.0      976.0     1370.0     2596.0     2000.0      620.0      364.0\n",
       "1     2160.0     1881.0      932.0     1845.0     2158.0     1130.0      376.0"
      ]
     },
     "execution_count": 15,
     "metadata": {},
     "output_type": "execute_result"
    }
   ],
   "source": [
    "df_genero"
   ]
  },
  {
   "cell_type": "code",
   "execution_count": 16,
   "metadata": {},
   "outputs": [
    {
     "data": {
      "text/plain": [
       "(1.3438435854187463, 1.9105200760643221e-07)"
      ]
     },
     "execution_count": 16,
     "metadata": {},
     "output_type": "execute_result"
    }
   ],
   "source": [
    "# OD 1,38  p 0\n",
    "stats.fisher_exact(df_genero.loc[[1,0],['cluster 1', 'cluster 2']])"
   ]
  },
  {
   "cell_type": "code",
   "execution_count": 17,
   "metadata": {},
   "outputs": [
    {
     "data": {
      "text/plain": [
       "0.9733333333333334"
      ]
     },
     "execution_count": 17,
     "metadata": {},
     "output_type": "execute_result"
    }
   ],
   "source": [
    "from sklearn.datasets import load_iris\n",
    "from sklearn.linear_model import LogisticRegression\n",
    "X, y = load_iris(return_X_y=True)\n",
    "clf = LogisticRegression(solver = 'newton-cg',random_state=0, multi_class ='multinomial').fit(X, y)\n",
    "clf.predict(X[:2, :])\n",
    "\n",
    "clf.predict_proba(X[:2, :])\n",
    "\n",
    "\n",
    "clf.score(X, y)\n"
   ]
  },
  {
   "cell_type": "code",
   "execution_count": 18,
   "metadata": {},
   "outputs": [],
   "source": [
    "#Index    Variable         var\tg\tci_l\tci_u\n",
    "#1        Female gender    0.154\t2.844\t2.101\t3.85\n",
    "#2        50-65 years old  0.123\t3.406\t2.674\t4.337\n",
    "#3       Elderly           0.12\t0.196\t0.1551\t0.2487\n",
    "#4       Overweight        0.122\t1.31\t1.031\t1.664\n",
    "#5       Obesity           0.128\t0.8006\t0.6234\t10.277\n",
    "\n",
    "\n",
    "covariavel = [\"Obesity\",\n",
    "        \"Overweight\",\n",
    "        \"Elderly\",\n",
    "         \"50-65 years old\",\n",
    "        \"Female gender\"\n",
    "       ]\n",
    "\n",
    "odds_ratio = [0.8006, 1.31, 0.196, 3.406, 2.844]\n",
    "lower = [0.6234,1.031, 0.1551, 2.674, 2.101]\n",
    "upper = [1.0277, 1.664,  0.2487, 4.337, 3.85]\n",
    "\n",
    "\n",
    "#Female gender\t.153\t1.032\t.764\t1.393\t0.837\tCluster 6/7\n",
    "#50-65 years old\t.134\t.497\t.382\t.647\t<0.001\tCluster 6/7\n",
    "#Elderly\t.176\t4.717\t3.3445\t6.667\t<0.001\tCluster 6/7\n",
    "#Overweight\t.101\t.942\t.773\t1.147\t0.550\tCluster 6/7\n",
    "#Obesity\t.105\t1.007\t.8203\t1.2361\t0.949\tCluster 6/7\n"
   ]
  },
  {
   "cell_type": "code",
   "execution_count": 42,
   "metadata": {
    "scrolled": true
   },
   "outputs": [],
   "source": [
    "#  Gráfico Forest plot comparando agrupamentos simplificados de Clusters, ou seja a \n",
    "#\n",
    "import matplotlib.image as mpimg\n",
    "import numpy as np\n",
    "import matplotlib.pyplot as plt\n",
    "import zepid\n",
    "from zepid.graphics import EffectMeasurePlot\n",
    "\n",
    "def forest_plot(x, y, x_min, x_max, cluster_referencia, cluster_comparado):\n",
    "    p = EffectMeasurePlot(label=y, effect_measure=x, lcl=x_min, ucl=x_max)\n",
    "    p.labels(effectmeasure='OR')\n",
    "    p.colors(pointshape=\"D\")\n",
    "    ax=p.plot(figsize=(15,8), t_adjuster=0.13, max_value=7, min_value=0 )\n",
    "    #plt.title(\"Forrest Plot\",loc=\"center\",x=-0.65, y=1.05)\n",
    "    plt.suptitle(f\"Cluster de Referência {cluster_referencia} x Cluster Comparado {cluster_comparado}\")#,x=-0.1,y=0.98)\n",
    "    #ax.set_xlabel(\"Favours Control      Favours Haloperidol       \", fontsize=10)\n",
    "    ax.spines['top'].set_visible(False)\n",
    "    ax.spines['right'].set_visible(False)\n",
    "    ax.spines['bottom'].set_visible(True)\n",
    "    ax.spines['left'].set_visible(False)\n",
    "\n",
    "    ax.vlines([1],0,10,linestyles='solid', colors='white')\n",
    "    ax.vlines([1],0,10,linestyles='dashed', colors='gray')\n",
    "\n",
    "    ax.vlines([2,3,4,5,6],0,20,linestyles='dotted', colors='lightgray')\n",
    "    ax.hlines([1,2,3,4,5],0,10,linestyles='dotted', colors='lightgray')\n",
    "    plt.grid()\n",
    "    plt.savefig(DIR_BASE / \"graficos_analise\" / \"forest_plot\" / f\"forest_{cluster_referencia}_x_{cluster_comparado}.svg\",bbox_inches='tight')\n",
    "    plt.show()\n"
   ]
  },
  {
   "cell_type": "code",
   "execution_count": 43,
   "metadata": {},
   "outputs": [
    {
     "data": {
      "image/png": "[encoded data removed]",
      "text/plain": [
       "<Figure size 1080x576 with 2 Axes>"
      ]
     },
     "metadata": {
      "needs_background": "light"
     },
     "output_type": "display_data"
    }
   ],
   "source": [
    "#  Comparando o conjunto de C1-C3 com o conjunto C4-C5\n",
    "#\n",
    "#   ????????????????????????????????? incluir o p_value\n",
    "###################################################################\n",
    "\n",
    "\n",
    "#p_value = [<0.001, <0.001, <0.001, 0.027, 0.082]\n",
    "\n",
    "odds_ratio = [0.8006, 1.31, 0.196, 3.406, 2.844]\n",
    "lower = [0.6234,1.031, 0.1551, 2.674, 2.101]\n",
    "upper = [1.0277, 1.664,  0.2487, 4.337, 3.85]\n",
    "\n",
    "forest_plot(odds_ratio, covariavel, lower, upper, \"C1-C3\", \"C4-C5\")"
   ]
  },
  {
   "cell_type": "code",
   "execution_count": 44,
   "metadata": {},
   "outputs": [
    {
     "data": {
      "image/png": "[encoded data removed]",
      "text/plain": [
       "<Figure size 1080x576 with 2 Axes>"
      ]
     },
     "metadata": {
      "needs_background": "light"
     },
     "output_type": "display_data"
    }
   ],
   "source": [
    "#  Comparando o conjunto de C1-C3 com o conjunto C6-C7\n",
    "#\n",
    "#   ????????????????????????????????? incluir o p_value\n",
    "###################################################################\n",
    "\n",
    "#p_value = [0.837, <0.001, <0.001, 0.550, 0.949 ]\n",
    "\n",
    "odds_ratio = [1.032, 0.497, 4.717, 0.942, 1.007]\n",
    "lower = [0.764, 0.382, 3.3445, 0.773, 0.8203]\n",
    "upper = [1.393, 0.647, 6.667, 1.147,1.2361]\n",
    "\n",
    "forest_plot(odds_ratio, covariavel, lower, upper, \"C1-C3\", \"C6-C7\")"
   ]
  },
  {
   "cell_type": "code",
   "execution_count": 45,
   "metadata": {},
   "outputs": [],
   "source": [
    "#covariavel = [\"Obesity\",\n",
    "#        \"Overweight\",\n",
    "#        \"Elderly\",\n",
    "#         \"50-65 years old\",\n",
    "#        \"Female gender\"\n",
    "#       ]\n",
    "#measure = [0.8006, 1.31, 0.196, 3.406, 2.844]\n",
    "#lower = [0.6234,1.031, 0.1551, 2.674, 2.101]\n",
    "#upper = [1.0277, 1.664,  0.2487, 4.337, 3.85]\n",
    "#\n",
    "#def forest_plot(x, y, x_min, x_max):\n",
    "#    xerro = [[],[]]\n",
    "#    for i in range(len(x)):\n",
    "#        xerro[0].append(x[i] - x_min[i])\n",
    "#        xerro[1].append(x_max[i] - x[i])\n",
    "#    plt.rcParams.update({'font.size':14})\n",
    "#    plt.figure(figsize=(8,5))\n",
    "#    plt.errorbar(x, y, xerr=xerro, fmt='o', ecolor='black', mfc='red', mec='black', mew=2, ms=10, capsize=5)\n",
    "#    plt.title(\"Cluster de Referência (C1, C2, C3)\", fontsize = 20)\n",
    "#    plt.xlim([0, np.ceil(max(x_max))])\n",
    "#    plt.grid()\n",
    "#    plt.show()\n",
    "#\n",
    "#    \n",
    "#\n",
    "#forest_plot(measure, covariavel, lower, upper)"
   ]
  },
  {
   "cell_type": "code",
   "execution_count": 46,
   "metadata": {},
   "outputs": [],
   "source": [
    "p = EffectMeasurePlot(label=covariavel, effect_measure=odds_ratio, lcl=lower, ucl=upper)\n",
    "plt.show()"
   ]
  },
  {
   "cell_type": "code",
   "execution_count": 47,
   "metadata": {},
   "outputs": [],
   "source": [
    "from sklearn import linear_model\n",
    "import numpy as np\n",
    "import scipy.stats as stat\n",
    "\n",
    "class MNLogisticReg(linear_model.LogisticRegression):\n",
    "    \n",
    "    def __init__(self, *args,**kwargs):#,**kwargs):\n",
    "        self.model = linear_model.LogisticRegression(*args,**kwargs)#,**args)\n",
    "        if 'fit_intercept' in kwargs.keys():           \n",
    "            self._fit_intercept = kwargs['fit_intercept']\n",
    "\n",
    "    def fit(self,X,y):\n",
    "        self.model.fit(X,y)\n",
    "        #### Get p-values for the fitted model ####\n",
    "        denom = (2.0*(1.0+np.cosh(self.model.decision_function(X))))\n",
    "        p_values = []\n",
    "        z_scores = []\n",
    "        self.columns = list(X.columns)\n",
    "\n",
    "        #if self._fit_intercept:\n",
    "        #    X = np.hstack([np.ones((X.shape[0], 1)), X])\n",
    "           \n",
    "        for i in range(denom.shape[1]):\n",
    "            d = denom[:,i]        \n",
    "            \n",
    "            #if self._fit_intercept:\n",
    "            #    self.coef = np.column_stack((self.model.intercept_, self.model.coef_))\n",
    "            #else:\n",
    "            #    self.coef = self.model.coef_\n",
    "            self.coef = self.model.coef_\n",
    "            d = np.tile(d,(X.shape[1],1)).T\n",
    "            F_ij = np.dot((X/d).T,X) ## Fisher Information Matrix\n",
    "            Cramer_Rao = np.linalg.inv(F_ij) ## Inverse Information Matrix  \n",
    "            sigma_estimates = np.sqrt(np.diagonal(Cramer_Rao))\n",
    "            z_score = (self.coef[i]/sigma_estimates) # z-score for each model coefficient\n",
    "            z_scores.append(z_score)\n",
    "            p_vals = [stat.norm.sf(abs(i))*2 for i in z_score] ### two tailed test for p-values\n",
    "            p_values.append(p_vals)\n",
    "            \n",
    "        self.z_scores = np.array(z_scores)\n",
    "        self.p_values = np.array(p_values)\n",
    "        self.sigma_estimates = sigma_estimates\n",
    "        self.F_ij = F_ij\n",
    "\n",
    "    # A function to create an output in form of pandas dataframe, with regressors and intercept in\n",
    "    # rows and coefficients in columns. Coefficients, p-values and z-scores are calculated for each\n",
    "    # pair of classes in the dependent variable\n",
    "    \n",
    "    def printstats(self):      \n",
    "        data = None\n",
    "        for i in range(self.coef.shape[0]):\n",
    "            if data is None:\n",
    "                data = np.vstack(( self.coef[i,:], self.p_values[i,:], self.z_scores[i,:])).T\n",
    "            else:\n",
    "                d0 = np.vstack(( self.coef[i,:], self.p_values[i,:], self.z_scores[i,:])).T\n",
    "                data = np.hstack((data,d0))\n",
    "        # data is reshaped in the correct order\n",
    "        regr = []\n",
    "        for item in list(itertools.combinations(list(dep_acute.unique()), 2)):\n",
    "            regr.append('{} vs {}'.format(item[0], item[1]))\n",
    "            \n",
    "        functions = ['coef', 'P-value', 'Z-score']\n",
    "        column_names = [([i] + [j]) for i in regr for j in functions] \n",
    "        index = pd.MultiIndex.from_tuples(column_names)\n",
    "        predictors = self.columns\n",
    "        if self._fit_intercept:\n",
    "            ind = ['intercept'] + predictors\n",
    "        else:\n",
    "            ind = predictors\n",
    "        self.stats = pd.DataFrame(data, columns = index, index = ind)\n",
    "        return self.stats"
   ]
  },
  {
   "cell_type": "code",
   "execution_count": 48,
   "metadata": {},
   "outputs": [],
   "source": [
    "model = MNLogisticReg(solver = 'newton-cg',random_state=0, multi_class ='multinomial')"
   ]
  },
  {
   "cell_type": "code",
   "execution_count": 49,
   "metadata": {},
   "outputs": [],
   "source": [
    "model.fit(pd.DataFrame(X), y)"
   ]
  },
  {
   "cell_type": "code",
   "execution_count": 50,
   "metadata": {},
   "outputs": [
    {
     "data": {
      "text/plain": [
       "array([[0.73573465, 0.58936897, 0.17355628, 0.75243111],\n",
       "       [0.48826145, 0.72079804, 0.81136607, 0.47927577],\n",
       "       [0.89384454, 0.59218331, 0.04581581, 0.35145241]])"
      ]
     },
     "execution_count": 50,
     "metadata": {},
     "output_type": "execute_result"
    }
   ],
   "source": [
    "model.p_values"
   ]
  },
  {
   "cell_type": "code",
   "execution_count": 51,
   "metadata": {},
   "outputs": [
    {
     "data": {
      "text/plain": [
       "array([0, 0, 0, 0, 0, 0, 0, 0, 0, 0, 0, 0, 0, 0, 0, 0, 0, 0, 0, 0, 0, 0,\n",
       "       0, 0, 0, 0, 0, 0, 0, 0, 0, 0, 0, 0, 0, 0, 0, 0, 0, 0, 0, 0, 0, 0,\n",
       "       0, 0, 0, 0, 0, 0, 1, 1, 1, 1, 1, 1, 1, 1, 1, 1, 1, 1, 1, 1, 1, 1,\n",
       "       1, 1, 1, 1, 2, 1, 1, 1, 1, 1, 1, 2, 1, 1, 1, 1, 1, 2, 1, 1, 1, 1,\n",
       "       1, 1, 1, 1, 1, 1, 1, 1, 1, 1, 1, 1, 2, 2, 2, 2, 2, 2, 1, 2, 2, 2,\n",
       "       2, 2, 2, 2, 2, 2, 2, 2, 2, 2, 2, 2, 2, 2, 2, 2, 2, 2, 2, 2, 2, 2,\n",
       "       2, 2, 2, 2, 2, 2, 2, 2, 2, 2, 2, 2, 2, 2, 2, 2, 2, 2])"
      ]
     },
     "execution_count": 51,
     "metadata": {},
     "output_type": "execute_result"
    }
   ],
   "source": [
    "clf.predict(X[:, :])"
   ]
  },
  {
   "cell_type": "code",
   "execution_count": 52,
   "metadata": {},
   "outputs": [
    {
     "data": {
      "text/plain": [
       "array([0, 0, 0, 0, 0, 0, 0, 0, 0, 0, 0, 0, 0, 0, 0, 0, 0, 0, 0, 0, 0, 0,\n",
       "       0, 0, 0, 0, 0, 0, 0, 0, 0, 0, 0, 0, 0, 0, 0, 0, 0, 0, 0, 0, 0, 0,\n",
       "       0, 0, 0, 0, 0, 0, 1, 1, 1, 1, 1, 1, 1, 1, 1, 1, 1, 1, 1, 1, 1, 1,\n",
       "       1, 1, 1, 1, 1, 1, 1, 1, 1, 1, 1, 1, 1, 1, 1, 1, 1, 1, 1, 1, 1, 1,\n",
       "       1, 1, 1, 1, 1, 1, 1, 1, 1, 1, 1, 1, 2, 2, 2, 2, 2, 2, 2, 2, 2, 2,\n",
       "       2, 2, 2, 2, 2, 2, 2, 2, 2, 2, 2, 2, 2, 2, 2, 2, 2, 2, 2, 2, 2, 2,\n",
       "       2, 2, 2, 2, 2, 2, 2, 2, 2, 2, 2, 2, 2, 2, 2, 2, 2, 2])"
      ]
     },
     "execution_count": 52,
     "metadata": {},
     "output_type": "execute_result"
    }
   ],
   "source": [
    "y"
   ]
  },
  {
   "cell_type": "code",
   "execution_count": 53,
   "metadata": {},
   "outputs": [
    {
     "data": {
      "text/plain": [
       "array([[9.81583492e-01, 1.84164930e-02, 1.44986986e-08],\n",
       "       [9.71336319e-01, 2.86636512e-02, 3.01930552e-08],\n",
       "       [9.85276828e-01, 1.47231595e-02, 1.23376791e-08],\n",
       "       [9.76066462e-01, 2.39334983e-02, 3.97043656e-08],\n",
       "       [9.85234854e-01, 1.47651339e-02, 1.20035768e-08]])"
      ]
     },
     "execution_count": 53,
     "metadata": {},
     "output_type": "execute_result"
    }
   ],
   "source": [
    "clf.predict_proba(X[:5, :])"
   ]
  },
  {
   "cell_type": "code",
   "execution_count": 54,
   "metadata": {},
   "outputs": [
    {
     "data": {
      "text/plain": [
       "array([[9.81583492e-01, 1.84164930e-02, 1.44986986e-08],\n",
       "       [9.71336319e-01, 2.86636512e-02, 3.01930552e-08]])"
      ]
     },
     "execution_count": 54,
     "metadata": {},
     "output_type": "execute_result"
    }
   ],
   "source": [
    "clf.predict_proba(X[:2, :])"
   ]
  },
  {
   "cell_type": "code",
   "execution_count": 55,
   "metadata": {},
   "outputs": [
    {
     "data": {
      "text/plain": [
       "array([[5.1, 3.5, 1.4, 0.2],\n",
       "       [4.9, 3. , 1.4, 0.2],\n",
       "       [4.7, 3.2, 1.3, 0.2],\n",
       "       [4.6, 3.1, 1.5, 0.2],\n",
       "       [5. , 3.6, 1.4, 0.2],\n",
       "       [5.4, 3.9, 1.7, 0.4],\n",
       "       [4.6, 3.4, 1.4, 0.3],\n",
       "       [5. , 3.4, 1.5, 0.2],\n",
       "       [4.4, 2.9, 1.4, 0.2],\n",
       "       [4.9, 3.1, 1.5, 0.1],\n",
       "       [5.4, 3.7, 1.5, 0.2],\n",
       "       [4.8, 3.4, 1.6, 0.2],\n",
       "       [4.8, 3. , 1.4, 0.1],\n",
       "       [4.3, 3. , 1.1, 0.1],\n",
       "       [5.8, 4. , 1.2, 0.2],\n",
       "       [5.7, 4.4, 1.5, 0.4],\n",
       "       [5.4, 3.9, 1.3, 0.4],\n",
       "       [5.1, 3.5, 1.4, 0.3],\n",
       "       [5.7, 3.8, 1.7, 0.3],\n",
       "       [5.1, 3.8, 1.5, 0.3],\n",
       "       [5.4, 3.4, 1.7, 0.2],\n",
       "       [5.1, 3.7, 1.5, 0.4],\n",
       "       [4.6, 3.6, 1. , 0.2],\n",
       "       [5.1, 3.3, 1.7, 0.5],\n",
       "       [4.8, 3.4, 1.9, 0.2],\n",
       "       [5. , 3. , 1.6, 0.2],\n",
       "       [5. , 3.4, 1.6, 0.4],\n",
       "       [5.2, 3.5, 1.5, 0.2],\n",
       "       [5.2, 3.4, 1.4, 0.2],\n",
       "       [4.7, 3.2, 1.6, 0.2],\n",
       "       [4.8, 3.1, 1.6, 0.2],\n",
       "       [5.4, 3.4, 1.5, 0.4],\n",
       "       [5.2, 4.1, 1.5, 0.1],\n",
       "       [5.5, 4.2, 1.4, 0.2],\n",
       "       [4.9, 3.1, 1.5, 0.2],\n",
       "       [5. , 3.2, 1.2, 0.2],\n",
       "       [5.5, 3.5, 1.3, 0.2],\n",
       "       [4.9, 3.6, 1.4, 0.1],\n",
       "       [4.4, 3. , 1.3, 0.2],\n",
       "       [5.1, 3.4, 1.5, 0.2],\n",
       "       [5. , 3.5, 1.3, 0.3],\n",
       "       [4.5, 2.3, 1.3, 0.3],\n",
       "       [4.4, 3.2, 1.3, 0.2],\n",
       "       [5. , 3.5, 1.6, 0.6],\n",
       "       [5.1, 3.8, 1.9, 0.4],\n",
       "       [4.8, 3. , 1.4, 0.3],\n",
       "       [5.1, 3.8, 1.6, 0.2],\n",
       "       [4.6, 3.2, 1.4, 0.2],\n",
       "       [5.3, 3.7, 1.5, 0.2],\n",
       "       [5. , 3.3, 1.4, 0.2],\n",
       "       [7. , 3.2, 4.7, 1.4],\n",
       "       [6.4, 3.2, 4.5, 1.5],\n",
       "       [6.9, 3.1, 4.9, 1.5],\n",
       "       [5.5, 2.3, 4. , 1.3],\n",
       "       [6.5, 2.8, 4.6, 1.5],\n",
       "       [5.7, 2.8, 4.5, 1.3],\n",
       "       [6.3, 3.3, 4.7, 1.6],\n",
       "       [4.9, 2.4, 3.3, 1. ],\n",
       "       [6.6, 2.9, 4.6, 1.3],\n",
       "       [5.2, 2.7, 3.9, 1.4],\n",
       "       [5. , 2. , 3.5, 1. ],\n",
       "       [5.9, 3. , 4.2, 1.5],\n",
       "       [6. , 2.2, 4. , 1. ],\n",
       "       [6.1, 2.9, 4.7, 1.4],\n",
       "       [5.6, 2.9, 3.6, 1.3],\n",
       "       [6.7, 3.1, 4.4, 1.4],\n",
       "       [5.6, 3. , 4.5, 1.5],\n",
       "       [5.8, 2.7, 4.1, 1. ],\n",
       "       [6.2, 2.2, 4.5, 1.5],\n",
       "       [5.6, 2.5, 3.9, 1.1],\n",
       "       [5.9, 3.2, 4.8, 1.8],\n",
       "       [6.1, 2.8, 4. , 1.3],\n",
       "       [6.3, 2.5, 4.9, 1.5],\n",
       "       [6.1, 2.8, 4.7, 1.2],\n",
       "       [6.4, 2.9, 4.3, 1.3],\n",
       "       [6.6, 3. , 4.4, 1.4],\n",
       "       [6.8, 2.8, 4.8, 1.4],\n",
       "       [6.7, 3. , 5. , 1.7],\n",
       "       [6. , 2.9, 4.5, 1.5],\n",
       "       [5.7, 2.6, 3.5, 1. ],\n",
       "       [5.5, 2.4, 3.8, 1.1],\n",
       "       [5.5, 2.4, 3.7, 1. ],\n",
       "       [5.8, 2.7, 3.9, 1.2],\n",
       "       [6. , 2.7, 5.1, 1.6],\n",
       "       [5.4, 3. , 4.5, 1.5],\n",
       "       [6. , 3.4, 4.5, 1.6],\n",
       "       [6.7, 3.1, 4.7, 1.5],\n",
       "       [6.3, 2.3, 4.4, 1.3],\n",
       "       [5.6, 3. , 4.1, 1.3],\n",
       "       [5.5, 2.5, 4. , 1.3],\n",
       "       [5.5, 2.6, 4.4, 1.2],\n",
       "       [6.1, 3. , 4.6, 1.4],\n",
       "       [5.8, 2.6, 4. , 1.2],\n",
       "       [5. , 2.3, 3.3, 1. ],\n",
       "       [5.6, 2.7, 4.2, 1.3],\n",
       "       [5.7, 3. , 4.2, 1.2],\n",
       "       [5.7, 2.9, 4.2, 1.3],\n",
       "       [6.2, 2.9, 4.3, 1.3],\n",
       "       [5.1, 2.5, 3. , 1.1],\n",
       "       [5.7, 2.8, 4.1, 1.3],\n",
       "       [6.3, 3.3, 6. , 2.5],\n",
       "       [5.8, 2.7, 5.1, 1.9],\n",
       "       [7.1, 3. , 5.9, 2.1],\n",
       "       [6.3, 2.9, 5.6, 1.8],\n",
       "       [6.5, 3. , 5.8, 2.2],\n",
       "       [7.6, 3. , 6.6, 2.1],\n",
       "       [4.9, 2.5, 4.5, 1.7],\n",
       "       [7.3, 2.9, 6.3, 1.8],\n",
       "       [6.7, 2.5, 5.8, 1.8],\n",
       "       [7.2, 3.6, 6.1, 2.5],\n",
       "       [6.5, 3.2, 5.1, 2. ],\n",
       "       [6.4, 2.7, 5.3, 1.9],\n",
       "       [6.8, 3. , 5.5, 2.1],\n",
       "       [5.7, 2.5, 5. , 2. ],\n",
       "       [5.8, 2.8, 5.1, 2.4],\n",
       "       [6.4, 3.2, 5.3, 2.3],\n",
       "       [6.5, 3. , 5.5, 1.8],\n",
       "       [7.7, 3.8, 6.7, 2.2],\n",
       "       [7.7, 2.6, 6.9, 2.3],\n",
       "       [6. , 2.2, 5. , 1.5],\n",
       "       [6.9, 3.2, 5.7, 2.3],\n",
       "       [5.6, 2.8, 4.9, 2. ],\n",
       "       [7.7, 2.8, 6.7, 2. ],\n",
       "       [6.3, 2.7, 4.9, 1.8],\n",
       "       [6.7, 3.3, 5.7, 2.1],\n",
       "       [7.2, 3.2, 6. , 1.8],\n",
       "       [6.2, 2.8, 4.8, 1.8],\n",
       "       [6.1, 3. , 4.9, 1.8],\n",
       "       [6.4, 2.8, 5.6, 2.1],\n",
       "       [7.2, 3. , 5.8, 1.6],\n",
       "       [7.4, 2.8, 6.1, 1.9],\n",
       "       [7.9, 3.8, 6.4, 2. ],\n",
       "       [6.4, 2.8, 5.6, 2.2],\n",
       "       [6.3, 2.8, 5.1, 1.5],\n",
       "       [6.1, 2.6, 5.6, 1.4],\n",
       "       [7.7, 3. , 6.1, 2.3],\n",
       "       [6.3, 3.4, 5.6, 2.4],\n",
       "       [6.4, 3.1, 5.5, 1.8],\n",
       "       [6. , 3. , 4.8, 1.8],\n",
       "       [6.9, 3.1, 5.4, 2.1],\n",
       "       [6.7, 3.1, 5.6, 2.4],\n",
       "       [6.9, 3.1, 5.1, 2.3],\n",
       "       [5.8, 2.7, 5.1, 1.9],\n",
       "       [6.8, 3.2, 5.9, 2.3],\n",
       "       [6.7, 3.3, 5.7, 2.5],\n",
       "       [6.7, 3. , 5.2, 2.3],\n",
       "       [6.3, 2.5, 5. , 1.9],\n",
       "       [6.5, 3. , 5.2, 2. ],\n",
       "       [6.2, 3.4, 5.4, 2.3],\n",
       "       [5.9, 3. , 5.1, 1.8]])"
      ]
     },
     "execution_count": 55,
     "metadata": {},
     "output_type": "execute_result"
    }
   ],
   "source": [
    "X"
   ]
  },
  {
   "cell_type": "code",
   "execution_count": 56,
   "metadata": {},
   "outputs": [],
   "source": [
    "#df_alternativo = df_genero.loc[['Masculino','Feminino'],['cluster 1', 'cluster 2']]\n",
    "#df_alternativo.loc['Feminino','cluster 1'] += df_alternativo.loc['Masculino','cluster 1']\n",
    "#df_alternativo.loc['Feminino','cluster 2'] += df_alternativo.loc['Masculino','cluster 2']\n",
    "#df_alternativo.index = ['Masculino','Total']\n",
    "#df_alternativo"
   ]
  },
  {
   "cell_type": "code",
   "execution_count": 57,
   "metadata": {},
   "outputs": [],
   "source": [
    "#stats.fisher_exact(df_alternativo)"
   ]
  },
  {
   "cell_type": "code",
   "execution_count": 58,
   "metadata": {},
   "outputs": [],
   "source": [
    "# A hipótese H0 é da ocorrer Diastólica Isolada no Cluter 1 E Sistólica Isolada no Cluster 2\n",
    "# A hipótese H1 é de ocorrer Diastólica Isolada no Cluster 2 E Sisólica Isolada no Cluster 1\n",
    "# Casos positivos: Ser do cluster 1 e ter a doença 1, ser do cluster 2 e ter a doença 2\n",
    "# Casos negativos: Ser do cluster 1 e ter a doença 2, ser do cluster 2 e ter a doença 1\n",
    "# Odds ratio é a probabilidade de ocorrência de casos positivos em ralação ao negativos\n",
    "# Odds ratio = 0.4\n",
    "#df\n",
    "\n",
    "#df = df_doencas.iloc[[1,0],[0,1]]\n",
    "#p_value = np.round(stats.fisher_exact(df)[1])\n",
    "#p_value\n",
    "#stats.fisher_exact(df,alternative='less')"
   ]
  },
  {
   "cell_type": "code",
   "execution_count": 59,
   "metadata": {},
   "outputs": [
    {
     "data": {
      "text/html": [
       "<div>\n",
       "<style scoped>\n",
       "    .dataframe tbody tr th:only-of-type {\n",
       "        vertical-align: middle;\n",
       "    }\n",
       "\n",
       "    .dataframe tbody tr th {\n",
       "        vertical-align: top;\n",
       "    }\n",
       "\n",
       "    .dataframe thead th {\n",
       "        text-align: right;\n",
       "    }\n",
       "</style>\n",
       "<table border=\"1\" class=\"dataframe\">\n",
       "  <thead>\n",
       "    <tr style=\"text-align: right;\">\n",
       "      <th></th>\n",
       "      <th>cluster 1</th>\n",
       "      <th>cluster 2</th>\n",
       "      <th>cluster 3</th>\n",
       "      <th>cluster 4</th>\n",
       "      <th>cluster 5</th>\n",
       "      <th>cluster 6</th>\n",
       "      <th>cluster 7</th>\n",
       "    </tr>\n",
       "  </thead>\n",
       "  <tbody>\n",
       "    <tr>\n",
       "      <td>Peso Normal</td>\n",
       "      <td>1161.0</td>\n",
       "      <td>842.0</td>\n",
       "      <td>577.0</td>\n",
       "      <td>1095.0</td>\n",
       "      <td>1182.0</td>\n",
       "      <td>521.0</td>\n",
       "      <td>211.0</td>\n",
       "    </tr>\n",
       "    <tr>\n",
       "      <td>Sobrepeso</td>\n",
       "      <td>1120.0</td>\n",
       "      <td>1245.0</td>\n",
       "      <td>1079.0</td>\n",
       "      <td>2041.0</td>\n",
       "      <td>1813.0</td>\n",
       "      <td>772.0</td>\n",
       "      <td>336.0</td>\n",
       "    </tr>\n",
       "    <tr>\n",
       "      <td>Obesidade</td>\n",
       "      <td>713.0</td>\n",
       "      <td>770.0</td>\n",
       "      <td>646.0</td>\n",
       "      <td>1305.0</td>\n",
       "      <td>1163.0</td>\n",
       "      <td>457.0</td>\n",
       "      <td>193.0</td>\n",
       "    </tr>\n",
       "  </tbody>\n",
       "</table>\n",
       "</div>"
      ],
      "text/plain": [
       "             cluster 1  cluster 2  cluster 3  cluster 4  cluster 5  cluster 6  \\\n",
       "Peso Normal     1161.0      842.0      577.0     1095.0     1182.0      521.0   \n",
       "Sobrepeso       1120.0     1245.0     1079.0     2041.0     1813.0      772.0   \n",
       "Obesidade        713.0      770.0      646.0     1305.0     1163.0      457.0   \n",
       "\n",
       "             cluster 7  \n",
       "Peso Normal      211.0  \n",
       "Sobrepeso        336.0  \n",
       "Obesidade        193.0  "
      ]
     },
     "execution_count": 59,
     "metadata": {},
     "output_type": "execute_result"
    }
   ],
   "source": [
    "df_abordagem = pd.read_csv(lista_caminhos[0], sep=\";\", encoding='latin1')\n",
    "df_abordagem.index = df_abordagem['Cluster'].values\n",
    "df_abordagem = df_abordagem.drop(['Cluster'], axis = 1)\n",
    "df_imc = df_abordagem.loc[['Peso Normal','Sobrepeso','Obesidade'], :]\n",
    "#df_imc = df_abordagem.loc[['Abaixo do peso','Peso Normal','Sobrepeso','Obesidade grau 1','Obesidade grau 2','Obesidade Grau 3'], :]\n",
    "#saida_imc = analisa_imc(df_imc)\n",
    "df_imc"
   ]
  },
  {
   "cell_type": "code",
   "execution_count": 60,
   "metadata": {},
   "outputs": [
    {
     "data": {
      "text/plain": [
       "'\\n                cluster 1    cluster 2\\nabaixo do peso         54           31\\npeso normal          1107          811\\n\\n\\n              Variável Y\\nVariável X    Sim     Não\\nSim            a-Positivo     c-Negativo\\nNão            b-Negativo     d-Positivo\\n\\nOR = (a / b) / (c / d) = (a * d) / (b * c)\\n\\n'"
      ]
     },
     "execution_count": 60,
     "metadata": {},
     "output_type": "execute_result"
    }
   ],
   "source": [
    "'''\n",
    "                cluster 1    cluster 2\n",
    "abaixo do peso         54           31\n",
    "peso normal          1107          811\n",
    "\n",
    "\n",
    "              Variável Y\n",
    "Variável X    Sim     Não\n",
    "Sim            a-Positivo     c-Negativo\n",
    "Não            b-Negativo     d-Positivo\n",
    "\n",
    "OR = (a / b) / (c / d) = (a * d) / (b * c)\n",
    "\n",
    "'''\n",
    "#a = np.sum(df_imc.loc['Abaixo do peso':'Peso Normal','cluster 1'])\n",
    "#b = np.sum(df_imc.loc['Sobrepeso':,'cluster 1'])\n",
    "#c = np.sum(df_imc.loc['Abaixo do peso':'Peso Normal','cluster 2'])\n",
    "#d = np.sum(df_imc.loc['Sobrepeso':,'cluster 2'])\n",
    "#\n",
    "#matriz = np.array([[a, c], [b, d]])\n",
    "#\n",
    "#import scipy.stats as stats\n",
    "#stats.fisher_exact([[54,31],[1107,811]],alternative='two-sided')\n",
    "#"
   ]
  },
  {
   "cell_type": "code",
   "execution_count": 61,
   "metadata": {},
   "outputs": [
    {
     "data": {
      "text/plain": [
       "\"\\nalternative='two-sided' = a probabilidade de H0 ser igual a H1\\nalternative='less' H1 ser menor que H0\\nalternative='greater' H1 ser maior que H0\\n\""
      ]
     },
     "execution_count": 61,
     "metadata": {},
     "output_type": "execute_result"
    }
   ],
   "source": [
    "#print(matriz)\n",
    "'''\n",
    "alternative='two-sided' = a probabilidade de H0 ser igual a H1\n",
    "alternative='less' H1 ser menor que H0\n",
    "alternative='greater' H1 ser maior que H0\n",
    "'''\n",
    "#stats.fisher_exact(matriz,alternative='two-sided')"
   ]
  },
  {
   "cell_type": "code",
   "execution_count": 62,
   "metadata": {},
   "outputs": [],
   "source": [
    "#\n",
    "#df_categorias = pd.read_csv(caminho_categorias, sep=\";\", encoding='latin1')\n",
    "#df_categorias.index = df_categorias['Cluster'].values\n",
    "#df_categorias = df_categorias.drop(['Cluster'], axis = 1)\n",
    "#df_categorias"
   ]
  },
  {
   "cell_type": "code",
   "execution_count": 63,
   "metadata": {},
   "outputs": [],
   "source": [
    "#df_genero = df_categorias.loc[['Masculino','Feminino'], :]\n",
    "#df_genero\n",
    "#"
   ]
  },
  {
   "cell_type": "code",
   "execution_count": 64,
   "metadata": {},
   "outputs": [],
   "source": [
    "#df_idade = df_categorias.loc[['Jovens','Adultos','Meia-idade','Idoso','Ancião','Velhice extrema'], :]\n",
    "#df_idade"
   ]
  }
 ],
 "metadata": {
  "kernelspec": {
   "display_name": "Python 3",
   "language": "python",
   "name": "python3"
  },
  "language_info": {
   "codemirror_mode": {
    "name": "ipython",
    "version": 3
   },
   "file_extension": ".py",
   "mimetype": "text/x-python",
   "name": "python",
   "nbconvert_exporter": "python",
   "pygments_lexer": "ipython3",
   "version": "3.6.7"
  }
 },
 "nbformat": 4,
 "nbformat_minor": 2
}
