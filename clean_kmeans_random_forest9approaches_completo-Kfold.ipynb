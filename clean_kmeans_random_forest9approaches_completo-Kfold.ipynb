{
 "cells": [
  {
   "cell_type": "code",
   "execution_count": 1,
   "metadata": {},
   "outputs": [],
   "source": [
    "## Catálogo das Abordagens\n",
    "#  A1: Cadastro\n",
    "#  A2: Medidas\n",
    "#      A2.1: Medidas Importantes\n",
    "#      A2.2: Select KBeast\n",
    "#  A3: Estatística\n",
    "#  A4: Doenças\n",
    "#      A4.1: Select KBest\n",
    "#  A5: Doenças sem Hipotensão e Normotenso\n",
    "#  A6: Escolho Doença\n",
    "#  A7: Categorias\n",
    "#  A8: Extratificação Sexo Masculino\n",
    "#  A9: Extratificação Sexo Feminino\n",
    "#  A10: Sistólicas\n",
    "#  A11: Diastólicas\n",
    "#  A12: Medidas Mais Importantes"
   ]
  },
  {
   "cell_type": "code",
   "execution_count": 2,
   "metadata": {},
   "outputs": [
    {
     "data": {
      "text/plain": [
       "1679670160.9265575"
      ]
     },
     "execution_count": 2,
     "metadata": {},
     "output_type": "execute_result"
    }
   ],
   "source": [
    "import time\n",
    "inicio = time.time()\n",
    "inicio"
   ]
  },
  {
   "cell_type": "code",
   "execution_count": 3,
   "metadata": {},
   "outputs": [],
   "source": [
    "#contar os itens de uma lista\n",
    "from collections import Counter\n",
    "from IPython.display import Image\n",
    "\n",
    "#visualizar graficos\n",
    "import matplotlib.pyplot as plt\n",
    "import matplotlib.cm as cm\n",
    "import math\n",
    "import numpy as np\n",
    "#bibliotecas pandas de leitura de arquivos\n",
    "import pandas as pd\n",
    "import scipy\n",
    "from pathlib import Path\n",
    "#caracter \n",
    "import re\n",
    "\n",
    "#separar treino, teste, validação\n",
    "from sklearn.model_selection import train_test_split\n",
    "# métricas de avaliação do K-Means\n",
    "from sklearn.metrics import accuracy_score, recall_score, f1_score, confusion_matrix\n",
    "# Método Silhouette\n",
    "from sklearn.metrics import silhouette_samples, silhouette_score\n",
    "#biblioteca do kmeans\n",
    "from sklearn.cluster import KMeans\n",
    "#avaliar classificacao cluster\n",
    "#from sklearn.metrics.cluster import adjusted_rand_score\n",
    "\n",
    "from sklearn import svm\n",
    "# AIX - Explanability\n",
    "import lime\n",
    "from lime import lime_tabular\n",
    "\n",
    "from sklearn.ensemble import RandomForestClassifier\n",
    "\n",
    "#from sklearn_extra.cluster import KMedoids\n",
    "\n",
    "##############################\n",
    "\n",
    "import openpyxl\n",
    "from sklearn import metrics\n",
    "from sklearn.model_selection import StratifiedKFold, cross_val_score\n",
    "from sklearn.metrics import roc_curve, precision_recall_curve\n",
    "from imblearn.over_sampling import RandomOverSampler\n",
    "import copy\n",
    "\n",
    "from mpl_toolkits.axes_grid1 import make_axes_locatable\n",
    "#import mlxtend\n",
    "from mlxtend.evaluate import confusion_matrix\n",
    "from mlxtend.plotting import plot_confusion_matrix\n",
    "#from sklearn.metrics import confusion_matrix\n",
    "from sklearn.linear_model import LogisticRegression\n",
    "import seaborn as sns\n",
    "from joblib import dump, load\n",
    "np.random.seed(8)\n",
    "pd.set_option('display.max_rows', 500)\n",
    "\n",
    "\n",
    "from sklearn import preprocessing\n",
    "import matplotlib.pyplot as plt\n",
    "plt.rc(\"font\", size=14)\n",
    "from sklearn.linear_model import LogisticRegression\n",
    "from sklearn.model_selection import train_test_split\n",
    "sns.set(style=\"white\")\n",
    "sns.set(style=\"whitegrid\", color_codes=True)\n",
    "from imblearn.over_sampling import SMOTE\n",
    "import statsmodels.api as sm\n",
    "import sklearn.metrics as metrics"
   ]
  },
  {
   "cell_type": "code",
   "execution_count": 4,
   "metadata": {},
   "outputs": [],
   "source": [
    "# Definição de diretórios e Disco de leitura dos arquivos (Desktop ou Notebook) \n",
    "config_dirs = open(\"prefixo_dados.txt\").readlines() \n",
    "DIR_PREFIXO = Path(config_dirs[0].strip())\n",
    "\n",
    "\n",
    "DIR_DATASET = DIR_PREFIXO / \"PA_clean\" / \"dataset\"\n",
    "DIR_KMEANS = DIR_PREFIXO / \"PA_clean\" / \"kfold\" / \"KMeansRandom\"\n"
   ]
  },
  {
   "cell_type": "code",
   "execution_count": 5,
   "metadata": {},
   "outputs": [],
   "source": [
    "#leitura do dataset completo com dados cadastrais, medidas e estatísticas\n",
    "\n",
    "dataset_apos_tratamento = pd.read_csv(DIR_DATASET / \"dados_tratados\" / \"pacientes_completos_tratados.csv\",sep=';', encoding=\"Latin1\")\n",
    "\n",
    "#dataset = dataset.drop (\"Unnamed: 0\", axis=1)\n",
    "#for i in dataset.columns:\n",
    "#    print(repr(i))\n",
    "#"
   ]
  },
  {
   "cell_type": "code",
   "execution_count": 6,
   "metadata": {},
   "outputs": [
    {
     "data": {
      "text/html": [
       "<div>\n",
       "<style scoped>\n",
       "    .dataframe tbody tr th:only-of-type {\n",
       "        vertical-align: middle;\n",
       "    }\n",
       "\n",
       "    .dataframe tbody tr th {\n",
       "        vertical-align: top;\n",
       "    }\n",
       "\n",
       "    .dataframe thead th {\n",
       "        text-align: right;\n",
       "    }\n",
       "</style>\n",
       "<table border=\"1\" class=\"dataframe\">\n",
       "  <thead>\n",
       "    <tr style=\"text-align: right;\">\n",
       "      <th></th>\n",
       "      <th>Hipotensao</th>\n",
       "      <th>Sistolica Isolada</th>\n",
       "      <th>Diastolica Isolada</th>\n",
       "      <th>Dipping</th>\n",
       "      <th>Non Dipping</th>\n",
       "      <th>Extreme Dipping</th>\n",
       "      <th>Reverse Dipping</th>\n",
       "      <th>Morning Surge</th>\n",
       "      <th>Masked</th>\n",
       "      <th>Whitecoat</th>\n",
       "      <th>...</th>\n",
       "      <th>Mediana Diastolica em 24h</th>\n",
       "      <th>AUC Sistolica em 24h</th>\n",
       "      <th>AUC Diastolica em 24h</th>\n",
       "      <th>AUC PP Daytime</th>\n",
       "      <th>AUC PP Nighttime</th>\n",
       "      <th>DP Sistolica em 24h</th>\n",
       "      <th>DP Diastolica em 24h</th>\n",
       "      <th>Picos Sistolica</th>\n",
       "      <th>Picos Diastolica</th>\n",
       "      <th>Diferença % Dipping</th>\n",
       "    </tr>\n",
       "  </thead>\n",
       "  <tbody>\n",
       "    <tr>\n",
       "      <th>0</th>\n",
       "      <td>1</td>\n",
       "      <td>0</td>\n",
       "      <td>0</td>\n",
       "      <td>0</td>\n",
       "      <td>0</td>\n",
       "      <td>0</td>\n",
       "      <td>1</td>\n",
       "      <td>0</td>\n",
       "      <td>0</td>\n",
       "      <td>0</td>\n",
       "      <td>...</td>\n",
       "      <td>61.0</td>\n",
       "      <td>9545.5</td>\n",
       "      <td>4902.0</td>\n",
       "      <td>3748.0</td>\n",
       "      <td>841.5</td>\n",
       "      <td>16.58</td>\n",
       "      <td>10.99</td>\n",
       "      <td>15</td>\n",
       "      <td>39</td>\n",
       "      <td>0.966</td>\n",
       "    </tr>\n",
       "    <tr>\n",
       "      <th>1</th>\n",
       "      <td>1</td>\n",
       "      <td>0</td>\n",
       "      <td>0</td>\n",
       "      <td>0</td>\n",
       "      <td>0</td>\n",
       "      <td>0</td>\n",
       "      <td>1</td>\n",
       "      <td>0</td>\n",
       "      <td>0</td>\n",
       "      <td>0</td>\n",
       "      <td>...</td>\n",
       "      <td>62.0</td>\n",
       "      <td>8586.5</td>\n",
       "      <td>5034.5</td>\n",
       "      <td>2915.0</td>\n",
       "      <td>606.0</td>\n",
       "      <td>7.38</td>\n",
       "      <td>6.89</td>\n",
       "      <td>9</td>\n",
       "      <td>23</td>\n",
       "      <td>0.969</td>\n",
       "    </tr>\n",
       "    <tr>\n",
       "      <th>2</th>\n",
       "      <td>1</td>\n",
       "      <td>0</td>\n",
       "      <td>0</td>\n",
       "      <td>0</td>\n",
       "      <td>1</td>\n",
       "      <td>0</td>\n",
       "      <td>0</td>\n",
       "      <td>0</td>\n",
       "      <td>0</td>\n",
       "      <td>1</td>\n",
       "      <td>...</td>\n",
       "      <td>80.0</td>\n",
       "      <td>10674.0</td>\n",
       "      <td>6154.0</td>\n",
       "      <td>3721.0</td>\n",
       "      <td>751.5</td>\n",
       "      <td>12.48</td>\n",
       "      <td>13.02</td>\n",
       "      <td>19</td>\n",
       "      <td>20</td>\n",
       "      <td>1.056</td>\n",
       "    </tr>\n",
       "    <tr>\n",
       "      <th>3</th>\n",
       "      <td>1</td>\n",
       "      <td>0</td>\n",
       "      <td>0</td>\n",
       "      <td>1</td>\n",
       "      <td>0</td>\n",
       "      <td>0</td>\n",
       "      <td>0</td>\n",
       "      <td>0</td>\n",
       "      <td>0</td>\n",
       "      <td>1</td>\n",
       "      <td>...</td>\n",
       "      <td>80.5</td>\n",
       "      <td>10679.5</td>\n",
       "      <td>6420.5</td>\n",
       "      <td>3642.0</td>\n",
       "      <td>602.5</td>\n",
       "      <td>16.14</td>\n",
       "      <td>10.58</td>\n",
       "      <td>23</td>\n",
       "      <td>11</td>\n",
       "      <td>1.107</td>\n",
       "    </tr>\n",
       "    <tr>\n",
       "      <th>4</th>\n",
       "      <td>1</td>\n",
       "      <td>0</td>\n",
       "      <td>0</td>\n",
       "      <td>1</td>\n",
       "      <td>0</td>\n",
       "      <td>0</td>\n",
       "      <td>0</td>\n",
       "      <td>0</td>\n",
       "      <td>0</td>\n",
       "      <td>0</td>\n",
       "      <td>...</td>\n",
       "      <td>77.0</td>\n",
       "      <td>9141.5</td>\n",
       "      <td>6118.0</td>\n",
       "      <td>2405.0</td>\n",
       "      <td>566.0</td>\n",
       "      <td>11.88</td>\n",
       "      <td>12.65</td>\n",
       "      <td>14</td>\n",
       "      <td>15</td>\n",
       "      <td>1.137</td>\n",
       "    </tr>\n",
       "  </tbody>\n",
       "</table>\n",
       "<p>5 rows × 37 columns</p>\n",
       "</div>"
      ],
      "text/plain": [
       "   Hipotensao  Sistolica Isolada  Diastolica Isolada  Dipping  Non Dipping  \\\n",
       "0           1                  0                   0        0            0   \n",
       "1           1                  0                   0        0            0   \n",
       "2           1                  0                   0        0            1   \n",
       "3           1                  0                   0        1            0   \n",
       "4           1                  0                   0        1            0   \n",
       "\n",
       "   Extreme Dipping  Reverse Dipping  Morning Surge  Masked  Whitecoat  ...  \\\n",
       "0                0                1              0       0          0  ...   \n",
       "1                0                1              0       0          0  ...   \n",
       "2                0                0              0       0          1  ...   \n",
       "3                0                0              0       0          1  ...   \n",
       "4                0                0              0       0          0  ...   \n",
       "\n",
       "   Mediana Diastolica em 24h  AUC Sistolica em 24h  AUC Diastolica em 24h  \\\n",
       "0                       61.0                9545.5                 4902.0   \n",
       "1                       62.0                8586.5                 5034.5   \n",
       "2                       80.0               10674.0                 6154.0   \n",
       "3                       80.5               10679.5                 6420.5   \n",
       "4                       77.0                9141.5                 6118.0   \n",
       "\n",
       "   AUC PP Daytime  AUC PP Nighttime  DP Sistolica em 24h  \\\n",
       "0          3748.0             841.5                16.58   \n",
       "1          2915.0             606.0                 7.38   \n",
       "2          3721.0             751.5                12.48   \n",
       "3          3642.0             602.5                16.14   \n",
       "4          2405.0             566.0                11.88   \n",
       "\n",
       "   DP Diastolica em 24h  Picos Sistolica  Picos Diastolica  \\\n",
       "0                 10.99               15                39   \n",
       "1                  6.89                9                23   \n",
       "2                 13.02               19                20   \n",
       "3                 10.58               23                11   \n",
       "4                 12.65               14                15   \n",
       "\n",
       "   Diferença % Dipping  \n",
       "0                0.966  \n",
       "1                0.969  \n",
       "2                1.056  \n",
       "3                1.107  \n",
       "4                1.137  \n",
       "\n",
       "[5 rows x 37 columns]"
      ]
     },
     "execution_count": 6,
     "metadata": {},
     "output_type": "execute_result"
    }
   ],
   "source": [
    "dataset_apos_tratamento.loc[:,'Hipotensao':].head()"
   ]
  },
  {
   "cell_type": "code",
   "execution_count": 7,
   "metadata": {},
   "outputs": [],
   "source": [
    "#!pip install scikit-learn-extra"
   ]
  },
  {
   "cell_type": "code",
   "execution_count": 8,
   "metadata": {},
   "outputs": [],
   "source": [
    "############################### FUNÇÕES ##########################################\n",
    "\n",
    "#Funções para inicializar o valor de K para entregar ao método k-means.fit\n",
    "\n",
    "# sum_of_squares_medidas = calculate_wcss(dados_medidas_sem_id)\n",
    "# num_otimo_clusters_medidas = optimal_number_of_clusters(sum_of_squares_medidas)\n",
    "\n",
    "def calculate_wcss(data):\n",
    "    \"\"\"\n",
    "    Inicialização do valor de k:\n",
    "    A partir de X que recebe o dataset recortado de cada abordagem. \n",
    "    Varia o valor inicial de k de 2 a 20 vezes e, em cada uma dessas iterações calcula \n",
    "    a soma dos quadrados das distâncias das amostras em relação ao centroide (intra-clusters).\n",
    "    Guarda esses 20 valores de distância na lista wcss que será entregue à função 'optimal_number_of_clusters'\n",
    "    \n",
    "    Parametros\n",
    "    ----------\n",
    "    data : DataFrame\n",
    "        conjunto de dados para fazer o `.fit()` do KMeans\n",
    "\n",
    "    Returns\n",
    "    -------\n",
    "    wcss : lista contendo os valores calculados das distâncias da soma de quadrados intra-cluster\n",
    "    \"\"\"\n",
    "    \n",
    "    from sklearn.cluster import KMeans\n",
    "    wcss = []\n",
    "    for n in range(2, 21):\n",
    "        #     iniciando com o mínimo de 2 clusters\n",
    "        kmeans = KMeans(n_clusters=n, random_state=42)\n",
    "        kmeans.fit(X=data)\n",
    "        wcss.append(kmeans.inertia_)\n",
    "\n",
    "    return wcss\n",
    "\n",
    "def optimal_number_of_clusters(wcss):\n",
    "    \"\"\"\n",
    "    Objetivo: Identificar qual o valor de k que tenha a maior distância \n",
    "    entre os pontos calculadas pela somas dos quadrados iterando com a lista wcss \n",
    "    calculada com a função `calculate_wcss()`\n",
    "    \n",
    "    Parametros\n",
    "    ----------\n",
    "    wcss : lista contendo os valores de soma de quadrados intra-cluster\n",
    "\n",
    "    \n",
    "    Returns\n",
    "    -------\n",
    "    int : número de clusters \n",
    "    \"\"\"\n",
    "    from math import sqrt\n",
    "    # começa com x1 = 2 porque foi designado assim. y1 é o 1o. elemento da lista wcss\n",
    "    # x2 = 20 porque foi designado assim, y2 é o último elemento da lista wcss\n",
    "    x1, y1 = 2, wcss[0]\n",
    "    x2, y2 = 20, wcss[len(wcss)-1]\n",
    "\n",
    "    distances = []\n",
    "    for i in range(len(wcss)):\n",
    "        x0 = i+2\n",
    "        y0 = wcss[i]\n",
    "\n",
    "        numerator = abs((y2-y1)*x0 - (x2-x1)*y0 + x2*y1 - y2*x1)\n",
    "        denominator = sqrt((y2 - y1)**2 + (x2 - x1)**2)\n",
    "        distances.append(numerator/denominator)\n",
    "    return distances.index(max(distances)) + 2"
   ]
  },
  {
   "cell_type": "code",
   "execution_count": 9,
   "metadata": {},
   "outputs": [
    {
     "data": {
      "text/plain": [
       "0        33.2\n",
       "1        29.4\n",
       "2        25.8\n",
       "3        24.2\n",
       "4        40.6\n",
       "         ... \n",
       "19145    27.5\n",
       "19146    26.9\n",
       "19147    33.3\n",
       "19148    25.0\n",
       "19149    30.9\n",
       "Name: IMC, Length: 19150, dtype: float64"
      ]
     },
     "execution_count": 9,
     "metadata": {},
     "output_type": "execute_result"
    }
   ],
   "source": [
    "dataset_apos_tratamento['IMC']"
   ]
  },
  {
   "cell_type": "markdown",
   "metadata": {},
   "source": [
    "##  Tratar campos para Categorias"
   ]
  },
  {
   "cell_type": "code",
   "execution_count": 10,
   "metadata": {},
   "outputs": [],
   "source": [
    "# Cálculo do Indice de Massa Corporal:\n",
    "#         IMC entre 18,0 e 24,9 Kg/m2: normal\n",
    "#         IMC menor do que 18,0 Kg/m2: baixo peso\n",
    "#         IMC entre 25,0 e 29,9 Kg/m2: sobrepeso \n",
    "#         IMC entre 30,0 e 34,9 Kg/m2: obesidade grau I \n",
    "#         IMC entre 35,0 e 39,9 Kg/m2: obesidade grau II \n",
    "#         IMC maior do que 40,0 Kg/m2: obesidade grau III  \n",
    "\n",
    "def faixas_imc(imc):\n",
    "\n",
    "    classes = [\"Peso normal\",\"Sobrepeso\", \"Obesidade\"]\n",
    "    intervalos = [(0, 25),(25, 30),(30, 1000)]\n",
    "#    classes = [\"Baixo Peso\",\"Normal\",\"Sobrepeso\",\"Obesidade grau I\",\"Obesidade grau II\",\"Obesidade Grau III\"]\n",
    "#    intervalos = [(0, 18),(18, 25),(25, 30),(30, 35),(35, 40),(40, 1000)]\n",
    "    \n",
    "    for faixa in range(len(classes)):\n",
    "        if imc < intervalos[faixa][1]:\n",
    "            return classes[faixa]\n",
    "\n",
    "def faixas_imc_13(imc):\n",
    "    classes = [\"Peso normal\", \"Obesidade\"]\n",
    "    intervalos = [(0, 30),(30, 1000)]\n",
    "\n",
    "    for faixa in range(len(classes)):\n",
    "        if imc < intervalos[faixa][1]:\n",
    "            return classes[faixa]\n",
    "        \n",
    "\n",
    "def faixas_imc_classe(imc):\n",
    "    classes = [1, 2, 3]\n",
    "    intervalos = [(0, 25),(25, 30),(30, 1000)]\n",
    "#    classes = [1, 2, 3, 4, 5, 6]\n",
    "#    intervalos = [(0, 18),(18, 25),(25, 30),(30, 35),(35, 40),(40, 1000)]\n",
    "    \n",
    "    for faixa in range(len(classes)):\n",
    "        if imc < intervalos[faixa][1]:\n",
    "            return classes[faixa]\n",
    "    \n",
    "def faixas_imc_classe_13(imc):\n",
    "    classes = [1, 2]\n",
    "    intervalos = [(0, 30),(30, 1000)]\n",
    "    \n",
    "    for faixa in range(len(classes)):\n",
    "        if imc < intervalos[faixa][1]:\n",
    "            return classes[faixa]\n",
    "    \n",
    "def faixas_etarias(idade):\n",
    "    classes = [\"Adultos\",\"Meia-idade\",\"Idoso\"]\n",
    "    intervalos = [(0, 50),(50, 65),(65, 200)]\n",
    "#    classes = [\"Jovens\",\"Adultos\",\"Meia-idade\",\"Idoso\", \"Ancião\",\"Velhice extrema\"]\n",
    "#    intervalos = [(0, 20),(20, 45),(45, 60),(60, 75),(75, 90),(90, 200)]\n",
    "    \n",
    "    for faixa in range(len(classes)):\n",
    "        if idade <= intervalos[faixa][1]:\n",
    "            return classes[faixa]\n",
    "\n",
    "        \n",
    "def faixas_etarias_13(idade):\n",
    "    classes = [\"Adultos\",\"Idoso\"]\n",
    "    intervalos = [(0, 65),(65, 200)]\n",
    " \n",
    "    for faixa in range(len(classes)):\n",
    "        if idade <= intervalos[faixa][1]:\n",
    "            return classes[faixa]\n",
    "\n",
    "        \n",
    "        \n",
    "def faixas_etarias_classe(idade):\n",
    "    classes = [1, 2, 3]\n",
    "    intervalos = [(0, 50),(50, 65),(65, 200)]    \n",
    "#    classes = [1, 2, 3, 4, 5, 6]\n",
    "#    intervalos = [(0, 20),(20, 45),(45, 60),(60, 75),(75, 90),(90, 200)]\n",
    "    \n",
    "    for faixa in range(len(classes)):\n",
    "        if idade <= intervalos[faixa][1]:\n",
    "            return classes[faixa]\n",
    "\n",
    "        \n",
    "def faixas_etarias_classe_13(idade):\n",
    "    classes = [1, 2]\n",
    "    intervalos = [(0, 65),(65, 200)]\n",
    "      \n",
    "    for faixa in range(len(classes)):\n",
    "        if idade <= intervalos[faixa][1]:\n",
    "            return classes[faixa]"
   ]
  },
  {
   "cell_type": "code",
   "execution_count": 11,
   "metadata": {},
   "outputs": [],
   "source": [
    "#dataset_apos_tratamento['idade'] = dataset_apos_tratamento['idade'].fillna(-1)\n",
    "#dataset_apos_tratamento = dataset_apos_tratamento[dataset_apos_tratamento['idade'] != -1]"
   ]
  },
  {
   "cell_type": "code",
   "execution_count": 12,
   "metadata": {},
   "outputs": [],
   "source": [
    "#dataset_apos_tratamento = dataset_apos_tratamento[dataset_apos_tratamento['altura_normalizada'] <= 2.5]\n",
    "#dataset_apos_tratamento = pd.concat([dataset_apos_tratamento.loc[:,'numero_identificacao':'altura'],\n",
    "#                                     dataset_apos_tratamento['IMC'],\n",
    "#                                    dataset_apos_tratamento.loc[:,'data_exame':'Picos Diastolica']],\n",
    "#                                    axis=1)\n",
    "#\n",
    "#print(len(dataset_apos_tratamento))\n",
    "## Dataset com IMC e tratamento de Nans com a política de normalização\n",
    "#dataset_apos_tratamento.to_csv(DIR_BASE / \"pacientes_completos_tratados.csv\", \n",
    "#                        sep=\";\", encoding=\"latin1\", index=False)\n",
    "#\n",
    "#dataset_apos_tratamento.to_csv(DIR_BASE / \"pacientes_com_tab.csv\", \n",
    "#                        sep=\"\\t\", encoding=\"latin1\", index=False)"
   ]
  },
  {
   "cell_type": "code",
   "execution_count": 13,
   "metadata": {},
   "outputs": [
    {
     "data": {
      "text/html": [
       "<div>\n",
       "<style scoped>\n",
       "    .dataframe tbody tr th:only-of-type {\n",
       "        vertical-align: middle;\n",
       "    }\n",
       "\n",
       "    .dataframe tbody tr th {\n",
       "        vertical-align: top;\n",
       "    }\n",
       "\n",
       "    .dataframe thead th {\n",
       "        text-align: right;\n",
       "    }\n",
       "</style>\n",
       "<table border=\"1\" class=\"dataframe\">\n",
       "  <thead>\n",
       "    <tr style=\"text-align: right;\">\n",
       "      <th></th>\n",
       "      <th>Hipotensao</th>\n",
       "      <th>Sistolica Isolada</th>\n",
       "      <th>Diastolica Isolada</th>\n",
       "      <th>Dipping</th>\n",
       "      <th>Non Dipping</th>\n",
       "      <th>Extreme Dipping</th>\n",
       "      <th>Reverse Dipping</th>\n",
       "      <th>Morning Surge</th>\n",
       "      <th>Masked</th>\n",
       "      <th>Whitecoat</th>\n",
       "      <th>Normotenso</th>\n",
       "    </tr>\n",
       "  </thead>\n",
       "  <tbody>\n",
       "    <tr>\n",
       "      <th>0</th>\n",
       "      <td>1</td>\n",
       "      <td>0</td>\n",
       "      <td>0</td>\n",
       "      <td>0</td>\n",
       "      <td>0</td>\n",
       "      <td>0</td>\n",
       "      <td>1</td>\n",
       "      <td>0</td>\n",
       "      <td>0</td>\n",
       "      <td>0</td>\n",
       "      <td>0</td>\n",
       "    </tr>\n",
       "    <tr>\n",
       "      <th>1</th>\n",
       "      <td>1</td>\n",
       "      <td>0</td>\n",
       "      <td>0</td>\n",
       "      <td>0</td>\n",
       "      <td>0</td>\n",
       "      <td>0</td>\n",
       "      <td>1</td>\n",
       "      <td>0</td>\n",
       "      <td>0</td>\n",
       "      <td>0</td>\n",
       "      <td>0</td>\n",
       "    </tr>\n",
       "    <tr>\n",
       "      <th>2</th>\n",
       "      <td>1</td>\n",
       "      <td>0</td>\n",
       "      <td>0</td>\n",
       "      <td>0</td>\n",
       "      <td>1</td>\n",
       "      <td>0</td>\n",
       "      <td>0</td>\n",
       "      <td>0</td>\n",
       "      <td>0</td>\n",
       "      <td>1</td>\n",
       "      <td>0</td>\n",
       "    </tr>\n",
       "    <tr>\n",
       "      <th>3</th>\n",
       "      <td>1</td>\n",
       "      <td>0</td>\n",
       "      <td>0</td>\n",
       "      <td>1</td>\n",
       "      <td>0</td>\n",
       "      <td>0</td>\n",
       "      <td>0</td>\n",
       "      <td>0</td>\n",
       "      <td>0</td>\n",
       "      <td>1</td>\n",
       "      <td>0</td>\n",
       "    </tr>\n",
       "    <tr>\n",
       "      <th>4</th>\n",
       "      <td>1</td>\n",
       "      <td>0</td>\n",
       "      <td>0</td>\n",
       "      <td>1</td>\n",
       "      <td>0</td>\n",
       "      <td>0</td>\n",
       "      <td>0</td>\n",
       "      <td>0</td>\n",
       "      <td>0</td>\n",
       "      <td>0</td>\n",
       "      <td>0</td>\n",
       "    </tr>\n",
       "    <tr>\n",
       "      <th>...</th>\n",
       "      <td>...</td>\n",
       "      <td>...</td>\n",
       "      <td>...</td>\n",
       "      <td>...</td>\n",
       "      <td>...</td>\n",
       "      <td>...</td>\n",
       "      <td>...</td>\n",
       "      <td>...</td>\n",
       "      <td>...</td>\n",
       "      <td>...</td>\n",
       "      <td>...</td>\n",
       "    </tr>\n",
       "    <tr>\n",
       "      <th>19145</th>\n",
       "      <td>1</td>\n",
       "      <td>0</td>\n",
       "      <td>0</td>\n",
       "      <td>1</td>\n",
       "      <td>0</td>\n",
       "      <td>0</td>\n",
       "      <td>0</td>\n",
       "      <td>1</td>\n",
       "      <td>0</td>\n",
       "      <td>1</td>\n",
       "      <td>0</td>\n",
       "    </tr>\n",
       "    <tr>\n",
       "      <th>19146</th>\n",
       "      <td>1</td>\n",
       "      <td>0</td>\n",
       "      <td>0</td>\n",
       "      <td>0</td>\n",
       "      <td>1</td>\n",
       "      <td>0</td>\n",
       "      <td>0</td>\n",
       "      <td>0</td>\n",
       "      <td>0</td>\n",
       "      <td>1</td>\n",
       "      <td>0</td>\n",
       "    </tr>\n",
       "    <tr>\n",
       "      <th>19147</th>\n",
       "      <td>1</td>\n",
       "      <td>0</td>\n",
       "      <td>0</td>\n",
       "      <td>0</td>\n",
       "      <td>1</td>\n",
       "      <td>0</td>\n",
       "      <td>0</td>\n",
       "      <td>0</td>\n",
       "      <td>0</td>\n",
       "      <td>1</td>\n",
       "      <td>0</td>\n",
       "    </tr>\n",
       "    <tr>\n",
       "      <th>19148</th>\n",
       "      <td>1</td>\n",
       "      <td>0</td>\n",
       "      <td>0</td>\n",
       "      <td>0</td>\n",
       "      <td>0</td>\n",
       "      <td>1</td>\n",
       "      <td>0</td>\n",
       "      <td>0</td>\n",
       "      <td>0</td>\n",
       "      <td>0</td>\n",
       "      <td>0</td>\n",
       "    </tr>\n",
       "    <tr>\n",
       "      <th>19149</th>\n",
       "      <td>1</td>\n",
       "      <td>0</td>\n",
       "      <td>0</td>\n",
       "      <td>0</td>\n",
       "      <td>0</td>\n",
       "      <td>0</td>\n",
       "      <td>1</td>\n",
       "      <td>0</td>\n",
       "      <td>0</td>\n",
       "      <td>1</td>\n",
       "      <td>0</td>\n",
       "    </tr>\n",
       "  </tbody>\n",
       "</table>\n",
       "<p>19150 rows × 11 columns</p>\n",
       "</div>"
      ],
      "text/plain": [
       "       Hipotensao  Sistolica Isolada  Diastolica Isolada  Dipping  \\\n",
       "0               1                  0                   0        0   \n",
       "1               1                  0                   0        0   \n",
       "2               1                  0                   0        0   \n",
       "3               1                  0                   0        1   \n",
       "4               1                  0                   0        1   \n",
       "...           ...                ...                 ...      ...   \n",
       "19145           1                  0                   0        1   \n",
       "19146           1                  0                   0        0   \n",
       "19147           1                  0                   0        0   \n",
       "19148           1                  0                   0        0   \n",
       "19149           1                  0                   0        0   \n",
       "\n",
       "       Non Dipping  Extreme Dipping  Reverse Dipping  Morning Surge  Masked  \\\n",
       "0                0                0                1              0       0   \n",
       "1                0                0                1              0       0   \n",
       "2                1                0                0              0       0   \n",
       "3                0                0                0              0       0   \n",
       "4                0                0                0              0       0   \n",
       "...            ...              ...              ...            ...     ...   \n",
       "19145            0                0                0              1       0   \n",
       "19146            1                0                0              0       0   \n",
       "19147            1                0                0              0       0   \n",
       "19148            0                1                0              0       0   \n",
       "19149            0                0                1              0       0   \n",
       "\n",
       "       Whitecoat  Normotenso  \n",
       "0              0           0  \n",
       "1              0           0  \n",
       "2              1           0  \n",
       "3              1           0  \n",
       "4              0           0  \n",
       "...          ...         ...  \n",
       "19145          1           0  \n",
       "19146          1           0  \n",
       "19147          1           0  \n",
       "19148          0           0  \n",
       "19149          1           0  \n",
       "\n",
       "[19150 rows x 11 columns]"
      ]
     },
     "execution_count": 13,
     "metadata": {},
     "output_type": "execute_result"
    }
   ],
   "source": [
    "dataset_apos_tratamento.loc[:,'Hipotensao':'Normotenso']"
   ]
  },
  {
   "cell_type": "code",
   "execution_count": 14,
   "metadata": {},
   "outputs": [],
   "source": [
    "def verdadeiro_falso(valor):\n",
    "    if valor == True:\n",
    "        return 1\n",
    "    else:\n",
    "        return 0"
   ]
  },
  {
   "cell_type": "code",
   "execution_count": 15,
   "metadata": {},
   "outputs": [
    {
     "data": {
      "text/html": [
       "<div>\n",
       "<style scoped>\n",
       "    .dataframe tbody tr th:only-of-type {\n",
       "        vertical-align: middle;\n",
       "    }\n",
       "\n",
       "    .dataframe tbody tr th {\n",
       "        vertical-align: top;\n",
       "    }\n",
       "\n",
       "    .dataframe thead th {\n",
       "        text-align: right;\n",
       "    }\n",
       "</style>\n",
       "<table border=\"1\" class=\"dataframe\">\n",
       "  <thead>\n",
       "    <tr style=\"text-align: right;\">\n",
       "      <th></th>\n",
       "      <th>numero_identificacao</th>\n",
       "      <th>genero</th>\n",
       "      <th>idade</th>\n",
       "      <th>IMC</th>\n",
       "      <th>sist 9:00</th>\n",
       "      <th>sist 9:15</th>\n",
       "      <th>sist 9:30</th>\n",
       "      <th>sist 9:45</th>\n",
       "      <th>sist 10:00</th>\n",
       "      <th>sist 10:15</th>\n",
       "      <th>...</th>\n",
       "      <th>Hipotensao</th>\n",
       "      <th>Sistolica Isolada</th>\n",
       "      <th>Diastolica Isolada</th>\n",
       "      <th>Dipping</th>\n",
       "      <th>Non Dipping</th>\n",
       "      <th>Extreme Dipping</th>\n",
       "      <th>Reverse Dipping</th>\n",
       "      <th>Morning Surge</th>\n",
       "      <th>Masked</th>\n",
       "      <th>Whitecoat</th>\n",
       "    </tr>\n",
       "  </thead>\n",
       "  <tbody>\n",
       "    <tr>\n",
       "      <th>0</th>\n",
       "      <td>4</td>\n",
       "      <td>1</td>\n",
       "      <td>3</td>\n",
       "      <td>3</td>\n",
       "      <td>105.0</td>\n",
       "      <td>108.0</td>\n",
       "      <td>116.0</td>\n",
       "      <td>104.0</td>\n",
       "      <td>106.0</td>\n",
       "      <td>98.0</td>\n",
       "      <td>...</td>\n",
       "      <td>1</td>\n",
       "      <td>0</td>\n",
       "      <td>0</td>\n",
       "      <td>0</td>\n",
       "      <td>0</td>\n",
       "      <td>0</td>\n",
       "      <td>1</td>\n",
       "      <td>0</td>\n",
       "      <td>0</td>\n",
       "      <td>0</td>\n",
       "    </tr>\n",
       "    <tr>\n",
       "      <th>1</th>\n",
       "      <td>5</td>\n",
       "      <td>1</td>\n",
       "      <td>3</td>\n",
       "      <td>2</td>\n",
       "      <td>103.0</td>\n",
       "      <td>114.0</td>\n",
       "      <td>82.0</td>\n",
       "      <td>104.0</td>\n",
       "      <td>98.0</td>\n",
       "      <td>106.0</td>\n",
       "      <td>...</td>\n",
       "      <td>1</td>\n",
       "      <td>0</td>\n",
       "      <td>0</td>\n",
       "      <td>0</td>\n",
       "      <td>0</td>\n",
       "      <td>0</td>\n",
       "      <td>1</td>\n",
       "      <td>0</td>\n",
       "      <td>0</td>\n",
       "      <td>0</td>\n",
       "    </tr>\n",
       "    <tr>\n",
       "      <th>2</th>\n",
       "      <td>6</td>\n",
       "      <td>1</td>\n",
       "      <td>1</td>\n",
       "      <td>2</td>\n",
       "      <td>147.0</td>\n",
       "      <td>148.0</td>\n",
       "      <td>156.0</td>\n",
       "      <td>140.0</td>\n",
       "      <td>130.0</td>\n",
       "      <td>132.0</td>\n",
       "      <td>...</td>\n",
       "      <td>1</td>\n",
       "      <td>0</td>\n",
       "      <td>0</td>\n",
       "      <td>0</td>\n",
       "      <td>1</td>\n",
       "      <td>0</td>\n",
       "      <td>0</td>\n",
       "      <td>0</td>\n",
       "      <td>0</td>\n",
       "      <td>1</td>\n",
       "    </tr>\n",
       "    <tr>\n",
       "      <th>3</th>\n",
       "      <td>7</td>\n",
       "      <td>0</td>\n",
       "      <td>1</td>\n",
       "      <td>1</td>\n",
       "      <td>140.0</td>\n",
       "      <td>139.0</td>\n",
       "      <td>142.0</td>\n",
       "      <td>137.0</td>\n",
       "      <td>135.0</td>\n",
       "      <td>177.0</td>\n",
       "      <td>...</td>\n",
       "      <td>1</td>\n",
       "      <td>0</td>\n",
       "      <td>0</td>\n",
       "      <td>1</td>\n",
       "      <td>0</td>\n",
       "      <td>0</td>\n",
       "      <td>0</td>\n",
       "      <td>0</td>\n",
       "      <td>0</td>\n",
       "      <td>1</td>\n",
       "    </tr>\n",
       "    <tr>\n",
       "      <th>4</th>\n",
       "      <td>8</td>\n",
       "      <td>1</td>\n",
       "      <td>1</td>\n",
       "      <td>3</td>\n",
       "      <td>113.0</td>\n",
       "      <td>110.0</td>\n",
       "      <td>101.0</td>\n",
       "      <td>108.0</td>\n",
       "      <td>111.0</td>\n",
       "      <td>111.0</td>\n",
       "      <td>...</td>\n",
       "      <td>1</td>\n",
       "      <td>0</td>\n",
       "      <td>0</td>\n",
       "      <td>1</td>\n",
       "      <td>0</td>\n",
       "      <td>0</td>\n",
       "      <td>0</td>\n",
       "      <td>0</td>\n",
       "      <td>0</td>\n",
       "      <td>0</td>\n",
       "    </tr>\n",
       "    <tr>\n",
       "      <th>...</th>\n",
       "      <td>...</td>\n",
       "      <td>...</td>\n",
       "      <td>...</td>\n",
       "      <td>...</td>\n",
       "      <td>...</td>\n",
       "      <td>...</td>\n",
       "      <td>...</td>\n",
       "      <td>...</td>\n",
       "      <td>...</td>\n",
       "      <td>...</td>\n",
       "      <td>...</td>\n",
       "      <td>...</td>\n",
       "      <td>...</td>\n",
       "      <td>...</td>\n",
       "      <td>...</td>\n",
       "      <td>...</td>\n",
       "      <td>...</td>\n",
       "      <td>...</td>\n",
       "      <td>...</td>\n",
       "      <td>...</td>\n",
       "      <td>...</td>\n",
       "    </tr>\n",
       "    <tr>\n",
       "      <th>19145</th>\n",
       "      <td>21786</td>\n",
       "      <td>1</td>\n",
       "      <td>1</td>\n",
       "      <td>2</td>\n",
       "      <td>163.0</td>\n",
       "      <td>198.0</td>\n",
       "      <td>172.0</td>\n",
       "      <td>148.0</td>\n",
       "      <td>161.0</td>\n",
       "      <td>156.0</td>\n",
       "      <td>...</td>\n",
       "      <td>1</td>\n",
       "      <td>0</td>\n",
       "      <td>0</td>\n",
       "      <td>1</td>\n",
       "      <td>0</td>\n",
       "      <td>0</td>\n",
       "      <td>0</td>\n",
       "      <td>1</td>\n",
       "      <td>0</td>\n",
       "      <td>1</td>\n",
       "    </tr>\n",
       "    <tr>\n",
       "      <th>19146</th>\n",
       "      <td>21787</td>\n",
       "      <td>1</td>\n",
       "      <td>1</td>\n",
       "      <td>2</td>\n",
       "      <td>114.0</td>\n",
       "      <td>120.0</td>\n",
       "      <td>164.0</td>\n",
       "      <td>116.0</td>\n",
       "      <td>119.0</td>\n",
       "      <td>126.0</td>\n",
       "      <td>...</td>\n",
       "      <td>1</td>\n",
       "      <td>0</td>\n",
       "      <td>0</td>\n",
       "      <td>0</td>\n",
       "      <td>1</td>\n",
       "      <td>0</td>\n",
       "      <td>0</td>\n",
       "      <td>0</td>\n",
       "      <td>0</td>\n",
       "      <td>1</td>\n",
       "    </tr>\n",
       "    <tr>\n",
       "      <th>19147</th>\n",
       "      <td>21788</td>\n",
       "      <td>0</td>\n",
       "      <td>1</td>\n",
       "      <td>3</td>\n",
       "      <td>107.0</td>\n",
       "      <td>110.0</td>\n",
       "      <td>103.0</td>\n",
       "      <td>105.0</td>\n",
       "      <td>108.0</td>\n",
       "      <td>111.0</td>\n",
       "      <td>...</td>\n",
       "      <td>1</td>\n",
       "      <td>0</td>\n",
       "      <td>0</td>\n",
       "      <td>0</td>\n",
       "      <td>1</td>\n",
       "      <td>0</td>\n",
       "      <td>0</td>\n",
       "      <td>0</td>\n",
       "      <td>0</td>\n",
       "      <td>1</td>\n",
       "    </tr>\n",
       "    <tr>\n",
       "      <th>19148</th>\n",
       "      <td>21792</td>\n",
       "      <td>0</td>\n",
       "      <td>3</td>\n",
       "      <td>2</td>\n",
       "      <td>94.0</td>\n",
       "      <td>107.0</td>\n",
       "      <td>112.0</td>\n",
       "      <td>124.0</td>\n",
       "      <td>120.0</td>\n",
       "      <td>94.0</td>\n",
       "      <td>...</td>\n",
       "      <td>1</td>\n",
       "      <td>0</td>\n",
       "      <td>0</td>\n",
       "      <td>0</td>\n",
       "      <td>0</td>\n",
       "      <td>1</td>\n",
       "      <td>0</td>\n",
       "      <td>0</td>\n",
       "      <td>0</td>\n",
       "      <td>0</td>\n",
       "    </tr>\n",
       "    <tr>\n",
       "      <th>19149</th>\n",
       "      <td>21793</td>\n",
       "      <td>1</td>\n",
       "      <td>1</td>\n",
       "      <td>3</td>\n",
       "      <td>111.0</td>\n",
       "      <td>104.0</td>\n",
       "      <td>103.0</td>\n",
       "      <td>101.0</td>\n",
       "      <td>97.0</td>\n",
       "      <td>110.0</td>\n",
       "      <td>...</td>\n",
       "      <td>1</td>\n",
       "      <td>0</td>\n",
       "      <td>0</td>\n",
       "      <td>0</td>\n",
       "      <td>0</td>\n",
       "      <td>0</td>\n",
       "      <td>1</td>\n",
       "      <td>0</td>\n",
       "      <td>0</td>\n",
       "      <td>1</td>\n",
       "    </tr>\n",
       "  </tbody>\n",
       "</table>\n",
       "<p>19150 rows × 178 columns</p>\n",
       "</div>"
      ],
      "text/plain": [
       "       numero_identificacao  genero  idade  IMC  sist 9:00  sist 9:15  \\\n",
       "0                         4       1      3    3      105.0      108.0   \n",
       "1                         5       1      3    2      103.0      114.0   \n",
       "2                         6       1      1    2      147.0      148.0   \n",
       "3                         7       0      1    1      140.0      139.0   \n",
       "4                         8       1      1    3      113.0      110.0   \n",
       "...                     ...     ...    ...  ...        ...        ...   \n",
       "19145                 21786       1      1    2      163.0      198.0   \n",
       "19146                 21787       1      1    2      114.0      120.0   \n",
       "19147                 21788       0      1    3      107.0      110.0   \n",
       "19148                 21792       0      3    2       94.0      107.0   \n",
       "19149                 21793       1      1    3      111.0      104.0   \n",
       "\n",
       "       sist 9:30  sist 9:45  sist 10:00  sist 10:15  ...  Hipotensao  \\\n",
       "0          116.0      104.0       106.0        98.0  ...           1   \n",
       "1           82.0      104.0        98.0       106.0  ...           1   \n",
       "2          156.0      140.0       130.0       132.0  ...           1   \n",
       "3          142.0      137.0       135.0       177.0  ...           1   \n",
       "4          101.0      108.0       111.0       111.0  ...           1   \n",
       "...          ...        ...         ...         ...  ...         ...   \n",
       "19145      172.0      148.0       161.0       156.0  ...           1   \n",
       "19146      164.0      116.0       119.0       126.0  ...           1   \n",
       "19147      103.0      105.0       108.0       111.0  ...           1   \n",
       "19148      112.0      124.0       120.0        94.0  ...           1   \n",
       "19149      103.0      101.0        97.0       110.0  ...           1   \n",
       "\n",
       "       Sistolica Isolada  Diastolica Isolada  Dipping  Non Dipping  \\\n",
       "0                      0                   0        0            0   \n",
       "1                      0                   0        0            0   \n",
       "2                      0                   0        0            1   \n",
       "3                      0                   0        1            0   \n",
       "4                      0                   0        1            0   \n",
       "...                  ...                 ...      ...          ...   \n",
       "19145                  0                   0        1            0   \n",
       "19146                  0                   0        0            1   \n",
       "19147                  0                   0        0            1   \n",
       "19148                  0                   0        0            0   \n",
       "19149                  0                   0        0            0   \n",
       "\n",
       "       Extreme Dipping  Reverse Dipping  Morning Surge  Masked  Whitecoat  \n",
       "0                    0                1              0       0          0  \n",
       "1                    0                1              0       0          0  \n",
       "2                    0                0              0       0          1  \n",
       "3                    0                0              0       0          1  \n",
       "4                    0                0              0       0          0  \n",
       "...                ...              ...            ...     ...        ...  \n",
       "19145                0                0              1       0          1  \n",
       "19146                0                0              0       0          1  \n",
       "19147                0                0              0       0          1  \n",
       "19148                1                0              0       0          0  \n",
       "19149                0                1              0       0          1  \n",
       "\n",
       "[19150 rows x 178 columns]"
      ]
     },
     "execution_count": 15,
     "metadata": {},
     "output_type": "execute_result"
    }
   ],
   "source": [
    "dataset_por_classes = pd.DataFrame()\n",
    "dataset_por_classes['numero_identificacao'] = dataset_apos_tratamento['numero_identificacao']\n",
    "dataset_por_classes['genero'] = dataset_apos_tratamento['genero']\n",
    "dataset_por_classes['idade'] = dataset_apos_tratamento['idade'].apply(faixas_etarias_classe)\n",
    "dataset_por_classes['IMC'] = dataset_apos_tratamento['IMC'].apply(faixas_imc_classe)\n",
    "dataset_por_classes = pd.concat([dataset_por_classes, dataset_apos_tratamento.loc[:,'sist 9:00':'diast 8:45']],axis=1)\n",
    "for doenca in list(dataset_apos_tratamento.loc[:,'Hipotensao':'Whitecoat'].columns):\n",
    "    dataset_por_classes[doenca] = dataset_apos_tratamento[doenca].apply(verdadeiro_falso)\n",
    "dataset_por_classes"
   ]
  },
  {
   "cell_type": "code",
   "execution_count": 16,
   "metadata": {},
   "outputs": [
    {
     "data": {
      "text/plain": [
       "<bound method Series.unique of 0        33.2\n",
       "1        29.4\n",
       "2        25.8\n",
       "3        24.2\n",
       "4        40.6\n",
       "         ... \n",
       "19145    27.5\n",
       "19146    26.9\n",
       "19147    33.3\n",
       "19148    25.0\n",
       "19149    30.9\n",
       "Name: IMC, Length: 19150, dtype: float64>"
      ]
     },
     "execution_count": 16,
     "metadata": {},
     "output_type": "execute_result"
    }
   ],
   "source": [
    "dataset_apos_tratamento['IMC'].unique"
   ]
  },
  {
   "cell_type": "code",
   "execution_count": 17,
   "metadata": {},
   "outputs": [
    {
     "data": {
      "text/plain": [
       "(True, True)"
      ]
     },
     "execution_count": 17,
     "metadata": {},
     "output_type": "execute_result"
    }
   ],
   "source": [
    "1 == True, 0 == False"
   ]
  },
  {
   "cell_type": "code",
   "execution_count": 18,
   "metadata": {},
   "outputs": [
    {
     "data": {
      "text/html": [
       "<div>\n",
       "<style scoped>\n",
       "    .dataframe tbody tr th:only-of-type {\n",
       "        vertical-align: middle;\n",
       "    }\n",
       "\n",
       "    .dataframe tbody tr th {\n",
       "        vertical-align: top;\n",
       "    }\n",
       "\n",
       "    .dataframe thead th {\n",
       "        text-align: right;\n",
       "    }\n",
       "</style>\n",
       "<table border=\"1\" class=\"dataframe\">\n",
       "  <thead>\n",
       "    <tr style=\"text-align: right;\">\n",
       "      <th></th>\n",
       "      <th>Hipotensao</th>\n",
       "      <th>Sistolica Isolada</th>\n",
       "      <th>Diastolica Isolada</th>\n",
       "      <th>Dipping</th>\n",
       "      <th>Non Dipping</th>\n",
       "      <th>Extreme Dipping</th>\n",
       "      <th>Reverse Dipping</th>\n",
       "      <th>Morning Surge</th>\n",
       "      <th>Masked</th>\n",
       "      <th>Whitecoat</th>\n",
       "      <th>Normotenso</th>\n",
       "    </tr>\n",
       "  </thead>\n",
       "  <tbody>\n",
       "    <tr>\n",
       "      <th>0</th>\n",
       "      <td>1</td>\n",
       "      <td>0</td>\n",
       "      <td>0</td>\n",
       "      <td>0</td>\n",
       "      <td>0</td>\n",
       "      <td>0</td>\n",
       "      <td>1</td>\n",
       "      <td>0</td>\n",
       "      <td>0</td>\n",
       "      <td>0</td>\n",
       "      <td>0</td>\n",
       "    </tr>\n",
       "    <tr>\n",
       "      <th>1</th>\n",
       "      <td>1</td>\n",
       "      <td>0</td>\n",
       "      <td>0</td>\n",
       "      <td>0</td>\n",
       "      <td>0</td>\n",
       "      <td>0</td>\n",
       "      <td>1</td>\n",
       "      <td>0</td>\n",
       "      <td>0</td>\n",
       "      <td>0</td>\n",
       "      <td>0</td>\n",
       "    </tr>\n",
       "    <tr>\n",
       "      <th>2</th>\n",
       "      <td>1</td>\n",
       "      <td>0</td>\n",
       "      <td>0</td>\n",
       "      <td>0</td>\n",
       "      <td>1</td>\n",
       "      <td>0</td>\n",
       "      <td>0</td>\n",
       "      <td>0</td>\n",
       "      <td>0</td>\n",
       "      <td>1</td>\n",
       "      <td>0</td>\n",
       "    </tr>\n",
       "    <tr>\n",
       "      <th>3</th>\n",
       "      <td>1</td>\n",
       "      <td>0</td>\n",
       "      <td>0</td>\n",
       "      <td>1</td>\n",
       "      <td>0</td>\n",
       "      <td>0</td>\n",
       "      <td>0</td>\n",
       "      <td>0</td>\n",
       "      <td>0</td>\n",
       "      <td>1</td>\n",
       "      <td>0</td>\n",
       "    </tr>\n",
       "    <tr>\n",
       "      <th>4</th>\n",
       "      <td>1</td>\n",
       "      <td>0</td>\n",
       "      <td>0</td>\n",
       "      <td>1</td>\n",
       "      <td>0</td>\n",
       "      <td>0</td>\n",
       "      <td>0</td>\n",
       "      <td>0</td>\n",
       "      <td>0</td>\n",
       "      <td>0</td>\n",
       "      <td>0</td>\n",
       "    </tr>\n",
       "    <tr>\n",
       "      <th>...</th>\n",
       "      <td>...</td>\n",
       "      <td>...</td>\n",
       "      <td>...</td>\n",
       "      <td>...</td>\n",
       "      <td>...</td>\n",
       "      <td>...</td>\n",
       "      <td>...</td>\n",
       "      <td>...</td>\n",
       "      <td>...</td>\n",
       "      <td>...</td>\n",
       "      <td>...</td>\n",
       "    </tr>\n",
       "    <tr>\n",
       "      <th>19145</th>\n",
       "      <td>1</td>\n",
       "      <td>0</td>\n",
       "      <td>0</td>\n",
       "      <td>1</td>\n",
       "      <td>0</td>\n",
       "      <td>0</td>\n",
       "      <td>0</td>\n",
       "      <td>1</td>\n",
       "      <td>0</td>\n",
       "      <td>1</td>\n",
       "      <td>0</td>\n",
       "    </tr>\n",
       "    <tr>\n",
       "      <th>19146</th>\n",
       "      <td>1</td>\n",
       "      <td>0</td>\n",
       "      <td>0</td>\n",
       "      <td>0</td>\n",
       "      <td>1</td>\n",
       "      <td>0</td>\n",
       "      <td>0</td>\n",
       "      <td>0</td>\n",
       "      <td>0</td>\n",
       "      <td>1</td>\n",
       "      <td>0</td>\n",
       "    </tr>\n",
       "    <tr>\n",
       "      <th>19147</th>\n",
       "      <td>1</td>\n",
       "      <td>0</td>\n",
       "      <td>0</td>\n",
       "      <td>0</td>\n",
       "      <td>1</td>\n",
       "      <td>0</td>\n",
       "      <td>0</td>\n",
       "      <td>0</td>\n",
       "      <td>0</td>\n",
       "      <td>1</td>\n",
       "      <td>0</td>\n",
       "    </tr>\n",
       "    <tr>\n",
       "      <th>19148</th>\n",
       "      <td>1</td>\n",
       "      <td>0</td>\n",
       "      <td>0</td>\n",
       "      <td>0</td>\n",
       "      <td>0</td>\n",
       "      <td>1</td>\n",
       "      <td>0</td>\n",
       "      <td>0</td>\n",
       "      <td>0</td>\n",
       "      <td>0</td>\n",
       "      <td>0</td>\n",
       "    </tr>\n",
       "    <tr>\n",
       "      <th>19149</th>\n",
       "      <td>1</td>\n",
       "      <td>0</td>\n",
       "      <td>0</td>\n",
       "      <td>0</td>\n",
       "      <td>0</td>\n",
       "      <td>0</td>\n",
       "      <td>1</td>\n",
       "      <td>0</td>\n",
       "      <td>0</td>\n",
       "      <td>1</td>\n",
       "      <td>0</td>\n",
       "    </tr>\n",
       "  </tbody>\n",
       "</table>\n",
       "<p>19150 rows × 11 columns</p>\n",
       "</div>"
      ],
      "text/plain": [
       "       Hipotensao  Sistolica Isolada  Diastolica Isolada  Dipping  \\\n",
       "0               1                  0                   0        0   \n",
       "1               1                  0                   0        0   \n",
       "2               1                  0                   0        0   \n",
       "3               1                  0                   0        1   \n",
       "4               1                  0                   0        1   \n",
       "...           ...                ...                 ...      ...   \n",
       "19145           1                  0                   0        1   \n",
       "19146           1                  0                   0        0   \n",
       "19147           1                  0                   0        0   \n",
       "19148           1                  0                   0        0   \n",
       "19149           1                  0                   0        0   \n",
       "\n",
       "       Non Dipping  Extreme Dipping  Reverse Dipping  Morning Surge  Masked  \\\n",
       "0                0                0                1              0       0   \n",
       "1                0                0                1              0       0   \n",
       "2                1                0                0              0       0   \n",
       "3                0                0                0              0       0   \n",
       "4                0                0                0              0       0   \n",
       "...            ...              ...              ...            ...     ...   \n",
       "19145            0                0                0              1       0   \n",
       "19146            1                0                0              0       0   \n",
       "19147            1                0                0              0       0   \n",
       "19148            0                1                0              0       0   \n",
       "19149            0                0                1              0       0   \n",
       "\n",
       "       Whitecoat  Normotenso  \n",
       "0              0           0  \n",
       "1              0           0  \n",
       "2              1           0  \n",
       "3              1           0  \n",
       "4              0           0  \n",
       "...          ...         ...  \n",
       "19145          1           0  \n",
       "19146          1           0  \n",
       "19147          1           0  \n",
       "19148          0           0  \n",
       "19149          1           0  \n",
       "\n",
       "[19150 rows x 11 columns]"
      ]
     },
     "execution_count": 18,
     "metadata": {},
     "output_type": "execute_result"
    }
   ],
   "source": [
    "dataset_apos_tratamento.loc[:,'Hipotensao':'Normotenso']"
   ]
  },
  {
   "cell_type": "code",
   "execution_count": 19,
   "metadata": {},
   "outputs": [
    {
     "data": {
      "text/plain": [
       "count    19150.00000\n",
       "mean         0.90094\n",
       "std          0.29875\n",
       "min          0.00000\n",
       "25%          1.00000\n",
       "50%          1.00000\n",
       "75%          1.00000\n",
       "max          1.00000\n",
       "Name: Hipotensao, dtype: float64"
      ]
     },
     "execution_count": 19,
     "metadata": {},
     "output_type": "execute_result"
    }
   ],
   "source": [
    "dataset_apos_tratamento['Hipotensao'].describe()"
   ]
  },
  {
   "cell_type": "code",
   "execution_count": 20,
   "metadata": {},
   "outputs": [],
   "source": [
    "# Dataset com cadastro, IMC e medidas\n",
    "dataset_cadastro = pd.concat([dataset_apos_tratamento['numero_identificacao'],\n",
    "                             dataset_apos_tratamento['genero'],dataset_apos_tratamento['idade'],\n",
    "                             dataset_apos_tratamento['IMC'],\n",
    "                     dataset_apos_tratamento.loc[:,'sist 9:00':'diast 8:45']],axis=1)\n",
    "\n",
    "# Dataset com as medidas\n",
    "dataset_medidas = pd.concat([dataset_apos_tratamento['numero_identificacao'],\n",
    "                     dataset_apos_tratamento.loc[:,'sist 9:00':'diast 8:45']],axis=1)\n",
    "\n",
    "# Dataset com numero identificação e estatísticas\n",
    "dataset_estatistica = pd.concat([dataset_apos_tratamento['numero_identificacao'],\n",
    "                     dataset_apos_tratamento.loc[:,'Media Sistolica em 24h':'DP Diastolica em 24h']],axis=1)\n",
    "\n",
    "# Dataset com numero identificação e doenças\n",
    "dataset_doenca = pd.concat([dataset_apos_tratamento['numero_identificacao'],\n",
    "                     dataset_apos_tratamento.loc[:,'Hipotensao':'Normotenso']],axis=1)\n",
    "\n",
    "# Dataset separado por masculino\n",
    "dataset_masc = dataset_apos_tratamento[dataset_apos_tratamento['genero'] == 1]\n",
    "\n",
    "dataset_masc_medidas =  pd.concat([dataset_masc['numero_identificacao'],\n",
    "                     dataset_masc.loc[:,'sist 9:00':'diast 8:45']],axis=1)\n",
    "\n",
    "# Dataset separado por feminino\n",
    "dataset_fem = dataset_apos_tratamento[dataset_apos_tratamento['genero'] == 0]\n",
    "\n",
    "dataset_fem_medidas =  pd.concat([dataset_fem['numero_identificacao'],\n",
    "                     dataset_fem.loc[:,'sist 9:00':'diast 8:45']],axis=1)"
   ]
  },
  {
   "cell_type": "code",
   "execution_count": 21,
   "metadata": {},
   "outputs": [
    {
     "name": "stdout",
     "output_type": "stream",
     "text": [
      "Quantidade F: 10446\n",
      "Quantidade M: 8704\n"
     ]
    }
   ],
   "source": [
    "print(f'Quantidade F: {len(dataset_fem_medidas)}\\nQuantidade M: {len(dataset_masc_medidas)}')"
   ]
  },
  {
   "cell_type": "code",
   "execution_count": 22,
   "metadata": {},
   "outputs": [],
   "source": [
    "def gera_arquivos_por_grupo(todos_dados_grupo, abordagem):\n",
    "    grupos = list(set(todos_dados_grupo['grupo'].values))\n",
    "    \n",
    "    todos_dados_grupo.to_csv(DIR_KMEANS / \"approaches_output\"/ f\"KMEANS_approach_{abordagem}_todos_pacientes.csv\", \n",
    "                        sep=\";\", encoding=\"latin1\", index=False)\n",
    "    \n",
    "    for grupo in grupos:\n",
    "        df_grupo = todos_dados_grupo[todos_dados_grupo['grupo'] == grupo]\n",
    "        df_grupo.to_csv(DIR_KMEANS / \"approaches_output\" / f\"KMEANS_approach_{abordagem}_grupo_{grupo}.csv\", \n",
    "                        sep=\";\", encoding=\"latin1\", index=False)\n",
    "\n",
    "    true_false_1_0 = {True:1, False:0}\n",
    "    for doenca in list(todos_dados_grupo.loc[:,'Hipotensao':'Normotenso'].columns):\n",
    "        todos_dados_grupo.loc[:,doenca] = todos_dados_grupo.loc[:,doenca].replace(true_false_1_0)\n",
    "    \n",
    "    todos_dados_grupo.to_csv(DIR_KMEANS / \"approaches_output\" / f\"KMEANS_approach_{abordagem}_compara_todos_pacientes.csv\", \n",
    "                        sep=\";\", encoding=\"latin1\", index=False)\n",
    "    if (abordagem == 'medidas'):\n",
    "        try:\n",
    "            df_grupo123 = todos_dados_grupo[(todos_dados_grupo['grupo'] == 1) | (todos_dados_grupo['grupo'] == 2) | (todos_dados_grupo['grupo'] == 3)]\n",
    "            df_grupo123.to_csv(DIR_KMEANS / \"approaches_output\" / f\"KMEANS_approach_{abordagem}_grupo123.csv\", \n",
    "                            sep=\";\", encoding=\"latin1\", index=False)\n",
    "\n",
    "            df_grupo45 = todos_dados_grupo[(todos_dados_grupo['grupo'] == 4) | (todos_dados_grupo['grupo'] == 5)]\n",
    "            df_grupo45.to_csv(DIR_KMEANS / \"approaches_output\" / f\"KMEANS_approach_{abordagem}_grupo45.csv\", \n",
    "                            sep=\";\", encoding=\"latin1\", index=False)\n",
    "\n",
    "            df_grupo67 = todos_dados_grupo[(todos_dados_grupo['grupo'] == 6) | (todos_dados_grupo['grupo'] == 7)]\n",
    "            df_grupo67.to_csv(DIR_KMEANS / \"approaches_output\" / f\"KMEANS_approach_{abordagem}_grupo67.csv\", \n",
    "                            sep=\";\", encoding=\"latin1\", index=False)\n",
    "        except:\n",
    "            pass"
   ]
  },
  {
   "cell_type": "markdown",
   "metadata": {},
   "source": [
    "## Função K-Means"
   ]
  },
  {
   "cell_type": "code",
   "execution_count": 23,
   "metadata": {},
   "outputs": [],
   "source": [
    "#  Ao final, é calculado os centroides gerando uma matriz cujas colunas são os grupos e as linhas são as features\n",
    "#\n",
    "def aplica_kmeans(dados_sem_id, abordagem):\n",
    "    inicio = time.time()\n",
    "    dados_array = np.array(dados_sem_id)\n",
    "    sum_of_squares = calculate_wcss(dados_array)\n",
    "    num_otimo_clusters = optimal_number_of_clusters(sum_of_squares)\n",
    "    print('\\n\\nNumero otimo de cluster - Abordagem {1}: {0}\\n\\n'.format(num_otimo_clusters, abordagem))\n",
    "    \n",
    "    #habilitando o kmeans com 8 grupos (foi calculado na etapa anterior)\n",
    "    kmeans = KMeans(n_clusters=num_otimo_clusters, random_state=42).fit(dados_array)\n",
    "    \n",
    "    #listar os grupos \n",
    "    grupos = kmeans.fit_predict(dados_array) + 1\n",
    "    \n",
    "    #Centroides\n",
    "    centros = kmeans.cluster_centers_\n",
    "    dici = {}\n",
    "    for cluster,centro in enumerate(centros):\n",
    "        dici[f\"c{cluster+1}\"] = centro\n",
    "    \n",
    "    df_centroides = pd.DataFrame(dici)\n",
    "    \n",
    "    df_centroides.to_excel(DIR_KMEANS / \"centroide\" /  f'centroide_kmeans_{abordagem.lower().replace(\" \",\"_\")}.xlsx', \n",
    "                            index=False)\n",
    "                           #encoding=\"latin1\", index=False)\n",
    "    \n",
    "    fim = time.time()\n",
    "    print(f'Tempo de execucao: {round(fim - inicio,3)} s\\n\\n')\n",
    "    return grupos\n",
    "\n"
   ]
  },
  {
   "cell_type": "markdown",
   "metadata": {},
   "source": [
    "## Cria sub-diretórios para armazenar gráficos e outputs"
   ]
  },
  {
   "cell_type": "code",
   "execution_count": 24,
   "metadata": {},
   "outputs": [],
   "source": [
    "# Cria os novos sub-diretórios para aplicar o K-fold\n",
    "def makedir(PATH):\n",
    "    import os\n",
    "    try:\n",
    "        os.makedirs(PATH)\n",
    "    except:\n",
    "        pass"
   ]
  },
  {
   "cell_type": "markdown",
   "metadata": {},
   "source": [
    "## Plota gráfico de Barras (Histograma) após grupos gerados pelo K-means"
   ]
  },
  {
   "cell_type": "code",
   "execution_count": 25,
   "metadata": {},
   "outputs": [],
   "source": [
    "makedir('D:\\\\PA_clean\\\\kfold\\\\KMeansRandom\\\\graficos')"
   ]
  },
  {
   "cell_type": "code",
   "execution_count": 26,
   "metadata": {},
   "outputs": [],
   "source": [
    "def grafico_barras_grupos(grupos,abordagem,caminho):\n",
    "    classes = []\n",
    "    qtds = []\n",
    "    contagem = Counter(grupos)\n",
    "    \n",
    "    for i in range(1,len(set(grupos)) + 1):\n",
    "        classes.append(i)\n",
    "        qtds.append(contagem[i])\n",
    "\n",
    "    plt.bar(classes,qtds,color=\"#a8ddb5\")\n",
    "    plt.xticks(classes)\n",
    "    plt.ylabel('Patient Quantity')\n",
    "    plt.xlabel('K-means Group')\n",
    "    plt.title(f'Number of Patients x K-means Group in {abordagem} Approach')\n",
    "    fig = plt.gcf()\n",
    "    fig.savefig(caminho,format=\"svg\")\n",
    "    plt.show()\n",
    "    return classes\n"
   ]
  },
  {
   "cell_type": "code",
   "execution_count": 27,
   "metadata": {},
   "outputs": [],
   "source": [
    "def aplica_elbow(dados_sem_id,abordagem,caminho):\n",
    "    inicio = time.time()\n",
    "    dados_array = np.array(dados_sem_id)\n",
    "    Sum_of_squared_distances = []\n",
    "    \n",
    "    eixo_x = list(range(1,20))\n",
    "    \n",
    "    for k in range(1,20):\n",
    "        km = KMeans(n_clusters=k)\n",
    "        km = km.fit(dados_cadastro_array)\n",
    "        Sum_of_squared_distances.append(km.inertia_)\n",
    "        \n",
    "    plt.plot(eixo_x, Sum_of_squared_distances, 'bx-')\n",
    "    plt.xlabel('k')\n",
    "    plt.ylabel('Soma das Distâncias ao Quadrado')\n",
    "    plt.title(f'Metodo Elbow Para Otimizar k - {abordagem}')\n",
    "    fig = plt.gcf() \n",
    "    fig.savefig( caminho, format=\"svg\")\n",
    "    plt.show()\n",
    "    fim = time.time()\n",
    "    print(f'Tempo de execucao: {round(fim - inicio,3)} s\\n\\n')"
   ]
  },
  {
   "cell_type": "markdown",
   "metadata": {},
   "source": [
    "## Gráfico Silhouette para avaliar qualidade dos clusters"
   ]
  },
  {
   "cell_type": "code",
   "execution_count": 28,
   "metadata": {},
   "outputs": [],
   "source": [
    "def aplica_silhouette(dados_sem_id,grupos,abordagem):\n",
    "    inicio = time.time()\n",
    "    dados_array = np.array(dados_sem_id)\n",
    "    range_n_clusters = range(2,len(set(grupos)) + 1)\n",
    "    for n_clusters in range_n_clusters:    \n",
    "        fig, (ax1, ax2) = plt.subplots(1, 2)\n",
    "        fig.set_size_inches(18, 7)\n",
    "        # O 1st subplot é o grafico silhouette\n",
    "        # O coeficiente silhouette  um range de -1, 1 but in this example all\n",
    "        # Os exemplos vão ficar em [-0.1, 1]\n",
    "        ax1.set_xlim([-0.1, 1])\n",
    "        # O (n_clusters + 1) * 10 é para inserir um espaço em branco entre a silhueta\n",
    "        # Para gerar destaque\n",
    "        ax1.set_ylim([0, len(dados_array) + (n_clusters + 1) * 10])\n",
    "        # Inicialize o clusterer com o valor n_clusters e um valor aleatorio\n",
    "        # seed 10.\n",
    "        clusterer = KMeans(n_clusters=n_clusters, random_state=42)\n",
    "        cluster_labels = clusterer.fit_predict(dados_array)\n",
    "    # O silhouette_score fornece o valor médio para todas as amostras.\n",
    "        # Isso dá uma perspectiva sobre a densidade e separação das formas\n",
    "        # clusters\n",
    "        #  Cálculo de toda a matriz que entra no cálculo do Silhouette\n",
    "        silhouette_avg = silhouette_score(dados_array, cluster_labels)\n",
    "        print(\"Para n_clusters =\", n_clusters,\n",
    "              \"O score_silhouette medio e :\", silhouette_avg)\n",
    "        # Calcule as pontuações da silhueta para cada amostra\n",
    "        sample_silhouette_values = silhouette_samples(dados_array, cluster_labels)\n",
    "        y_lower = 10\n",
    "        for i in range(n_clusters):\n",
    "            # Agregue as pontuações de silhueta para amostras pertencentes a\n",
    "            # cluster i, e classifica-los\n",
    "            ith_cluster_silhouette_values = \\\n",
    "                sample_silhouette_values[cluster_labels == i]\n",
    "            ith_cluster_silhouette_values.sort()\n",
    "            size_cluster_i = ith_cluster_silhouette_values.shape[0]\n",
    "            y_upper = y_lower + size_cluster_i\n",
    "            color = cm.nipy_spectral(float(i) / n_clusters)\n",
    "            ax1.fill_betweenx(np.arange(y_lower, y_upper),\n",
    "                              0, ith_cluster_silhouette_values,\n",
    "                              facecolor=color, edgecolor=color,       alpha=0.7)\n",
    "            # Rotule os gráficos de silhueta com seus números de cluster no meio\n",
    "            ax1.text(-0.05, y_lower + 0.5 * size_cluster_i, str(i))\n",
    "            # Calcule o novo y_lower para o próximo gráfico\n",
    "            y_lower = y_upper + 10  #10 para as 0 amostras\n",
    "        ax1.set_title(\"O grafico de silhueta para os varios clusters.\")\n",
    "        ax1.set_xlabel(\"O valor silhouette coefficient\")\n",
    "        ax1.set_ylabel(\"Cluster label\")\n",
    "        # A linha vertical para a pontuação média da silhueta de todos os valores\n",
    "        ax1.axvline(x=silhouette_avg, color=\"red\", linestyle=\"--\")\n",
    "        ax1.set_yticks([])  # Limpar os yaxis labels / ticks\n",
    "        ax1.set_xticks([-0.1, 0, 0.2, 0.4, 0.6, 0.8, 1])\n",
    "        # 2º gráfico mostrando os clusters reais formados\n",
    "        colors = cm.nipy_spectral(cluster_labels.astype(float) / n_clusters)\n",
    "        ax2.scatter(dados_array[:, 0], dados_array[:, 1], marker='.', s=30, lw=0, alpha=0.7,\n",
    "                    c=colors, edgecolor='k')\n",
    "        # Labeling dos clusters\n",
    "        centers = clusterer.cluster_centers_\n",
    "        # Desenhe círculos brancos nos centros do cluster\n",
    "        ax2.scatter(centers[:, 0], centers[:, 1], marker='o',\n",
    "                    c=\"white\", alpha=1, s=200, edgecolor='k')\n",
    "        for i, c in enumerate(centers):\n",
    "            ax2.scatter(c[0], c[1], marker='$%d$' % i, alpha=1,\n",
    "                        s=50, edgecolor='k')\n",
    "        ax2.set_title(\"A visualizacao dos dados agrupados.\")\n",
    "        ax2.set_xlabel(\"Eixo X X0\")\n",
    "        ax2.set_ylabel(\"Eixo Y X1\")\n",
    "        plt.suptitle((f\"Analise de silhueta para agrupamento KMeans na Abordagem {abordagem}\"\n",
    "                      \"com n_clusters = %d\" % n_clusters),\n",
    "                     fontsize=14, fontweight='bold')\n",
    "\n",
    "        fig = plt.gcf()\n",
    "        fig.savefig( DIR_KMEANS / 'graficos' / f'metodo_silhouette_{abordagem.lower().replace(\" \" ,\"_\")}_{n_clusters}.svg',\n",
    "                    format=\"svg\")\n",
    "\n",
    "    plt.show()\n",
    "    fim = time.time()\n",
    "    print(f'Tempo de execucao: {round(fim - inicio,3)} s\\n\\n')"
   ]
  },
  {
   "cell_type": "code",
   "execution_count": 29,
   "metadata": {},
   "outputs": [],
   "source": [
    "def aplica_random_forest(dados_sem_id,grupos,abordagem,classes,num_kfold):\n",
    "    dados_array = np.array(dados_sem_id)\n",
    "    df = dados_sem_id.copy()\n",
    "    \n",
    "    df.insert(0,'grupo',grupos)\n",
    "    random_forest = RandomForestClassifier(n_estimators=50)\n",
    "    \n",
    "    #train_ratio = 0.75\n",
    "    #validation_ratio = 0.15\n",
    "    #test_ratio = 0.10\n",
    "\n",
    "    # separar train(75%) - 14.485, test (10%) - 7.726  and validation (15%) - 11.588\n",
    "    #  O parâmetro random_state=42 garante o rastreio do numero de identificação\n",
    "    # \n",
    "    #exp_train_x, exp_train_y, exp_valid_x, exp_valid_y = get_kfold(DATASET_NAME, exp_n)\n",
    "    #model = RandomForestClassifier(random_state=42)\n",
    "    \n",
    "    build_datasets(df,abordagem,num_kfold)\n",
    "    \n",
    "    x_train, y_train, x_val, y_val = get_kfold(abordagem,0)\n",
    "    #x_train, x_test, y_train, y_test = train_test_split(dados_array,grupos,test_size=1-train_ratio,random_state=42)\n",
    "    #x_val, x_test, y_val, y_test = train_test_split(dados_array,grupos,test_size=test_ratio/(test_ratio + validation_ratio),random_state=42)\n",
    "    \n",
    "    #treino\n",
    "    random_forest.fit(x_train, y_train)\n",
    "    \n",
    "    \n",
    "    scores = cross_val_score(random_forest, X=dados_array, y=grupos, cv=num_kfold, scoring='accuracy')\n",
    "    print(\"Accuracy: %0.2f (+/- %0.2f)\" % (scores.mean(), scores.std() * 2))\n",
    "    print(\"Accuracy: {} (+/- {})\".format(scores.mean(), scores.std() * 2))\n",
    "    print(f\"Accuracy: {scores.mean():0.2f} (+/- {scores.std() * 2:0.2f})\")\n",
    "    \n",
    "    #calcular acuracia, recall e f1\n",
    "    y_prev_val = random_forest.predict(x_val)\n",
    "    #y_prev_val = random_forest.predict(x_val)\n",
    "\n",
    "    accuracy = np.round(accuracy_score(y_val, y_prev_val),2)\n",
    "    recall = np.round(recall_score(y_val, y_prev_val,average='macro'),2)\n",
    "    f1 = np.round(f1_score(y_val, y_prev_val,average='macro'),2)\n",
    "    \n",
    "    \n",
    "    \n",
    "    print(\"\\n\\n=================Validação==============\\n\\n\")\n",
    "    print(f'Accuracy: {accuracy:.2f} - Recall: {recall:.2f} - F1 Score: {f1:.2f}\\n\\n')\n",
    "    \n",
    "    #Matriz de Confusão Validação\n",
    "    mat=list(metrics.confusion_matrix(y_val, y_prev_val, labels=classes))\n",
    "    df_confusion_matrix_val = pd.DataFrame(mat,index = classes, columns = classes)\n",
    "    \n",
    "    print(df_confusion_matrix_val)\n",
    "    \n",
    "    for teste in range(1,num_kfold):\n",
    "        #calcular acuracia, recall e f1\n",
    "        x_test, y_test, x_valt, y_valt = get_kfold(abordagem,teste)\n",
    "        y_prev_test = random_forest.predict(x_test)\n",
    "\n",
    "        accuracy = np.round(accuracy_score(y_test, y_prev_test),2)\n",
    "        recall = np.round(recall_score(y_test, y_prev_test,average='macro'),2)\n",
    "        f1 = np.round(f1_score(y_test, y_prev_test,average='macro'),2)\n",
    "\n",
    "\n",
    "\n",
    "        print(f\"\\n\\n=================Teste{teste}==============\\n\\n\")\n",
    "        print(f'Accuracy: {accuracy:.2f} - Recall: {recall:.2f} - F1 Score: {f1:.2f}\\n\\n')\n",
    "\n",
    "        #Matriz da Confusão Teste\n",
    "        mat=list(metrics.confusion_matrix(y_test, y_prev_test, labels=classes))\n",
    "        df_confusion_matrix_test = pd.DataFrame(mat,index = classes, columns = classes)\n",
    "\n",
    "        print(df_confusion_matrix_test)\n",
    "    \n",
    "    \n",
    "\n",
    "    ##validacao\n",
    "    #pacientes_validacao_diast_sisto = x_val[['numero_identificacao']]\n",
    "    #pacientes_validacao_diast_sisto['Grupo_Real'] = y_val_\n",
    "    #pacientes_validacao_diast_sisto['Grupo_Previsto'] = y_prev_val\n",
    "    #\n",
    "    #pacientes_validacao_diast_sisto.to_csv(path_or_buf = DIR_KMEANS / \"padrao_doenca\" / f'pacientes_validacao_{abordagem.lower().replace(\" \" ,\"_\")}.csv', \n",
    "    #             sep=';',index=False,encoding='UTF-8')\n",
    "    #\n",
    "    ##teste\n",
    "    #pacientes_teste_diast_sisto = x_test[['numero_identificacao']]\n",
    "    #pacientes_teste_diast_sisto['Grupo_Real'] = y_test_\n",
    "    #pacientes_teste_diast_sisto['Grupo_Previsto'] = y_prev_test\n",
    "    #\n",
    "    #pacientes_teste_diast_sisto.to_csv(path_or_buf = DIR_KMEANS / \"padrao_doenca\" / f'pacientes_teste_{abordagem.lower().replace(\" \" ,\"_\")}.csv', \n",
    "    #             sep=';',index=False,encoding='UTF-8')\n",
    "    #\n",
    "    #\n",
    "    \n",
    "        cabecalho = list(dados_sem_id.columns)\n",
    "        #calculo da importancia de cada variavel para idenficar os grupos com 3 casas decimais\n",
    "        importancia = pd.DataFrame({'features':cabecalho,'importance':np.round(random_forest.feature_importances_,3)})\n",
    "        importancia = importancia.sort_values('importance',ascending=False)\n",
    "\n",
    "        importancia.to_csv(path_or_buf = DIR_KMEANS / \"padrao_doenca\" / f'importancia_features_{abordagem.lower().replace(\" \" ,\"_\")}_test{teste}.csv', \n",
    "                     sep=';',index=False,encoding='UTF-8')\n",
    "\n",
    "        print(f\"\\n\\n=================Importancia Teste{teste}==============\\n\\n\")\n",
    "        print(importancia.head(10))\n",
    "    return importancia"
   ]
  },
  {
   "cell_type": "markdown",
   "metadata": {},
   "source": [
    "## Calcula a média da Sistólica e da Diastólica"
   ]
  },
  {
   "cell_type": "code",
   "execution_count": 30,
   "metadata": {},
   "outputs": [
    {
     "data": {
      "text/html": [
       "<div>\n",
       "<style scoped>\n",
       "    .dataframe tbody tr th:only-of-type {\n",
       "        vertical-align: middle;\n",
       "    }\n",
       "\n",
       "    .dataframe tbody tr th {\n",
       "        vertical-align: top;\n",
       "    }\n",
       "\n",
       "    .dataframe thead th {\n",
       "        text-align: right;\n",
       "    }\n",
       "</style>\n",
       "<table border=\"1\" class=\"dataframe\">\n",
       "  <thead>\n",
       "    <tr style=\"text-align: right;\">\n",
       "      <th></th>\n",
       "      <th>Media Sistolica</th>\n",
       "      <th>Media Diastolica</th>\n",
       "    </tr>\n",
       "  </thead>\n",
       "  <tbody>\n",
       "    <tr>\n",
       "      <th>0</th>\n",
       "      <td>122.87</td>\n",
       "      <td>76.89</td>\n",
       "    </tr>\n",
       "  </tbody>\n",
       "</table>\n",
       "</div>"
      ],
      "text/plain": [
       "   Media Sistolica  Media Diastolica\n",
       "0           122.87             76.89"
      ]
     },
     "execution_count": 30,
     "metadata": {},
     "output_type": "execute_result"
    }
   ],
   "source": [
    "df_media_sist_diast = pd.DataFrame()\n",
    "df_media_sist_diast['Media Sistolica'] = [np.round(dataset_apos_tratamento.loc[:,'sist 9:00':'sist 8:45'].mean(axis=1).mean(), 2)]\n",
    "df_media_sist_diast['Media Diastolica'] = [np.round(dataset_apos_tratamento.loc[:,'diast 9:00':'diast 8:45'].mean(axis=1).mean(), 2)]\n",
    "df_media_sist_diast\n"
   ]
  },
  {
   "cell_type": "markdown",
   "metadata": {},
   "source": [
    "# Alterar para nosso padrão"
   ]
  },
  {
   "cell_type": "markdown",
   "metadata": {},
   "source": [
    "## Função Kfold"
   ]
  },
  {
   "cell_type": "code",
   "execution_count": 31,
   "metadata": {},
   "outputs": [],
   "source": [
    "\n",
    "def build_datasets(abordagem,nome_abordagem, n_kfolds):\n",
    "    nome_abordagem = nome_abordagem.replace(' ','_')\n",
    "  \n",
    "    #features_names = df.columns.values.tolist()[1:]\n",
    "    \n",
    "    kf_n = 0\n",
    "    \n",
    "    # x = os dados sem o grupo \n",
    "    x = (abordagem.drop(['grupo'],axis=1)).to_numpy()\n",
    "    # y = apenas o grupo (target)\n",
    "    y = abordagem['grupo'].to_numpy()\n",
    "    \n",
    "    #for run in range(n_runs):\n",
    "    kf = StratifiedKFold(n_splits=n_kfolds, shuffle=True, random_state=42)\n",
    "    #scores = cross_val_score(kf, X=x, y=y, cv=n_kfolds, scoring='accuracy')\n",
    "    #print(\"Accuracy: %0.2f (+/- %0.2f)\" % (scores.mean(), scores.std() * 2))\n",
    "\n",
    "    for train_index, valid_index in kf.split(x, y):\n",
    "        X_train, X_valid = x[train_index], x[valid_index]\n",
    "        y_train, y_valid = y[train_index], y[valid_index]\n",
    "\n",
    "        oversample = RandomOverSampler(sampling_strategy='minority')\n",
    "        X_train, y_train = oversample.fit_resample(X_train, y_train)\n",
    "\n",
    "        pd.concat([pd.DataFrame(X_train), pd.DataFrame(y_train)], axis=1).to_csv(DIR_KMEANS / \"arquivos\" / f'{nome_abordagem}_train_kfold_{kf_n}.csv', index=False)\n",
    "        pd.concat([pd.DataFrame(X_valid), pd.DataFrame(y_valid)], axis=1).to_csv(DIR_KMEANS / \"arquivos\" / f'{nome_abordagem}_valid_kfold_{kf_n}.csv', index=False)\n",
    "        kf_n +=1\n",
    "\n",
    "    #return features_names\n",
    "\n",
    "\n",
    "\n",
    "def get_kfold(nome_abordagem,kf_n):\n",
    "    nome_abordagem = nome_abordagem.replace(' ','_')\n",
    "    df = pd.read_csv(DIR_KMEANS / \"arquivos\" / f'{nome_abordagem}_valid_kfold_{kf_n}.csv', dtype=np.float32)\n",
    "    train_x = df.iloc[:,:-1].to_numpy()\n",
    "    train_y = df.iloc[:,-1].to_numpy()\n",
    "    \n",
    "    df = pd.read_csv(DIR_KMEANS / \"arquivos\" / f'{nome_abordagem}_valid_kfold_{kf_n}.csv', dtype=np.float32)\n",
    "    valid_x = df.iloc[:,:-1].to_numpy()\n",
    "    valid_y = df.iloc[:,-1].to_numpy()\n",
    "    \n",
    "    return train_x, train_y, valid_x, valid_y\n",
    "\n"
   ]
  },
  {
   "cell_type": "markdown",
   "metadata": {},
   "source": [
    "## Verifica o tipo de distribuição dos nossos dados\n",
    "\n",
    "Verifica se a distribuição é Normal (Gaussiana) ou não"
   ]
  },
  {
   "cell_type": "code",
   "execution_count": 32,
   "metadata": {},
   "outputs": [],
   "source": [
    "def verificar_normalidade(dados,title=\"Nome da Variavel\"):\n",
    "    plt.figure(figsize=(10,7), dpi= 80)\n",
    "    sns.distplot(dados, color=\"dodgerblue\", label=\"Compact\",)\n",
    "    plt.title(title)\n",
    "    plt.show()\n",
    "    alpha = 0.05\n",
    "    k2, p = scipy.stats.normaltest(dados)\n",
    "    #Hipotese nula: Os dados seguem distribuição normal\n",
    "    #Hipotese alternativa: Os dados não seguem distribuição normal\n",
    "    if p < alpha:\n",
    "        print(\"Os dados seguem distribuição normal - A Hipótese Nula pode ser rejeitada\")\n",
    "    else:\n",
    "        print(\"Os dados não seguem distribuição normal - A hipótese nula não pode ser rejeitada\")"
   ]
  },
  {
   "cell_type": "code",
   "execution_count": 33,
   "metadata": {},
   "outputs": [
    {
     "data": {
      "image/png": "[encoded data removed]",
      "text/plain": [
       "<Figure size 800x560 with 1 Axes>"
      ]
     },
     "metadata": {},
     "output_type": "display_data"
    },
    {
     "name": "stdout",
     "output_type": "stream",
     "text": [
      "Os dados seguem distribuição normal - A Hipótese Nula pode ser rejeitada\n"
     ]
    }
   ],
   "source": [
    "verificar_normalidade(dataset_apos_tratamento.loc[:,'sist 9:00':'sist 8:45'].mean(axis=1),'Distribuição - Sistólica')"
   ]
  },
  {
   "cell_type": "code",
   "execution_count": 34,
   "metadata": {},
   "outputs": [
    {
     "data": {
      "image/png": "[encoded data removed]",
      "text/plain": [
       "<Figure size 800x560 with 1 Axes>"
      ]
     },
     "metadata": {},
     "output_type": "display_data"
    },
    {
     "name": "stdout",
     "output_type": "stream",
     "text": [
      "Os dados seguem distribuição normal - A Hipótese Nula pode ser rejeitada\n"
     ]
    }
   ],
   "source": [
    "verificar_normalidade(dataset_apos_tratamento.loc[:,'diast 9:00':'diast 8:45'].mean(axis=1),'Distribuição - Diastólica')"
   ]
  },
  {
   "cell_type": "code",
   "execution_count": 35,
   "metadata": {},
   "outputs": [
    {
     "data": {
      "image/png": "[encoded data removed]",
      "text/plain": [
       "<Figure size 800x560 with 1 Axes>"
      ]
     },
     "metadata": {},
     "output_type": "display_data"
    },
    {
     "name": "stdout",
     "output_type": "stream",
     "text": [
      "Os dados seguem distribuição normal - A Hipótese Nula pode ser rejeitada\n"
     ]
    }
   ],
   "source": [
    "verificar_normalidade(dataset_apos_tratamento.loc[:,'IMC'],'Distribuição - IMC')"
   ]
  },
  {
   "cell_type": "code",
   "execution_count": 36,
   "metadata": {},
   "outputs": [
    {
     "data": {
      "image/png": "[encoded data removed]",
      "text/plain": [
       "<Figure size 800x560 with 1 Axes>"
      ]
     },
     "metadata": {},
     "output_type": "display_data"
    },
    {
     "name": "stdout",
     "output_type": "stream",
     "text": [
      "Os dados seguem distribuição normal - A Hipótese Nula pode ser rejeitada\n"
     ]
    }
   ],
   "source": [
    "verificar_normalidade(dataset_apos_tratamento.loc[:,'idade'],'Distribuição - Idade')"
   ]
  },
  {
   "cell_type": "code",
   "execution_count": 37,
   "metadata": {},
   "outputs": [
    {
     "data": {
      "image/png": "[encoded data removed]",
      "text/plain": [
       "<Figure size 800x560 with 1 Axes>"
      ]
     },
     "metadata": {},
     "output_type": "display_data"
    },
    {
     "name": "stdout",
     "output_type": "stream",
     "text": [
      "Os dados seguem distribuição normal - A Hipótese Nula pode ser rejeitada\n"
     ]
    }
   ],
   "source": [
    "verificar_normalidade(dataset_apos_tratamento.loc[:,'genero'],'Distribuição - Gênero')"
   ]
  },
  {
   "cell_type": "code",
   "execution_count": 38,
   "metadata": {},
   "outputs": [
    {
     "data": {
      "image/png": "[encoded data removed]",
      "text/plain": [
       "<Figure size 432x288 with 1 Axes>"
      ]
     },
     "metadata": {},
     "output_type": "display_data"
    }
   ],
   "source": [
    "import statsmodels.api as sm\n",
    "from scipy.stats import norm\n",
    "import pylab\n",
    "\n",
    "dados1 = norm.rvs(dataset_apos_tratamento.loc[:,'diast 9:00':'diast 8:45'].mean(axis=1).values)\n",
    "sm.qqplot(dados1, line='45')\n",
    "\n",
    "\n",
    "\n",
    "my_data = norm.rvs(size=1000)"
   ]
  },
  {
   "cell_type": "code",
   "execution_count": 39,
   "metadata": {},
   "outputs": [
    {
     "data": {
      "image/png": "[encoded data removed]",
      "text/plain": [
       "<Figure size 432x288 with 1 Axes>"
      ]
     },
     "execution_count": 39,
     "metadata": {},
     "output_type": "execute_result"
    },
    {
     "data": {
      "image/png": "[encoded data removed]",
      "text/plain": [
       "<Figure size 432x288 with 1 Axes>"
      ]
     },
     "metadata": {},
     "output_type": "display_data"
    }
   ],
   "source": [
    "dados1 = (dataset_apos_tratamento.loc[:,'sist 9:00':'sist 8:45'].mean(axis=1).values)\n",
    "sm.qqplot(dados1, line='45')"
   ]
  },
  {
   "cell_type": "code",
   "execution_count": 40,
   "metadata": {},
   "outputs": [
    {
     "data": {
      "image/png": "[encoded data removed]",
      "text/plain": [
       "<Figure size 432x288 with 1 Axes>"
      ]
     },
     "execution_count": 40,
     "metadata": {},
     "output_type": "execute_result"
    },
    {
     "data": {
      "image/png": "[encoded data removed]",
      "text/plain": [
       "<Figure size 432x288 with 1 Axes>"
      ]
     },
     "metadata": {},
     "output_type": "display_data"
    }
   ],
   "source": [
    "dados1 = (dataset_apos_tratamento.loc[:,'IMC'].values)\n",
    "sm.qqplot(dados1, line='45')"
   ]
  },
  {
   "cell_type": "code",
   "execution_count": 41,
   "metadata": {},
   "outputs": [
    {
     "data": {
      "image/png": "[encoded data removed]",
      "text/plain": [
       "<Figure size 432x288 with 1 Axes>"
      ]
     },
     "execution_count": 41,
     "metadata": {},
     "output_type": "execute_result"
    },
    {
     "data": {
      "image/png": "[encoded data removed]",
      "text/plain": [
       "<Figure size 432x288 with 1 Axes>"
      ]
     },
     "metadata": {},
     "output_type": "display_data"
    }
   ],
   "source": [
    "dados1 = (dataset_apos_tratamento.loc[:,'idade'].values)\n",
    "sm.qqplot(dados1, line='45')"
   ]
  },
  {
   "cell_type": "code",
   "execution_count": 42,
   "metadata": {},
   "outputs": [
    {
     "data": {
      "text/html": [
       "<div>\n",
       "<style scoped>\n",
       "    .dataframe tbody tr th:only-of-type {\n",
       "        vertical-align: middle;\n",
       "    }\n",
       "\n",
       "    .dataframe tbody tr th {\n",
       "        vertical-align: top;\n",
       "    }\n",
       "\n",
       "    .dataframe thead th {\n",
       "        text-align: right;\n",
       "    }\n",
       "</style>\n",
       "<table border=\"1\" class=\"dataframe\">\n",
       "  <thead>\n",
       "    <tr style=\"text-align: right;\">\n",
       "      <th></th>\n",
       "      <th>numero_identificacao</th>\n",
       "      <th>genero</th>\n",
       "      <th>sist 9:00</th>\n",
       "      <th>sist 9:15</th>\n",
       "      <th>sist 9:30</th>\n",
       "      <th>sist 9:45</th>\n",
       "      <th>sist 10:00</th>\n",
       "      <th>sist 10:15</th>\n",
       "      <th>sist 10:30</th>\n",
       "      <th>sist 10:45</th>\n",
       "      <th>...</th>\n",
       "      <th>Reverse Dipping</th>\n",
       "      <th>Morning Surge</th>\n",
       "      <th>Masked</th>\n",
       "      <th>Whitecoat</th>\n",
       "      <th>idade_1</th>\n",
       "      <th>idade_2</th>\n",
       "      <th>idade_3</th>\n",
       "      <th>IMC_1</th>\n",
       "      <th>IMC_2</th>\n",
       "      <th>IMC_3</th>\n",
       "    </tr>\n",
       "  </thead>\n",
       "  <tbody>\n",
       "    <tr>\n",
       "      <th>0</th>\n",
       "      <td>4</td>\n",
       "      <td>1</td>\n",
       "      <td>105.0</td>\n",
       "      <td>108.0</td>\n",
       "      <td>116.0</td>\n",
       "      <td>104.0</td>\n",
       "      <td>106.0</td>\n",
       "      <td>98.0</td>\n",
       "      <td>102.0</td>\n",
       "      <td>107.0</td>\n",
       "      <td>...</td>\n",
       "      <td>1</td>\n",
       "      <td>0</td>\n",
       "      <td>0</td>\n",
       "      <td>0</td>\n",
       "      <td>0</td>\n",
       "      <td>0</td>\n",
       "      <td>1</td>\n",
       "      <td>0</td>\n",
       "      <td>0</td>\n",
       "      <td>1</td>\n",
       "    </tr>\n",
       "    <tr>\n",
       "      <th>1</th>\n",
       "      <td>5</td>\n",
       "      <td>1</td>\n",
       "      <td>103.0</td>\n",
       "      <td>114.0</td>\n",
       "      <td>82.0</td>\n",
       "      <td>104.0</td>\n",
       "      <td>98.0</td>\n",
       "      <td>106.0</td>\n",
       "      <td>108.0</td>\n",
       "      <td>107.0</td>\n",
       "      <td>...</td>\n",
       "      <td>1</td>\n",
       "      <td>0</td>\n",
       "      <td>0</td>\n",
       "      <td>0</td>\n",
       "      <td>0</td>\n",
       "      <td>0</td>\n",
       "      <td>1</td>\n",
       "      <td>0</td>\n",
       "      <td>1</td>\n",
       "      <td>0</td>\n",
       "    </tr>\n",
       "    <tr>\n",
       "      <th>2</th>\n",
       "      <td>6</td>\n",
       "      <td>1</td>\n",
       "      <td>147.0</td>\n",
       "      <td>148.0</td>\n",
       "      <td>156.0</td>\n",
       "      <td>140.0</td>\n",
       "      <td>130.0</td>\n",
       "      <td>132.0</td>\n",
       "      <td>121.0</td>\n",
       "      <td>113.0</td>\n",
       "      <td>...</td>\n",
       "      <td>0</td>\n",
       "      <td>0</td>\n",
       "      <td>0</td>\n",
       "      <td>1</td>\n",
       "      <td>1</td>\n",
       "      <td>0</td>\n",
       "      <td>0</td>\n",
       "      <td>0</td>\n",
       "      <td>1</td>\n",
       "      <td>0</td>\n",
       "    </tr>\n",
       "    <tr>\n",
       "      <th>3</th>\n",
       "      <td>7</td>\n",
       "      <td>0</td>\n",
       "      <td>140.0</td>\n",
       "      <td>139.0</td>\n",
       "      <td>142.0</td>\n",
       "      <td>137.0</td>\n",
       "      <td>135.0</td>\n",
       "      <td>177.0</td>\n",
       "      <td>148.0</td>\n",
       "      <td>152.0</td>\n",
       "      <td>...</td>\n",
       "      <td>0</td>\n",
       "      <td>0</td>\n",
       "      <td>0</td>\n",
       "      <td>1</td>\n",
       "      <td>1</td>\n",
       "      <td>0</td>\n",
       "      <td>0</td>\n",
       "      <td>1</td>\n",
       "      <td>0</td>\n",
       "      <td>0</td>\n",
       "    </tr>\n",
       "    <tr>\n",
       "      <th>4</th>\n",
       "      <td>8</td>\n",
       "      <td>1</td>\n",
       "      <td>113.0</td>\n",
       "      <td>110.0</td>\n",
       "      <td>101.0</td>\n",
       "      <td>108.0</td>\n",
       "      <td>111.0</td>\n",
       "      <td>111.0</td>\n",
       "      <td>114.0</td>\n",
       "      <td>115.0</td>\n",
       "      <td>...</td>\n",
       "      <td>0</td>\n",
       "      <td>0</td>\n",
       "      <td>0</td>\n",
       "      <td>0</td>\n",
       "      <td>1</td>\n",
       "      <td>0</td>\n",
       "      <td>0</td>\n",
       "      <td>0</td>\n",
       "      <td>0</td>\n",
       "      <td>1</td>\n",
       "    </tr>\n",
       "    <tr>\n",
       "      <th>...</th>\n",
       "      <td>...</td>\n",
       "      <td>...</td>\n",
       "      <td>...</td>\n",
       "      <td>...</td>\n",
       "      <td>...</td>\n",
       "      <td>...</td>\n",
       "      <td>...</td>\n",
       "      <td>...</td>\n",
       "      <td>...</td>\n",
       "      <td>...</td>\n",
       "      <td>...</td>\n",
       "      <td>...</td>\n",
       "      <td>...</td>\n",
       "      <td>...</td>\n",
       "      <td>...</td>\n",
       "      <td>...</td>\n",
       "      <td>...</td>\n",
       "      <td>...</td>\n",
       "      <td>...</td>\n",
       "      <td>...</td>\n",
       "      <td>...</td>\n",
       "    </tr>\n",
       "    <tr>\n",
       "      <th>19145</th>\n",
       "      <td>21786</td>\n",
       "      <td>1</td>\n",
       "      <td>163.0</td>\n",
       "      <td>198.0</td>\n",
       "      <td>172.0</td>\n",
       "      <td>148.0</td>\n",
       "      <td>161.0</td>\n",
       "      <td>156.0</td>\n",
       "      <td>156.0</td>\n",
       "      <td>138.0</td>\n",
       "      <td>...</td>\n",
       "      <td>0</td>\n",
       "      <td>1</td>\n",
       "      <td>0</td>\n",
       "      <td>1</td>\n",
       "      <td>1</td>\n",
       "      <td>0</td>\n",
       "      <td>0</td>\n",
       "      <td>0</td>\n",
       "      <td>1</td>\n",
       "      <td>0</td>\n",
       "    </tr>\n",
       "    <tr>\n",
       "      <th>19146</th>\n",
       "      <td>21787</td>\n",
       "      <td>1</td>\n",
       "      <td>114.0</td>\n",
       "      <td>120.0</td>\n",
       "      <td>164.0</td>\n",
       "      <td>116.0</td>\n",
       "      <td>119.0</td>\n",
       "      <td>126.0</td>\n",
       "      <td>123.0</td>\n",
       "      <td>122.0</td>\n",
       "      <td>...</td>\n",
       "      <td>0</td>\n",
       "      <td>0</td>\n",
       "      <td>0</td>\n",
       "      <td>1</td>\n",
       "      <td>1</td>\n",
       "      <td>0</td>\n",
       "      <td>0</td>\n",
       "      <td>0</td>\n",
       "      <td>1</td>\n",
       "      <td>0</td>\n",
       "    </tr>\n",
       "    <tr>\n",
       "      <th>19147</th>\n",
       "      <td>21788</td>\n",
       "      <td>0</td>\n",
       "      <td>107.0</td>\n",
       "      <td>110.0</td>\n",
       "      <td>103.0</td>\n",
       "      <td>105.0</td>\n",
       "      <td>108.0</td>\n",
       "      <td>111.0</td>\n",
       "      <td>114.0</td>\n",
       "      <td>144.0</td>\n",
       "      <td>...</td>\n",
       "      <td>0</td>\n",
       "      <td>0</td>\n",
       "      <td>0</td>\n",
       "      <td>1</td>\n",
       "      <td>1</td>\n",
       "      <td>0</td>\n",
       "      <td>0</td>\n",
       "      <td>0</td>\n",
       "      <td>0</td>\n",
       "      <td>1</td>\n",
       "    </tr>\n",
       "    <tr>\n",
       "      <th>19148</th>\n",
       "      <td>21792</td>\n",
       "      <td>0</td>\n",
       "      <td>94.0</td>\n",
       "      <td>107.0</td>\n",
       "      <td>112.0</td>\n",
       "      <td>124.0</td>\n",
       "      <td>120.0</td>\n",
       "      <td>94.0</td>\n",
       "      <td>102.0</td>\n",
       "      <td>113.0</td>\n",
       "      <td>...</td>\n",
       "      <td>0</td>\n",
       "      <td>0</td>\n",
       "      <td>0</td>\n",
       "      <td>0</td>\n",
       "      <td>0</td>\n",
       "      <td>0</td>\n",
       "      <td>1</td>\n",
       "      <td>0</td>\n",
       "      <td>1</td>\n",
       "      <td>0</td>\n",
       "    </tr>\n",
       "    <tr>\n",
       "      <th>19149</th>\n",
       "      <td>21793</td>\n",
       "      <td>1</td>\n",
       "      <td>111.0</td>\n",
       "      <td>104.0</td>\n",
       "      <td>103.0</td>\n",
       "      <td>101.0</td>\n",
       "      <td>97.0</td>\n",
       "      <td>110.0</td>\n",
       "      <td>111.0</td>\n",
       "      <td>116.0</td>\n",
       "      <td>...</td>\n",
       "      <td>1</td>\n",
       "      <td>0</td>\n",
       "      <td>0</td>\n",
       "      <td>1</td>\n",
       "      <td>1</td>\n",
       "      <td>0</td>\n",
       "      <td>0</td>\n",
       "      <td>0</td>\n",
       "      <td>0</td>\n",
       "      <td>1</td>\n",
       "    </tr>\n",
       "  </tbody>\n",
       "</table>\n",
       "<p>19150 rows × 182 columns</p>\n",
       "</div>"
      ],
      "text/plain": [
       "       numero_identificacao  genero  sist 9:00  sist 9:15  sist 9:30  \\\n",
       "0                         4       1      105.0      108.0      116.0   \n",
       "1                         5       1      103.0      114.0       82.0   \n",
       "2                         6       1      147.0      148.0      156.0   \n",
       "3                         7       0      140.0      139.0      142.0   \n",
       "4                         8       1      113.0      110.0      101.0   \n",
       "...                     ...     ...        ...        ...        ...   \n",
       "19145                 21786       1      163.0      198.0      172.0   \n",
       "19146                 21787       1      114.0      120.0      164.0   \n",
       "19147                 21788       0      107.0      110.0      103.0   \n",
       "19148                 21792       0       94.0      107.0      112.0   \n",
       "19149                 21793       1      111.0      104.0      103.0   \n",
       "\n",
       "       sist 9:45  sist 10:00  sist 10:15  sist 10:30  sist 10:45  ...  \\\n",
       "0          104.0       106.0        98.0       102.0       107.0  ...   \n",
       "1          104.0        98.0       106.0       108.0       107.0  ...   \n",
       "2          140.0       130.0       132.0       121.0       113.0  ...   \n",
       "3          137.0       135.0       177.0       148.0       152.0  ...   \n",
       "4          108.0       111.0       111.0       114.0       115.0  ...   \n",
       "...          ...         ...         ...         ...         ...  ...   \n",
       "19145      148.0       161.0       156.0       156.0       138.0  ...   \n",
       "19146      116.0       119.0       126.0       123.0       122.0  ...   \n",
       "19147      105.0       108.0       111.0       114.0       144.0  ...   \n",
       "19148      124.0       120.0        94.0       102.0       113.0  ...   \n",
       "19149      101.0        97.0       110.0       111.0       116.0  ...   \n",
       "\n",
       "       Reverse Dipping  Morning Surge  Masked  Whitecoat  idade_1  idade_2  \\\n",
       "0                    1              0       0          0        0        0   \n",
       "1                    1              0       0          0        0        0   \n",
       "2                    0              0       0          1        1        0   \n",
       "3                    0              0       0          1        1        0   \n",
       "4                    0              0       0          0        1        0   \n",
       "...                ...            ...     ...        ...      ...      ...   \n",
       "19145                0              1       0          1        1        0   \n",
       "19146                0              0       0          1        1        0   \n",
       "19147                0              0       0          1        1        0   \n",
       "19148                0              0       0          0        0        0   \n",
       "19149                1              0       0          1        1        0   \n",
       "\n",
       "       idade_3  IMC_1  IMC_2  IMC_3  \n",
       "0            1      0      0      1  \n",
       "1            1      0      1      0  \n",
       "2            0      0      1      0  \n",
       "3            0      1      0      0  \n",
       "4            0      0      0      1  \n",
       "...        ...    ...    ...    ...  \n",
       "19145        0      0      1      0  \n",
       "19146        0      0      1      0  \n",
       "19147        0      0      0      1  \n",
       "19148        1      0      1      0  \n",
       "19149        0      0      0      1  \n",
       "\n",
       "[19150 rows x 182 columns]"
      ]
     },
     "execution_count": 42,
     "metadata": {},
     "output_type": "execute_result"
    }
   ],
   "source": [
    "# Para o algoritmo não interpretar as variaveis categóricas como valores absolutos\n",
    "# used to convert categorical variables into dummy variables (can have a value of 0 or 1)\n",
    "# https://www.educative.io/answers/what-is-the-getdummies-function-in-pandas\n",
    "#\n",
    "#\n",
    "df_dummy_age_imc = dataset_por_classes\n",
    "df_dummy_age_imc = pd.get_dummies(df_dummy_age_imc,columns=['idade'])#,drop_first=True)\n",
    "df_dummy_age_imc = pd.get_dummies(df_dummy_age_imc,columns=['IMC'])#,drop_first=True)\n",
    "df_dummy_age_imc"
   ]
  },
  {
   "cell_type": "markdown",
   "metadata": {},
   "source": [
    "# Abordagem 1: Cadastro e Medidas como entrada"
   ]
  },
  {
   "cell_type": "markdown",
   "metadata": {},
   "source": [
    "## Padronizando os dados para colocar em intervalo de valores comuns na Abordagem1\n",
    "#### Standardize features by removing the mean and scaling to unit variance.\n",
    "#### many elements used in the objective function of a learning algorithm assume that all features are centered around 0 and have variance in the same order. If a feature has a variance that is orders of magnitude larger than others, it might dominate the objective function and make the estimator unable to learn from other features correctly as expected.\n",
    "\n",
    "The standard score of a sample x is calculated as:\n",
    "z = (x - mean) / standar deviation\n",
    "mean of the training samples"
   ]
  },
  {
   "cell_type": "markdown",
   "metadata": {},
   "source": [
    "#### Padronização É sensível a outliers\n",
    "É utilzada quando os dados seguem a Distribuição Gaussiana"
   ]
  },
  {
   "cell_type": "code",
   "execution_count": 43,
   "metadata": {},
   "outputs": [
    {
     "data": {
      "text/html": [
       "<div>\n",
       "<style scoped>\n",
       "    .dataframe tbody tr th:only-of-type {\n",
       "        vertical-align: middle;\n",
       "    }\n",
       "\n",
       "    .dataframe tbody tr th {\n",
       "        vertical-align: top;\n",
       "    }\n",
       "\n",
       "    .dataframe thead th {\n",
       "        text-align: right;\n",
       "    }\n",
       "</style>\n",
       "<table border=\"1\" class=\"dataframe\">\n",
       "  <thead>\n",
       "    <tr style=\"text-align: right;\">\n",
       "      <th></th>\n",
       "      <th>genero</th>\n",
       "      <th>idade</th>\n",
       "      <th>IMC</th>\n",
       "      <th>sist 9:00</th>\n",
       "      <th>sist 9:15</th>\n",
       "      <th>sist 9:30</th>\n",
       "      <th>sist 9:45</th>\n",
       "      <th>sist 10:00</th>\n",
       "      <th>sist 10:15</th>\n",
       "      <th>sist 10:30</th>\n",
       "      <th>...</th>\n",
       "      <th>diast 6:30</th>\n",
       "      <th>diast 6:45</th>\n",
       "      <th>diast 7:00</th>\n",
       "      <th>diast 7:15</th>\n",
       "      <th>diast 7:30</th>\n",
       "      <th>diast 7:45</th>\n",
       "      <th>diast 8:00</th>\n",
       "      <th>diast 8:15</th>\n",
       "      <th>diast 8:30</th>\n",
       "      <th>diast 8:45</th>\n",
       "    </tr>\n",
       "  </thead>\n",
       "  <tbody>\n",
       "    <tr>\n",
       "      <th>0</th>\n",
       "      <td>1.095508</td>\n",
       "      <td>2.432844</td>\n",
       "      <td>1.122371</td>\n",
       "      <td>-1.235440</td>\n",
       "      <td>-1.075162</td>\n",
       "      <td>-0.626259</td>\n",
       "      <td>-1.317066</td>\n",
       "      <td>-1.192180</td>\n",
       "      <td>-1.641709</td>\n",
       "      <td>-1.419798</td>\n",
       "      <td>...</td>\n",
       "      <td>-2.282628</td>\n",
       "      <td>-2.181080</td>\n",
       "      <td>-1.742818</td>\n",
       "      <td>-1.493498</td>\n",
       "      <td>-1.202731</td>\n",
       "      <td>-0.834170</td>\n",
       "      <td>-1.318031</td>\n",
       "      <td>-0.790172</td>\n",
       "      <td>-1.330667</td>\n",
       "      <td>-2.156791</td>\n",
       "    </tr>\n",
       "    <tr>\n",
       "      <th>1</th>\n",
       "      <td>1.095508</td>\n",
       "      <td>0.912494</td>\n",
       "      <td>0.326553</td>\n",
       "      <td>-1.349440</td>\n",
       "      <td>-0.734744</td>\n",
       "      <td>-2.568849</td>\n",
       "      <td>-1.317066</td>\n",
       "      <td>-1.653899</td>\n",
       "      <td>-1.180969</td>\n",
       "      <td>-1.069513</td>\n",
       "      <td>...</td>\n",
       "      <td>0.001279</td>\n",
       "      <td>-0.083538</td>\n",
       "      <td>-0.156437</td>\n",
       "      <td>-0.515630</td>\n",
       "      <td>-0.784036</td>\n",
       "      <td>-1.114470</td>\n",
       "      <td>-1.389191</td>\n",
       "      <td>-0.430827</td>\n",
       "      <td>-0.748325</td>\n",
       "      <td>-0.987588</td>\n",
       "    </tr>\n",
       "    <tr>\n",
       "      <th>2</th>\n",
       "      <td>1.095508</td>\n",
       "      <td>-2.318249</td>\n",
       "      <td>-0.427379</td>\n",
       "      <td>1.158563</td>\n",
       "      <td>1.194293</td>\n",
       "      <td>1.659141</td>\n",
       "      <td>0.753063</td>\n",
       "      <td>0.192979</td>\n",
       "      <td>0.316433</td>\n",
       "      <td>-0.310562</td>\n",
       "      <td>...</td>\n",
       "      <td>0.416535</td>\n",
       "      <td>0.815409</td>\n",
       "      <td>1.154051</td>\n",
       "      <td>0.951173</td>\n",
       "      <td>0.751181</td>\n",
       "      <td>0.567335</td>\n",
       "      <td>0.460973</td>\n",
       "      <td>0.503469</td>\n",
       "      <td>0.125188</td>\n",
       "      <td>0.108541</td>\n",
       "    </tr>\n",
       "    <tr>\n",
       "      <th>3</th>\n",
       "      <td>-0.912818</td>\n",
       "      <td>-0.987943</td>\n",
       "      <td>-0.762461</td>\n",
       "      <td>0.759562</td>\n",
       "      <td>0.683666</td>\n",
       "      <td>0.859251</td>\n",
       "      <td>0.580552</td>\n",
       "      <td>0.481553</td>\n",
       "      <td>2.908092</td>\n",
       "      <td>1.265721</td>\n",
       "      <td>...</td>\n",
       "      <td>-1.728953</td>\n",
       "      <td>-1.431958</td>\n",
       "      <td>-0.984115</td>\n",
       "      <td>0.392391</td>\n",
       "      <td>1.797920</td>\n",
       "      <td>1.408238</td>\n",
       "      <td>1.030254</td>\n",
       "      <td>0.647207</td>\n",
       "      <td>0.707531</td>\n",
       "      <td>-0.622212</td>\n",
       "    </tr>\n",
       "    <tr>\n",
       "      <th>4</th>\n",
       "      <td>1.095508</td>\n",
       "      <td>-1.748118</td>\n",
       "      <td>2.672122</td>\n",
       "      <td>-0.779439</td>\n",
       "      <td>-0.961689</td>\n",
       "      <td>-1.483284</td>\n",
       "      <td>-1.087052</td>\n",
       "      <td>-0.903605</td>\n",
       "      <td>-0.893007</td>\n",
       "      <td>-0.719228</td>\n",
       "      <td>...</td>\n",
       "      <td>-0.690814</td>\n",
       "      <td>-0.158450</td>\n",
       "      <td>0.464320</td>\n",
       "      <td>1.090869</td>\n",
       "      <td>-0.714253</td>\n",
       "      <td>0.847636</td>\n",
       "      <td>0.532133</td>\n",
       "      <td>0.287862</td>\n",
       "      <td>0.052396</td>\n",
       "      <td>-0.622212</td>\n",
       "    </tr>\n",
       "    <tr>\n",
       "      <th>...</th>\n",
       "      <td>...</td>\n",
       "      <td>...</td>\n",
       "      <td>...</td>\n",
       "      <td>...</td>\n",
       "      <td>...</td>\n",
       "      <td>...</td>\n",
       "      <td>...</td>\n",
       "      <td>...</td>\n",
       "      <td>...</td>\n",
       "      <td>...</td>\n",
       "      <td>...</td>\n",
       "      <td>...</td>\n",
       "      <td>...</td>\n",
       "      <td>...</td>\n",
       "      <td>...</td>\n",
       "      <td>...</td>\n",
       "      <td>...</td>\n",
       "      <td>...</td>\n",
       "      <td>...</td>\n",
       "      <td>...</td>\n",
       "      <td>...</td>\n",
       "    </tr>\n",
       "    <tr>\n",
       "      <th>19145</th>\n",
       "      <td>1.095508</td>\n",
       "      <td>-0.544507</td>\n",
       "      <td>-0.071356</td>\n",
       "      <td>2.070564</td>\n",
       "      <td>4.031112</td>\n",
       "      <td>2.573301</td>\n",
       "      <td>1.213091</td>\n",
       "      <td>1.982142</td>\n",
       "      <td>1.698651</td>\n",
       "      <td>1.732768</td>\n",
       "      <td>...</td>\n",
       "      <td>1.939140</td>\n",
       "      <td>2.912950</td>\n",
       "      <td>3.430163</td>\n",
       "      <td>3.325997</td>\n",
       "      <td>3.193572</td>\n",
       "      <td>3.090043</td>\n",
       "      <td>3.093898</td>\n",
       "      <td>2.947013</td>\n",
       "      <td>2.818521</td>\n",
       "      <td>3.104624</td>\n",
       "    </tr>\n",
       "    <tr>\n",
       "      <th>19146</th>\n",
       "      <td>1.095508</td>\n",
       "      <td>-0.417812</td>\n",
       "      <td>-0.197011</td>\n",
       "      <td>-0.722439</td>\n",
       "      <td>-0.394325</td>\n",
       "      <td>2.116221</td>\n",
       "      <td>-0.627023</td>\n",
       "      <td>-0.441885</td>\n",
       "      <td>-0.029121</td>\n",
       "      <td>-0.193800</td>\n",
       "      <td>...</td>\n",
       "      <td>0.901000</td>\n",
       "      <td>-0.158450</td>\n",
       "      <td>-1.191034</td>\n",
       "      <td>-0.236239</td>\n",
       "      <td>-0.714253</td>\n",
       "      <td>0.497260</td>\n",
       "      <td>1.172574</td>\n",
       "      <td>1.940848</td>\n",
       "      <td>1.872215</td>\n",
       "      <td>0.912368</td>\n",
       "    </tr>\n",
       "    <tr>\n",
       "      <th>19147</th>\n",
       "      <td>-0.912818</td>\n",
       "      <td>-1.304682</td>\n",
       "      <td>1.143314</td>\n",
       "      <td>-1.121440</td>\n",
       "      <td>-0.961689</td>\n",
       "      <td>-1.369014</td>\n",
       "      <td>-1.259562</td>\n",
       "      <td>-1.076750</td>\n",
       "      <td>-0.893007</td>\n",
       "      <td>-0.719228</td>\n",
       "      <td>...</td>\n",
       "      <td>-1.728953</td>\n",
       "      <td>-1.881431</td>\n",
       "      <td>-1.811792</td>\n",
       "      <td>-1.703042</td>\n",
       "      <td>-1.830775</td>\n",
       "      <td>-1.184546</td>\n",
       "      <td>-0.819910</td>\n",
       "      <td>-1.365123</td>\n",
       "      <td>-1.185082</td>\n",
       "      <td>-1.499114</td>\n",
       "    </tr>\n",
       "    <tr>\n",
       "      <th>19148</th>\n",
       "      <td>-0.912818</td>\n",
       "      <td>0.785798</td>\n",
       "      <td>-0.594920</td>\n",
       "      <td>-1.862440</td>\n",
       "      <td>-1.131898</td>\n",
       "      <td>-0.854799</td>\n",
       "      <td>-0.166995</td>\n",
       "      <td>-0.384170</td>\n",
       "      <td>-1.872078</td>\n",
       "      <td>-1.419798</td>\n",
       "      <td>...</td>\n",
       "      <td>-0.760023</td>\n",
       "      <td>-0.907572</td>\n",
       "      <td>-0.846168</td>\n",
       "      <td>-0.096543</td>\n",
       "      <td>-0.435123</td>\n",
       "      <td>-0.694019</td>\n",
       "      <td>-0.321789</td>\n",
       "      <td>-0.430827</td>\n",
       "      <td>-0.821118</td>\n",
       "      <td>-0.987588</td>\n",
       "    </tr>\n",
       "    <tr>\n",
       "      <th>19149</th>\n",
       "      <td>1.095508</td>\n",
       "      <td>-0.417812</td>\n",
       "      <td>0.640692</td>\n",
       "      <td>-0.893439</td>\n",
       "      <td>-1.302107</td>\n",
       "      <td>-1.369014</td>\n",
       "      <td>-1.489577</td>\n",
       "      <td>-1.711614</td>\n",
       "      <td>-0.950600</td>\n",
       "      <td>-0.894370</td>\n",
       "      <td>...</td>\n",
       "      <td>-0.483186</td>\n",
       "      <td>-0.533011</td>\n",
       "      <td>-0.501303</td>\n",
       "      <td>-0.445782</td>\n",
       "      <td>-0.365340</td>\n",
       "      <td>-1.604997</td>\n",
       "      <td>-1.602671</td>\n",
       "      <td>-1.077647</td>\n",
       "      <td>-0.893910</td>\n",
       "      <td>0.108541</td>\n",
       "    </tr>\n",
       "  </tbody>\n",
       "</table>\n",
       "<p>19150 rows × 167 columns</p>\n",
       "</div>"
      ],
      "text/plain": [
       "         genero     idade       IMC  sist 9:00  sist 9:15  sist 9:30  \\\n",
       "0      1.095508  2.432844  1.122371  -1.235440  -1.075162  -0.626259   \n",
       "1      1.095508  0.912494  0.326553  -1.349440  -0.734744  -2.568849   \n",
       "2      1.095508 -2.318249 -0.427379   1.158563   1.194293   1.659141   \n",
       "3     -0.912818 -0.987943 -0.762461   0.759562   0.683666   0.859251   \n",
       "4      1.095508 -1.748118  2.672122  -0.779439  -0.961689  -1.483284   \n",
       "...         ...       ...       ...        ...        ...        ...   \n",
       "19145  1.095508 -0.544507 -0.071356   2.070564   4.031112   2.573301   \n",
       "19146  1.095508 -0.417812 -0.197011  -0.722439  -0.394325   2.116221   \n",
       "19147 -0.912818 -1.304682  1.143314  -1.121440  -0.961689  -1.369014   \n",
       "19148 -0.912818  0.785798 -0.594920  -1.862440  -1.131898  -0.854799   \n",
       "19149  1.095508 -0.417812  0.640692  -0.893439  -1.302107  -1.369014   \n",
       "\n",
       "       sist 9:45  sist 10:00  sist 10:15  sist 10:30  ...  diast 6:30  \\\n",
       "0      -1.317066   -1.192180   -1.641709   -1.419798  ...   -2.282628   \n",
       "1      -1.317066   -1.653899   -1.180969   -1.069513  ...    0.001279   \n",
       "2       0.753063    0.192979    0.316433   -0.310562  ...    0.416535   \n",
       "3       0.580552    0.481553    2.908092    1.265721  ...   -1.728953   \n",
       "4      -1.087052   -0.903605   -0.893007   -0.719228  ...   -0.690814   \n",
       "...          ...         ...         ...         ...  ...         ...   \n",
       "19145   1.213091    1.982142    1.698651    1.732768  ...    1.939140   \n",
       "19146  -0.627023   -0.441885   -0.029121   -0.193800  ...    0.901000   \n",
       "19147  -1.259562   -1.076750   -0.893007   -0.719228  ...   -1.728953   \n",
       "19148  -0.166995   -0.384170   -1.872078   -1.419798  ...   -0.760023   \n",
       "19149  -1.489577   -1.711614   -0.950600   -0.894370  ...   -0.483186   \n",
       "\n",
       "       diast 6:45  diast 7:00  diast 7:15  diast 7:30  diast 7:45  diast 8:00  \\\n",
       "0       -2.181080   -1.742818   -1.493498   -1.202731   -0.834170   -1.318031   \n",
       "1       -0.083538   -0.156437   -0.515630   -0.784036   -1.114470   -1.389191   \n",
       "2        0.815409    1.154051    0.951173    0.751181    0.567335    0.460973   \n",
       "3       -1.431958   -0.984115    0.392391    1.797920    1.408238    1.030254   \n",
       "4       -0.158450    0.464320    1.090869   -0.714253    0.847636    0.532133   \n",
       "...           ...         ...         ...         ...         ...         ...   \n",
       "19145    2.912950    3.430163    3.325997    3.193572    3.090043    3.093898   \n",
       "19146   -0.158450   -1.191034   -0.236239   -0.714253    0.497260    1.172574   \n",
       "19147   -1.881431   -1.811792   -1.703042   -1.830775   -1.184546   -0.819910   \n",
       "19148   -0.907572   -0.846168   -0.096543   -0.435123   -0.694019   -0.321789   \n",
       "19149   -0.533011   -0.501303   -0.445782   -0.365340   -1.604997   -1.602671   \n",
       "\n",
       "       diast 8:15  diast 8:30  diast 8:45  \n",
       "0       -0.790172   -1.330667   -2.156791  \n",
       "1       -0.430827   -0.748325   -0.987588  \n",
       "2        0.503469    0.125188    0.108541  \n",
       "3        0.647207    0.707531   -0.622212  \n",
       "4        0.287862    0.052396   -0.622212  \n",
       "...           ...         ...         ...  \n",
       "19145    2.947013    2.818521    3.104624  \n",
       "19146    1.940848    1.872215    0.912368  \n",
       "19147   -1.365123   -1.185082   -1.499114  \n",
       "19148   -0.430827   -0.821118   -0.987588  \n",
       "19149   -1.077647   -0.893910    0.108541  \n",
       "\n",
       "[19150 rows x 167 columns]"
      ]
     },
     "execution_count": 43,
     "metadata": {},
     "output_type": "execute_result"
    }
   ],
   "source": [
    "# Import da bib\n",
    "from sklearn.preprocessing import StandardScaler\n",
    "dados_cadastro_sem_id = dataset_cadastro.loc[:,'genero':'diast 8:45']\n",
    "colunas_padroniza = dados_cadastro_sem_id.columns\n",
    "scaler_standard =StandardScaler()\n",
    "\n",
    "df_padronizado = pd.DataFrame(scaler_standard.fit_transform(dados_cadastro_sem_id), columns=colunas_padroniza)\n",
    "df_padronizado"
   ]
  },
  {
   "cell_type": "markdown",
   "metadata": {},
   "source": [
    "## Normalizando os dados para colocar em intervalo de valores comuns na Abordagem1\n",
    "#### Normalizar é responder quantos desvios padrões o valor está longe da média."
   ]
  },
  {
   "cell_type": "markdown",
   "metadata": {},
   "source": [
    "#### “E para Random Forest? Preciso normalizar meus dados?”\n",
    "\n",
    "Deixar variáveis com escalas similares é algo importante em algoritmos que trabalham com distâncias euclidianas, como é o caso das regressões lineares multivariadas. Random Forest, como o próprio nome diz, é apenas uma coleção de “árvores”, e os processos utilizados para a geração dessas “árvores” não envolvem o uso de distâncias euclidianas. Random Forest trabalha com a técnica de particionamento recursivo.\n",
    "https://medium.com/tentando-ser-um-unic%C3%B3rnio/porqu%C3%AA-e-quando-%C3%A9-necess%C3%A1rio-normalizar-os-dados-92e5cce445aa\n",
    "\n",
    "#### Normalização NÂO é sensível a outliers, ou seja, não influencia os valores Min e Max\n",
    "É usada quando os dados NÃO seguem uma Distribuição Gaussiana.\n",
    "É útil quando o algoritmo de ML não assume nenhuma distribuição, como é caso de K-means ou quando a distância é Euclidiana"
   ]
  },
  {
   "cell_type": "code",
   "execution_count": 44,
   "metadata": {},
   "outputs": [
    {
     "data": {
      "text/html": [
       "<div>\n",
       "<style scoped>\n",
       "    .dataframe tbody tr th:only-of-type {\n",
       "        vertical-align: middle;\n",
       "    }\n",
       "\n",
       "    .dataframe tbody tr th {\n",
       "        vertical-align: top;\n",
       "    }\n",
       "\n",
       "    .dataframe thead th {\n",
       "        text-align: right;\n",
       "    }\n",
       "</style>\n",
       "<table border=\"1\" class=\"dataframe\">\n",
       "  <thead>\n",
       "    <tr style=\"text-align: right;\">\n",
       "      <th></th>\n",
       "      <th>genero</th>\n",
       "      <th>idade</th>\n",
       "      <th>IMC</th>\n",
       "      <th>sist 9:00</th>\n",
       "      <th>sist 9:15</th>\n",
       "      <th>sist 9:30</th>\n",
       "      <th>sist 9:45</th>\n",
       "      <th>sist 10:00</th>\n",
       "      <th>sist 10:15</th>\n",
       "      <th>sist 10:30</th>\n",
       "      <th>...</th>\n",
       "      <th>diast 6:30</th>\n",
       "      <th>diast 6:45</th>\n",
       "      <th>diast 7:00</th>\n",
       "      <th>diast 7:15</th>\n",
       "      <th>diast 7:30</th>\n",
       "      <th>diast 7:45</th>\n",
       "      <th>diast 8:00</th>\n",
       "      <th>diast 8:15</th>\n",
       "      <th>diast 8:30</th>\n",
       "      <th>diast 8:45</th>\n",
       "    </tr>\n",
       "  </thead>\n",
       "  <tbody>\n",
       "    <tr>\n",
       "      <th>0</th>\n",
       "      <td>1.0</td>\n",
       "      <td>0.904762</td>\n",
       "      <td>0.258523</td>\n",
       "      <td>0.217391</td>\n",
       "      <td>0.234146</td>\n",
       "      <td>0.280612</td>\n",
       "      <td>0.232044</td>\n",
       "      <td>0.255556</td>\n",
       "      <td>0.190476</td>\n",
       "      <td>0.212121</td>\n",
       "      <td>...</td>\n",
       "      <td>0.086957</td>\n",
       "      <td>0.141593</td>\n",
       "      <td>0.162791</td>\n",
       "      <td>0.213115</td>\n",
       "      <td>0.238462</td>\n",
       "      <td>0.258741</td>\n",
       "      <td>0.227273</td>\n",
       "      <td>0.300000</td>\n",
       "      <td>0.251969</td>\n",
       "      <td>0.155556</td>\n",
       "    </tr>\n",
       "    <tr>\n",
       "      <th>1</th>\n",
       "      <td>1.0</td>\n",
       "      <td>0.619048</td>\n",
       "      <td>0.204545</td>\n",
       "      <td>0.207729</td>\n",
       "      <td>0.263415</td>\n",
       "      <td>0.107143</td>\n",
       "      <td>0.232044</td>\n",
       "      <td>0.211111</td>\n",
       "      <td>0.232804</td>\n",
       "      <td>0.242424</td>\n",
       "      <td>...</td>\n",
       "      <td>0.373913</td>\n",
       "      <td>0.389381</td>\n",
       "      <td>0.341085</td>\n",
       "      <td>0.327869</td>\n",
       "      <td>0.284615</td>\n",
       "      <td>0.230769</td>\n",
       "      <td>0.219697</td>\n",
       "      <td>0.338462</td>\n",
       "      <td>0.314961</td>\n",
       "      <td>0.274074</td>\n",
       "    </tr>\n",
       "    <tr>\n",
       "      <th>2</th>\n",
       "      <td>1.0</td>\n",
       "      <td>0.011905</td>\n",
       "      <td>0.153409</td>\n",
       "      <td>0.420290</td>\n",
       "      <td>0.429268</td>\n",
       "      <td>0.484694</td>\n",
       "      <td>0.430939</td>\n",
       "      <td>0.388889</td>\n",
       "      <td>0.370370</td>\n",
       "      <td>0.308081</td>\n",
       "      <td>...</td>\n",
       "      <td>0.426087</td>\n",
       "      <td>0.495575</td>\n",
       "      <td>0.488372</td>\n",
       "      <td>0.500000</td>\n",
       "      <td>0.453846</td>\n",
       "      <td>0.398601</td>\n",
       "      <td>0.416667</td>\n",
       "      <td>0.438462</td>\n",
       "      <td>0.409449</td>\n",
       "      <td>0.385185</td>\n",
       "    </tr>\n",
       "    <tr>\n",
       "      <th>3</th>\n",
       "      <td>0.0</td>\n",
       "      <td>0.261905</td>\n",
       "      <td>0.130682</td>\n",
       "      <td>0.386473</td>\n",
       "      <td>0.385366</td>\n",
       "      <td>0.413265</td>\n",
       "      <td>0.414365</td>\n",
       "      <td>0.416667</td>\n",
       "      <td>0.608466</td>\n",
       "      <td>0.444444</td>\n",
       "      <td>...</td>\n",
       "      <td>0.156522</td>\n",
       "      <td>0.230088</td>\n",
       "      <td>0.248062</td>\n",
       "      <td>0.434426</td>\n",
       "      <td>0.569231</td>\n",
       "      <td>0.482517</td>\n",
       "      <td>0.477273</td>\n",
       "      <td>0.453846</td>\n",
       "      <td>0.472441</td>\n",
       "      <td>0.311111</td>\n",
       "    </tr>\n",
       "    <tr>\n",
       "      <th>4</th>\n",
       "      <td>1.0</td>\n",
       "      <td>0.119048</td>\n",
       "      <td>0.363636</td>\n",
       "      <td>0.256039</td>\n",
       "      <td>0.243902</td>\n",
       "      <td>0.204082</td>\n",
       "      <td>0.254144</td>\n",
       "      <td>0.283333</td>\n",
       "      <td>0.259259</td>\n",
       "      <td>0.272727</td>\n",
       "      <td>...</td>\n",
       "      <td>0.286957</td>\n",
       "      <td>0.380531</td>\n",
       "      <td>0.410853</td>\n",
       "      <td>0.516393</td>\n",
       "      <td>0.292308</td>\n",
       "      <td>0.426573</td>\n",
       "      <td>0.424242</td>\n",
       "      <td>0.415385</td>\n",
       "      <td>0.401575</td>\n",
       "      <td>0.311111</td>\n",
       "    </tr>\n",
       "    <tr>\n",
       "      <th>...</th>\n",
       "      <td>...</td>\n",
       "      <td>...</td>\n",
       "      <td>...</td>\n",
       "      <td>...</td>\n",
       "      <td>...</td>\n",
       "      <td>...</td>\n",
       "      <td>...</td>\n",
       "      <td>...</td>\n",
       "      <td>...</td>\n",
       "      <td>...</td>\n",
       "      <td>...</td>\n",
       "      <td>...</td>\n",
       "      <td>...</td>\n",
       "      <td>...</td>\n",
       "      <td>...</td>\n",
       "      <td>...</td>\n",
       "      <td>...</td>\n",
       "      <td>...</td>\n",
       "      <td>...</td>\n",
       "      <td>...</td>\n",
       "      <td>...</td>\n",
       "    </tr>\n",
       "    <tr>\n",
       "      <th>19145</th>\n",
       "      <td>1.0</td>\n",
       "      <td>0.345238</td>\n",
       "      <td>0.177557</td>\n",
       "      <td>0.497585</td>\n",
       "      <td>0.673171</td>\n",
       "      <td>0.566327</td>\n",
       "      <td>0.475138</td>\n",
       "      <td>0.561111</td>\n",
       "      <td>0.497354</td>\n",
       "      <td>0.484848</td>\n",
       "      <td>...</td>\n",
       "      <td>0.617391</td>\n",
       "      <td>0.743363</td>\n",
       "      <td>0.744186</td>\n",
       "      <td>0.778689</td>\n",
       "      <td>0.723077</td>\n",
       "      <td>0.650350</td>\n",
       "      <td>0.696970</td>\n",
       "      <td>0.700000</td>\n",
       "      <td>0.700787</td>\n",
       "      <td>0.688889</td>\n",
       "    </tr>\n",
       "    <tr>\n",
       "      <th>19146</th>\n",
       "      <td>1.0</td>\n",
       "      <td>0.369048</td>\n",
       "      <td>0.169034</td>\n",
       "      <td>0.260870</td>\n",
       "      <td>0.292683</td>\n",
       "      <td>0.525510</td>\n",
       "      <td>0.298343</td>\n",
       "      <td>0.327778</td>\n",
       "      <td>0.338624</td>\n",
       "      <td>0.318182</td>\n",
       "      <td>...</td>\n",
       "      <td>0.486957</td>\n",
       "      <td>0.380531</td>\n",
       "      <td>0.224806</td>\n",
       "      <td>0.360656</td>\n",
       "      <td>0.292308</td>\n",
       "      <td>0.391608</td>\n",
       "      <td>0.492424</td>\n",
       "      <td>0.592308</td>\n",
       "      <td>0.598425</td>\n",
       "      <td>0.466667</td>\n",
       "    </tr>\n",
       "    <tr>\n",
       "      <th>19147</th>\n",
       "      <td>0.0</td>\n",
       "      <td>0.202381</td>\n",
       "      <td>0.259943</td>\n",
       "      <td>0.227053</td>\n",
       "      <td>0.243902</td>\n",
       "      <td>0.214286</td>\n",
       "      <td>0.237569</td>\n",
       "      <td>0.266667</td>\n",
       "      <td>0.259259</td>\n",
       "      <td>0.272727</td>\n",
       "      <td>...</td>\n",
       "      <td>0.156522</td>\n",
       "      <td>0.176991</td>\n",
       "      <td>0.155039</td>\n",
       "      <td>0.188525</td>\n",
       "      <td>0.169231</td>\n",
       "      <td>0.223776</td>\n",
       "      <td>0.280303</td>\n",
       "      <td>0.238462</td>\n",
       "      <td>0.267717</td>\n",
       "      <td>0.222222</td>\n",
       "    </tr>\n",
       "    <tr>\n",
       "      <th>19148</th>\n",
       "      <td>0.0</td>\n",
       "      <td>0.595238</td>\n",
       "      <td>0.142045</td>\n",
       "      <td>0.164251</td>\n",
       "      <td>0.229268</td>\n",
       "      <td>0.260204</td>\n",
       "      <td>0.342541</td>\n",
       "      <td>0.333333</td>\n",
       "      <td>0.169312</td>\n",
       "      <td>0.212121</td>\n",
       "      <td>...</td>\n",
       "      <td>0.278261</td>\n",
       "      <td>0.292035</td>\n",
       "      <td>0.263566</td>\n",
       "      <td>0.377049</td>\n",
       "      <td>0.323077</td>\n",
       "      <td>0.272727</td>\n",
       "      <td>0.333333</td>\n",
       "      <td>0.338462</td>\n",
       "      <td>0.307087</td>\n",
       "      <td>0.274074</td>\n",
       "    </tr>\n",
       "    <tr>\n",
       "      <th>19149</th>\n",
       "      <td>1.0</td>\n",
       "      <td>0.369048</td>\n",
       "      <td>0.225852</td>\n",
       "      <td>0.246377</td>\n",
       "      <td>0.214634</td>\n",
       "      <td>0.214286</td>\n",
       "      <td>0.215470</td>\n",
       "      <td>0.205556</td>\n",
       "      <td>0.253968</td>\n",
       "      <td>0.257576</td>\n",
       "      <td>...</td>\n",
       "      <td>0.313043</td>\n",
       "      <td>0.336283</td>\n",
       "      <td>0.302326</td>\n",
       "      <td>0.336066</td>\n",
       "      <td>0.330769</td>\n",
       "      <td>0.181818</td>\n",
       "      <td>0.196970</td>\n",
       "      <td>0.269231</td>\n",
       "      <td>0.299213</td>\n",
       "      <td>0.385185</td>\n",
       "    </tr>\n",
       "  </tbody>\n",
       "</table>\n",
       "<p>19150 rows × 167 columns</p>\n",
       "</div>"
      ],
      "text/plain": [
       "       genero     idade       IMC  sist 9:00  sist 9:15  sist 9:30  sist 9:45  \\\n",
       "0         1.0  0.904762  0.258523   0.217391   0.234146   0.280612   0.232044   \n",
       "1         1.0  0.619048  0.204545   0.207729   0.263415   0.107143   0.232044   \n",
       "2         1.0  0.011905  0.153409   0.420290   0.429268   0.484694   0.430939   \n",
       "3         0.0  0.261905  0.130682   0.386473   0.385366   0.413265   0.414365   \n",
       "4         1.0  0.119048  0.363636   0.256039   0.243902   0.204082   0.254144   \n",
       "...       ...       ...       ...        ...        ...        ...        ...   \n",
       "19145     1.0  0.345238  0.177557   0.497585   0.673171   0.566327   0.475138   \n",
       "19146     1.0  0.369048  0.169034   0.260870   0.292683   0.525510   0.298343   \n",
       "19147     0.0  0.202381  0.259943   0.227053   0.243902   0.214286   0.237569   \n",
       "19148     0.0  0.595238  0.142045   0.164251   0.229268   0.260204   0.342541   \n",
       "19149     1.0  0.369048  0.225852   0.246377   0.214634   0.214286   0.215470   \n",
       "\n",
       "       sist 10:00  sist 10:15  sist 10:30  ...  diast 6:30  diast 6:45  \\\n",
       "0        0.255556    0.190476    0.212121  ...    0.086957    0.141593   \n",
       "1        0.211111    0.232804    0.242424  ...    0.373913    0.389381   \n",
       "2        0.388889    0.370370    0.308081  ...    0.426087    0.495575   \n",
       "3        0.416667    0.608466    0.444444  ...    0.156522    0.230088   \n",
       "4        0.283333    0.259259    0.272727  ...    0.286957    0.380531   \n",
       "...           ...         ...         ...  ...         ...         ...   \n",
       "19145    0.561111    0.497354    0.484848  ...    0.617391    0.743363   \n",
       "19146    0.327778    0.338624    0.318182  ...    0.486957    0.380531   \n",
       "19147    0.266667    0.259259    0.272727  ...    0.156522    0.176991   \n",
       "19148    0.333333    0.169312    0.212121  ...    0.278261    0.292035   \n",
       "19149    0.205556    0.253968    0.257576  ...    0.313043    0.336283   \n",
       "\n",
       "       diast 7:00  diast 7:15  diast 7:30  diast 7:45  diast 8:00  diast 8:15  \\\n",
       "0        0.162791    0.213115    0.238462    0.258741    0.227273    0.300000   \n",
       "1        0.341085    0.327869    0.284615    0.230769    0.219697    0.338462   \n",
       "2        0.488372    0.500000    0.453846    0.398601    0.416667    0.438462   \n",
       "3        0.248062    0.434426    0.569231    0.482517    0.477273    0.453846   \n",
       "4        0.410853    0.516393    0.292308    0.426573    0.424242    0.415385   \n",
       "...           ...         ...         ...         ...         ...         ...   \n",
       "19145    0.744186    0.778689    0.723077    0.650350    0.696970    0.700000   \n",
       "19146    0.224806    0.360656    0.292308    0.391608    0.492424    0.592308   \n",
       "19147    0.155039    0.188525    0.169231    0.223776    0.280303    0.238462   \n",
       "19148    0.263566    0.377049    0.323077    0.272727    0.333333    0.338462   \n",
       "19149    0.302326    0.336066    0.330769    0.181818    0.196970    0.269231   \n",
       "\n",
       "       diast 8:30  diast 8:45  \n",
       "0        0.251969    0.155556  \n",
       "1        0.314961    0.274074  \n",
       "2        0.409449    0.385185  \n",
       "3        0.472441    0.311111  \n",
       "4        0.401575    0.311111  \n",
       "...           ...         ...  \n",
       "19145    0.700787    0.688889  \n",
       "19146    0.598425    0.466667  \n",
       "19147    0.267717    0.222222  \n",
       "19148    0.307087    0.274074  \n",
       "19149    0.299213    0.385185  \n",
       "\n",
       "[19150 rows x 167 columns]"
      ]
     },
     "execution_count": 44,
     "metadata": {},
     "output_type": "execute_result"
    }
   ],
   "source": [
    "# Importe da bib\n",
    "from sklearn.preprocessing import MinMaxScaler\n",
    "\n",
    "colunas_normaliza = dados_cadastro_sem_id.columns\n",
    "scaler_minMax = MinMaxScaler()\n",
    "\n",
    "df_normalizado = pd.DataFrame(scaler_minMax.fit_transform(dados_cadastro_sem_id), columns=colunas_normaliza)\n",
    "df_normalizado"
   ]
  },
  {
   "cell_type": "code",
   "execution_count": 45,
   "metadata": {},
   "outputs": [],
   "source": [
    "#dados1 = (df_normalizado.loc[:,'sist 9:00':'sist 8:45'].mean(axis=1).values)\n",
    "#sm.qqplot(dados1, line='45')"
   ]
  },
  {
   "cell_type": "markdown",
   "metadata": {},
   "source": [
    "## Tipo de distribuição dos dados: histograma de cada feature"
   ]
  },
  {
   "cell_type": "code",
   "execution_count": 46,
   "metadata": {},
   "outputs": [],
   "source": [
    "# Plota Histograma de cada feature e calcula média, devio-padrão e variância\n",
    "#\n",
    "def hist(serie):\n",
    "    serie.hist()\n",
    "    print(f\"MEDIA = {serie.mean()}\")\n",
    "    print(f\"DESVIO-PADRÃO = {serie.std()}\")\n",
    "    print(f\"VARIÃNCIA = {serie.var()}\")"
   ]
  },
  {
   "cell_type": "code",
   "execution_count": 47,
   "metadata": {},
   "outputs": [
    {
     "name": "stdout",
     "output_type": "stream",
     "text": [
      "MEDIA = IMC    27.840721\n",
      "dtype: float64\n",
      "DESVIO-PADRÃO = IMC    4.775087\n",
      "dtype: float64\n",
      "VARIÃNCIA = IMC    22.801454\n",
      "dtype: float64\n"
     ]
    },
    {
     "data": {
      "image/png": "[encoded data removed]",
      "text/plain": [
       "<Figure size 432x288 with 1 Axes>"
      ]
     },
     "metadata": {},
     "output_type": "display_data"
    }
   ],
   "source": [
    "column = ['IMC']\n",
    "hist(dados_cadastro_sem_id[column])"
   ]
  },
  {
   "cell_type": "code",
   "execution_count": 48,
   "metadata": {},
   "outputs": [
    {
     "name": "stdout",
     "output_type": "stream",
     "text": [
      "MEDIA = genero    0.454517\n",
      "dtype: float64\n",
      "DESVIO-PADRÃO = genero    0.49794\n",
      "dtype: float64\n",
      "VARIÃNCIA = genero    0.247944\n",
      "dtype: float64\n"
     ]
    },
    {
     "data": {
      "image/png": "[encoded data removed]",
      "text/plain": [
       "<Figure size 432x288 with 1 Axes>"
      ]
     },
     "metadata": {},
     "output_type": "display_data"
    }
   ],
   "source": [
    "column = ['genero']\n",
    "hist(dados_cadastro_sem_id[column])"
   ]
  },
  {
   "cell_type": "code",
   "execution_count": 49,
   "metadata": {},
   "outputs": [
    {
     "name": "stdout",
     "output_type": "stream",
     "text": [
      "MEDIA = idade    55.595509\n",
      "dtype: float64\n",
      "DESVIO-PADRÃO = idade    15.786255\n",
      "dtype: float64\n",
      "VARIÃNCIA = idade    249.20585\n",
      "dtype: float64\n"
     ]
    },
    {
     "data": {
      "image/png": "[encoded data removed]",
      "text/plain": [
       "<Figure size 432x288 with 1 Axes>"
      ]
     },
     "metadata": {},
     "output_type": "display_data"
    }
   ],
   "source": [
    "column = ['idade']\n",
    "hist(dados_cadastro_sem_id[column])"
   ]
  },
  {
   "cell_type": "code",
   "execution_count": 50,
   "metadata": {},
   "outputs": [
    {
     "name": "stdout",
     "output_type": "stream",
     "text": [
      "MEDIA = idade    0.447566\n",
      "dtype: float64\n",
      "DESVIO-PADRÃO = idade    0.187932\n",
      "dtype: float64\n",
      "VARIÃNCIA = idade    0.035318\n",
      "dtype: float64\n"
     ]
    },
    {
     "data": {
      "image/png": "[encoded data removed]",
      "text/plain": [
       "<Figure size 432x288 with 1 Axes>"
      ]
     },
     "metadata": {},
     "output_type": "display_data"
    }
   ],
   "source": [
    "column = ['idade']\n",
    "hist(df_normalizado[column])"
   ]
  },
  {
   "cell_type": "code",
   "execution_count": 51,
   "metadata": {},
   "outputs": [
    {
     "name": "stdout",
     "output_type": "stream",
     "text": [
      "MEDIA = idade   -1.409954e-16\n",
      "dtype: float64\n",
      "DESVIO-PADRÃO = idade    1.000026\n",
      "dtype: float64\n",
      "VARIÃNCIA = idade    1.000052\n",
      "dtype: float64\n"
     ]
    },
    {
     "data": {
      "image/png": "[encoded data removed]",
      "text/plain": [
       "<Figure size 432x288 with 1 Axes>"
      ]
     },
     "metadata": {},
     "output_type": "display_data"
    }
   ],
   "source": [
    "column = ['idade']\n",
    "hist(df_padronizado[column])"
   ]
  },
  {
   "cell_type": "markdown",
   "metadata": {},
   "source": [
    "## Abordagem 1 com dados PADRONIZADOS: Número de Clusters gerado pelo k-Means"
   ]
  },
  {
   "cell_type": "code",
   "execution_count": 52,
   "metadata": {},
   "outputs": [
    {
     "name": "stdout",
     "output_type": "stream",
     "text": [
      "\n",
      "\n",
      "Numero otimo de cluster - Abordagem Cadastro: 7\n",
      "\n",
      "\n",
      "Tempo de execucao: 37.655 s\n",
      "\n",
      "\n",
      "[1 1 7 ... 1 3 2]\n"
     ]
    }
   ],
   "source": [
    "dados_cadastro_sem_id = dataset_cadastro.loc[:,'genero':'diast 8:45']\n",
    "dados_cadastro_sem_id = df_padronizado\n",
    "dados_cadastro_array = np.array(dados_cadastro_sem_id)\n",
    "\n",
    "grupos_cadastro_funcao = aplica_kmeans(dados_cadastro_sem_id, 'Cadastro')\n",
    "print(grupos_cadastro_funcao)\n"
   ]
  },
  {
   "cell_type": "code",
   "execution_count": 53,
   "metadata": {},
   "outputs": [
    {
     "data": {
      "text/html": [
       "<div>\n",
       "<style scoped>\n",
       "    .dataframe tbody tr th:only-of-type {\n",
       "        vertical-align: middle;\n",
       "    }\n",
       "\n",
       "    .dataframe tbody tr th {\n",
       "        vertical-align: top;\n",
       "    }\n",
       "\n",
       "    .dataframe thead th {\n",
       "        text-align: right;\n",
       "    }\n",
       "</style>\n",
       "<table border=\"1\" class=\"dataframe\">\n",
       "  <thead>\n",
       "    <tr style=\"text-align: right;\">\n",
       "      <th></th>\n",
       "      <th>genero</th>\n",
       "      <th>idade</th>\n",
       "      <th>IMC</th>\n",
       "      <th>sist 9:00</th>\n",
       "      <th>sist 9:15</th>\n",
       "      <th>sist 9:30</th>\n",
       "      <th>sist 9:45</th>\n",
       "      <th>sist 10:00</th>\n",
       "      <th>sist 10:15</th>\n",
       "      <th>sist 10:30</th>\n",
       "      <th>...</th>\n",
       "      <th>diast 6:30</th>\n",
       "      <th>diast 6:45</th>\n",
       "      <th>diast 7:00</th>\n",
       "      <th>diast 7:15</th>\n",
       "      <th>diast 7:30</th>\n",
       "      <th>diast 7:45</th>\n",
       "      <th>diast 8:00</th>\n",
       "      <th>diast 8:15</th>\n",
       "      <th>diast 8:30</th>\n",
       "      <th>diast 8:45</th>\n",
       "    </tr>\n",
       "  </thead>\n",
       "  <tbody>\n",
       "    <tr>\n",
       "      <th>0</th>\n",
       "      <td>1.095508</td>\n",
       "      <td>2.432844</td>\n",
       "      <td>1.122371</td>\n",
       "      <td>-1.235440</td>\n",
       "      <td>-1.075162</td>\n",
       "      <td>-0.626259</td>\n",
       "      <td>-1.317066</td>\n",
       "      <td>-1.192180</td>\n",
       "      <td>-1.641709</td>\n",
       "      <td>-1.419798</td>\n",
       "      <td>...</td>\n",
       "      <td>-2.282628</td>\n",
       "      <td>-2.181080</td>\n",
       "      <td>-1.742818</td>\n",
       "      <td>-1.493498</td>\n",
       "      <td>-1.202731</td>\n",
       "      <td>-0.834170</td>\n",
       "      <td>-1.318031</td>\n",
       "      <td>-0.790172</td>\n",
       "      <td>-1.330667</td>\n",
       "      <td>-2.156791</td>\n",
       "    </tr>\n",
       "    <tr>\n",
       "      <th>1</th>\n",
       "      <td>1.095508</td>\n",
       "      <td>0.912494</td>\n",
       "      <td>0.326553</td>\n",
       "      <td>-1.349440</td>\n",
       "      <td>-0.734744</td>\n",
       "      <td>-2.568849</td>\n",
       "      <td>-1.317066</td>\n",
       "      <td>-1.653899</td>\n",
       "      <td>-1.180969</td>\n",
       "      <td>-1.069513</td>\n",
       "      <td>...</td>\n",
       "      <td>0.001279</td>\n",
       "      <td>-0.083538</td>\n",
       "      <td>-0.156437</td>\n",
       "      <td>-0.515630</td>\n",
       "      <td>-0.784036</td>\n",
       "      <td>-1.114470</td>\n",
       "      <td>-1.389191</td>\n",
       "      <td>-0.430827</td>\n",
       "      <td>-0.748325</td>\n",
       "      <td>-0.987588</td>\n",
       "    </tr>\n",
       "    <tr>\n",
       "      <th>2</th>\n",
       "      <td>1.095508</td>\n",
       "      <td>-2.318249</td>\n",
       "      <td>-0.427379</td>\n",
       "      <td>1.158563</td>\n",
       "      <td>1.194293</td>\n",
       "      <td>1.659141</td>\n",
       "      <td>0.753063</td>\n",
       "      <td>0.192979</td>\n",
       "      <td>0.316433</td>\n",
       "      <td>-0.310562</td>\n",
       "      <td>...</td>\n",
       "      <td>0.416535</td>\n",
       "      <td>0.815409</td>\n",
       "      <td>1.154051</td>\n",
       "      <td>0.951173</td>\n",
       "      <td>0.751181</td>\n",
       "      <td>0.567335</td>\n",
       "      <td>0.460973</td>\n",
       "      <td>0.503469</td>\n",
       "      <td>0.125188</td>\n",
       "      <td>0.108541</td>\n",
       "    </tr>\n",
       "    <tr>\n",
       "      <th>3</th>\n",
       "      <td>-0.912818</td>\n",
       "      <td>-0.987943</td>\n",
       "      <td>-0.762461</td>\n",
       "      <td>0.759562</td>\n",
       "      <td>0.683666</td>\n",
       "      <td>0.859251</td>\n",
       "      <td>0.580552</td>\n",
       "      <td>0.481553</td>\n",
       "      <td>2.908092</td>\n",
       "      <td>1.265721</td>\n",
       "      <td>...</td>\n",
       "      <td>-1.728953</td>\n",
       "      <td>-1.431958</td>\n",
       "      <td>-0.984115</td>\n",
       "      <td>0.392391</td>\n",
       "      <td>1.797920</td>\n",
       "      <td>1.408238</td>\n",
       "      <td>1.030254</td>\n",
       "      <td>0.647207</td>\n",
       "      <td>0.707531</td>\n",
       "      <td>-0.622212</td>\n",
       "    </tr>\n",
       "    <tr>\n",
       "      <th>4</th>\n",
       "      <td>1.095508</td>\n",
       "      <td>-1.748118</td>\n",
       "      <td>2.672122</td>\n",
       "      <td>-0.779439</td>\n",
       "      <td>-0.961689</td>\n",
       "      <td>-1.483284</td>\n",
       "      <td>-1.087052</td>\n",
       "      <td>-0.903605</td>\n",
       "      <td>-0.893007</td>\n",
       "      <td>-0.719228</td>\n",
       "      <td>...</td>\n",
       "      <td>-0.690814</td>\n",
       "      <td>-0.158450</td>\n",
       "      <td>0.464320</td>\n",
       "      <td>1.090869</td>\n",
       "      <td>-0.714253</td>\n",
       "      <td>0.847636</td>\n",
       "      <td>0.532133</td>\n",
       "      <td>0.287862</td>\n",
       "      <td>0.052396</td>\n",
       "      <td>-0.622212</td>\n",
       "    </tr>\n",
       "    <tr>\n",
       "      <th>...</th>\n",
       "      <td>...</td>\n",
       "      <td>...</td>\n",
       "      <td>...</td>\n",
       "      <td>...</td>\n",
       "      <td>...</td>\n",
       "      <td>...</td>\n",
       "      <td>...</td>\n",
       "      <td>...</td>\n",
       "      <td>...</td>\n",
       "      <td>...</td>\n",
       "      <td>...</td>\n",
       "      <td>...</td>\n",
       "      <td>...</td>\n",
       "      <td>...</td>\n",
       "      <td>...</td>\n",
       "      <td>...</td>\n",
       "      <td>...</td>\n",
       "      <td>...</td>\n",
       "      <td>...</td>\n",
       "      <td>...</td>\n",
       "      <td>...</td>\n",
       "    </tr>\n",
       "    <tr>\n",
       "      <th>19145</th>\n",
       "      <td>1.095508</td>\n",
       "      <td>-0.544507</td>\n",
       "      <td>-0.071356</td>\n",
       "      <td>2.070564</td>\n",
       "      <td>4.031112</td>\n",
       "      <td>2.573301</td>\n",
       "      <td>1.213091</td>\n",
       "      <td>1.982142</td>\n",
       "      <td>1.698651</td>\n",
       "      <td>1.732768</td>\n",
       "      <td>...</td>\n",
       "      <td>1.939140</td>\n",
       "      <td>2.912950</td>\n",
       "      <td>3.430163</td>\n",
       "      <td>3.325997</td>\n",
       "      <td>3.193572</td>\n",
       "      <td>3.090043</td>\n",
       "      <td>3.093898</td>\n",
       "      <td>2.947013</td>\n",
       "      <td>2.818521</td>\n",
       "      <td>3.104624</td>\n",
       "    </tr>\n",
       "    <tr>\n",
       "      <th>19146</th>\n",
       "      <td>1.095508</td>\n",
       "      <td>-0.417812</td>\n",
       "      <td>-0.197011</td>\n",
       "      <td>-0.722439</td>\n",
       "      <td>-0.394325</td>\n",
       "      <td>2.116221</td>\n",
       "      <td>-0.627023</td>\n",
       "      <td>-0.441885</td>\n",
       "      <td>-0.029121</td>\n",
       "      <td>-0.193800</td>\n",
       "      <td>...</td>\n",
       "      <td>0.901000</td>\n",
       "      <td>-0.158450</td>\n",
       "      <td>-1.191034</td>\n",
       "      <td>-0.236239</td>\n",
       "      <td>-0.714253</td>\n",
       "      <td>0.497260</td>\n",
       "      <td>1.172574</td>\n",
       "      <td>1.940848</td>\n",
       "      <td>1.872215</td>\n",
       "      <td>0.912368</td>\n",
       "    </tr>\n",
       "    <tr>\n",
       "      <th>19147</th>\n",
       "      <td>-0.912818</td>\n",
       "      <td>-1.304682</td>\n",
       "      <td>1.143314</td>\n",
       "      <td>-1.121440</td>\n",
       "      <td>-0.961689</td>\n",
       "      <td>-1.369014</td>\n",
       "      <td>-1.259562</td>\n",
       "      <td>-1.076750</td>\n",
       "      <td>-0.893007</td>\n",
       "      <td>-0.719228</td>\n",
       "      <td>...</td>\n",
       "      <td>-1.728953</td>\n",
       "      <td>-1.881431</td>\n",
       "      <td>-1.811792</td>\n",
       "      <td>-1.703042</td>\n",
       "      <td>-1.830775</td>\n",
       "      <td>-1.184546</td>\n",
       "      <td>-0.819910</td>\n",
       "      <td>-1.365123</td>\n",
       "      <td>-1.185082</td>\n",
       "      <td>-1.499114</td>\n",
       "    </tr>\n",
       "    <tr>\n",
       "      <th>19148</th>\n",
       "      <td>-0.912818</td>\n",
       "      <td>0.785798</td>\n",
       "      <td>-0.594920</td>\n",
       "      <td>-1.862440</td>\n",
       "      <td>-1.131898</td>\n",
       "      <td>-0.854799</td>\n",
       "      <td>-0.166995</td>\n",
       "      <td>-0.384170</td>\n",
       "      <td>-1.872078</td>\n",
       "      <td>-1.419798</td>\n",
       "      <td>...</td>\n",
       "      <td>-0.760023</td>\n",
       "      <td>-0.907572</td>\n",
       "      <td>-0.846168</td>\n",
       "      <td>-0.096543</td>\n",
       "      <td>-0.435123</td>\n",
       "      <td>-0.694019</td>\n",
       "      <td>-0.321789</td>\n",
       "      <td>-0.430827</td>\n",
       "      <td>-0.821118</td>\n",
       "      <td>-0.987588</td>\n",
       "    </tr>\n",
       "    <tr>\n",
       "      <th>19149</th>\n",
       "      <td>1.095508</td>\n",
       "      <td>-0.417812</td>\n",
       "      <td>0.640692</td>\n",
       "      <td>-0.893439</td>\n",
       "      <td>-1.302107</td>\n",
       "      <td>-1.369014</td>\n",
       "      <td>-1.489577</td>\n",
       "      <td>-1.711614</td>\n",
       "      <td>-0.950600</td>\n",
       "      <td>-0.894370</td>\n",
       "      <td>...</td>\n",
       "      <td>-0.483186</td>\n",
       "      <td>-0.533011</td>\n",
       "      <td>-0.501303</td>\n",
       "      <td>-0.445782</td>\n",
       "      <td>-0.365340</td>\n",
       "      <td>-1.604997</td>\n",
       "      <td>-1.602671</td>\n",
       "      <td>-1.077647</td>\n",
       "      <td>-0.893910</td>\n",
       "      <td>0.108541</td>\n",
       "    </tr>\n",
       "  </tbody>\n",
       "</table>\n",
       "<p>19150 rows × 167 columns</p>\n",
       "</div>"
      ],
      "text/plain": [
       "         genero     idade       IMC  sist 9:00  sist 9:15  sist 9:30  \\\n",
       "0      1.095508  2.432844  1.122371  -1.235440  -1.075162  -0.626259   \n",
       "1      1.095508  0.912494  0.326553  -1.349440  -0.734744  -2.568849   \n",
       "2      1.095508 -2.318249 -0.427379   1.158563   1.194293   1.659141   \n",
       "3     -0.912818 -0.987943 -0.762461   0.759562   0.683666   0.859251   \n",
       "4      1.095508 -1.748118  2.672122  -0.779439  -0.961689  -1.483284   \n",
       "...         ...       ...       ...        ...        ...        ...   \n",
       "19145  1.095508 -0.544507 -0.071356   2.070564   4.031112   2.573301   \n",
       "19146  1.095508 -0.417812 -0.197011  -0.722439  -0.394325   2.116221   \n",
       "19147 -0.912818 -1.304682  1.143314  -1.121440  -0.961689  -1.369014   \n",
       "19148 -0.912818  0.785798 -0.594920  -1.862440  -1.131898  -0.854799   \n",
       "19149  1.095508 -0.417812  0.640692  -0.893439  -1.302107  -1.369014   \n",
       "\n",
       "       sist 9:45  sist 10:00  sist 10:15  sist 10:30  ...  diast 6:30  \\\n",
       "0      -1.317066   -1.192180   -1.641709   -1.419798  ...   -2.282628   \n",
       "1      -1.317066   -1.653899   -1.180969   -1.069513  ...    0.001279   \n",
       "2       0.753063    0.192979    0.316433   -0.310562  ...    0.416535   \n",
       "3       0.580552    0.481553    2.908092    1.265721  ...   -1.728953   \n",
       "4      -1.087052   -0.903605   -0.893007   -0.719228  ...   -0.690814   \n",
       "...          ...         ...         ...         ...  ...         ...   \n",
       "19145   1.213091    1.982142    1.698651    1.732768  ...    1.939140   \n",
       "19146  -0.627023   -0.441885   -0.029121   -0.193800  ...    0.901000   \n",
       "19147  -1.259562   -1.076750   -0.893007   -0.719228  ...   -1.728953   \n",
       "19148  -0.166995   -0.384170   -1.872078   -1.419798  ...   -0.760023   \n",
       "19149  -1.489577   -1.711614   -0.950600   -0.894370  ...   -0.483186   \n",
       "\n",
       "       diast 6:45  diast 7:00  diast 7:15  diast 7:30  diast 7:45  diast 8:00  \\\n",
       "0       -2.181080   -1.742818   -1.493498   -1.202731   -0.834170   -1.318031   \n",
       "1       -0.083538   -0.156437   -0.515630   -0.784036   -1.114470   -1.389191   \n",
       "2        0.815409    1.154051    0.951173    0.751181    0.567335    0.460973   \n",
       "3       -1.431958   -0.984115    0.392391    1.797920    1.408238    1.030254   \n",
       "4       -0.158450    0.464320    1.090869   -0.714253    0.847636    0.532133   \n",
       "...           ...         ...         ...         ...         ...         ...   \n",
       "19145    2.912950    3.430163    3.325997    3.193572    3.090043    3.093898   \n",
       "19146   -0.158450   -1.191034   -0.236239   -0.714253    0.497260    1.172574   \n",
       "19147   -1.881431   -1.811792   -1.703042   -1.830775   -1.184546   -0.819910   \n",
       "19148   -0.907572   -0.846168   -0.096543   -0.435123   -0.694019   -0.321789   \n",
       "19149   -0.533011   -0.501303   -0.445782   -0.365340   -1.604997   -1.602671   \n",
       "\n",
       "       diast 8:15  diast 8:30  diast 8:45  \n",
       "0       -0.790172   -1.330667   -2.156791  \n",
       "1       -0.430827   -0.748325   -0.987588  \n",
       "2        0.503469    0.125188    0.108541  \n",
       "3        0.647207    0.707531   -0.622212  \n",
       "4        0.287862    0.052396   -0.622212  \n",
       "...           ...         ...         ...  \n",
       "19145    2.947013    2.818521    3.104624  \n",
       "19146    1.940848    1.872215    0.912368  \n",
       "19147   -1.365123   -1.185082   -1.499114  \n",
       "19148   -0.430827   -0.821118   -0.987588  \n",
       "19149   -1.077647   -0.893910    0.108541  \n",
       "\n",
       "[19150 rows x 167 columns]"
      ]
     },
     "execution_count": 53,
     "metadata": {},
     "output_type": "execute_result"
    }
   ],
   "source": [
    "#dados_cadastro_sem_id = dataset_cadastro.loc[:,'genero':'diast 8:45']\n",
    "dados_cadastro_sem_id "
   ]
  },
  {
   "cell_type": "code",
   "execution_count": 54,
   "metadata": {},
   "outputs": [
    {
     "data": {
      "image/png": "[encoded data removed]",
      "text/plain": [
       "<Figure size 432x288 with 1 Axes>"
      ]
     },
     "metadata": {},
     "output_type": "display_data"
    }
   ],
   "source": [
    "grupos = grupos_cadastro_funcao\n",
    "abordagem = 'Cadastro e Medidas'\n",
    "caminho = DIR_KMEANS / 'graficos' / \"padrao\" / f'grafico_kmeans_grupo_padrao_pacientes_{abordagem.lower().replace(\" \",\"_\")}.svg'\n",
    "classes_cadastro = grafico_barras_grupos(grupos,abordagem,caminho)"
   ]
  },
  {
   "cell_type": "code",
   "execution_count": 55,
   "metadata": {},
   "outputs": [
    {
     "name": "stdout",
     "output_type": "stream",
     "text": [
      "<class 'pandas.core.frame.DataFrame'>\n",
      "RangeIndex: 19150 entries, 0 to 19149\n",
      "Columns: 167 entries, genero to diast 8:45\n",
      "dtypes: float64(167)\n",
      "memory usage: 24.4 MB\n"
     ]
    }
   ],
   "source": [
    "dados_cadastro_sem_id.info()"
   ]
  },
  {
   "cell_type": "code",
   "execution_count": 56,
   "metadata": {},
   "outputs": [],
   "source": [
    "#grupos = grupos_cadastro_funcao\n",
    "#abordagem = 'Abordagem Cadastro e Medidas'\n",
    "#caminho = DIR_KMEANS / 'graficos' / 'grafico_Random_Abordagem1_pacientes_por_grupos.svg'\n",
    "#classes_cadastro = grafico_barras_grupos(grupos,abordagem,caminho)"
   ]
  },
  {
   "cell_type": "code",
   "execution_count": 57,
   "metadata": {},
   "outputs": [
    {
     "data": {
      "image/png": "[encoded data removed]",
      "text/plain": [
       "<Figure size 432x288 with 1 Axes>"
      ]
     },
     "metadata": {},
     "output_type": "display_data"
    },
    {
     "name": "stdout",
     "output_type": "stream",
     "text": [
      "Tempo de execucao: 33.082 s\n",
      "\n",
      "\n"
     ]
    }
   ],
   "source": [
    "# Elbow com dados PADRONALIZADOS\n",
    "#\n",
    "grupos = grupos_cadastro_funcao\n",
    "abordagem = 'Cadastro e Medidas'\n",
    "caminho = DIR_KMEANS / 'graficos' / f'metodo_elbow_padrao_{abordagem.lower().replace(\" \",\"_\")}.svg'\n",
    "aplica_elbow(dados_cadastro_sem_id,abordagem,caminho)"
   ]
  },
  {
   "cell_type": "code",
   "execution_count": 58,
   "metadata": {},
   "outputs": [],
   "source": [
    "#grupos = grupos_cadastro_funcao\n",
    "#abordagem = 'Abordagem Cadastro e Medidas'\n",
    "#caminho = DIR_KMEANS / 'graficos' / f'metodo_elbow_{abordagem.lower().replace(\" \",\"_\")}.svg'\n",
    "#aplica_elbow(dados_cadastro_sem_id,abordagem,caminho)"
   ]
  },
  {
   "cell_type": "markdown",
   "metadata": {},
   "source": [
    "### Abordagem 1 com dados PADRONIZADOS: Silhouette"
   ]
  },
  {
   "cell_type": "code",
   "execution_count": 59,
   "metadata": {},
   "outputs": [],
   "source": [
    "#classes_cadastro\n",
    "#grupos = grupos_cadastro_funcao\n",
    "#abordagem = 'Abordagem Cadastro e Medidas'\n",
    "##caminho = DIR_KMEANS / 'graficos' / f'metodoelbow_cadastro.svg'\n",
    "#aplica_silhouette(dados_cadastro_sem_id,grupos,abordagem)"
   ]
  },
  {
   "cell_type": "code",
   "execution_count": 60,
   "metadata": {},
   "outputs": [
    {
     "data": {
      "text/html": [
       "<div>\n",
       "<style scoped>\n",
       "    .dataframe tbody tr th:only-of-type {\n",
       "        vertical-align: middle;\n",
       "    }\n",
       "\n",
       "    .dataframe tbody tr th {\n",
       "        vertical-align: top;\n",
       "    }\n",
       "\n",
       "    .dataframe thead th {\n",
       "        text-align: right;\n",
       "    }\n",
       "</style>\n",
       "<table border=\"1\" class=\"dataframe\">\n",
       "  <thead>\n",
       "    <tr style=\"text-align: right;\">\n",
       "      <th></th>\n",
       "      <th>genero</th>\n",
       "      <th>idade</th>\n",
       "      <th>IMC</th>\n",
       "      <th>sist 9:00</th>\n",
       "      <th>sist 9:15</th>\n",
       "      <th>sist 9:30</th>\n",
       "      <th>sist 9:45</th>\n",
       "      <th>sist 10:00</th>\n",
       "      <th>sist 10:15</th>\n",
       "      <th>sist 10:30</th>\n",
       "      <th>...</th>\n",
       "      <th>diast 6:30</th>\n",
       "      <th>diast 6:45</th>\n",
       "      <th>diast 7:00</th>\n",
       "      <th>diast 7:15</th>\n",
       "      <th>diast 7:30</th>\n",
       "      <th>diast 7:45</th>\n",
       "      <th>diast 8:00</th>\n",
       "      <th>diast 8:15</th>\n",
       "      <th>diast 8:30</th>\n",
       "      <th>diast 8:45</th>\n",
       "    </tr>\n",
       "  </thead>\n",
       "  <tbody>\n",
       "    <tr>\n",
       "      <th>0</th>\n",
       "      <td>1.095508</td>\n",
       "      <td>2.432844</td>\n",
       "      <td>1.122371</td>\n",
       "      <td>-1.235440</td>\n",
       "      <td>-1.075162</td>\n",
       "      <td>-0.626259</td>\n",
       "      <td>-1.317066</td>\n",
       "      <td>-1.192180</td>\n",
       "      <td>-1.641709</td>\n",
       "      <td>-1.419798</td>\n",
       "      <td>...</td>\n",
       "      <td>-2.282628</td>\n",
       "      <td>-2.181080</td>\n",
       "      <td>-1.742818</td>\n",
       "      <td>-1.493498</td>\n",
       "      <td>-1.202731</td>\n",
       "      <td>-0.834170</td>\n",
       "      <td>-1.318031</td>\n",
       "      <td>-0.790172</td>\n",
       "      <td>-1.330667</td>\n",
       "      <td>-2.156791</td>\n",
       "    </tr>\n",
       "    <tr>\n",
       "      <th>1</th>\n",
       "      <td>1.095508</td>\n",
       "      <td>0.912494</td>\n",
       "      <td>0.326553</td>\n",
       "      <td>-1.349440</td>\n",
       "      <td>-0.734744</td>\n",
       "      <td>-2.568849</td>\n",
       "      <td>-1.317066</td>\n",
       "      <td>-1.653899</td>\n",
       "      <td>-1.180969</td>\n",
       "      <td>-1.069513</td>\n",
       "      <td>...</td>\n",
       "      <td>0.001279</td>\n",
       "      <td>-0.083538</td>\n",
       "      <td>-0.156437</td>\n",
       "      <td>-0.515630</td>\n",
       "      <td>-0.784036</td>\n",
       "      <td>-1.114470</td>\n",
       "      <td>-1.389191</td>\n",
       "      <td>-0.430827</td>\n",
       "      <td>-0.748325</td>\n",
       "      <td>-0.987588</td>\n",
       "    </tr>\n",
       "    <tr>\n",
       "      <th>2</th>\n",
       "      <td>1.095508</td>\n",
       "      <td>-2.318249</td>\n",
       "      <td>-0.427379</td>\n",
       "      <td>1.158563</td>\n",
       "      <td>1.194293</td>\n",
       "      <td>1.659141</td>\n",
       "      <td>0.753063</td>\n",
       "      <td>0.192979</td>\n",
       "      <td>0.316433</td>\n",
       "      <td>-0.310562</td>\n",
       "      <td>...</td>\n",
       "      <td>0.416535</td>\n",
       "      <td>0.815409</td>\n",
       "      <td>1.154051</td>\n",
       "      <td>0.951173</td>\n",
       "      <td>0.751181</td>\n",
       "      <td>0.567335</td>\n",
       "      <td>0.460973</td>\n",
       "      <td>0.503469</td>\n",
       "      <td>0.125188</td>\n",
       "      <td>0.108541</td>\n",
       "    </tr>\n",
       "    <tr>\n",
       "      <th>3</th>\n",
       "      <td>-0.912818</td>\n",
       "      <td>-0.987943</td>\n",
       "      <td>-0.762461</td>\n",
       "      <td>0.759562</td>\n",
       "      <td>0.683666</td>\n",
       "      <td>0.859251</td>\n",
       "      <td>0.580552</td>\n",
       "      <td>0.481553</td>\n",
       "      <td>2.908092</td>\n",
       "      <td>1.265721</td>\n",
       "      <td>...</td>\n",
       "      <td>-1.728953</td>\n",
       "      <td>-1.431958</td>\n",
       "      <td>-0.984115</td>\n",
       "      <td>0.392391</td>\n",
       "      <td>1.797920</td>\n",
       "      <td>1.408238</td>\n",
       "      <td>1.030254</td>\n",
       "      <td>0.647207</td>\n",
       "      <td>0.707531</td>\n",
       "      <td>-0.622212</td>\n",
       "    </tr>\n",
       "    <tr>\n",
       "      <th>4</th>\n",
       "      <td>1.095508</td>\n",
       "      <td>-1.748118</td>\n",
       "      <td>2.672122</td>\n",
       "      <td>-0.779439</td>\n",
       "      <td>-0.961689</td>\n",
       "      <td>-1.483284</td>\n",
       "      <td>-1.087052</td>\n",
       "      <td>-0.903605</td>\n",
       "      <td>-0.893007</td>\n",
       "      <td>-0.719228</td>\n",
       "      <td>...</td>\n",
       "      <td>-0.690814</td>\n",
       "      <td>-0.158450</td>\n",
       "      <td>0.464320</td>\n",
       "      <td>1.090869</td>\n",
       "      <td>-0.714253</td>\n",
       "      <td>0.847636</td>\n",
       "      <td>0.532133</td>\n",
       "      <td>0.287862</td>\n",
       "      <td>0.052396</td>\n",
       "      <td>-0.622212</td>\n",
       "    </tr>\n",
       "    <tr>\n",
       "      <th>...</th>\n",
       "      <td>...</td>\n",
       "      <td>...</td>\n",
       "      <td>...</td>\n",
       "      <td>...</td>\n",
       "      <td>...</td>\n",
       "      <td>...</td>\n",
       "      <td>...</td>\n",
       "      <td>...</td>\n",
       "      <td>...</td>\n",
       "      <td>...</td>\n",
       "      <td>...</td>\n",
       "      <td>...</td>\n",
       "      <td>...</td>\n",
       "      <td>...</td>\n",
       "      <td>...</td>\n",
       "      <td>...</td>\n",
       "      <td>...</td>\n",
       "      <td>...</td>\n",
       "      <td>...</td>\n",
       "      <td>...</td>\n",
       "      <td>...</td>\n",
       "    </tr>\n",
       "    <tr>\n",
       "      <th>19145</th>\n",
       "      <td>1.095508</td>\n",
       "      <td>-0.544507</td>\n",
       "      <td>-0.071356</td>\n",
       "      <td>2.070564</td>\n",
       "      <td>4.031112</td>\n",
       "      <td>2.573301</td>\n",
       "      <td>1.213091</td>\n",
       "      <td>1.982142</td>\n",
       "      <td>1.698651</td>\n",
       "      <td>1.732768</td>\n",
       "      <td>...</td>\n",
       "      <td>1.939140</td>\n",
       "      <td>2.912950</td>\n",
       "      <td>3.430163</td>\n",
       "      <td>3.325997</td>\n",
       "      <td>3.193572</td>\n",
       "      <td>3.090043</td>\n",
       "      <td>3.093898</td>\n",
       "      <td>2.947013</td>\n",
       "      <td>2.818521</td>\n",
       "      <td>3.104624</td>\n",
       "    </tr>\n",
       "    <tr>\n",
       "      <th>19146</th>\n",
       "      <td>1.095508</td>\n",
       "      <td>-0.417812</td>\n",
       "      <td>-0.197011</td>\n",
       "      <td>-0.722439</td>\n",
       "      <td>-0.394325</td>\n",
       "      <td>2.116221</td>\n",
       "      <td>-0.627023</td>\n",
       "      <td>-0.441885</td>\n",
       "      <td>-0.029121</td>\n",
       "      <td>-0.193800</td>\n",
       "      <td>...</td>\n",
       "      <td>0.901000</td>\n",
       "      <td>-0.158450</td>\n",
       "      <td>-1.191034</td>\n",
       "      <td>-0.236239</td>\n",
       "      <td>-0.714253</td>\n",
       "      <td>0.497260</td>\n",
       "      <td>1.172574</td>\n",
       "      <td>1.940848</td>\n",
       "      <td>1.872215</td>\n",
       "      <td>0.912368</td>\n",
       "    </tr>\n",
       "    <tr>\n",
       "      <th>19147</th>\n",
       "      <td>-0.912818</td>\n",
       "      <td>-1.304682</td>\n",
       "      <td>1.143314</td>\n",
       "      <td>-1.121440</td>\n",
       "      <td>-0.961689</td>\n",
       "      <td>-1.369014</td>\n",
       "      <td>-1.259562</td>\n",
       "      <td>-1.076750</td>\n",
       "      <td>-0.893007</td>\n",
       "      <td>-0.719228</td>\n",
       "      <td>...</td>\n",
       "      <td>-1.728953</td>\n",
       "      <td>-1.881431</td>\n",
       "      <td>-1.811792</td>\n",
       "      <td>-1.703042</td>\n",
       "      <td>-1.830775</td>\n",
       "      <td>-1.184546</td>\n",
       "      <td>-0.819910</td>\n",
       "      <td>-1.365123</td>\n",
       "      <td>-1.185082</td>\n",
       "      <td>-1.499114</td>\n",
       "    </tr>\n",
       "    <tr>\n",
       "      <th>19148</th>\n",
       "      <td>-0.912818</td>\n",
       "      <td>0.785798</td>\n",
       "      <td>-0.594920</td>\n",
       "      <td>-1.862440</td>\n",
       "      <td>-1.131898</td>\n",
       "      <td>-0.854799</td>\n",
       "      <td>-0.166995</td>\n",
       "      <td>-0.384170</td>\n",
       "      <td>-1.872078</td>\n",
       "      <td>-1.419798</td>\n",
       "      <td>...</td>\n",
       "      <td>-0.760023</td>\n",
       "      <td>-0.907572</td>\n",
       "      <td>-0.846168</td>\n",
       "      <td>-0.096543</td>\n",
       "      <td>-0.435123</td>\n",
       "      <td>-0.694019</td>\n",
       "      <td>-0.321789</td>\n",
       "      <td>-0.430827</td>\n",
       "      <td>-0.821118</td>\n",
       "      <td>-0.987588</td>\n",
       "    </tr>\n",
       "    <tr>\n",
       "      <th>19149</th>\n",
       "      <td>1.095508</td>\n",
       "      <td>-0.417812</td>\n",
       "      <td>0.640692</td>\n",
       "      <td>-0.893439</td>\n",
       "      <td>-1.302107</td>\n",
       "      <td>-1.369014</td>\n",
       "      <td>-1.489577</td>\n",
       "      <td>-1.711614</td>\n",
       "      <td>-0.950600</td>\n",
       "      <td>-0.894370</td>\n",
       "      <td>...</td>\n",
       "      <td>-0.483186</td>\n",
       "      <td>-0.533011</td>\n",
       "      <td>-0.501303</td>\n",
       "      <td>-0.445782</td>\n",
       "      <td>-0.365340</td>\n",
       "      <td>-1.604997</td>\n",
       "      <td>-1.602671</td>\n",
       "      <td>-1.077647</td>\n",
       "      <td>-0.893910</td>\n",
       "      <td>0.108541</td>\n",
       "    </tr>\n",
       "  </tbody>\n",
       "</table>\n",
       "<p>19150 rows × 167 columns</p>\n",
       "</div>"
      ],
      "text/plain": [
       "         genero     idade       IMC  sist 9:00  sist 9:15  sist 9:30  \\\n",
       "0      1.095508  2.432844  1.122371  -1.235440  -1.075162  -0.626259   \n",
       "1      1.095508  0.912494  0.326553  -1.349440  -0.734744  -2.568849   \n",
       "2      1.095508 -2.318249 -0.427379   1.158563   1.194293   1.659141   \n",
       "3     -0.912818 -0.987943 -0.762461   0.759562   0.683666   0.859251   \n",
       "4      1.095508 -1.748118  2.672122  -0.779439  -0.961689  -1.483284   \n",
       "...         ...       ...       ...        ...        ...        ...   \n",
       "19145  1.095508 -0.544507 -0.071356   2.070564   4.031112   2.573301   \n",
       "19146  1.095508 -0.417812 -0.197011  -0.722439  -0.394325   2.116221   \n",
       "19147 -0.912818 -1.304682  1.143314  -1.121440  -0.961689  -1.369014   \n",
       "19148 -0.912818  0.785798 -0.594920  -1.862440  -1.131898  -0.854799   \n",
       "19149  1.095508 -0.417812  0.640692  -0.893439  -1.302107  -1.369014   \n",
       "\n",
       "       sist 9:45  sist 10:00  sist 10:15  sist 10:30  ...  diast 6:30  \\\n",
       "0      -1.317066   -1.192180   -1.641709   -1.419798  ...   -2.282628   \n",
       "1      -1.317066   -1.653899   -1.180969   -1.069513  ...    0.001279   \n",
       "2       0.753063    0.192979    0.316433   -0.310562  ...    0.416535   \n",
       "3       0.580552    0.481553    2.908092    1.265721  ...   -1.728953   \n",
       "4      -1.087052   -0.903605   -0.893007   -0.719228  ...   -0.690814   \n",
       "...          ...         ...         ...         ...  ...         ...   \n",
       "19145   1.213091    1.982142    1.698651    1.732768  ...    1.939140   \n",
       "19146  -0.627023   -0.441885   -0.029121   -0.193800  ...    0.901000   \n",
       "19147  -1.259562   -1.076750   -0.893007   -0.719228  ...   -1.728953   \n",
       "19148  -0.166995   -0.384170   -1.872078   -1.419798  ...   -0.760023   \n",
       "19149  -1.489577   -1.711614   -0.950600   -0.894370  ...   -0.483186   \n",
       "\n",
       "       diast 6:45  diast 7:00  diast 7:15  diast 7:30  diast 7:45  diast 8:00  \\\n",
       "0       -2.181080   -1.742818   -1.493498   -1.202731   -0.834170   -1.318031   \n",
       "1       -0.083538   -0.156437   -0.515630   -0.784036   -1.114470   -1.389191   \n",
       "2        0.815409    1.154051    0.951173    0.751181    0.567335    0.460973   \n",
       "3       -1.431958   -0.984115    0.392391    1.797920    1.408238    1.030254   \n",
       "4       -0.158450    0.464320    1.090869   -0.714253    0.847636    0.532133   \n",
       "...           ...         ...         ...         ...         ...         ...   \n",
       "19145    2.912950    3.430163    3.325997    3.193572    3.090043    3.093898   \n",
       "19146   -0.158450   -1.191034   -0.236239   -0.714253    0.497260    1.172574   \n",
       "19147   -1.881431   -1.811792   -1.703042   -1.830775   -1.184546   -0.819910   \n",
       "19148   -0.907572   -0.846168   -0.096543   -0.435123   -0.694019   -0.321789   \n",
       "19149   -0.533011   -0.501303   -0.445782   -0.365340   -1.604997   -1.602671   \n",
       "\n",
       "       diast 8:15  diast 8:30  diast 8:45  \n",
       "0       -0.790172   -1.330667   -2.156791  \n",
       "1       -0.430827   -0.748325   -0.987588  \n",
       "2        0.503469    0.125188    0.108541  \n",
       "3        0.647207    0.707531   -0.622212  \n",
       "4        0.287862    0.052396   -0.622212  \n",
       "...           ...         ...         ...  \n",
       "19145    2.947013    2.818521    3.104624  \n",
       "19146    1.940848    1.872215    0.912368  \n",
       "19147   -1.365123   -1.185082   -1.499114  \n",
       "19148   -0.430827   -0.821118   -0.987588  \n",
       "19149   -1.077647   -0.893910    0.108541  \n",
       "\n",
       "[19150 rows x 167 columns]"
      ]
     },
     "execution_count": 60,
     "metadata": {},
     "output_type": "execute_result"
    }
   ],
   "source": [
    "dados_cadastro_sem_id"
   ]
  },
  {
   "cell_type": "code",
   "execution_count": 61,
   "metadata": {},
   "outputs": [
    {
     "ename": "TypeError",
     "evalue": "aplica_random_forest() missing 1 required positional argument: 'num_kfold'",
     "output_type": "error",
     "traceback": [
      "\u001b[1;31m---------------------------------------------------------------------------\u001b[0m",
      "\u001b[1;31mTypeError\u001b[0m                                 Traceback (most recent call last)",
      "\u001b[1;32m<ipython-input-61-00e142e797f3>\u001b[0m in \u001b[0;36m<module>\u001b[1;34m\u001b[0m\n\u001b[0;32m      5\u001b[0m \u001b[0mabordagem\u001b[0m \u001b[1;33m=\u001b[0m \u001b[1;34m'Cadastro e Medidas'\u001b[0m\u001b[1;33m\u001b[0m\u001b[1;33m\u001b[0m\u001b[0m\n\u001b[0;32m      6\u001b[0m \u001b[1;31m#caminho = DIR_KMEANS / 'graficos' / f'metodoelbow_cadastro.svg'\u001b[0m\u001b[1;33m\u001b[0m\u001b[1;33m\u001b[0m\u001b[1;33m\u001b[0m\u001b[0m\n\u001b[1;32m----> 7\u001b[1;33m \u001b[0mimportancia_cadastro\u001b[0m \u001b[1;33m=\u001b[0m \u001b[0maplica_random_forest\u001b[0m\u001b[1;33m(\u001b[0m\u001b[0mdados_cadastro_sem_id\u001b[0m\u001b[1;33m,\u001b[0m\u001b[0mgrupos\u001b[0m\u001b[1;33m,\u001b[0m\u001b[0mabordagem\u001b[0m\u001b[1;33m,\u001b[0m\u001b[0mclasses_cadastro\u001b[0m\u001b[1;33m)\u001b[0m\u001b[1;33m\u001b[0m\u001b[1;33m\u001b[0m\u001b[0m\n\u001b[0m",
      "\u001b[1;31mTypeError\u001b[0m: aplica_random_forest() missing 1 required positional argument: 'num_kfold'"
     ]
    }
   ],
   "source": [
    "# Random Forest com dados PADRONIZADOS\n",
    "#\n",
    "classes_cadastro\n",
    "grupos = grupos_cadastro_funcao\n",
    "abordagem = 'Cadastro e Medidas'\n",
    "#caminho = DIR_KMEANS / 'graficos' / f'metodoelbow_cadastro.svg'\n",
    "importancia_cadastro = aplica_random_forest(dados_cadastro_sem_id,grupos,abordagem,classes_cadastro)"
   ]
  },
  {
   "cell_type": "markdown",
   "metadata": {},
   "source": [
    "## Random Forest com dados PADRONIZADOS - kfold"
   ]
  },
  {
   "cell_type": "code",
   "execution_count": null,
   "metadata": {},
   "outputs": [],
   "source": [
    "def aplica_random_forest_kfold(dados_sem_id,grupos,abordagem,classes):\n",
    "    dados_array = np.array(dados_sem_id)\n",
    "    random_forest = RandomForestClassifier(n_estimators=50)\n",
    "    \n",
    "    train_ratio = 0.75\n",
    "    validation_ratio = 0.15\n",
    "    test_ratio = 0.10\n",
    "\n",
    "    # separar train(75%) - 14.485, test (10%) - 7.726  and validation (15%) - 11.588\n",
    "    #  O parâmetro random_state=42 garante o rastreio do numero de identificação\n",
    "    # \n",
    "    x_train, x_test, y_train, y_test = train_test_split(dados_array,grupos,test_size=1-train_ratio,random_state=42)\n",
    "    x_val, x_test, y_val, y_test = train_test_split(dados_array,grupos,test_size=test_ratio/(test_ratio + validation_ratio),random_state=42)\n",
    "    \n",
    "    #treino\n",
    "    random_forest.fit(x_train, y_train)\n",
    "    \n",
    "    #calcular acuracia, recall e f1\n",
    "    y_prev_val = random_forest.predict(x_val)\n",
    "\n",
    "    accuracy = np.round(accuracy_score(y_val, y_prev_val),2)\n",
    "    recall = np.round(recall_score(y_val, y_prev_val,average='macro'),2)\n",
    "    f1 = np.round(f1_score(y_val, y_prev_val,average='macro'),2)\n",
    "    \n",
    "    \n",
    "    \n",
    "    print(\"\\n\\n=================Validação==============\\n\\n\")\n",
    "    print(f'Accuracy: {accuracy:.2f} - Recall: {recall:.2f} - F1 Score: {f1:.2f}\\n\\n')\n",
    "    \n",
    "    #Matriz de Confusão Validação\n",
    "    mat=list(metrics.confusion_matrix(y_val, y_prev_val, labels=classes))\n",
    "    df_confusion_matrix_val = pd.DataFrame(mat,index = classes, columns = classes)\n",
    "    \n",
    "    print(df_confusion_matrix_val)\n",
    "    \n",
    "    #calcular acuracia, recall e f1\n",
    "    y_prev_test = random_forest.predict(x_test)\n",
    "\n",
    "    accuracy = np.round(accuracy_score(y_test, y_prev_test),2)\n",
    "    recall = np.round(recall_score(y_test, y_prev_test,average='macro'),2)\n",
    "    f1 = np.round(f1_score(y_test, y_prev_test,average='macro'),2)\n",
    "    \n",
    "    \n",
    "    \n",
    "    print(\"\\n\\n=================Teste==============\\n\\n\")\n",
    "    print(f'Accuracy: {accuracy:.2f} - Recall: {recall:.2f} - F1 Score: {f1:.2f}\\n\\n')\n",
    "    \n",
    "    #Matriz da Confusão Teste\n",
    "    mat=list(metrics.confusion_matrix(y_test, y_prev_test, labels=classes))\n",
    "    df_confusion_matrix_test = pd.DataFrame(mat,index = classes, columns = classes)\n",
    "    \n",
    "    print(df_confusion_matrix_test)\n",
    "    \n",
    "    \n",
    "    \n",
    "    ##validacao\n",
    "    #pacientes_validacao_diast_sisto = x_val[['numero_identificacao']]\n",
    "    #pacientes_validacao_diast_sisto['Grupo_Real'] = y_val_\n",
    "    #pacientes_validacao_diast_sisto['Grupo_Previsto'] = y_prev_val\n",
    "    #\n",
    "    #pacientes_validacao_diast_sisto.to_csv(path_or_buf = DIR_KMEANS / \"padrao_doenca\" / f'pacientes_validacao_{abordagem.lower().replace(\" \" ,\"_\")}.csv', \n",
    "    #             sep=';',index=False,encoding='UTF-8')\n",
    "    #\n",
    "    ##teste\n",
    "    #pacientes_teste_diast_sisto = x_test[['numero_identificacao']]\n",
    "    #pacientes_teste_diast_sisto['Grupo_Real'] = y_test_\n",
    "    #pacientes_teste_diast_sisto['Grupo_Previsto'] = y_prev_test\n",
    "    #\n",
    "    #pacientes_teste_diast_sisto.to_csv(path_or_buf = DIR_KMEANS / \"padrao_doenca\" / f'pacientes_teste_{abordagem.lower().replace(\" \" ,\"_\")}.csv', \n",
    "    #             sep=';',index=False,encoding='UTF-8')\n",
    "    #\n",
    "    #\n",
    "    \n",
    "    cabecalho = list(dados_sem_id.columns)\n",
    "    #calculo da importancia de cada variavel para idenficar os grupos com 3 casas decimais\n",
    "    importancia = pd.DataFrame({'features':cabecalho,'importance':np.round(random_forest.feature_importances_,3)})\n",
    "    importancia = importancia.sort_values('importance',ascending=False)\n",
    "\n",
    "    importancia.to_csv(path_or_buf = DIR_KMEANS / \"padrao_doenca\" / f'importancia_features_{abordagem.lower().replace(\" \" ,\"_\")}.csv', \n",
    "                 sep=';',index=False,encoding='UTF-8')\n",
    "\n",
    "    print(\"\\n\\n=================Importancia==============\\n\\n\")\n",
    "    print(importancia)\n",
    "    return importancia"
   ]
  },
  {
   "cell_type": "code",
   "execution_count": null,
   "metadata": {},
   "outputs": [],
   "source": [
    "# Nessa etapa a variavel dados_cadastro_sem_id teve os dados padronizados\n",
    "#\n",
    "experiment = \"random_forest\"\n",
    "DATASET_NAME = 'Cadastro_e_Medidas'\n",
    "df = dados_cadastro_sem_id\n",
    "#features_names = build_datasets(df,DATASET_NAME,N_KFOLDS, N_RUNS)\n",
    "\n",
    "from sklearn.ensemble import RandomForestClassifier\n",
    "\n",
    "for exp_n in range(N_EXPERIMENTS):\n",
    "    exp_train_x, exp_train_y, exp_valid_x, exp_valid_y = get_kfold(DATASET_NAME, exp_n)\n",
    "    model = RandomForestClassifier(random_state=42)\n",
    "    model.fit(exp_train_x, exp_train_y)\n",
    "    \n",
    "    cabecalho = list(df.columns)[:-1]\n",
    "    #calculo da importancia de cada variavel para idenficar os grupos com 3 casas decimais\n",
    "    importancia = pd.DataFrame({'features':cabecalho,'importance':np.round(model.feature_importances_,3)})\n",
    "    importancia = importancia.sort_values('importance',ascending=False)\n",
    "\n",
    "    #importancia.to_csv(path_or_buf = DIR_KMEANS / \"padrao_doenca\" / f'importancia_features_{abordagem.lower().replace(\" \" ,\"_\")}.csv', \n",
    "    #             sep=';',index=False,encoding='UTF-8')\n",
    "\n",
    "    print(f\"\\n\\n=================Importancia exp_{exp_n}==============\\n\\n\")\n",
    "    print(importancia)\n",
    "    #dump(model,EXPERIMENT_DIR + experiment + '_model_{}.joblib'.format(exp_n))\n",
    " \n",
    "    \n",
    "    #evaluate_classifier(experiment + '_exp_', exp_n, exp_valid_x, exp_valid_y , model, \"_id_{}\".format(exp_n))\n",
    "    \n"
   ]
  },
  {
   "cell_type": "markdown",
   "metadata": {},
   "source": [
    "## Abordagem 1 com dados NORMALIZADOS: Número de Clusters gerado pelo k-Means"
   ]
  },
  {
   "cell_type": "code",
   "execution_count": null,
   "metadata": {},
   "outputs": [],
   "source": [
    "dados_cadastro_sem_id = dataset_cadastro.loc[:,'genero':'diast 8:45']\n",
    "dados_cadastro_sem_id = df_normalizado\n",
    "dados_cadastro_array = np.array(dados_cadastro_sem_id)\n",
    "\n",
    "grupos_cadastro_funcao = aplica_kmeans(dados_cadastro_sem_id, 'Cadastro')\n",
    "print(grupos_cadastro_funcao)"
   ]
  },
  {
   "cell_type": "code",
   "execution_count": null,
   "metadata": {},
   "outputs": [],
   "source": [
    "dados_cadastro_sem_id "
   ]
  },
  {
   "cell_type": "code",
   "execution_count": null,
   "metadata": {},
   "outputs": [],
   "source": [
    "\n",
    "grupos = grupos_cadastro_funcao\n",
    "abordagem = 'Cadastro e Medidas'\n",
    "caminho = DIR_KMEANS / 'graficos' / \"normal\" / f'grafico_kmeans_grupo_normal_pacientes_{abordagem.lower().replace(\" \",\"_\")}.svg'\n",
    "classes_cadastro = grafico_barras_grupos(grupos,abordagem,caminho)"
   ]
  },
  {
   "cell_type": "markdown",
   "metadata": {},
   "source": [
    "## Abordagem 1: O método Elbow\n",
    "\n",
    "### Esse método para calcular o melhor número de cluster para o algoritmo e mostar o gráfico\n",
    "\n",
    "### https://minerandodados.com.br/algoritmo-k-means-python-passo-passo/#:~:text=O%20m%C3%A9todo%20Elbow%20se%20trata,um%20valor%20significativo%20de%20ganho."
   ]
  },
  {
   "cell_type": "code",
   "execution_count": null,
   "metadata": {},
   "outputs": [],
   "source": [
    "# Elbow com dados NORMALIZADOS\n",
    "#\n",
    "grupos = grupos_cadastro_funcao\n",
    "abordagem = 'Cadastro e Medidas'\n",
    "caminho = DIR_KMEANS / 'graficos' / f'metodo_elbow_normal_{abordagem.lower().replace(\" \",\"_\")}.svg'\n",
    "aplica_elbow(dados_cadastro_sem_id,abordagem,caminho)"
   ]
  },
  {
   "cell_type": "markdown",
   "metadata": {},
   "source": [
    "## Abordagem 1: Silhouette\n",
    "\n",
    "####  A análise da Silhouette pode ser usada para determinar o grau de separação entre os clusters. O coeficiente de Silhouette quando próximo de +1, indica que os pontos estão muito longe dos pontos do outro cluster, e quando próximo de 0, indica que os pontos então muito perto ou até interseccionando um outro cluster\n",
    "\n"
   ]
  },
  {
   "cell_type": "code",
   "execution_count": null,
   "metadata": {},
   "outputs": [],
   "source": [
    "#classes_cadastro\n",
    "#grupos = grupos_cadastro_funcao\n",
    "#abordagem = 'Cadastro e Medidas'\n",
    "#caminho = DIR_KMEANS / 'graficos' / f'metodo_silhouette_normal_{abordagem.lower().replace(\" \",\"_\")}.svg'\n",
    "#aplica_silhouette(dados_cadastro_sem_id,grupos,abordagem)"
   ]
  },
  {
   "cell_type": "markdown",
   "metadata": {},
   "source": [
    "### Não existe um valor de k clusters que não esteja se intersectando "
   ]
  },
  {
   "cell_type": "code",
   "execution_count": null,
   "metadata": {
    "scrolled": true
   },
   "outputs": [],
   "source": [
    "##dataset com grupos e com os dados de cadastro e medidas\n",
    "## nume id, data exame, idade, peso, altura, medidas, 22 estaitsticos, 11 doenças em cada grupo \n",
    "#dataset_s_d = dataset_apos_tratamento.loc[:,'numero_identificacao':'altura']\n",
    "#dataset_s_d['IMC'] = dataset_cadastro['IMC']\n",
    "#dataset_s_d['grupo'] = grupos_cadastro\n",
    "#dataset_s_d = pd.concat([dataset_s_d,dataset_apos_tratamento.loc[:,'sist 9:00':]],axis=1)\n",
    "#dataset_s_d\n",
    "#\n",
    "## Salva dataset com dados completos após o K-Means com abordagem 1 (cadastro e medidas)\n",
    "#dataset_s_d.to_csv(path_or_buf = DIR_KMEANS / \"padrao_doenca\" / 'mapa_apos_kmeans_cadastro.csv', \n",
    "#             sep=';',index=False,encoding='UTF-8')"
   ]
  },
  {
   "cell_type": "code",
   "execution_count": null,
   "metadata": {},
   "outputs": [],
   "source": [
    "df_dummy_genero = pd.get_dummies(dados_cadastro_sem_id,columns=['genero'])#,drop_first=True)\n",
    "df_dummy_genero"
   ]
  },
  {
   "cell_type": "markdown",
   "metadata": {},
   "source": [
    "## Abordagem 1 com dados Normalizados: Random Forest"
   ]
  },
  {
   "cell_type": "markdown",
   "metadata": {},
   "source": [
    "#### Abordagem 2: Importância das Features Random Forest"
   ]
  },
  {
   "cell_type": "code",
   "execution_count": null,
   "metadata": {},
   "outputs": [],
   "source": [
    "# Random Forest com dados NORMALIZADOS\n",
    "#\n",
    "############################################ faltou usar as features DUMMIES ################################\n",
    "df_dummy_genero = pd.get_dummies(dados_cadastro_sem_id,columns=['genero'])#,drop_first=True)\n",
    "\n",
    "classes_cadastro\n",
    "grupos = grupos_cadastro_funcao\n",
    "abordagem = 'Cadastro e Medidas'\n",
    "numero_kfolds = 9 \n",
    "#caminho = DIR_KMEANS / 'graficos' / f'metodoelbow_cadastro.svg'\n",
    "importancia_cadastro = aplica_random_forest(dados_cadastro_sem_id,grupos,abordagem,classes_cadastro,numero_kfolds)"
   ]
  },
  {
   "cell_type": "code",
   "execution_count": null,
   "metadata": {},
   "outputs": [],
   "source": [
    "dados_completos_cadastro = pd.concat([dataset_apos_tratamento.loc[:,:'data_exame'],\n",
    "                                    pd.DataFrame({'grupo':grupos_cadastro_funcao}),\n",
    "                                    dataset_apos_tratamento.loc[:,'sist 9:00':]],\n",
    "                                   axis=1)\n",
    "\n",
    "gera_arquivos_por_grupo(dados_completos_cadastro,'cadastro')"
   ]
  },
  {
   "cell_type": "markdown",
   "metadata": {},
   "source": [
    "# Abordagem 2: Medidas como entrada"
   ]
  },
  {
   "cell_type": "code",
   "execution_count": null,
   "metadata": {},
   "outputs": [],
   "source": [
    "#!pip install xlsxwriter --upgrade"
   ]
  },
  {
   "cell_type": "markdown",
   "metadata": {},
   "source": [
    "## Abordagem 2: Número de Clusters gerado pelo k-Means"
   ]
  },
  {
   "cell_type": "code",
   "execution_count": null,
   "metadata": {},
   "outputs": [],
   "source": [
    "dados_medidas_sem_id = df_normalizado.loc[:,'sist 9:00':'diast 8:45']\n",
    "#df_padronizado\n",
    "#df_normalizado\n",
    "#dataset_apos_tratamento\n",
    "dados_medidas_array = np.array(dados_medidas_sem_id)\n",
    "\n",
    "grupos_medidas_funcao = aplica_kmeans(dados_medidas_sem_id, 'Medidas')\n",
    "print(grupos_medidas_funcao)"
   ]
  },
  {
   "cell_type": "code",
   "execution_count": null,
   "metadata": {},
   "outputs": [],
   "source": [
    "grupos = grupos_medidas_funcao\n",
    "abordagem = 'Medidas'\n",
    "caminho = DIR_KMEANS / 'graficos' / f'grafico_kmeans_grupo_pacientes_{abordagem.lower().replace(\" \",\"_\")}.svg'\n",
    "classes_medidas = grafico_barras_grupos(grupos,abordagem,caminho)"
   ]
  },
  {
   "cell_type": "markdown",
   "metadata": {},
   "source": [
    "###  Abordagem 2: Método Elbow\n",
    "####  Esse método para calcular o melhor número de cluster para o algoritmo e mostar o gráfico\n",
    "####  https://minerandodados.com.br/algoritmo-k-means-python-passo-passo/#:~:text=O%20m%C3%A9todo%20Elbow%20se%20trata,um%20valor%20significativo%20de%20ganho."
   ]
  },
  {
   "cell_type": "code",
   "execution_count": null,
   "metadata": {},
   "outputs": [],
   "source": [
    "grupos = grupos_medidas_funcao\n",
    "abordagem = 'Medidas'\n",
    "caminho = DIR_KMEANS / 'graficos' / f'metodo_elbow_{abordagem.lower().replace(\" \",\"_\")}.svg'\n",
    "aplica_elbow(dados_medidas_sem_id,abordagem,caminho)"
   ]
  },
  {
   "cell_type": "markdown",
   "metadata": {},
   "source": [
    "### Abordagem 2: Silhouette\n",
    "\n",
    "####  A análise da Silhouette pode ser usada para determinar o grau de separação entre os clusters. O coeficiente de Silhouette quando próximo de +1, indica que os pontos estão muito longe dos pontos do outro cluster, e quando próximo de 0, indica que os pontos então muito perto ou até interseccionando um outro cluster\n",
    "\n"
   ]
  },
  {
   "cell_type": "code",
   "execution_count": null,
   "metadata": {},
   "outputs": [],
   "source": [
    "#grupos = grupos_medidas_funcao\n",
    "#abordagem = 'Medidas'\n",
    "#aplica_silhouette(dados_medidas_sem_id,grupos,abordagem)"
   ]
  },
  {
   "cell_type": "markdown",
   "metadata": {},
   "source": [
    "### Abordagem 2: Random Forest"
   ]
  },
  {
   "cell_type": "code",
   "execution_count": null,
   "metadata": {},
   "outputs": [],
   "source": [
    "# 4 parâmetros são entregues ao Random Forest: os dados padronizados, os grupos (target), o tipo de abordagem e\n",
    "# os grupos que servirão para plotar a Matriz de Confusão\n",
    "# \n",
    "grupos = grupos_medidas_funcao\n",
    "abordagem = 'Medidas'\n",
    "importancia_medidas = aplica_random_forest(dados_medidas_sem_id,grupos,abordagem,classes_medidas)"
   ]
  },
  {
   "cell_type": "code",
   "execution_count": null,
   "metadata": {},
   "outputs": [],
   "source": [
    "#dados_completos_sist = pd.concat([dataset_apos_tratamento.loc[:,:'data_exame'],\n",
    "#                                    pd.DataFrame({'grupo':grupos_sist_funcao}),\n",
    "#                                    dataset_apos_tratamento.loc[:,'sist 9:00':]],\n",
    "#                                   axis=1)\n",
    "#\n",
    "#gera_arquivos_por_grupo(dados_completos_simples,'simplificado')"
   ]
  },
  {
   "cell_type": "code",
   "execution_count": null,
   "metadata": {},
   "outputs": [],
   "source": [
    "dados_completos_medidas = pd.concat([dataset_apos_tratamento.loc[:,:'data_exame'],\n",
    "                                    pd.DataFrame({'grupo':grupos_medidas_funcao}),\n",
    "                                    dataset_apos_tratamento.loc[:,'sist 9:00':]],\n",
    "                                   axis=1)\n",
    "\n",
    "gera_arquivos_por_grupo(dados_completos_medidas,'medidas')"
   ]
  },
  {
   "cell_type": "markdown",
   "metadata": {},
   "source": [
    "# Abordagem 2.1: Medidas Importantes"
   ]
  },
  {
   "cell_type": "markdown",
   "metadata": {},
   "source": [
    "## Abordagem 2.1: Número de Clusters gerado pelo k-Means"
   ]
  },
  {
   "cell_type": "code",
   "execution_count": null,
   "metadata": {},
   "outputs": [],
   "source": [
    "ls_importantes = importancia_medidas['features'].iloc[:7].values\n",
    "dados_medidas_importantes_sem_id = df_padronizado[ls_importantes]\n",
    "grupos_medidas_importantes_funcao = aplica_kmeans(dados_medidas_importantes_sem_id, 'Medidas Importantes')\n",
    "print(grupos_medidas_importantes_funcao)"
   ]
  },
  {
   "cell_type": "code",
   "execution_count": null,
   "metadata": {},
   "outputs": [],
   "source": [
    "grupos = grupos_medidas_importantes_funcao\n",
    "abordagem = 'Medidas Importantes'\n",
    "caminho = DIR_KMEANS / 'graficos' / f'grafico_kmeans_grupo_pacientes_{abordagem.lower().replace(\" \",\"_\")}.svg'\n",
    "classes_medidas_importantes = grafico_barras_grupos(grupos,abordagem,caminho)"
   ]
  },
  {
   "cell_type": "code",
   "execution_count": null,
   "metadata": {},
   "outputs": [],
   "source": [
    "grupos = grupos_medidas_importantes_funcao\n",
    "abordagem = 'Medidas Importantes'\n",
    "caminho = DIR_KMEANS / 'graficos' / f'metodo_elbow_{abordagem.lower().replace(\" \",\"_\")}.svg'\n",
    "aplica_elbow(dados_medidas_importantes_sem_id,abordagem,caminho)"
   ]
  },
  {
   "cell_type": "code",
   "execution_count": null,
   "metadata": {},
   "outputs": [],
   "source": [
    "grupos = grupos_medidas_importantes_funcao\n",
    "abordagem = 'Medidas Importantes'\n",
    "aplica_silhouette(dados_medidas_importantes_sem_id,grupos,abordagem)"
   ]
  },
  {
   "cell_type": "code",
   "execution_count": null,
   "metadata": {},
   "outputs": [],
   "source": [
    "grupos = grupos_medidas_importantes_funcao\n",
    "abordagem = 'Medidas Importantes'\n",
    "importancia_medidas_importantes = aplica_random_forest(dados_medidas_importantes_sem_id,grupos,abordagem,classes_medidas_importantes)"
   ]
  },
  {
   "cell_type": "code",
   "execution_count": null,
   "metadata": {},
   "outputs": [],
   "source": [
    "dados_completos_medidas_importantes = pd.concat([dataset_apos_tratamento.loc[:,:'data_exame'],\n",
    "                                    pd.DataFrame({'grupo':grupos_medidas_importantes_funcao}),\n",
    "                                    dataset_apos_tratamento.loc[:,'sist 9:00':]],\n",
    "                                   axis=1)\n",
    "\n",
    "gera_arquivos_por_grupo(dados_completos_medidas_importantes,'medidas_importantes')"
   ]
  },
  {
   "cell_type": "markdown",
   "metadata": {},
   "source": [
    "# Abordagem 2.2: Features Selection: Select Kbest na Abordagem 2"
   ]
  },
  {
   "cell_type": "markdown",
   "metadata": {},
   "source": [
    "#### A técnica Select K-Best não pode receber valores negativos, portanto o dataset NÃO pode ser padronizado, \n",
    "#### já que gera valores negativos"
   ]
  },
  {
   "cell_type": "code",
   "execution_count": null,
   "metadata": {},
   "outputs": [],
   "source": [
    "#  Uso do SelectKBest para identificar as melhores 5 features\n",
    "\n",
    "#from sklearn.datasets import load_digits\n",
    "from sklearn.feature_selection import SelectKBest, chi2\n",
    "dados_medidas_sem_id\n",
    "#medidas_mais_importantes_ml = SelectKBest(chi2, k=7).fit_transform(dados_medidas_array, grupos_medidas)\n",
    "medidas_mais_importantes_ml = SelectKBest(score_func=chi2, k=7).fit_transform(dados_medidas_sem_id.iloc[:,:-1], grupos_medidas_funcao)"
   ]
  },
  {
   "cell_type": "code",
   "execution_count": null,
   "metadata": {},
   "outputs": [],
   "source": [
    "ls_score = SelectKBest(chi2, k=7).score_func(dados_medidas_sem_id.iloc[:,:-1], grupos_medidas_funcao)[0]\n",
    "\n",
    "ls_score_indice = []\n",
    "\n",
    "for indice, score in enumerate(ls_score):\n",
    "    ls_score_indice.append((score,indice+1))\n",
    "\n",
    "for i in range(len(ls_score_indice)):\n",
    "    for j in range(i+1,len(ls_score_indice)):\n",
    "        if (ls_score_indice[j][0] > ls_score_indice[i][0]):\n",
    "            aux = ls_score_indice[j]\n",
    "            ls_score_indice[j] = ls_score_indice[i]\n",
    "            ls_score_indice[i] = aux\n",
    "\n",
    "#print(ls_score_indice[:7])"
   ]
  },
  {
   "cell_type": "code",
   "execution_count": null,
   "metadata": {
    "scrolled": true
   },
   "outputs": [],
   "source": [
    "#SelectKBest(chi2, k=7).score_func(dados_medidas_sem_id.iloc[:,:-1], grupos_medidas_funcao)"
   ]
  },
  {
   "cell_type": "code",
   "execution_count": null,
   "metadata": {},
   "outputs": [],
   "source": [
    "#medidas_mais_importantes_ml"
   ]
  },
  {
   "cell_type": "code",
   "execution_count": null,
   "metadata": {},
   "outputs": [],
   "source": [
    "#medidas_transformadas[70]"
   ]
  },
  {
   "cell_type": "code",
   "execution_count": null,
   "metadata": {},
   "outputs": [],
   "source": [
    "# Transforma a variável acima em dataframe para automatizar a identificação de quais colunas foram escolhidas\n",
    "\n",
    "medidas_mais_importantes = pd.DataFrame(medidas_mais_importantes_ml)"
   ]
  },
  {
   "cell_type": "code",
   "execution_count": null,
   "metadata": {},
   "outputs": [],
   "source": [
    "# identificação de quais colunas foram escolhidas\n",
    "#\n",
    "lista_colunas_escolhidas = []\n",
    "#\n",
    "## X é o dataset das doenças que precisa ser transformado em df\n",
    "medidas_transformadas = pd.DataFrame(dados_medidas_array)\n",
    "\n",
    "\n",
    "for coluna_ml in range(len(medidas_mais_importantes.columns)):\n",
    "    for coluna_base in range(len(medidas_transformadas.columns)):\n",
    "        # para identificar valores únicos\n",
    "        if set(np.array(medidas_transformadas[coluna_base]) == np.array(medidas_mais_importantes[coluna_ml])) == {True}:\n",
    "            lista_colunas_escolhidas.append(coluna_base)\n",
    "            break\n",
    "\n",
    "#lista_colunas_escolhidas,list(dados_medidas_sem_id.iloc[:,lista_colunas_escolhidas].columns)"
   ]
  },
  {
   "cell_type": "code",
   "execution_count": null,
   "metadata": {},
   "outputs": [],
   "source": [
    "#selecionando padrões de doencas\n",
    "\n",
    "ls_medidas_kbest = ['sist 5:30', 'sist 6:00', 'sist 6:15', 'sist 6:30', 'sist 6:45', 'sist 7:00', 'sist 7:15']\n",
    "ls_medidas_kbest = list(dados_medidas_sem_id.iloc[:,lista_colunas_escolhidas].columns)\n",
    "\n",
    "dados_padrao_medidas_kbest =  dataset_apos_tratamento[ls_medidas_kbest]\n",
    "#dados_padrao_medidas_kbest"
   ]
  },
  {
   "cell_type": "markdown",
   "metadata": {},
   "source": [
    "## K-means para Abordagem 2.2: SelectKbest"
   ]
  },
  {
   "cell_type": "code",
   "execution_count": null,
   "metadata": {},
   "outputs": [],
   "source": [
    "dados_medidas_kbest_sem_id = dados_padrao_medidas_kbest\n",
    "grupos_medidas_kbest_funcao = aplica_kmeans(dados_medidas_kbest_sem_id, 'Medidas Kbest')\n",
    "print(grupos_medidas_kbest_funcao)"
   ]
  },
  {
   "cell_type": "code",
   "execution_count": null,
   "metadata": {},
   "outputs": [],
   "source": [
    "grupos = grupos_medidas_kbest_funcao\n",
    "abordagem = 'Medidas Kbest'\n",
    "caminho = DIR_KMEANS / 'graficos' / f'grafico_kmeans_grupo_pacientes_{abordagem.lower().replace(\" \",\"_\")}.svg'\n",
    "classes_medidas_kbest = grafico_barras_grupos(grupos,abordagem,caminho)"
   ]
  },
  {
   "cell_type": "code",
   "execution_count": null,
   "metadata": {},
   "outputs": [],
   "source": [
    "grupos = grupos_medidas_kbest_funcao\n",
    "abordagem = 'Medidas Kbest'\n",
    "caminho = DIR_KMEANS / 'graficos' / f'metodo_elbow_{abordagem.lower().replace(\" \",\"_\")}.svg'\n",
    "aplica_elbow(dados_medidas_kbest_sem_id,abordagem,caminho)"
   ]
  },
  {
   "cell_type": "code",
   "execution_count": null,
   "metadata": {},
   "outputs": [],
   "source": [
    "grupos = grupos_medidas_kbest_funcao\n",
    "abordagem = 'Medidas Kbest'\n",
    "aplica_silhouette(dados_medidas_kbest_sem_id,grupos,abordagem)"
   ]
  },
  {
   "cell_type": "markdown",
   "metadata": {},
   "source": [
    "###  Abordagem 2.2: Random Forest for KBest"
   ]
  },
  {
   "cell_type": "code",
   "execution_count": null,
   "metadata": {},
   "outputs": [],
   "source": [
    "grupos = grupos_medidas_kbest_funcao\n",
    "abordagem = 'Medidas Kbest'\n",
    "importancia_medidas_kbest = aplica_random_forest(dados_medidas_kbest_sem_id,grupos,abordagem,classes_medidas_kbest)"
   ]
  },
  {
   "cell_type": "code",
   "execution_count": null,
   "metadata": {},
   "outputs": [],
   "source": [
    "dados_completos_medidas_kbest = pd.concat([dataset_apos_tratamento.loc[:,:'data_exame'],\n",
    "                                    pd.DataFrame({'grupo':grupos_medidas_kbest_funcao}),\n",
    "                                    dataset_apos_tratamento.loc[:,'sist 9:00':]],\n",
    "                                   axis=1)\n",
    "\n",
    "gera_arquivos_por_grupo(dados_completos_medidas_kbest,'medidas_kbest')"
   ]
  },
  {
   "cell_type": "markdown",
   "metadata": {},
   "source": [
    "# Abordagem 3: Estatísticas como entrada"
   ]
  },
  {
   "cell_type": "code",
   "execution_count": null,
   "metadata": {},
   "outputs": [],
   "source": [
    "#selecionando variaveis estatisticas\n",
    "\n",
    "\n",
    "ls_estatistica = [\n",
    "    'Media Sistolica em 24h',\n",
    "#    'Media Diastolica em 24h',\n",
    "#    'Media Sistolica Diurna',\n",
    "#    'Media Sistolica Matutina',\n",
    "#    'Media Sistolica Vespertina',\n",
    "#    'Media Sistolica Daytime',\n",
    "#    'Media Sistolica Nighttime',\n",
    "#    'Media Diastolica Diurna',\n",
    "#    'Media Diastolica Matutina',\n",
    "#    'Media Diastolica Vespertina',\n",
    "#    'Media Diastolica Daytime',\n",
    "#    'Media Diastolica Nighttime',\n",
    "#    'Variancia Sistolica em 24h',\n",
    "#    'Variancia Diastolica em 24h',\n",
    "#    'Mediana Sistolica em 24h',\n",
    "#    'Mediana Diastolica em 24h',\n",
    "    'AUC Sistolica em 24h',\n",
    "    'AUC Diastolica em 24h',\n",
    "    'AUC PP Daytime',\n",
    "#    'AUC PP Nighttime',\n",
    "#    'DP Sistolica em 24h',\n",
    "#    'DP Diastolica em 24h',\n",
    "]\n",
    "\n",
    "dados_estatistica =  dataset_estatistica[ls_estatistica]"
   ]
  },
  {
   "cell_type": "code",
   "execution_count": null,
   "metadata": {},
   "outputs": [],
   "source": [
    "#tratar nulos\n",
    "dados_estatistica_sem_nan = dados_estatistica.fillna(0)"
   ]
  },
  {
   "cell_type": "markdown",
   "metadata": {},
   "source": [
    "## Abordagem 3: Número de Clusters gerado pelo k-Means"
   ]
  },
  {
   "cell_type": "code",
   "execution_count": null,
   "metadata": {},
   "outputs": [],
   "source": [
    "dados_estatistica_sem_id = dados_estatistica_sem_nan\n",
    "grupos_estatistica_funcao = aplica_kmeans(dados_estatistica_sem_id, 'Medidas Estatistica')\n",
    "print(grupos_estatistica_funcao)"
   ]
  },
  {
   "cell_type": "code",
   "execution_count": null,
   "metadata": {},
   "outputs": [],
   "source": [
    "grupos = grupos_estatistica_funcao\n",
    "abordagem = 'Medidas Estatistica'\n",
    "caminho = DIR_KMEANS / 'graficos' / f'grafico_kmeans_grupo_pacientes_{abordagem.lower().replace(\" \",\"_\")}.svg'\n",
    "classes_estatistica= grafico_barras_grupos(grupos,abordagem,caminho)"
   ]
  },
  {
   "cell_type": "markdown",
   "metadata": {},
   "source": [
    "##   Abordagem 3: Método Elbow \n",
    "\n",
    "###  Esse método para calcular o melhor número de cluster para o algoritmo e mostar o gráfico\n",
    "###  https://minerandodados.com.br/algoritmo-k-means-python-passo-passo/#:~:text=O%20m%C3%A9todo%20Elbow%20se%20trata,um%20valor%20significativo%20de%20ganho."
   ]
  },
  {
   "cell_type": "code",
   "execution_count": null,
   "metadata": {},
   "outputs": [],
   "source": [
    "grupos = grupos_estatistica_funcao\n",
    "abordagem = 'Medidas Estatistica'\n",
    "caminho = DIR_KMEANS / 'graficos' / f'metodo_elbow_{abordagem.lower().replace(\" \",\"_\")}.svg'\n",
    "aplica_elbow(dados_estatistica_sem_id,abordagem,caminho)"
   ]
  },
  {
   "cell_type": "markdown",
   "metadata": {},
   "source": [
    "## Abordagem 3: Silhouette\n",
    "\n",
    "####  A análise da Silhouette pode ser usada para determinar o grau de separação entre os clusters. O coeficiente de Silhouette quando próximo de +1, indica que os pontos estão muito longe dos pontos do outro cluster, e quando próximo de 0, indica que os pontos então muito perto ou até interseccionando um outro cluster"
   ]
  },
  {
   "cell_type": "code",
   "execution_count": null,
   "metadata": {},
   "outputs": [],
   "source": [
    "grupos = grupos_estatistica_funcao\n",
    "abordagem = 'Medidas Estatistica'\n",
    "aplica_silhouette(dados_estatistica_sem_id,grupos,abordagem)"
   ]
  },
  {
   "cell_type": "markdown",
   "metadata": {},
   "source": [
    "### Abordagem 3: Random Forest"
   ]
  },
  {
   "cell_type": "code",
   "execution_count": null,
   "metadata": {},
   "outputs": [],
   "source": [
    "grupos = grupos_estatistica_funcao\n",
    "abordagem = 'Medidas Estatistica'\n",
    "importancia_estatistica = aplica_random_forest(dados_estatistica_sem_id,grupos,abordagem,classes_estatistica)"
   ]
  },
  {
   "cell_type": "code",
   "execution_count": null,
   "metadata": {},
   "outputs": [],
   "source": [
    "dados_completos_estatistica = pd.concat([dataset_apos_tratamento.loc[:,:'data_exame'],\n",
    "                                    pd.DataFrame({'grupo':grupos_estatistica_funcao}),\n",
    "                                    dataset_apos_tratamento.loc[:,'sist 9:00':]],\n",
    "                                   axis=1)\n",
    "\n",
    "gera_arquivos_por_grupo(dados_completos_estatistica,'estatistica')"
   ]
  },
  {
   "cell_type": "markdown",
   "metadata": {},
   "source": [
    "# Abordagem 4: Padrão de Doenças"
   ]
  },
  {
   "cell_type": "code",
   "execution_count": null,
   "metadata": {},
   "outputs": [],
   "source": [
    "#selecionando padrões de doencas\n",
    "\n",
    "ls_padroes_doencas = ['Hipotensao', 'Sistolica Isolada', 'Diastolica Isolada', 'Dipping',\n",
    "       'Non Dipping', 'Extreme Dipping', 'Reverse Dipping', 'Morning Surge',\n",
    "       'Masked', 'Whitecoat', 'Normotenso']\n",
    "\n",
    "dados_padrao_doencas =  dataset_apos_tratamento[ls_padroes_doencas]"
   ]
  },
  {
   "cell_type": "code",
   "execution_count": null,
   "metadata": {},
   "outputs": [],
   "source": [
    "#tratar nulos\n",
    "dados_padrao_doencas_sem_nan = dados_padrao_doencas.fillna(0)\n"
   ]
  },
  {
   "cell_type": "code",
   "execution_count": null,
   "metadata": {},
   "outputs": [],
   "source": [
    "#trocar nulos do dataframe\n",
    "d_p_d = dados_padrao_doencas"
   ]
  },
  {
   "cell_type": "code",
   "execution_count": null,
   "metadata": {},
   "outputs": [],
   "source": [
    "##############################################################################################################\n",
    "#Trocar True e False para 1 e 0\n",
    "#d_p_d['Hipotensao'] = d_p_d['Hipotensao'].apply(verdadeiro_falso)\n",
    "#d_p_d['Sistolica Isolada'] = d_p_d['Sistolica Isolada'].apply(verdadeiro_falso)\n",
    "#d_p_d['Diastolica Isolada'] = d_p_d['Diastolica Isolada'].apply(verdadeiro_falso)\n",
    "#d_p_d['Dipping'] = d_p_d['Dipping'].apply(verdadeiro_falso)\n",
    "#d_p_d['Non Dipping'] = d_p_d['Non Dipping'].apply(verdadeiro_falso)\n",
    "#d_p_d['Extreme Dipping'] = d_p_d['Extreme Dipping'].apply(verdadeiro_falso)\n",
    "#d_p_d['Reverse Dipping'] = d_p_d['Reverse Dipping'].apply(verdadeiro_falso)\n",
    "#d_p_d['Morning Surge'] = d_p_d['Morning Surge'].apply(verdadeiro_falso)\n",
    "#d_p_d['Masked'] = d_p_d['Masked'].apply(verdadeiro_falso)\n",
    "#d_p_d['Whitecoat'] = d_p_d['Whitecoat'].apply(verdadeiro_falso)\n",
    "#d_p_d['Normotenso'] = d_p_d['Normotenso'].apply(verdadeiro_falso)"
   ]
  },
  {
   "cell_type": "markdown",
   "metadata": {},
   "source": [
    "##  Abordagem 4: Número de Clusters gerado pelo k-Means"
   ]
  },
  {
   "cell_type": "code",
   "execution_count": null,
   "metadata": {},
   "outputs": [],
   "source": [
    "dados_padrao_doencas_sem_id = dados_padrao_doencas\n",
    "grupos_padrao_doencas_funcao = aplica_kmeans(dados_padrao_doencas_sem_id, 'Padrao Doencas')\n",
    "print(grupos_padrao_doencas_funcao)"
   ]
  },
  {
   "cell_type": "code",
   "execution_count": null,
   "metadata": {},
   "outputs": [],
   "source": [
    "grupos = grupos_padrao_doencas_funcao\n",
    "abordagem = 'Padrao Doencas'\n",
    "caminho = DIR_KMEANS / 'graficos' / f'grafico_kmeans_grupo_pacientes_{abordagem.lower().replace(\" \",\"_\")}.svg'\n",
    "classes_padrao_doencas= grafico_barras_grupos(grupos,abordagem,caminho)"
   ]
  },
  {
   "cell_type": "markdown",
   "metadata": {},
   "source": [
    "##   Abordagem 4: Método Elbow \n",
    "\n",
    "###  Método de cálculo do melhor número de cluster para o algoritmo e plota o gráfico"
   ]
  },
  {
   "cell_type": "code",
   "execution_count": null,
   "metadata": {},
   "outputs": [],
   "source": [
    "grupos = grupos_padrao_doencas_funcao\n",
    "abordagem = 'Padrao Doencas'\n",
    "caminho = DIR_KMEANS / 'graficos' / f'metodo_elbow_{abordagem.lower().replace(\" \",\"_\")}.svg'\n",
    "aplica_elbow(dados_padrao_doencas_sem_id,abordagem,caminho)"
   ]
  },
  {
   "cell_type": "markdown",
   "metadata": {},
   "source": [
    "## Abordagem 4: Silhouette\n",
    "\n",
    "####  A análise da Silhouette pode ser usada para determinar o grau de separação entre os clusters. O coeficiente de Silhouette quando próximo de +1, indica que os pontos estão muito longe dos pontos do outro cluster, e quando próximo de 0, indica que os pontos então muito perto ou até interseccionando um outro cluster"
   ]
  },
  {
   "cell_type": "code",
   "execution_count": null,
   "metadata": {},
   "outputs": [],
   "source": [
    "grupos = grupos_padrao_doencas_funcao\n",
    "abordagem = 'Padrao Doencas'\n",
    "aplica_silhouette(dados_padrao_doencas_sem_id,grupos,abordagem)"
   ]
  },
  {
   "cell_type": "code",
   "execution_count": null,
   "metadata": {},
   "outputs": [],
   "source": [
    "grupos = grupos_padrao_doencas_funcao\n",
    "abordagem = 'Padrao Doencas'\n",
    "importancia_padrao_doencas = aplica_random_forest(dados_padrao_doencas_sem_id,grupos,abordagem,classes_padrao_doencas)"
   ]
  },
  {
   "cell_type": "code",
   "execution_count": null,
   "metadata": {},
   "outputs": [],
   "source": [
    "dados_completos_padrao_doencas = pd.concat([dataset_apos_tratamento.loc[:,:'data_exame'],\n",
    "                                    pd.DataFrame({'grupo':grupos_padrao_doencas_funcao}),\n",
    "                                    dataset_apos_tratamento.loc[:,'sist 9:00':]],\n",
    "                                   axis=1)\n",
    "\n",
    "gera_arquivos_por_grupo(dados_completos_padrao_doencas,'doenca')"
   ]
  },
  {
   "cell_type": "markdown",
   "metadata": {},
   "source": [
    "# Abordagem 4.1: Features Selection: Kbest  na Abordagem 4: Doenças"
   ]
  },
  {
   "cell_type": "code",
   "execution_count": null,
   "metadata": {},
   "outputs": [],
   "source": [
    "#  Uso do SelectKBest para identificar as melhores 5 features\n",
    "\n",
    "from sklearn.datasets import load_digits\n",
    "from sklearn.feature_selection import SelectKBest, chi2\n",
    "\n",
    "features_mais_importante_ml = SelectKBest(chi2, k=5).fit_transform(dados_padrao_doencas_sem_id, grupos_padrao_doencas_funcao)\n",
    "features_mais_importante_ml.shape"
   ]
  },
  {
   "cell_type": "code",
   "execution_count": null,
   "metadata": {},
   "outputs": [],
   "source": [
    "# Transforma a variável acima em dataframe para automatizar a identificação de quais colunas foram escolhidas\n",
    "\n",
    "features_mais_importante = pd.DataFrame(features_mais_importante_ml)"
   ]
  },
  {
   "cell_type": "code",
   "execution_count": null,
   "metadata": {},
   "outputs": [],
   "source": [
    "# identificação de quais colunas foram escolhidas\n",
    "\n",
    "lista_colunas_escolhidas = []\n",
    "# X é o dataset das doenças que precisa ser transformado em df\n",
    "x_df = pd.DataFrame(dados_padrao_doencas_sem_id)\n",
    "for coluna_ml in range(len(features_mais_importante.columns)):\n",
    "    for coluna_base in x_df.columns:\n",
    "        # para identificar valores únicos\n",
    "        if set(np.array(x_df[coluna_base]) == np.array(features_mais_importante[coluna_ml])) == {True}:\n",
    "            lista_colunas_escolhidas.append(coluna_base)\n",
    "            break\n",
    "\n",
    "lista_colunas_escolhidas\n",
    "\n",
    "# Foram escolhidas as colunas 'Diastolica Isolada', 'Dipping','Non Dipping', 'Extreme Dipping', 'Reverse Dipping'"
   ]
  },
  {
   "cell_type": "code",
   "execution_count": null,
   "metadata": {},
   "outputs": [],
   "source": [
    "#selecionando padrões de doencas\n",
    "\n",
    "#ls_doencas_kbest = ['Diastolica Isolada', 'Dipping',\n",
    "#       'Non Dipping', 'Extreme Dipping', 'Reverse Dipping']\n",
    "\n",
    "#ls_doencas_kbest = ['Hipotensao', 'Sistolica Isolada', 'Diastolica Isolada', 'Dipping',\n",
    "#       'Non Dipping', 'Extreme Dipping', 'Reverse Dipping', 'Morning Surge',\n",
    "#       'Masked', 'Whitecoat', 'Normotenso']\n",
    "\n",
    "dados_padrao_doencas_kbest =  dataset_apos_tratamento[lista_colunas_escolhidas]"
   ]
  },
  {
   "cell_type": "markdown",
   "metadata": {},
   "source": [
    "## Abordagem 4.1:  K-means para SelectKbest"
   ]
  },
  {
   "cell_type": "code",
   "execution_count": null,
   "metadata": {},
   "outputs": [],
   "source": [
    "dados_padrao_doencas_kbest_sem_id = dados_padrao_doencas_kbest\n",
    "grupos_padrao_doencas_kbest_funcao = aplica_kmeans(dados_padrao_doencas_sem_id, 'Padrao Doencas Kbest')\n",
    "print(grupos_padrao_doencas_kbest_funcao)"
   ]
  },
  {
   "cell_type": "code",
   "execution_count": null,
   "metadata": {},
   "outputs": [],
   "source": [
    "grupos = grupos_padrao_doencas_kbest_funcao\n",
    "abordagem = 'Padrao Doencas Kbest'\n",
    "caminho = DIR_KMEANS / 'graficos' / f'grafico_kmeans_grupo_pacientes_{abordagem.lower().replace(\" \",\"_\")}.svg'\n",
    "classes_padrao_doencas_kbest = grafico_barras_grupos(grupos,abordagem,caminho)"
   ]
  },
  {
   "cell_type": "code",
   "execution_count": null,
   "metadata": {},
   "outputs": [],
   "source": [
    "grupos = grupos_padrao_doencas_kbest_funcao\n",
    "abordagem = 'Padrao Doencas Kbest'\n",
    "caminho = DIR_KMEANS / 'graficos' / f'metodo_elbow_{abordagem.lower().replace(\" \",\"_\")}.svg'\n",
    "aplica_elbow(dados_padrao_doencas_kbest_sem_id,abordagem,caminho)"
   ]
  },
  {
   "cell_type": "code",
   "execution_count": null,
   "metadata": {},
   "outputs": [],
   "source": [
    "grupos = grupos_padrao_doencas_kbest_funcao\n",
    "abordagem = 'Padrao Doencas Kbest'\n",
    "aplica_silhouette(dados_padrao_doencas_kbest_sem_id,grupos,abordagem)"
   ]
  },
  {
   "cell_type": "markdown",
   "metadata": {},
   "source": [
    "###  Abordagem 4.1: Random Forest"
   ]
  },
  {
   "cell_type": "code",
   "execution_count": null,
   "metadata": {},
   "outputs": [],
   "source": [
    "grupos = grupos_padrao_doencas_kbest_funcao\n",
    "abordagem = 'Padrao Doencas Kbest'\n",
    "importancia_padrao_doencas_kbest = aplica_random_forest(dados_padrao_doencas_kbest_sem_id,grupos,abordagem,classes_padrao_doencas_kbest)"
   ]
  },
  {
   "cell_type": "code",
   "execution_count": null,
   "metadata": {},
   "outputs": [],
   "source": [
    "dados_completos_padrao_doencas_kbest = pd.concat([dataset_apos_tratamento.loc[:,:'data_exame'],\n",
    "                                    pd.DataFrame({'grupo':grupos_padrao_doencas_kbest_funcao}),\n",
    "                                    dataset_apos_tratamento.loc[:,'sist 9:00':]],\n",
    "                                   axis=1)\n",
    "\n",
    "gera_arquivos_por_grupo(dados_completos_padrao_doencas_kbest,'doencas_kbest')"
   ]
  },
  {
   "cell_type": "markdown",
   "metadata": {},
   "source": [
    "# Abordagem 5 doença sem extremos (Sem Hipotensão e sem Normotenso)"
   ]
  },
  {
   "cell_type": "code",
   "execution_count": null,
   "metadata": {},
   "outputs": [],
   "source": [
    "#   Doenças SEM Hipotensão\n",
    "\n",
    "ls_doencas = list(dataset_apos_tratamento.loc[:,'Hipotensao':'Whitecoat'].columns)\n",
    "ls_doencas = ls_doencas[1:]\n",
    "\n",
    "#  O índice zero é a 1a. coluna de doença que vai até 9 (a última até Whitecoat)\n",
    "#  Usar esse comando para a abordagem em cada uma das doenças separadamente\n",
    "#grupos_doenca = np.array(dataset_apos_tratamento[ls_doencas[0]])\n",
    "\n",
    "#  Usar esse comando para a abordagem de um range de doenças. Aqui não entrou Hipotensão, nem Normotenso\n",
    "doenca_sem_extremos = dataset_apos_tratamento[ls_doencas]"
   ]
  },
  {
   "cell_type": "code",
   "execution_count": null,
   "metadata": {},
   "outputs": [],
   "source": [
    "dados_doenca_sem_extremos_sem_id = doenca_sem_extremos\n",
    "grupos_doenca_sem_extremos_funcao = aplica_kmeans(dados_doenca_sem_extremos_sem_id, 'Sem Extremos')\n",
    "print(grupos_doenca_sem_extremos_funcao)"
   ]
  },
  {
   "cell_type": "code",
   "execution_count": null,
   "metadata": {},
   "outputs": [],
   "source": [
    "grupos = grupos_doenca_sem_extremos_funcao\n",
    "abordagem = 'Sem Extremos'\n",
    "caminho = DIR_KMEANS / 'graficos' / f'grafico_kmeans_grupo_pacientes_{abordagem.lower().replace(\" \",\"_\")}.svg'\n",
    "classes_doenca_sem_extremos = grafico_barras_grupos(grupos,abordagem,caminho)"
   ]
  },
  {
   "cell_type": "code",
   "execution_count": null,
   "metadata": {},
   "outputs": [],
   "source": [
    "grupos = grupos_doenca_sem_extremos_funcao\n",
    "abordagem = 'Sem Extremos'\n",
    "caminho = DIR_KMEANS / 'graficos' / f'metodo_elbow_{abordagem.lower().replace(\" \",\"_\")}.svg'\n",
    "aplica_elbow(dados_doenca_sem_extremos_sem_id,abordagem,caminho)"
   ]
  },
  {
   "cell_type": "code",
   "execution_count": null,
   "metadata": {},
   "outputs": [],
   "source": [
    "grupos = grupos_doenca_sem_extremos_funcao\n",
    "abordagem = 'Sem Extremos'\n",
    "aplica_silhouette(dados_doenca_sem_extremos_sem_id,grupos,abordagem)"
   ]
  },
  {
   "cell_type": "code",
   "execution_count": null,
   "metadata": {},
   "outputs": [],
   "source": [
    "grupos = grupos_doenca_sem_extremos_funcao\n",
    "abordagem = 'Sem Extremos'\n",
    "importancia_doenca_sem_extremos = aplica_random_forest(dados_doenca_sem_extremos_sem_id,grupos,abordagem,classes_doenca_sem_extremos)"
   ]
  },
  {
   "cell_type": "code",
   "execution_count": null,
   "metadata": {},
   "outputs": [],
   "source": [
    "dados_completos_doenca_sem_extremos = pd.concat([dataset_apos_tratamento.loc[:,:'data_exame'],\n",
    "                                    pd.DataFrame({'grupo':grupos_doenca_sem_extremos_funcao}),\n",
    "                                    dataset_apos_tratamento.loc[:,'sist 9:00':]],\n",
    "                                   axis=1)\n",
    "\n",
    "gera_arquivos_por_grupo(dados_completos_doenca_sem_extremos,'doenca_sem_extremos')"
   ]
  },
  {
   "cell_type": "markdown",
   "metadata": {},
   "source": [
    "# Abordagem 6: escolho doença"
   ]
  },
  {
   "cell_type": "code",
   "execution_count": null,
   "metadata": {},
   "outputs": [],
   "source": [
    "ls_doencas = list(dataset_apos_tratamento.loc[:,'Hipotensao':'Whitecoat'].columns)\n",
    "ls_medidas = list(dataset_apos_tratamento.loc[:,'sist 9:00':'diast 8:45'].columns)\n",
    "\n",
    "#  O índice zero é a 1a. coluna de doença que vai até 9 (a última até Whitecoat)\n",
    "grupos_doenca = np.array(dataset_apos_tratamento[ls_doencas[0]])\n",
    "\n",
    "#dados_medidas_novo = np.array(dataset_apos_tratamento.loc[:,'sist 9:00':'diast 8:45'])\n",
    "dados_medidas_novo = dataset_apos_tratamento.loc[:,'sist 9:00':'diast 8:45']"
   ]
  },
  {
   "cell_type": "code",
   "execution_count": null,
   "metadata": {},
   "outputs": [],
   "source": [
    "dados_escolho_doenca_sem_id = dados_medidas_novo\n",
    "grupos_escolho_doenca_funcao =  np.array(dataset_apos_tratamento[ls_doencas[0]]) + 1\n",
    "print(grupos_escolho_doenca_funcao)"
   ]
  },
  {
   "cell_type": "code",
   "execution_count": null,
   "metadata": {},
   "outputs": [],
   "source": [
    "grupos = grupos_escolho_doenca_funcao\n",
    "abordagem = 'Escolho Doenca'\n",
    "caminho = DIR_KMEANS / 'graficos' / f'grafico_kmeans_grupo_pacientes_{abordagem.lower().replace(\" \",\"_\")}.svg'\n",
    "classes_escolho_doenca = grafico_barras_grupos(grupos,abordagem,caminho)"
   ]
  },
  {
   "cell_type": "code",
   "execution_count": null,
   "metadata": {},
   "outputs": [],
   "source": [
    "grupos = grupos_escolho_doenca_funcao\n",
    "abordagem = 'Escolho Doenca'\n",
    "caminho = DIR_KMEANS / 'graficos' / f'metodo_elbow_{abordagem.lower().replace(\" \",\"_\")}.svg'\n",
    "aplica_elbow(dados_escolho_doenca_sem_id,abordagem,caminho)"
   ]
  },
  {
   "cell_type": "code",
   "execution_count": null,
   "metadata": {},
   "outputs": [],
   "source": [
    "grupos = grupos_escolho_doenca_funcao\n",
    "abordagem = 'Escolho Doenca'\n",
    "aplica_silhouette(dados_escolho_doenca_sem_id,grupos,abordagem)"
   ]
  },
  {
   "cell_type": "markdown",
   "metadata": {},
   "source": [
    "####  Abordagem 6: Importância das Features Random Forest"
   ]
  },
  {
   "cell_type": "code",
   "execution_count": null,
   "metadata": {},
   "outputs": [],
   "source": [
    "grupos = grupos_escolho_doenca_funcao\n",
    "abordagem = 'Escolho Doenca'\n",
    "importancia_escolho_doenca = aplica_random_forest(dados_escolho_doenca_sem_id,grupos,abordagem,classes_escolho_doenca)"
   ]
  },
  {
   "cell_type": "code",
   "execution_count": null,
   "metadata": {},
   "outputs": [],
   "source": [
    "dados_completos_escolho_doenca = pd.concat([dataset_apos_tratamento.loc[:,:'data_exame'],\n",
    "                                    pd.DataFrame({'grupo':grupos_escolho_doenca_funcao}),\n",
    "                                    dataset_apos_tratamento.loc[:,'sist 9:00':]],\n",
    "                                   axis=1)\n",
    "gera_arquivos_por_grupo(dados_completos_escolho_doenca,'escolho_doenca')"
   ]
  },
  {
   "cell_type": "markdown",
   "metadata": {},
   "source": [
    "# Abordagem 7: por Categorias "
   ]
  },
  {
   "cell_type": "code",
   "execution_count": null,
   "metadata": {},
   "outputs": [],
   "source": [
    "#convertendo os dados para entrega ao Random - Classifcação\n",
    "ls_classes = list((dataset_por_classes.drop(list(dataset_por_classes.loc[:,'sist 9:00':'diast 8:45'].columns),axis=1)).drop('numero_identificacao',axis=1).columns)\n",
    "\n",
    "dados_categorias = dataset_por_classes[ls_classes]\n",
    "dados_categorias = pd.get_dummies(dados_categorias,columns=['idade'])\n",
    "dados_categorias = pd.get_dummies(dados_categorias,columns=['IMC'])"
   ]
  },
  {
   "cell_type": "code",
   "execution_count": null,
   "metadata": {},
   "outputs": [],
   "source": [
    "dados_categorias"
   ]
  },
  {
   "cell_type": "code",
   "execution_count": null,
   "metadata": {},
   "outputs": [],
   "source": [
    "dados_categorias_sem_id = dados_categorias\n",
    "grupos_categorias_funcao = aplica_kmeans(dados_categorias_sem_id, 'Categorias')\n",
    "print(grupos_categorias_funcao)"
   ]
  },
  {
   "cell_type": "code",
   "execution_count": null,
   "metadata": {},
   "outputs": [],
   "source": [
    "grupos = grupos_categorias_funcao\n",
    "abordagem = 'Categorias'\n",
    "caminho = DIR_KMEANS / 'graficos' / f'grafico_kmeans_grupo_pacientes_{abordagem.lower().replace(\" \",\"_\")}.svg'\n",
    "classes_categorias = grafico_barras_grupos(grupos,abordagem,caminho)"
   ]
  },
  {
   "cell_type": "code",
   "execution_count": null,
   "metadata": {},
   "outputs": [],
   "source": [
    "grupos = grupos_categorias_funcao\n",
    "abordagem = 'Categorias'\n",
    "caminho = DIR_KMEANS / 'graficos' / f'metodo_elbow_{abordagem.lower().replace(\" \",\"_\")}.svg'\n",
    "aplica_elbow(dados_categorias_sem_id,abordagem,caminho)"
   ]
  },
  {
   "cell_type": "code",
   "execution_count": null,
   "metadata": {},
   "outputs": [],
   "source": [
    "grupos = grupos_categorias_funcao\n",
    "abordagem = 'Categorias'\n",
    "aplica_silhouette(dados_categorias_sem_id,grupos,abordagem)"
   ]
  },
  {
   "cell_type": "code",
   "execution_count": null,
   "metadata": {},
   "outputs": [],
   "source": [
    "grupos = grupos_categorias_funcao\n",
    "abordagem = 'Categorias'\n",
    "importancia_categorias = aplica_random_forest(dados_categorias_sem_id,grupos,abordagem,classes_categorias)"
   ]
  },
  {
   "cell_type": "code",
   "execution_count": null,
   "metadata": {},
   "outputs": [],
   "source": [
    "dados_completos_cadastro = pd.concat([dataset_apos_tratamento.loc[:,:'data_exame'],\n",
    "                                    pd.DataFrame({'grupo':grupos_cadastro_funcao}),\n",
    "                                    dataset_apos_tratamento.loc[:,'sist 9:00':]],\n",
    "                                   axis=1)\n",
    "gera_arquivos_por_grupo(dados_completos_cadastro,'classes')"
   ]
  },
  {
   "cell_type": "markdown",
   "metadata": {},
   "source": [
    "# Abordagem 8: Extratificação do Sexo Masculino"
   ]
  },
  {
   "cell_type": "code",
   "execution_count": null,
   "metadata": {},
   "outputs": [],
   "source": [
    "#   Gera uma lista com cabeçalhos\n",
    "dados_masc = dataset_masc_medidas.loc[:,'sist 9:00':'diast 8:45']"
   ]
  },
  {
   "cell_type": "markdown",
   "metadata": {},
   "source": [
    "## Abordagem 8: Número de Clusters gerado pelo k-Means"
   ]
  },
  {
   "cell_type": "code",
   "execution_count": null,
   "metadata": {},
   "outputs": [],
   "source": [
    "dados_masc_sem_id = dados_masc\n",
    "grupos_masc_funcao = aplica_kmeans(dados_masc_sem_id, 'Masc')\n",
    "print(grupos_masc_funcao)"
   ]
  },
  {
   "cell_type": "code",
   "execution_count": null,
   "metadata": {},
   "outputs": [],
   "source": [
    "grupos = grupos_masc_funcao\n",
    "abordagem = 'Masc'\n",
    "caminho = DIR_KMEANS / 'graficos' / f'grafico_kmeans_grupo_pacientes_{abordagem.lower().replace(\" \",\"_\")}.svg'\n",
    "classes_masc = grafico_barras_grupos(grupos,abordagem,caminho)"
   ]
  },
  {
   "cell_type": "markdown",
   "metadata": {},
   "source": [
    "##  Abordagem 8: Método Elbow\n",
    "###  Esse método para calcular o melhor número de cluster para o algoritmo e mostar o gráfico\n",
    "###  https://minerandodados.com.br/algoritmo-k-means-python-passo-passo/#:~:text=O%20m%C3%A9todo%20Elbow%20se%20trata,um%20valor%20significativo%20de%20ganho."
   ]
  },
  {
   "cell_type": "code",
   "execution_count": null,
   "metadata": {},
   "outputs": [],
   "source": [
    "grupos = grupos_masc_funcao\n",
    "abordagem = 'Masc'\n",
    "caminho = DIR_KMEANS / 'graficos' / f'metodo_elbow_{abordagem.lower().replace(\" \",\"_\")}.svg'\n",
    "aplica_elbow(dados_masc_sem_id,abordagem,caminho)"
   ]
  },
  {
   "cell_type": "markdown",
   "metadata": {},
   "source": [
    "## Abordagem 8: Silhouette\n",
    "\n",
    "####  A análise da Silhouette pode ser usada para determinar o grau de separação entre os clusters. O coeficiente de Silhouette quando próximo de +1, indica que os pontos estão muito longe dos pontos do outro cluster, e quando próximo de 0, indica que os pontos então muito perto ou até interseccionando um outro cluster\n",
    "\n"
   ]
  },
  {
   "cell_type": "code",
   "execution_count": null,
   "metadata": {},
   "outputs": [],
   "source": [
    "grupos = grupos_masc_funcao\n",
    "abordagem = 'Masc'\n",
    "aplica_silhouette(dados_masc_sem_id,grupos,abordagem)"
   ]
  },
  {
   "cell_type": "markdown",
   "metadata": {},
   "source": [
    "### Não existe um valor de k clusters que não esteja se intersectando¶"
   ]
  },
  {
   "cell_type": "markdown",
   "metadata": {},
   "source": [
    "### Abordagem 8: Random Forest"
   ]
  },
  {
   "cell_type": "code",
   "execution_count": null,
   "metadata": {},
   "outputs": [],
   "source": [
    "grupos = grupos_masc_funcao\n",
    "abordagem = 'Masc'\n",
    "importancia_masc = aplica_random_forest(dados_masc_sem_id,grupos,abordagem,classes_masc)"
   ]
  },
  {
   "cell_type": "code",
   "execution_count": null,
   "metadata": {},
   "outputs": [],
   "source": [
    "dados_masc = dataset_apos_tratamento[dataset_apos_tratamento['genero'] == 1].copy().reset_index().drop('index',axis=1)\n",
    "dados_completos_masc = pd.concat([dados_masc.loc[:,:'data_exame'],\n",
    "                                    pd.DataFrame({'grupo':grupos_masc_funcao}),\n",
    "                                    dados_masc.loc[:,'sist 9:00':]],\n",
    "                                   axis=1)\n",
    "gera_arquivos_por_grupo(dados_completos_masc,'medidas_masc')"
   ]
  },
  {
   "cell_type": "markdown",
   "metadata": {},
   "source": [
    "# Abordagem 9: Extratificação do Sexo Feminino"
   ]
  },
  {
   "cell_type": "code",
   "execution_count": null,
   "metadata": {},
   "outputs": [],
   "source": [
    "#selecionando variaveis de medidas : sist 9:00 a diast 8:45\n",
    "dados_fem = dataset_fem_medidas.loc[:,'sist 9:00':'diast 8:45']"
   ]
  },
  {
   "cell_type": "markdown",
   "metadata": {},
   "source": [
    "## Abordagem 9: Número de Clusters gerado pelo k-Means"
   ]
  },
  {
   "cell_type": "code",
   "execution_count": null,
   "metadata": {},
   "outputs": [],
   "source": [
    "dados_fem_sem_id = dados_fem\n",
    "grupos_fem_funcao = aplica_kmeans(dados_fem_sem_id, 'Fem')\n",
    "print(grupos_fem_funcao)"
   ]
  },
  {
   "cell_type": "code",
   "execution_count": null,
   "metadata": {},
   "outputs": [],
   "source": [
    "grupos = grupos_fem_funcao\n",
    "abordagem = 'Fem'\n",
    "caminho = DIR_KMEANS / 'graficos' / f'grafico_kmeans_grupo_pacientes_{abordagem.lower().replace(\" \",\"_\")}.svg'\n",
    "classes_fem = grafico_barras_grupos(grupos,abordagem,caminho)"
   ]
  },
  {
   "cell_type": "markdown",
   "metadata": {},
   "source": [
    "##  Abordagem 9: Método Elbow\n",
    "###  Esse método para calcular o melhor número de cluster para o algoritmo e mostar o gráfico\n",
    "###  https://minerandodados.com.br/algoritmo-k-means-python-passo-passo/#:~:text=O%20m%C3%A9todo%20Elbow%20se%20trata,um%20valor%20significativo%20de%20ganho."
   ]
  },
  {
   "cell_type": "code",
   "execution_count": null,
   "metadata": {},
   "outputs": [],
   "source": [
    "grupos = grupos_fem_funcao\n",
    "abordagem = 'Fem'\n",
    "caminho = DIR_KMEANS / 'graficos' / f'metodo_elbow_{abordagem.lower().replace(\" \",\"_\")}.svg'\n",
    "aplica_elbow(dados_fem_sem_id,abordagem,caminho)"
   ]
  },
  {
   "cell_type": "markdown",
   "metadata": {},
   "source": [
    "## Abordagem 9: Silhouette\n",
    "\n",
    "####  A análise da Silhouette pode ser usada para determinar o grau de separação entre os clusters. O coeficiente de Silhouette quando próximo de +1, indica que os pontos estão muito longe dos pontos do outro cluster, e quando próximo de 0, indica que os pontos então muito perto ou até interseccionando um outro cluster\n",
    "\n"
   ]
  },
  {
   "cell_type": "code",
   "execution_count": null,
   "metadata": {},
   "outputs": [],
   "source": [
    "grupos = grupos_fem_funcao\n",
    "abordagem = 'Fem'\n",
    "aplica_silhouette(dados_fem_sem_id,grupos,abordagem)"
   ]
  },
  {
   "cell_type": "markdown",
   "metadata": {},
   "source": [
    "### Abordagem 9: Random Forest"
   ]
  },
  {
   "cell_type": "code",
   "execution_count": null,
   "metadata": {},
   "outputs": [],
   "source": [
    "grupos = grupos_fem_funcao\n",
    "abordagem = 'Fem'\n",
    "importancia_fem = aplica_random_forest(dados_fem_sem_id,grupos,abordagem,classes_fem)"
   ]
  },
  {
   "cell_type": "code",
   "execution_count": null,
   "metadata": {},
   "outputs": [],
   "source": [
    "dados_fem = dataset_apos_tratamento[dataset_apos_tratamento['genero'] == 0].copy().reset_index().drop('index',axis=1)\n",
    "dados_completos_fem = pd.concat([dados_fem.loc[:,:'data_exame'],\n",
    "                                    pd.DataFrame({'grupo':grupos_fem_funcao}),\n",
    "                                    dados_fem.loc[:,'sist 9:00':]],\n",
    "                                   axis=1)\n",
    "gera_arquivos_por_grupo(dados_completos_fem,'medidas_fem')"
   ]
  },
  {
   "cell_type": "markdown",
   "metadata": {},
   "source": [
    "# Abordagem 10: Sistólicas separadas"
   ]
  },
  {
   "cell_type": "code",
   "execution_count": null,
   "metadata": {},
   "outputs": [],
   "source": [
    "dados_sist = dataset_medidas.loc[:,'sist 9:00':'sist 8:45']"
   ]
  },
  {
   "cell_type": "markdown",
   "metadata": {},
   "source": [
    "## Abordagem 10: Número de Clusters gerado pelo k-Means"
   ]
  },
  {
   "cell_type": "code",
   "execution_count": null,
   "metadata": {},
   "outputs": [],
   "source": [
    "dados_sist_sem_id = dados_sist\n",
    "grupos_sist_funcao = aplica_kmeans(dados_sist_sem_id, 'Sist')\n",
    "print(grupos_sist_funcao)"
   ]
  },
  {
   "cell_type": "code",
   "execution_count": null,
   "metadata": {},
   "outputs": [],
   "source": [
    "grupos = grupos_sist_funcao\n",
    "abordagem = 'Sist'\n",
    "caminho = DIR_KMEANS / 'graficos' / f'grafico_kmeans_grupo_pacientes_{abordagem.lower().replace(\" \",\"_\")}.svg'\n",
    "classes_sist = grafico_barras_grupos(grupos,abordagem,caminho)"
   ]
  },
  {
   "cell_type": "code",
   "execution_count": null,
   "metadata": {},
   "outputs": [],
   "source": [
    "grupos = grupos_sist_funcao\n",
    "abordagem = 'Sist'\n",
    "caminho = DIR_KMEANS / 'graficos' / f'metodo_elbow_{abordagem.lower().replace(\" \",\"_\")}.svg'\n",
    "aplica_elbow(dados_sist_sem_id,abordagem,caminho)"
   ]
  },
  {
   "cell_type": "markdown",
   "metadata": {},
   "source": [
    "### Abordagem 10: Random Forest"
   ]
  },
  {
   "cell_type": "code",
   "execution_count": null,
   "metadata": {},
   "outputs": [],
   "source": [
    "grupos = grupos_sist_funcao\n",
    "abordagem = 'Sist'\n",
    "aplica_silhouette(dados_sist_sem_id,grupos,abordagem)"
   ]
  },
  {
   "cell_type": "code",
   "execution_count": null,
   "metadata": {
    "scrolled": true
   },
   "outputs": [],
   "source": [
    "grupos = grupos_sist_funcao\n",
    "abordagem = 'Sist'\n",
    "importancia_sist = aplica_random_forest(dados_sist_sem_id,grupos,abordagem,classes_sist)"
   ]
  },
  {
   "cell_type": "code",
   "execution_count": null,
   "metadata": {},
   "outputs": [],
   "source": [
    "dados_completos_sist = pd.concat([dataset_apos_tratamento.loc[:,:'data_exame'],\n",
    "                                    pd.DataFrame({'grupo':grupos_sist_funcao}),\n",
    "                                    dataset_apos_tratamento.loc[:,'sist 9:00':]],\n",
    "                                   axis=1)\n",
    "\n",
    "gera_arquivos_por_grupo(dados_completos_sist,'medidas_sistolica')"
   ]
  },
  {
   "cell_type": "markdown",
   "metadata": {},
   "source": [
    "# Abordagem 11: Diastólicas "
   ]
  },
  {
   "cell_type": "code",
   "execution_count": null,
   "metadata": {},
   "outputs": [],
   "source": [
    "dados_diast = dataset_medidas.loc[:,'diast 9:00':'diast 8:45']"
   ]
  },
  {
   "cell_type": "markdown",
   "metadata": {},
   "source": [
    "## Abordagem 11: Número de Clusters gerado pelo k-Means"
   ]
  },
  {
   "cell_type": "code",
   "execution_count": null,
   "metadata": {},
   "outputs": [],
   "source": [
    "dados_diast_sem_id = dados_diast\n",
    "grupos_diast_funcao = aplica_kmeans(dados_diast_sem_id, 'Sist')\n",
    "print(grupos_diast_funcao)"
   ]
  },
  {
   "cell_type": "code",
   "execution_count": null,
   "metadata": {},
   "outputs": [],
   "source": [
    "grupos = grupos_diast_funcao\n",
    "abordagem = 'Diast'\n",
    "caminho = DIR_KMEANS / 'graficos' / f'grafico_kmeans_grupo_pacientes_{abordagem.lower().replace(\" \",\"_\")}.svg'\n",
    "classes_diast = grafico_barras_grupos(grupos,abordagem,caminho)"
   ]
  },
  {
   "cell_type": "code",
   "execution_count": null,
   "metadata": {},
   "outputs": [],
   "source": [
    "grupos = grupos_diast_funcao\n",
    "abordagem = 'Diast'\n",
    "caminho = DIR_KMEANS / 'graficos' / f'metodo_elbow_{abordagem.lower().replace(\" \",\"_\")}.svg'\n",
    "aplica_elbow(dados_diast_sem_id,abordagem,caminho)"
   ]
  },
  {
   "cell_type": "code",
   "execution_count": null,
   "metadata": {},
   "outputs": [],
   "source": [
    "grupos = grupos_diast_funcao\n",
    "abordagem = 'Diast'\n",
    "aplica_silhouette(dados_diast_sem_id,grupos,abordagem)"
   ]
  },
  {
   "cell_type": "markdown",
   "metadata": {},
   "source": [
    "### Abordagem 11: Random Forest"
   ]
  },
  {
   "cell_type": "code",
   "execution_count": null,
   "metadata": {},
   "outputs": [],
   "source": [
    "grupos = grupos_diast_funcao\n",
    "abordagem = 'Diast'\n",
    "importancia_diast = aplica_random_forest(dados_diast_sem_id,grupos,abordagem,classes_diast)"
   ]
  },
  {
   "cell_type": "code",
   "execution_count": null,
   "metadata": {},
   "outputs": [],
   "source": [
    "dados_completos_diast = pd.concat([dataset_apos_tratamento.loc[:,:'data_exame'],\n",
    "                                    pd.DataFrame({'grupo':grupos_diast_funcao}),\n",
    "                                    dataset_apos_tratamento.loc[:,'sist 9:00':]],\n",
    "                                   axis=1)\n",
    "\n",
    "gera_arquivos_por_grupo(dados_completos_diast,'medidas_diastolica')"
   ]
  },
  {
   "cell_type": "markdown",
   "metadata": {},
   "source": [
    "# Abordagem 12 Medidas Mais Importantes"
   ]
  },
  {
   "cell_type": "code",
   "execution_count": null,
   "metadata": {},
   "outputs": [],
   "source": [
    "ls_importantes = importancia_medidas['features'].iloc[:7].values\n",
    "ls_importantes"
   ]
  },
  {
   "cell_type": "code",
   "execution_count": null,
   "metadata": {},
   "outputs": [],
   "source": [
    "medidas_importantes = dataset_apos_tratamento[ls_importantes]\n",
    "medidas_importantes"
   ]
  },
  {
   "cell_type": "code",
   "execution_count": null,
   "metadata": {},
   "outputs": [],
   "source": [
    "#calculando a quantidade ótima de clusters (é possivel dividir os pacientes em quantos grupos)\n",
    "%time sum_of_squares_medidas_importantes = calculate_wcss(medidas_importantes)\n",
    "num_otimo_clusters_medidas_importantes = optimal_number_of_clusters(sum_of_squares_medidas_importantes)\n",
    "num_otimo_clusters_medidas_importantes"
   ]
  },
  {
   "cell_type": "code",
   "execution_count": null,
   "metadata": {},
   "outputs": [],
   "source": [
    "#convertendo os dados para a clusterização\n",
    "\n",
    "dados_medidas_importantes_array = np.array(medidas_importantes)"
   ]
  },
  {
   "cell_type": "markdown",
   "metadata": {},
   "source": [
    "## K-means Abordagem: Medidas Mais Importantes"
   ]
  },
  {
   "cell_type": "code",
   "execution_count": null,
   "metadata": {},
   "outputs": [],
   "source": [
    "#habilitando o kmeans com \"num_otimo_clusters\" grupos (foi calculado na etapa anterior)\n",
    "\n",
    "kmeans_medidas_importantes = KMeans(n_clusters=num_otimo_clusters_medidas_importantes, random_state=42).fit(dados_medidas_importantes_array)"
   ]
  },
  {
   "cell_type": "code",
   "execution_count": null,
   "metadata": {},
   "outputs": [],
   "source": [
    "#listar os grupos \n",
    "\n",
    "%time grupos_medidas_importantes = kmeans_medidas_importantes.fit_predict(dados_medidas_importantes_array)\n",
    "grupos_medidas_importantes"
   ]
  },
  {
   "cell_type": "code",
   "execution_count": null,
   "metadata": {},
   "outputs": [],
   "source": [
    "#medidas_importantes.drop(['grupo'],axis=1,inplace=True)"
   ]
  },
  {
   "cell_type": "code",
   "execution_count": null,
   "metadata": {},
   "outputs": [],
   "source": [
    "medidas_importantes['grupo'] = grupos_medidas_importantes + 1\n",
    "medidas_importantes"
   ]
  },
  {
   "cell_type": "code",
   "execution_count": null,
   "metadata": {},
   "outputs": [],
   "source": [
    "df_medidas_importantes = pd.concat([dataset_apos_tratamento.loc[:,:'data_exame'],medidas_importantes.loc[:,'grupo'],dataset_apos_tratamento.loc[:,'sist 9:00':]], axis=1)\n",
    "df_medidas_importantes\n"
   ]
  },
  {
   "cell_type": "markdown",
   "metadata": {},
   "source": [
    "# Abordagem 13: redução das categorias das covariáveis Gênero, Idade e IMC"
   ]
  },
  {
   "cell_type": "code",
   "execution_count": null,
   "metadata": {},
   "outputs": [],
   "source": [
    "dados_simplificado = pd.DataFrame()\n",
    "dados_simplificado['numero_identificacao'] = dataset_apos_tratamento['numero_identificacao']\n",
    "dados_simplificado['genero'] = dataset_apos_tratamento['genero']\n",
    "dados_simplificado['idade'] = dataset_apos_tratamento['idade'].apply(faixas_etarias_classe_13)\n",
    "dados_simplificado['IMC'] = dataset_apos_tratamento['IMC'].apply(faixas_imc_classe_13)\n",
    "dados_simplificado = pd.concat([dados_simplificado, dataset_apos_tratamento.loc[:,'sist 9:00':'diast 8:45']],axis=1)\n",
    "for doenca in list(dataset_apos_tratamento.loc[:,'Hipotensao':'Whitecoat'].columns):\n",
    "    dados_simplificado[doenca] = dataset_apos_tratamento[doenca].apply(verdadeiro_falso)\n",
    "#dados_simplificado"
   ]
  },
  {
   "cell_type": "code",
   "execution_count": null,
   "metadata": {},
   "outputs": [],
   "source": [
    "dados_simplificado_sem_id = dados_simplificado\n",
    "grupos_simplificado_funcao = aplica_kmeans(dados_simplificado_sem_id, 'Simplificado')\n",
    "print(grupos_simplificado_funcao)"
   ]
  },
  {
   "cell_type": "code",
   "execution_count": null,
   "metadata": {},
   "outputs": [],
   "source": [
    "grupos = grupos_simplificado_funcao\n",
    "abordagem = 'Simplificado'\n",
    "caminho = DIR_KMEANS / 'graficos' / f'grafico_kmeans_grupo_pacientes_{abordagem.lower().replace(\" \",\"_\")}.svg'\n",
    "classes_simplificado = grafico_barras_grupos(grupos,abordagem,caminho)"
   ]
  },
  {
   "cell_type": "code",
   "execution_count": null,
   "metadata": {},
   "outputs": [],
   "source": [
    "grupos = grupos_simplificado_funcao\n",
    "abordagem = 'Simplificado'\n",
    "caminho = DIR_KMEANS / 'graficos' / f'metodo_elbow_{abordagem.lower().replace(\" \",\"_\")}.svg'\n",
    "aplica_elbow(dados_simplificado_sem_id,abordagem,caminho)"
   ]
  },
  {
   "cell_type": "code",
   "execution_count": null,
   "metadata": {},
   "outputs": [],
   "source": [
    "grupos = grupos_simplificado_funcao\n",
    "abordagem = 'Simplificado'\n",
    "aplica_silhouette(dados_simplificado_sem_id,grupos,abordagem)"
   ]
  },
  {
   "cell_type": "code",
   "execution_count": null,
   "metadata": {},
   "outputs": [],
   "source": [
    "grupos = grupos_simplificado_funcao\n",
    "abordagem = 'Simplificado'\n",
    "importancia_simplificado = aplica_random_forest(dados_simplificado_sem_id,grupos,abordagem,classes_simplificado)"
   ]
  },
  {
   "cell_type": "code",
   "execution_count": null,
   "metadata": {},
   "outputs": [],
   "source": [
    "dados_completos_simplificado = pd.concat([dataset_apos_tratamento.loc[:,:'data_exame'],\n",
    "                                    pd.DataFrame({'grupo':grupos_simplificado_funcao}),\n",
    "                                    dataset_apos_tratamento.loc[:,'sist 9:00':]],\n",
    "                                   axis=1)\n",
    "\n",
    "gera_arquivos_por_grupo(dados_completos_simplificado,'simplificado')"
   ]
  },
  {
   "cell_type": "code",
   "execution_count": null,
   "metadata": {},
   "outputs": [],
   "source": [
    "#dados_completos_categorias_reduzido = pd.concat([dataset_apos_tratamento.loc[:,:'data_exame'],\n",
    "#                                    pd.DataFrame({'grupo':grupos_categorias_reduzido_funcao}),\n",
    "#                                    dataset_apos_tratamento.loc[:,'sist 9:00':]],\n",
    "#                                   axis=1)\n",
    "#\n",
    "#gera_arquivos_por_grupo(dados_completos_categorias_reduzido,'categorias_reduzido')"
   ]
  },
  {
   "cell_type": "code",
   "execution_count": null,
   "metadata": {},
   "outputs": [],
   "source": [
    "##convertendo os dados para entrega ao Random - Classifcação\n",
    "#\n",
    "##ls_classes = list(dataset_por_classes.loc[:,'genero':].columns)\n",
    "#\n",
    "##genero_M_F1 = {\"genero\": {\"M\":1, \"F\":0}}\n",
    "##dataset_por_classes = dataset_por_classes.replace(genero_M_F1)\n",
    "#\n",
    "#ls_simples = list((dataset_simples.drop(list(dataset_simples.loc[:,'Hipotensao':].columns),axis=1)).drop('numero_identificacao',axis=1).columns)\n",
    "#\n",
    "#array_simples = np.array(dataset_simples[ls_simples])\n",
    "#\n",
    "#dataset_simples[ls_simples].head()"
   ]
  },
  {
   "cell_type": "code",
   "execution_count": null,
   "metadata": {},
   "outputs": [],
   "source": [
    "##calculando a quantidade ótima de clusters (é possivel dividir os pacientes em quantos grupos)\n",
    "\n",
    "#sum_of_squares = calculate_wcss(array_simples)\n",
    "#n_simples = optimal_number_of_clusters(sum_of_squares)\n",
    "#print (n_simples)\n"
   ]
  },
  {
   "cell_type": "code",
   "execution_count": null,
   "metadata": {},
   "outputs": [],
   "source": [
    "##   habilitando o k-means com \"optimal_number_of_clusters\" grupos (calculado na etapa anterior)\n",
    "#\n",
    "#kmeans_simples = KMeans(n_clusters=n_simples, random_state=42).fit(array_simples)\n",
    "#\n",
    "#\n",
    "##listar os grupos \n",
    "#\n",
    "#grupos_simples = kmeans_simples.fit_predict(array_simples)\n",
    "#\n",
    "#\n",
    "#grupos_simples\n",
    "#"
   ]
  },
  {
   "cell_type": "code",
   "execution_count": null,
   "metadata": {},
   "outputs": [],
   "source": [
    "#  Inclui a coluna Grupo no dataset que será gravado no final\n",
    "#dataset_simples['grupo'] = grupos_simples \n",
    "#dataset_simples['grupo'] = dataset_simples['grupo'] + 1"
   ]
  },
  {
   "cell_type": "code",
   "execution_count": null,
   "metadata": {},
   "outputs": [],
   "source": [
    "#from sklearn.ensemble import RandomForestClassifier\n",
    "#\n",
    "##parametro simples do modelo\n",
    "#random_forest_classes = RandomForestClassifier(n_estimators=50)\n",
    "#\n",
    "##base para modelo\n",
    "#classes = []\n",
    "#qtds = []\n",
    "#\n",
    "#contagem = Counter(grupos_classes)\n",
    "#\n",
    "#for i in range(0,n_classes):\n",
    "#    classes.append(i)\n",
    "#    qtds.append(contagem[i])\n",
    "#\n",
    "#plt.bar(classes,qtds,color=\"#a8ddb5\")\n",
    "#plt.xticks(classes)\n",
    "#plt.ylabel('Quantidade de Pacientes')\n",
    "#plt.xlabel('Grupo gerado por kmeans')\n",
    "#plt.grid()\n",
    "#plt.title('Numero pacientes x Grupos por kmeans na Abordagem Classes')\n",
    "#fig = plt.gcf()\n",
    "#fig.savefig(DIR_KMEANS / 'graficos' / 'grafico_Random_AbordagemClasses_doenca_por_grupos.svg',format=\"svg\")\n",
    "#plt.show()"
   ]
  },
  {
   "cell_type": "code",
   "execution_count": null,
   "metadata": {},
   "outputs": [],
   "source": [
    "#train_ratio = 0.75\n",
    "#validation_ratio = 0.15\n",
    "#test_ratio = 0.10\n",
    "#\n",
    "## Feature Selection\n",
    "#x_train, x_test, y_train, y_test = train_test_split(array_classes, grupos_classes, test_size=1 - train_ratio,random_state=42)\n",
    "#\n",
    "## Feature Selection\n",
    "#x_val, x_test, y_val, y_test = train_test_split(array_classes, grupos_classes, test_size=test_ratio/(test_ratio + validation_ratio),random_state=42)\n",
    "#\n",
    "## Aplicação do modelo Random Forest no conjunto de dados de treino\n",
    "#random_forest_classes.fit(x_train, y_train)"
   ]
  },
  {
   "cell_type": "code",
   "execution_count": null,
   "metadata": {},
   "outputs": [],
   "source": [
    "#### Abordagem 7: VALIDAÇÃO\n",
    "\n",
    "#calcular acuracia, recall e f1\n",
    "#y_prev_val = random_forest_classes.predict(x_val)\n",
    "#\n",
    "#accuracy = accuracy_score(y_val, y_prev_val)\n",
    "#recall = recall_score(y_val, y_prev_val,average='macro')\n",
    "#f1 = f1_score(y_val, y_prev_val,average='macro')\n",
    "#\n",
    "#print('Accuracy: '+str(accuracy)+' - Recall: '+str(recall)+' - F1 Score: '+str(f1))\n",
    "#\n",
    "##Matriz de Confusão\n",
    "#mat=list(confusion_matrix(y_val, y_prev_val, labels=classes))\n",
    "#pd.DataFrame(mat,index = classes, columns = classes)"
   ]
  },
  {
   "cell_type": "code",
   "execution_count": null,
   "metadata": {},
   "outputs": [],
   "source": [
    "#### Abordagem 7: TESTE\n",
    "\n",
    "#calcular acuracia, recall e f1\n",
    "#y_prev_test = random_forest_classes.predict(x_test)\n",
    "#\n",
    "#accuracy = accuracy_score(y_test, y_prev_test)\n",
    "#recall = recall_score(y_test, y_prev_test,average='macro')\n",
    "#f1 = f1_score(y_test, y_prev_test,average='macro')\n",
    "#\n",
    "#print('Accuracy: '+str(accuracy)+' - Recall: '+str(recall)+' - F1 Score: '+str(f1))\n",
    "#\n",
    "##Matriz de Confusão\n",
    "#mat=list(confusion_matrix(y_test, y_prev_test, labels=classes))\n",
    "#pd.DataFrame(mat,index = classes, columns = classes)"
   ]
  },
  {
   "cell_type": "code",
   "execution_count": null,
   "metadata": {},
   "outputs": [],
   "source": [
    "# Importância para Categorias\n",
    "\n",
    "#importancia = pd.DataFrame({'features':ls_classes,'importance':np.round(random_forest_classes.feature_importances_,3)})\n",
    "#\n",
    "#importancia = importancia.sort_values('importance',ascending=False)\n",
    "#\n",
    "#importancia.to_csv(path_or_buf = DIR_KMEANS / \"padrao_doenca\" / 'importancia_features_categoria.csv', \n",
    "#             sep=';',index=False,encoding='UTF-8')\n",
    "#\n",
    "#importancia"
   ]
  },
  {
   "cell_type": "markdown",
   "metadata": {},
   "source": [
    "# Função para gravar os outputs"
   ]
  },
  {
   "cell_type": "code",
   "execution_count": null,
   "metadata": {},
   "outputs": [],
   "source": [
    "#def gera_arquivos_por_grupo(todos_dados_grupo, abordagem):\n",
    "#    grupos = list(set(todos_dados_grupo['grupo'].values))\n",
    "#    \n",
    "#    todos_dados_grupo.to_csv(DIR_KMEANS / f\"KMEANS_approach_{abordagem}_todos_pacientes.csv\", \n",
    "#                        sep=\";\", encoding=\"latin1\", index=False)\n",
    "#    \n",
    "#    for grupo in grupos:\n",
    "#        df_grupo = todos_dados_grupo[todos_dados_grupo['grupo'] == grupo]\n",
    "#        df_grupo.to_csv(DIR_KMEANS / f\"KMEANS_approach_{abordagem}_grupo_{grupo}.csv\", \n",
    "#                        sep=\";\", encoding=\"latin1\", index=False)\n",
    "#    true_false_1_0 = {True:1, False:0}\n",
    "#    for doenca in list(todos_dados_grupo.loc[:,'Hipotensao':'Normotenso'].columns):\n",
    "#        todos_dados_grupo.loc[:,doenca] = todos_dados_grupo.loc[:,doenca].replace(true_false_1_0)\n",
    "#    \n",
    "#    todos_dados_grupo.to_csv(DIR_KMEANS / f\"KMEANS_approach_{abordagem}_compara_todos_pacientes.csv\", \n",
    "#                        sep=\";\", encoding=\"latin1\", index=False)\n",
    "#    if (abordagem == 'medidas'):\n",
    "#        try:\n",
    "#            df_grupo123 = todos_dados_grupo[(todos_dados_grupo['grupo'] == 1) | (todos_dados_grupo['grupo'] == 2) | (todos_dados_grupo['grupo'] == 3)]\n",
    "#            df_grupo123.to_csv(DIR_KMEANS / f\"KMEANS_approach_{abordagem}_grupo123.csv\", \n",
    "#                            sep=\";\", encoding=\"latin1\", index=False)\n",
    "#\n",
    "#            df_grupo45 = todos_dados_grupo[(todos_dados_grupo['grupo'] == 4) | (todos_dados_grupo['grupo'] == 5)]\n",
    "#            df_grupo45.to_csv(DIR_KMEANS / f\"KMEANS_approach_{abordagem}_grupo45.csv\", \n",
    "#                            sep=\";\", encoding=\"latin1\", index=False)\n",
    "#\n",
    "#            df_grupo67 = todos_dados_grupo[(todos_dados_grupo['grupo'] == 6) | (todos_dados_grupo['grupo'] == 7)]\n",
    "#            df_grupo67.to_csv(DIR_KMEANS / f\"KMEANS_approach_{abordagem}_grupo67.csv\", \n",
    "#                            sep=\";\", encoding=\"latin1\", index=False)\n",
    "#        except:\n",
    "#            pass"
   ]
  },
  {
   "cell_type": "code",
   "execution_count": null,
   "metadata": {},
   "outputs": [],
   "source": [
    "#gera_arquivos_por_grupo(dados_completos_escolho_doenca,'escolho_doenca')"
   ]
  },
  {
   "cell_type": "markdown",
   "metadata": {},
   "source": [
    "##  Grava arquivo da abordagem 1 - Cadastro e Medidas"
   ]
  },
  {
   "cell_type": "code",
   "execution_count": null,
   "metadata": {},
   "outputs": [],
   "source": [
    "#'def gera_arquivos_por_grupo(todos_dados_grupo):\n",
    "#'    grupos = list(set(todos_dados_grupo['grupo'].values))\n",
    "#'    \n",
    "#'    for grupo in grupos:\n",
    "#'        df_grupo = todos_dados_grupo[todos_dados_grupo['grupo'] == grupo]\n",
    "#'        df_grupo.to_csv(DIR_KMEANS / f\"KMEANS_approach_cadastro_grupo_{grupo}.csv\", \n",
    "#'                        sep=\";\", encoding=\"latin1\", index=False)\n",
    "#'\n",
    "#'\n",
    "#'#gera_arquivos_por_grupo(todos_dados_grupo)"
   ]
  },
  {
   "cell_type": "code",
   "execution_count": null,
   "metadata": {},
   "outputs": [],
   "source": [
    "#dados_completos_cadastro = pd.concat([dataset_apos_tratamento.loc[:,:'data_exame'],\n",
    "#                                    dataset_padrao_doenca['grupo'],\n",
    "#                                    dataset_apos_tratamento.loc[:,'sist 9:00':]],\n",
    "#                                   axis=1)\n",
    "#\n",
    "#genero_M_F = {\"genero\": {1: \"M\", 0: \"F\"}}\n",
    "#dados_completos_cadastro = dados_completos_cadastro.replace(genero_M_F)"
   ]
  },
  {
   "cell_type": "code",
   "execution_count": null,
   "metadata": {},
   "outputs": [],
   "source": [
    "#gera_arquivos_por_grupo(dados_completos_cadastro,'cadastro')"
   ]
  },
  {
   "cell_type": "code",
   "execution_count": null,
   "metadata": {},
   "outputs": [],
   "source": [
    "#dados_completos_cadastro[dados_completos_cadastro['grupo'] == 2]"
   ]
  },
  {
   "cell_type": "code",
   "execution_count": null,
   "metadata": {},
   "outputs": [],
   "source": [
    "#dados_completos_cadastro = dados_completos_generico\n",
    "#dados_completos_cadastro['grupo'] = dataset_padrao_doenca['grupo']"
   ]
  },
  {
   "cell_type": "code",
   "execution_count": null,
   "metadata": {},
   "outputs": [],
   "source": [
    "#gera_arquivos_por_grupo(dados_completos_cadastro)"
   ]
  },
  {
   "cell_type": "markdown",
   "metadata": {},
   "source": [
    "##  Grava arquivo da abordagem 2 - Medidas"
   ]
  },
  {
   "cell_type": "code",
   "execution_count": null,
   "metadata": {},
   "outputs": [],
   "source": [
    "#def gera_arquivos_por_grupo(todos_dados_grupo):\n",
    "#    grupos = list(set(todos_dados_grupo['grupo'].values))\n",
    "#    \n",
    "#    for grupo in grupos:\n",
    "#        df_grupo = todos_dados_grupo[todos_dados_grupo['grupo'] == grupo]\n",
    "#        df_grupo.to_csv(DIR_KMEANS /  f\"KMEANS_approach_medidas_grupo_{grupo}.csv\", \n",
    "#                        sep=\";\", encoding=\"latin1\", index=False)\n",
    "#\n",
    "##gera_arquivos_por_grupo(todos_dados_grupo)"
   ]
  },
  {
   "cell_type": "code",
   "execution_count": null,
   "metadata": {},
   "outputs": [],
   "source": [
    "#dados_completos_medidas = pd.concat([dataset_apos_tratamento.loc[:,:'IMC'],\n",
    "#                                    dados_medidas_sem_id['grupo'],\n",
    "#                                    dataset_apos_tratamento.loc[:,'data_exame':]],\n",
    "#                                   axis=1)\n",
    "#\n",
    "#genero_M_F = {\"genero\": {1: \"M\", 0: \"F\"}}\n",
    "#dados_completos_medidas = dados_completos_medidas.replace(genero_M_F)"
   ]
  },
  {
   "cell_type": "code",
   "execution_count": null,
   "metadata": {},
   "outputs": [],
   "source": [
    "def identifica_cluster_binario(valor,cluster):\n",
    "    if valor == cluster:\n",
    "        return 1\n",
    "    else:\n",
    "        return 0\n",
    "    \n",
    "def dataFrameClasse(df):\n",
    "    genero_1_0 = {\"genero\": {\"M\":1, \"F\":0}}\n",
    "    df_classe = df.copy()\n",
    "    df_classe = df_classe.replace(genero_1_0)\n",
    "    df_classe.idade = df_classe.idade.apply(faixas_etarias_classe)\n",
    "    df_classe.IMC = df_classe.IMC.apply(faixas_imc_classe)\n",
    "    for grupo in set(dados_completos_medidas.grupo):\n",
    "        df_classe[f'C{grupo}'] = df_classe.grupo.apply(identifica_cluster_binario,cluster=grupo)\n",
    "    return df_classe"
   ]
  },
  {
   "cell_type": "code",
   "execution_count": null,
   "metadata": {},
   "outputs": [],
   "source": [
    "#df_teste = dataFrameClasse(dados_completos_medidas)\n",
    "#df_teste.head()\n",
    "#print (df_teste.shape)"
   ]
  },
  {
   "cell_type": "code",
   "execution_count": null,
   "metadata": {},
   "outputs": [],
   "source": [
    "#dados_completos_medidas"
   ]
  },
  {
   "cell_type": "code",
   "execution_count": null,
   "metadata": {},
   "outputs": [],
   "source": [
    "#len(dados_completos_medidas)"
   ]
  },
  {
   "cell_type": "code",
   "execution_count": null,
   "metadata": {},
   "outputs": [],
   "source": [
    "#gera_arquivos_por_grupo(dados_completos_medidas)"
   ]
  },
  {
   "cell_type": "code",
   "execution_count": null,
   "metadata": {},
   "outputs": [],
   "source": [
    "#gera_arquivos_por_grupo(dados_completos_medidas,'medidas')"
   ]
  },
  {
   "cell_type": "code",
   "execution_count": null,
   "metadata": {},
   "outputs": [],
   "source": [
    "#dados_completos_medidas[dados_completos_medidas['grupo'] == 1].describe()"
   ]
  },
  {
   "cell_type": "markdown",
   "metadata": {},
   "source": [
    "##  Grava arquivo da abordagem 3 - Estatísticas"
   ]
  },
  {
   "cell_type": "code",
   "execution_count": null,
   "metadata": {},
   "outputs": [],
   "source": [
    "#def gera_arquivos_por_grupo(todos_dados_grupo):\n",
    "#    grupos = list(set(todos_dados_grupo['grupo'].values))\n",
    "#    \n",
    "#    for grupo in grupos:\n",
    "#        df_grupo = todos_dados_grupo[todos_dados_grupo['grupo'] == grupo]\n",
    "#        df_grupo.to_csv(DIR_KMEANS / f\"KMEANS_approach_estatistica_grupo_{grupo}.csv\", \n",
    "#                        sep=\";\", encoding=\"latin1\", index=False)\n",
    "#\n",
    "##gera_arquivos_por_grupo(todos_dados_grupo)"
   ]
  },
  {
   "cell_type": "code",
   "execution_count": null,
   "metadata": {},
   "outputs": [],
   "source": [
    "#dados_completos_estatistica = pd.concat([dataset_apos_tratamento.loc[:,:'IMC'],\n",
    "#                                    dados_estatistica_sem_nan['grupo'],\n",
    "#                                    dataset_apos_tratamento.loc[:,'data_exame':]],\n",
    "#                                   axis=1)\n",
    "#\n",
    "#genero_M_F = {\"genero\": {1: \"M\", 0: \"F\"}}\n",
    "#dados_completos_estatistica = dados_completos_estatistica.replace(genero_M_F)"
   ]
  },
  {
   "cell_type": "code",
   "execution_count": null,
   "metadata": {},
   "outputs": [],
   "source": [
    "#gera_arquivos_por_grupo(dados_completos_estatistica)"
   ]
  },
  {
   "cell_type": "code",
   "execution_count": null,
   "metadata": {},
   "outputs": [],
   "source": [
    "#gera_arquivos_por_grupo(dados_completos_estatistica,'estatistica')"
   ]
  },
  {
   "cell_type": "markdown",
   "metadata": {},
   "source": [
    "##   Grava arquivo da abordagem 4 - DOENÇAS"
   ]
  },
  {
   "cell_type": "code",
   "execution_count": null,
   "metadata": {},
   "outputs": [],
   "source": [
    "#def gera_arquivos_por_grupo(todos_dados_grupo):\n",
    "#    grupos = list(set(todos_dados_grupo['grupo'].values))\n",
    "#    \n",
    "#    for grupo in grupos:\n",
    "#        df_grupo = todos_dados_grupo[todos_dados_grupo['grupo'] == grupo]\n",
    "#        print(df_grupo)\n",
    "#        df_grupo.to_csv(DIR_KMEANS / f\"KMEANS_approach_doenca_grupo_{grupo}.csv\", \n",
    "#                        sep=\";\", encoding=\"latin1\", index=False)\n",
    "#\n",
    "##gera_arquivos_por_grupo(todos_dados_grupo)"
   ]
  },
  {
   "cell_type": "code",
   "execution_count": null,
   "metadata": {},
   "outputs": [],
   "source": [
    "#dados_completos_doenca = pd.concat([dataset_apos_tratamento.loc[:,:'data_exame'],\n",
    "#                                    dataset_padrao_doenca['grupo'],\n",
    "#                                    dataset_apos_tratamento.loc[:,'sist 9:00':]],\n",
    "#                                   axis=1)\n",
    "#\n",
    "#genero_M_F = {\"genero\": {1: \"M\", 0: \"F\"}}\n",
    "#dados_completos_doenca = dados_completos_doenca.replace(genero_M_F)\n",
    "#\n",
    "#\n",
    "#gera_arquivos_por_grupo(dados_completos_doenca,'doenca')"
   ]
  },
  {
   "cell_type": "code",
   "execution_count": null,
   "metadata": {},
   "outputs": [],
   "source": [
    "#gera_arquivos_por_grupo(dados_completos_doenca)"
   ]
  },
  {
   "cell_type": "code",
   "execution_count": null,
   "metadata": {},
   "outputs": [],
   "source": [
    "#gera_arquivos_por_grupo(dados_completos_doenca,'doenca')"
   ]
  },
  {
   "cell_type": "code",
   "execution_count": null,
   "metadata": {},
   "outputs": [],
   "source": [
    "#dataset = pd.read_csv(DIRETORIO_PRINCIPAL / \"padrao_doenca\" / \"classificados_por_padroes_de_doenca_estatistica.csv\",sep=';')"
   ]
  },
  {
   "cell_type": "code",
   "execution_count": null,
   "metadata": {},
   "outputs": [],
   "source": [
    "#arquivo_whitecoat = pd.concat([dataset[dataset['Whitecoat'] == True].loc[:,'numero_identificacao'],\n",
    "#                               dataset[dataset['Whitecoat'] == True].loc[:,'Whitecoat']],axis=1)\n",
    "#\n",
    "#arquivo_whitecoat.to_csv(DIR_KMEANS / \"KMEANS_validando_whitecoat.csv\", \n",
    "#                        sep=\";\", encoding=\"latin1\", index=False)"
   ]
  },
  {
   "cell_type": "markdown",
   "metadata": {},
   "source": [
    "## Grava arquivo da abordagem A5: Doenças sem Hipertensão e Normotenso"
   ]
  },
  {
   "cell_type": "code",
   "execution_count": null,
   "metadata": {},
   "outputs": [],
   "source": [
    "#gera_arquivos_por_grupo(dados_completos_escolho_doenca,'escolho_doenca')"
   ]
  },
  {
   "cell_type": "code",
   "execution_count": null,
   "metadata": {},
   "outputs": [],
   "source": [
    "#dados_completos_escolho_doenca"
   ]
  },
  {
   "cell_type": "markdown",
   "metadata": {},
   "source": [
    "##   Grava arquivo da abordagem 7: CATEGORIAS"
   ]
  },
  {
   "cell_type": "code",
   "execution_count": null,
   "metadata": {},
   "outputs": [],
   "source": [
    "#def gera_arquivos_por_grupo(todos_dados_grupo):\n",
    "#    grupos = list(set(todos_dados_grupo['grupo'].values))\n",
    "#    \n",
    "#    for grupo in grupos:\n",
    "#        df_grupo = todos_dados_grupo[todos_dados_grupo['grupo'] == grupo]\n",
    "#        df_grupo.to_csv(DIR_KMEANS / f\"KMEANS_approach_classes_grupo_{grupo}.csv\", \n",
    "#                        sep=\";\", encoding=\"latin1\", index=False)\n",
    "#\n",
    "#\n",
    "##gera_arquivos_por_grupo(todos_dados_grupo)"
   ]
  },
  {
   "cell_type": "code",
   "execution_count": null,
   "metadata": {},
   "outputs": [],
   "source": [
    "#dados_completos_classes = pd.concat([dataset_apos_tratamento.loc[:,:'data_exame'],\n",
    "#                                    dataset_por_classes['grupo'],\n",
    "#                                    dataset_apos_tratamento.loc[:,'sist 9:00':]],\n",
    "#                                   axis=1)\n",
    "#\n",
    "#genero_M_F = {\"genero\": {1: \"M\", 0: \"F\"}}\n",
    "#dados_completos_classes = dados_completos_classes.replace(genero_M_F)"
   ]
  },
  {
   "cell_type": "code",
   "execution_count": null,
   "metadata": {},
   "outputs": [],
   "source": [
    "#gera_arquivos_por_grupo(dados_completos_classes)"
   ]
  },
  {
   "cell_type": "code",
   "execution_count": null,
   "metadata": {},
   "outputs": [],
   "source": [
    "#gera_arquivos_por_grupo(dados_completos_classes,'classes')"
   ]
  },
  {
   "cell_type": "code",
   "execution_count": null,
   "metadata": {},
   "outputs": [],
   "source": [
    "#gera_arquivos_por_grupo(df_medidas_importantes,'medidas_importantes')"
   ]
  },
  {
   "cell_type": "markdown",
   "metadata": {},
   "source": [
    "##   Grava arquivo da abordagem 8 e 9: Sexo"
   ]
  },
  {
   "cell_type": "code",
   "execution_count": null,
   "metadata": {},
   "outputs": [],
   "source": [
    "#gera_arquivos_por_grupo(dataset_masc_apos_kmeans,'medidas_masc')"
   ]
  },
  {
   "cell_type": "code",
   "execution_count": null,
   "metadata": {},
   "outputs": [],
   "source": [
    "#gera_arquivos_por_grupo(dataset_fem_apos_kmeans,'medidas_fem')"
   ]
  },
  {
   "cell_type": "code",
   "execution_count": null,
   "metadata": {},
   "outputs": [],
   "source": [
    "#dataset_masc_apos_kmeans[dataset_masc_apos_kmeans['grupo'] == 1]"
   ]
  },
  {
   "cell_type": "code",
   "execution_count": null,
   "metadata": {},
   "outputs": [],
   "source": [
    "#dataset_fem_apos_kmeans[dataset_fem_apos_kmeans['grupo'] == 1]"
   ]
  },
  {
   "cell_type": "markdown",
   "metadata": {},
   "source": [
    "##   Grava arquivo da abordagem 10 e 11"
   ]
  },
  {
   "cell_type": "code",
   "execution_count": null,
   "metadata": {},
   "outputs": [],
   "source": [
    "#gera_arquivos_por_grupo(dataset_sistolica_apos_kmeans,'medidas_sistolica')"
   ]
  },
  {
   "cell_type": "code",
   "execution_count": null,
   "metadata": {},
   "outputs": [],
   "source": [
    "#gera_arquivos_por_grupo(dataset_diastolica_apos_kmeans,'medidas_diastolica')"
   ]
  },
  {
   "cell_type": "markdown",
   "metadata": {},
   "source": [
    "### Grava arquivo da abordagem 13"
   ]
  },
  {
   "cell_type": "code",
   "execution_count": null,
   "metadata": {},
   "outputs": [],
   "source": [
    "#dados_completos_simples = pd.concat([dataset_apos_tratamento.loc[:,:'data_exame'],\n",
    "#                                    dataset_simples['grupo'],\n",
    "#                                    dataset_apos_tratamento.loc[:,'sist 9:00':]],\n",
    "#                                   axis=1)\n",
    "#\n",
    "#genero_M_F = {\"genero\": {1: \"M\", 0: \"F\"}}\n",
    "#dados_completos_simples = dados_completos_simples.replace(genero_M_F)\n",
    "#dados_completos_simples"
   ]
  },
  {
   "cell_type": "code",
   "execution_count": null,
   "metadata": {},
   "outputs": [],
   "source": [
    "#gera_arquivos_por_grupo(dados_completos_simples,'simplificado')"
   ]
  },
  {
   "cell_type": "markdown",
   "metadata": {},
   "source": [
    "# Identificação do Centróide nas diversas abordagens"
   ]
  },
  {
   "cell_type": "code",
   "execution_count": null,
   "metadata": {},
   "outputs": [],
   "source": [
    "l = ['a','b','c']"
   ]
  },
  {
   "cell_type": "code",
   "execution_count": null,
   "metadata": {},
   "outputs": [],
   "source": [
    "for a,b in enumerate(l):\n",
    "    print(a,b)"
   ]
  },
  {
   "cell_type": "code",
   "execution_count": null,
   "metadata": {},
   "outputs": [],
   "source": [
    "fim = time.time()\n",
    "fim"
   ]
  },
  {
   "cell_type": "code",
   "execution_count": null,
   "metadata": {},
   "outputs": [],
   "source": [
    "round(fim - inicio,3)"
   ]
  }
 ],
 "metadata": {
  "kernelspec": {
   "display_name": "Python 3",
   "language": "python",
   "name": "python3"
  },
  "language_info": {
   "codemirror_mode": {
    "name": "ipython",
    "version": 3
   },
   "file_extension": ".py",
   "mimetype": "text/x-python",
   "name": "python",
   "nbconvert_exporter": "python",
   "pygments_lexer": "ipython3",
   "version": "3.8.3"
  }
 },
 "nbformat": 4,
 "nbformat_minor": 2
}
