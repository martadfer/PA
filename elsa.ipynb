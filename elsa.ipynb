{
 "cells": [
  {
   "cell_type": "code",
   "execution_count": 1,
   "metadata": {},
   "outputs": [],
   "source": [
    "#  conda install -c conda-forge pyreadstat\n",
    "# Ou\n",
    "#pip install pyreadstat"
   ]
  },
  {
   "cell_type": "code",
   "execution_count": 2,
   "metadata": {
    "scrolled": true
   },
   "outputs": [],
   "source": [
    "import numpy as np\n",
    "#bibliotecas pandas de leitura de arquivos\n",
    "import pandas as pd\n",
    "from pathlib import Path\n",
    "#import pyreadstat"
   ]
  },
  {
   "cell_type": "code",
   "execution_count": 3,
   "metadata": {},
   "outputs": [],
   "source": [
    "# Definição de diretórios e Disco de leitura dos arquivos (Desktop ou Notebook) \n",
    "config_dirs = open(\"prefixo_dados.txt\").readlines() \n",
    "DIR_PREFIXO = Path(config_dirs[0].strip())\n",
    "\n",
    "\n",
    "DIRETORIO_PRINCIPAL =  DIR_PREFIXO / \"PA_clean\" / \"elsa\"\n",
    "DIR_DATASET = DIR_PREFIXO / \"Clarity\" / \"ELSA\"\n",
    "#DIR_XXXXX = DIRETORIO_PRINCIPAL / \"XXXXXX\" / \"XXXXXX\"\""
   ]
  },
  {
   "cell_type": "code",
   "execution_count": 4,
   "metadata": {},
   "outputs": [],
   "source": [
    "\n",
    "#dtafile = pyreadstat.read_dta(DIR_DATASET / \"Banco ELSA 04.10.19.dta\")\n"
   ]
  },
  {
   "cell_type": "code",
   "execution_count": 5,
   "metadata": {},
   "outputs": [
    {
     "data": {
      "text/html": [
       "<div>\n",
       "<style scoped>\n",
       "    .dataframe tbody tr th:only-of-type {\n",
       "        vertical-align: middle;\n",
       "    }\n",
       "\n",
       "    .dataframe tbody tr th {\n",
       "        vertical-align: top;\n",
       "    }\n",
       "\n",
       "    .dataframe thead th {\n",
       "        text-align: right;\n",
       "    }\n",
       "</style>\n",
       "<table border=\"1\" class=\"dataframe\">\n",
       "  <thead>\n",
       "    <tr style=\"text-align: right;\">\n",
       "      <th></th>\n",
       "      <th>IDELSA</th>\n",
       "      <th>Sexo</th>\n",
       "      <th>AGEPART</th>\n",
       "      <th>VOPA2</th>\n",
       "      <th>VOPA3</th>\n",
       "      <th>VOPA4</th>\n",
       "      <th>HMPA01</th>\n",
       "      <th>HMPA02</th>\n",
       "      <th>HMPA03a</th>\n",
       "      <th>HMPA04</th>\n",
       "      <th>...</th>\n",
       "      <th>VAP_TG_REMN_quintiles</th>\n",
       "      <th>VAP_IDL_quintiles</th>\n",
       "      <th>Lipid_lowering_ther</th>\n",
       "      <th>Glucose_lowering_ther</th>\n",
       "      <th>HMPA02_bin</th>\n",
       "      <th>LA1C_quintiles</th>\n",
       "      <th>LHDL_quintiles</th>\n",
       "      <th>LLDL_quintiles</th>\n",
       "      <th>VAN_TRLZ_quartiles</th>\n",
       "      <th>VAN_TRLZ_quintiles</th>\n",
       "    </tr>\n",
       "  </thead>\n",
       "  <tbody>\n",
       "    <tr>\n",
       "      <td>0</td>\n",
       "      <td>2318MG</td>\n",
       "      <td>feminino</td>\n",
       "      <td>63.0</td>\n",
       "      <td>118.0</td>\n",
       "      <td>64.0</td>\n",
       "      <td>12.6</td>\n",
       "      <td>1.0</td>\n",
       "      <td>2.0</td>\n",
       "      <td>53.0</td>\n",
       "      <td>2.0</td>\n",
       "      <td>...</td>\n",
       "      <td>NaN</td>\n",
       "      <td>NaN</td>\n",
       "      <td>1.0</td>\n",
       "      <td>0.0</td>\n",
       "      <td>2.0</td>\n",
       "      <td>4.0</td>\n",
       "      <td>1.0</td>\n",
       "      <td>0.0</td>\n",
       "      <td>NaN</td>\n",
       "      <td>NaN</td>\n",
       "    </tr>\n",
       "    <tr>\n",
       "      <td>1</td>\n",
       "      <td>2509RS</td>\n",
       "      <td>feminino</td>\n",
       "      <td>58.0</td>\n",
       "      <td>121.0</td>\n",
       "      <td>78.0</td>\n",
       "      <td>9.2</td>\n",
       "      <td>2.0</td>\n",
       "      <td>2.0</td>\n",
       "      <td>40.0</td>\n",
       "      <td>2.0</td>\n",
       "      <td>...</td>\n",
       "      <td>NaN</td>\n",
       "      <td>NaN</td>\n",
       "      <td>1.0</td>\n",
       "      <td>0.0</td>\n",
       "      <td>2.0</td>\n",
       "      <td>4.0</td>\n",
       "      <td>2.0</td>\n",
       "      <td>2.0</td>\n",
       "      <td>NaN</td>\n",
       "      <td>NaN</td>\n",
       "    </tr>\n",
       "    <tr>\n",
       "      <td>2</td>\n",
       "      <td>6135SP</td>\n",
       "      <td>feminino</td>\n",
       "      <td>71.0</td>\n",
       "      <td>131.0</td>\n",
       "      <td>72.0</td>\n",
       "      <td>9.3</td>\n",
       "      <td>3.0</td>\n",
       "      <td>0.0</td>\n",
       "      <td>NaN</td>\n",
       "      <td>0.0</td>\n",
       "      <td>...</td>\n",
       "      <td>NaN</td>\n",
       "      <td>NaN</td>\n",
       "      <td>1.0</td>\n",
       "      <td>0.0</td>\n",
       "      <td>0.0</td>\n",
       "      <td>2.0</td>\n",
       "      <td>1.0</td>\n",
       "      <td>1.0</td>\n",
       "      <td>NaN</td>\n",
       "      <td>NaN</td>\n",
       "    </tr>\n",
       "    <tr>\n",
       "      <td>3</td>\n",
       "      <td>1000SP</td>\n",
       "      <td>masculino</td>\n",
       "      <td>60.0</td>\n",
       "      <td>146.0</td>\n",
       "      <td>77.0</td>\n",
       "      <td>11.4</td>\n",
       "      <td>3.0</td>\n",
       "      <td>2.0</td>\n",
       "      <td>45.0</td>\n",
       "      <td>2.0</td>\n",
       "      <td>...</td>\n",
       "      <td>4.0</td>\n",
       "      <td>3.0</td>\n",
       "      <td>1.0</td>\n",
       "      <td>1.0</td>\n",
       "      <td>2.0</td>\n",
       "      <td>4.0</td>\n",
       "      <td>0.0</td>\n",
       "      <td>0.0</td>\n",
       "      <td>3.0</td>\n",
       "      <td>4.0</td>\n",
       "    </tr>\n",
       "    <tr>\n",
       "      <td>4</td>\n",
       "      <td>1005SP</td>\n",
       "      <td>feminino</td>\n",
       "      <td>63.0</td>\n",
       "      <td>137.0</td>\n",
       "      <td>64.0</td>\n",
       "      <td>7.9</td>\n",
       "      <td>2.0</td>\n",
       "      <td>0.0</td>\n",
       "      <td>NaN</td>\n",
       "      <td>0.0</td>\n",
       "      <td>...</td>\n",
       "      <td>2.0</td>\n",
       "      <td>2.0</td>\n",
       "      <td>1.0</td>\n",
       "      <td>0.0</td>\n",
       "      <td>0.0</td>\n",
       "      <td>2.0</td>\n",
       "      <td>2.0</td>\n",
       "      <td>1.0</td>\n",
       "      <td>1.0</td>\n",
       "      <td>1.0</td>\n",
       "    </tr>\n",
       "  </tbody>\n",
       "</table>\n",
       "<p>5 rows × 1482 columns</p>\n",
       "</div>"
      ],
      "text/plain": [
       "   IDELSA       Sexo  AGEPART  VOPA2  VOPA3  VOPA4  HMPA01  HMPA02  HMPA03a  \\\n",
       "0  2318MG   feminino     63.0  118.0   64.0   12.6     1.0     2.0     53.0   \n",
       "1  2509RS   feminino     58.0  121.0   78.0    9.2     2.0     2.0     40.0   \n",
       "2  6135SP   feminino     71.0  131.0   72.0    9.3     3.0     0.0      NaN   \n",
       "3  1000SP  masculino     60.0  146.0   77.0   11.4     3.0     2.0     45.0   \n",
       "4  1005SP   feminino     63.0  137.0   64.0    7.9     2.0     0.0      NaN   \n",
       "\n",
       "   HMPA04  ...  VAP_TG_REMN_quintiles  VAP_IDL_quintiles  Lipid_lowering_ther  \\\n",
       "0     2.0  ...                    NaN                NaN                  1.0   \n",
       "1     2.0  ...                    NaN                NaN                  1.0   \n",
       "2     0.0  ...                    NaN                NaN                  1.0   \n",
       "3     2.0  ...                    4.0                3.0                  1.0   \n",
       "4     0.0  ...                    2.0                2.0                  1.0   \n",
       "\n",
       "   Glucose_lowering_ther  HMPA02_bin  LA1C_quintiles  LHDL_quintiles  \\\n",
       "0                    0.0         2.0             4.0             1.0   \n",
       "1                    0.0         2.0             4.0             2.0   \n",
       "2                    0.0         0.0             2.0             1.0   \n",
       "3                    1.0         2.0             4.0             0.0   \n",
       "4                    0.0         0.0             2.0             2.0   \n",
       "\n",
       "   LLDL_quintiles  VAN_TRLZ_quartiles  VAN_TRLZ_quintiles  \n",
       "0             0.0                 NaN                 NaN  \n",
       "1             2.0                 NaN                 NaN  \n",
       "2             1.0                 NaN                 NaN  \n",
       "3             0.0                 3.0                 4.0  \n",
       "4             1.0                 1.0                 1.0  \n",
       "\n",
       "[5 rows x 1482 columns]"
      ]
     },
     "execution_count": 5,
     "metadata": {},
     "output_type": "execute_result"
    }
   ],
   "source": [
    "df = pd.read_stata(DIR_DATASET / \"Banco ELSA 04.10.19.dta\", convert_missing=False)\n",
    "df.head(5)"
   ]
  },
  {
   "cell_type": "code",
   "execution_count": 6,
   "metadata": {},
   "outputs": [],
   "source": [
    "df.to_csv(path_or_buf=DIRETORIO_PRINCIPAL / \"elsa_convertido.csv\", sep=';',index=False,encoding='Latin1')"
   ]
  },
  {
   "cell_type": "code",
   "execution_count": 13,
   "metadata": {},
   "outputs": [],
   "source": [
    "df.to_excel(DIRETORIO_PRINCIPAL / \"elsa_convertido.xlsx\",index=False,encoding='Latin1')"
   ]
  },
  {
   "cell_type": "code",
   "execution_count": 9,
   "metadata": {},
   "outputs": [
    {
     "data": {
      "text/plain": [
       "0    NaN\n",
       "1    NaN\n",
       "2    NaN\n",
       "3    4.0\n",
       "4    2.0\n",
       "5    NaN\n",
       "6    NaN\n",
       "7    NaN\n",
       "8    2.0\n",
       "9    NaN\n",
       "Name: VAP_TG_REMN_quintiles, dtype: float64"
      ]
     },
     "execution_count": 9,
     "metadata": {},
     "output_type": "execute_result"
    }
   ],
   "source": [
    "df[\"VAP_TG_REMN_quintiles\"][0:10]"
   ]
  },
  {
   "cell_type": "code",
   "execution_count": 11,
   "metadata": {},
   "outputs": [
    {
     "data": {
      "text/plain": [
       "0         NaN\n",
       "1         NaN\n",
       "2         NaN\n",
       "3    6.621622\n",
       "4    2.054545\n",
       "5         NaN\n",
       "6         NaN\n",
       "7         NaN\n",
       "8    2.954545\n",
       "9         NaN\n",
       "Name: VAP_TG_HDL_ratio, dtype: float64"
      ]
     },
     "execution_count": 11,
     "metadata": {},
     "output_type": "execute_result"
    }
   ],
   "source": [
    "df[\"VAP_TG_HDL_ratio\"][0:10]"
   ]
  }
 ],
 "metadata": {
  "kernelspec": {
   "display_name": "Python 3",
   "language": "python",
   "name": "python3"
  },
  "language_info": {
   "codemirror_mode": {
    "name": "ipython",
    "version": 3
   },
   "file_extension": ".py",
   "mimetype": "text/x-python",
   "name": "python",
   "nbconvert_exporter": "python",
   "pygments_lexer": "ipython3",
   "version": "3.8.3"
  }
 },
 "nbformat": 4,
 "nbformat_minor": 2
}
